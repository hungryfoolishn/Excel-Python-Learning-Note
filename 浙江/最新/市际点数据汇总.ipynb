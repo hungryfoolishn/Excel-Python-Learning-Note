{
 "cells": [
  {
   "cell_type": "code",
   "execution_count": 24,
   "outputs": [],
   "source": [
    "# coding: utf-8\n",
    "\n",
    "\n",
    "import time\n",
    "import pandas as pd\n",
    "import requests\n",
    "import base64\n",
    "import datetime\n",
    "import pymysql\n",
    "import json\n",
    "import csv\n",
    "import time\n",
    "import pandas as pd\n",
    "import requests\n",
    "import base64\n",
    "import json\n",
    "from openpyxl.styles import Font,Border,Side,Alignment\n",
    "import pandas as pd\n",
    "from openpyxl import load_workbook\n"
   ],
   "metadata": {
    "collapsed": false,
    "pycharm": {
     "name": "#%%\n"
    }
   }
  },
  {
   "cell_type": "code",
   "execution_count": 25,
   "metadata": {
    "collapsed": true
   },
   "outputs": [],
   "source": [
    "总重100吨以上明细 = pd.read_excel(r'F:\\Learn\\工作\\智诚外包\\12月\\2023-12月通报数据2024-01-11v1.0.xlsx', sheet_name='百吨王明细')\n",
    "总重80吨以上明细 = pd.read_excel(r'F:\\Learn\\工作\\智诚外包\\12月\\2023-12月通报数据2024-01-11v1.0.xlsx', sheet_name='总重80_90以上明细')\n",
    "超限100以上明细 = pd.read_excel(r'F:\\Learn\\工作\\智诚外包\\12月\\2023-12月通报数据2024-01-11v1.0.xlsx', sheet_name='超限100明细')\n",
    "市际点站点明细 = pd.read_excel(r'F:\\Learn\\工作\\智诚外包\\12月\\2023-12月通报数据2024-01-11v1.0.xlsx', sheet_name='市际点站点明细')\n",
    "file_name = r\"F:\\Learn\\工作\\数据明细\\1A最新\\静态表\\1030test.xlsx\"\n",
    "file_name_静态表=r'F:\\Learn\\工作\\数据明细\\1A最新\\静态表'\n",
    "df_区县编码 = pd.read_excel(file_name, sheet_name='code_area')\n",
    "df_区县编码['区县编码'] = df_区县编码['区县编码'].astype('str')\n",
    "df_区县编码['地市编码'] = df_区县编码['地市编码'].astype('str')\n"
   ]
  },
  {
   "cell_type": "code",
   "execution_count": 26,
   "outputs": [
    {
     "data": {
      "text/plain": "      out_station  direction  百吨王数\n0      3304023103          1     1\n1      3304113106          1     1\n2      3305023101          1     1\n3      3305233101          0     1\n4      3307033103          1     1\n5      3308253108          1     1\n6      3308813105          1     1\n7      3310243101          0     1\n8  G1040604314506          1     1",
      "text/html": "<div>\n<style scoped>\n    .dataframe tbody tr th:only-of-type {\n        vertical-align: middle;\n    }\n\n    .dataframe tbody tr th {\n        vertical-align: top;\n    }\n\n    .dataframe thead th {\n        text-align: right;\n    }\n</style>\n<table border=\"1\" class=\"dataframe\">\n  <thead>\n    <tr style=\"text-align: right;\">\n      <th></th>\n      <th>out_station</th>\n      <th>direction</th>\n      <th>百吨王数</th>\n    </tr>\n  </thead>\n  <tbody>\n    <tr>\n      <th>0</th>\n      <td>3304023103</td>\n      <td>1</td>\n      <td>1</td>\n    </tr>\n    <tr>\n      <th>1</th>\n      <td>3304113106</td>\n      <td>1</td>\n      <td>1</td>\n    </tr>\n    <tr>\n      <th>2</th>\n      <td>3305023101</td>\n      <td>1</td>\n      <td>1</td>\n    </tr>\n    <tr>\n      <th>3</th>\n      <td>3305233101</td>\n      <td>0</td>\n      <td>1</td>\n    </tr>\n    <tr>\n      <th>4</th>\n      <td>3307033103</td>\n      <td>1</td>\n      <td>1</td>\n    </tr>\n    <tr>\n      <th>5</th>\n      <td>3308253108</td>\n      <td>1</td>\n      <td>1</td>\n    </tr>\n    <tr>\n      <th>6</th>\n      <td>3308813105</td>\n      <td>1</td>\n      <td>1</td>\n    </tr>\n    <tr>\n      <th>7</th>\n      <td>3310243101</td>\n      <td>0</td>\n      <td>1</td>\n    </tr>\n    <tr>\n      <th>8</th>\n      <td>G1040604314506</td>\n      <td>1</td>\n      <td>1</td>\n    </tr>\n  </tbody>\n</table>\n</div>"
     },
     "execution_count": 26,
     "metadata": {},
     "output_type": "execute_result"
    }
   ],
   "source": [
    "总重100吨以上汇总 = 总重100吨以上明细.groupby(\n",
    "        ['out_station','direction'])[\n",
    "        '地市'].count().reset_index(name='百吨王数')\n",
    "总重100吨以上汇总"
   ],
   "metadata": {
    "collapsed": false,
    "pycharm": {
     "name": "#%%\n"
    }
   }
  },
  {
   "cell_type": "code",
   "execution_count": 27,
   "outputs": [
    {
     "data": {
      "text/plain": "              out_station  direction  总重80吨以上数\n0       330109_03SK32+000          1         4\n1              3301103103          0         3\n2              3301103104          1         3\n3    330110_G104K1415+960          0         1\n4        330110_HYXK7+210          0        16\n..                    ...        ...       ...\n228        X6091700040205          0         1\n229        X6091700040205          1         1\n230        X6111700010211          0         4\n231        X8141700200212          0         3\n232        Y0721700010212          0         6\n\n[233 rows x 3 columns]",
      "text/html": "<div>\n<style scoped>\n    .dataframe tbody tr th:only-of-type {\n        vertical-align: middle;\n    }\n\n    .dataframe tbody tr th {\n        vertical-align: top;\n    }\n\n    .dataframe thead th {\n        text-align: right;\n    }\n</style>\n<table border=\"1\" class=\"dataframe\">\n  <thead>\n    <tr style=\"text-align: right;\">\n      <th></th>\n      <th>out_station</th>\n      <th>direction</th>\n      <th>总重80吨以上数</th>\n    </tr>\n  </thead>\n  <tbody>\n    <tr>\n      <th>0</th>\n      <td>330109_03SK32+000</td>\n      <td>1</td>\n      <td>4</td>\n    </tr>\n    <tr>\n      <th>1</th>\n      <td>3301103103</td>\n      <td>0</td>\n      <td>3</td>\n    </tr>\n    <tr>\n      <th>2</th>\n      <td>3301103104</td>\n      <td>1</td>\n      <td>3</td>\n    </tr>\n    <tr>\n      <th>3</th>\n      <td>330110_G104K1415+960</td>\n      <td>0</td>\n      <td>1</td>\n    </tr>\n    <tr>\n      <th>4</th>\n      <td>330110_HYXK7+210</td>\n      <td>0</td>\n      <td>16</td>\n    </tr>\n    <tr>\n      <th>...</th>\n      <td>...</td>\n      <td>...</td>\n      <td>...</td>\n    </tr>\n    <tr>\n      <th>228</th>\n      <td>X6091700040205</td>\n      <td>0</td>\n      <td>1</td>\n    </tr>\n    <tr>\n      <th>229</th>\n      <td>X6091700040205</td>\n      <td>1</td>\n      <td>1</td>\n    </tr>\n    <tr>\n      <th>230</th>\n      <td>X6111700010211</td>\n      <td>0</td>\n      <td>4</td>\n    </tr>\n    <tr>\n      <th>231</th>\n      <td>X8141700200212</td>\n      <td>0</td>\n      <td>3</td>\n    </tr>\n    <tr>\n      <th>232</th>\n      <td>Y0721700010212</td>\n      <td>0</td>\n      <td>6</td>\n    </tr>\n  </tbody>\n</table>\n<p>233 rows × 3 columns</p>\n</div>"
     },
     "execution_count": 27,
     "metadata": {},
     "output_type": "execute_result"
    }
   ],
   "source": [
    "总重80吨以上汇总 = 总重80吨以上明细.groupby(\n",
    "        ['out_station','direction'])[\n",
    "        '地市'].count().reset_index(name='总重80吨以上数')\n",
    "总重80吨以上汇总"
   ],
   "metadata": {
    "collapsed": false,
    "pycharm": {
     "name": "#%%\n"
    }
   }
  },
  {
   "cell_type": "code",
   "execution_count": 28,
   "outputs": [
    {
     "data": {
      "text/plain": "           out_station  direction  总重90吨以上数\n0           3301103103          0         1\n1           3301103104          1         2\n2     330110_HYXK7+210          0        12\n3    330110_X238K6+050          0         8\n4           3301223102          0         1\n..                 ...        ...       ...\n140     X5280604314501          0         1\n141     X5350604314502          0         1\n142     X6111700010211          0         1\n143     X8141700200212          0         1\n144     Y0721700010212          0         1\n\n[145 rows x 3 columns]",
      "text/html": "<div>\n<style scoped>\n    .dataframe tbody tr th:only-of-type {\n        vertical-align: middle;\n    }\n\n    .dataframe tbody tr th {\n        vertical-align: top;\n    }\n\n    .dataframe thead th {\n        text-align: right;\n    }\n</style>\n<table border=\"1\" class=\"dataframe\">\n  <thead>\n    <tr style=\"text-align: right;\">\n      <th></th>\n      <th>out_station</th>\n      <th>direction</th>\n      <th>总重90吨以上数</th>\n    </tr>\n  </thead>\n  <tbody>\n    <tr>\n      <th>0</th>\n      <td>3301103103</td>\n      <td>0</td>\n      <td>1</td>\n    </tr>\n    <tr>\n      <th>1</th>\n      <td>3301103104</td>\n      <td>1</td>\n      <td>2</td>\n    </tr>\n    <tr>\n      <th>2</th>\n      <td>330110_HYXK7+210</td>\n      <td>0</td>\n      <td>12</td>\n    </tr>\n    <tr>\n      <th>3</th>\n      <td>330110_X238K6+050</td>\n      <td>0</td>\n      <td>8</td>\n    </tr>\n    <tr>\n      <th>4</th>\n      <td>3301223102</td>\n      <td>0</td>\n      <td>1</td>\n    </tr>\n    <tr>\n      <th>...</th>\n      <td>...</td>\n      <td>...</td>\n      <td>...</td>\n    </tr>\n    <tr>\n      <th>140</th>\n      <td>X5280604314501</td>\n      <td>0</td>\n      <td>1</td>\n    </tr>\n    <tr>\n      <th>141</th>\n      <td>X5350604314502</td>\n      <td>0</td>\n      <td>1</td>\n    </tr>\n    <tr>\n      <th>142</th>\n      <td>X6111700010211</td>\n      <td>0</td>\n      <td>1</td>\n    </tr>\n    <tr>\n      <th>143</th>\n      <td>X8141700200212</td>\n      <td>0</td>\n      <td>1</td>\n    </tr>\n    <tr>\n      <th>144</th>\n      <td>Y0721700010212</td>\n      <td>0</td>\n      <td>1</td>\n    </tr>\n  </tbody>\n</table>\n<p>145 rows × 3 columns</p>\n</div>"
     },
     "execution_count": 28,
     "metadata": {},
     "output_type": "execute_result"
    }
   ],
   "source": [
    "总重90吨以上汇总 = 总重80吨以上明细[总重80吨以上明细['总重']>90].groupby(\n",
    "        ['out_station','direction'])[\n",
    "        '地市'].count().reset_index(name='总重90吨以上数')\n",
    "总重90吨以上汇总"
   ],
   "metadata": {
    "collapsed": false,
    "pycharm": {
     "name": "#%%\n"
    }
   }
  },
  {
   "cell_type": "code",
   "execution_count": 29,
   "outputs": [
    {
     "data": {
      "text/plain": "              out_station  direction  超限100以上数\n0              3301103104          1         7\n1    330110_G104K1415+960          0         2\n2       330110_X238K6+050          0         8\n3              3301223101          1         2\n4              3301223102          0         1\n..                    ...        ...       ...\n122        X5270604314501          1         6\n123        X5270604314502          0         1\n124        X5280604314501          0         2\n125        X5280604314502          1         2\n126        X5350604314502          0         7\n\n[127 rows x 3 columns]",
      "text/html": "<div>\n<style scoped>\n    .dataframe tbody tr th:only-of-type {\n        vertical-align: middle;\n    }\n\n    .dataframe tbody tr th {\n        vertical-align: top;\n    }\n\n    .dataframe thead th {\n        text-align: right;\n    }\n</style>\n<table border=\"1\" class=\"dataframe\">\n  <thead>\n    <tr style=\"text-align: right;\">\n      <th></th>\n      <th>out_station</th>\n      <th>direction</th>\n      <th>超限100以上数</th>\n    </tr>\n  </thead>\n  <tbody>\n    <tr>\n      <th>0</th>\n      <td>3301103104</td>\n      <td>1</td>\n      <td>7</td>\n    </tr>\n    <tr>\n      <th>1</th>\n      <td>330110_G104K1415+960</td>\n      <td>0</td>\n      <td>2</td>\n    </tr>\n    <tr>\n      <th>2</th>\n      <td>330110_X238K6+050</td>\n      <td>0</td>\n      <td>8</td>\n    </tr>\n    <tr>\n      <th>3</th>\n      <td>3301223101</td>\n      <td>1</td>\n      <td>2</td>\n    </tr>\n    <tr>\n      <th>4</th>\n      <td>3301223102</td>\n      <td>0</td>\n      <td>1</td>\n    </tr>\n    <tr>\n      <th>...</th>\n      <td>...</td>\n      <td>...</td>\n      <td>...</td>\n    </tr>\n    <tr>\n      <th>122</th>\n      <td>X5270604314501</td>\n      <td>1</td>\n      <td>6</td>\n    </tr>\n    <tr>\n      <th>123</th>\n      <td>X5270604314502</td>\n      <td>0</td>\n      <td>1</td>\n    </tr>\n    <tr>\n      <th>124</th>\n      <td>X5280604314501</td>\n      <td>0</td>\n      <td>2</td>\n    </tr>\n    <tr>\n      <th>125</th>\n      <td>X5280604314502</td>\n      <td>1</td>\n      <td>2</td>\n    </tr>\n    <tr>\n      <th>126</th>\n      <td>X5350604314502</td>\n      <td>0</td>\n      <td>7</td>\n    </tr>\n  </tbody>\n</table>\n<p>127 rows × 3 columns</p>\n</div>"
     },
     "execution_count": 29,
     "metadata": {},
     "output_type": "execute_result"
    }
   ],
   "source": [
    "超限100以上汇总 = 超限100以上明细.groupby(\n",
    "        ['out_station','direction'])[\n",
    "        '地市'].count().reset_index(name='超限100以上数')\n",
    "超限100以上汇总"
   ],
   "metadata": {
    "collapsed": false,
    "pycharm": {
     "name": "#%%\n"
    }
   }
  },
  {
   "cell_type": "code",
   "execution_count": 30,
   "outputs": [
    {
     "data": {
      "text/plain": "                         站点名称  地市  区县 站点归属地市 站点归属区县  理应在线天数  实际在线天数     在线率  \\\n0      X111（下大线）柯桥、萧山方向K7+335  杭州  下城     绍兴     柯桥      31      22   70.97   \n1        X106（杨绍线）杨汛桥方向K3+560  杭州  下城     绍兴     柯桥      31      31  100.00   \n2    G235（新海线）杭州、金华方向K759+580  杭州  萧山     绍兴     诸暨      31      25   80.65   \n3     X118（杭金衢连接线）329方向K2+865  杭州  萧山     绍兴     柯桥      31      31  100.00   \n4       G235（新海线）安吉方向K609+600  杭州  余杭     湖州     安吉      31      28   90.32   \n5      G104（京岚线）杭州方向K1411+500  杭州  临平     湖州     德清      31      31  100.00   \n6          X719（人民大道）海宁方向RM20  杭州  临平     嘉兴     海宁      31      30   96.77   \n7    G104（104国道）海宁方向K1472+460  杭州  临平     嘉兴     海宁      31       0    0.00   \n8      X331（翁金线）杭州、海宁方向K1+300  杭州  临平     嘉兴     海宁      31      13   41.94   \n9        S304（临莫线）德清方向K22+500  杭州  临平     湖州     德清      31      21   67.74   \n10        X516（城大线）浦江方向K1+000  杭州  桐庐     金华     浦江      31      27   87.10   \n11    S210（桐义线）桐庐、浦江方向K42+540  杭州  桐庐     金华     浦江      31      31  100.00   \n12    X628（淳开线）淳安、开化方向K0+900M  杭州  淳安     衢州     开化      31      12   38.71   \n13    X336（双金线）诸暨、金沙方向K20+160  杭州  富阳     绍兴     诸暨      31      31  100.00   \n14      G329（舟鲁线）余姚方向K246+376  宁波  余姚     绍兴     上虞      31      31  100.00   \n15      S309（江拔线沙溪） K39+800双向  宁波  奉化     绍兴     新昌      31       0    0.00   \n16    S333（六东线）青田、温州方向K35+600  温州  永嘉     丽水     青田      31      31  100.00   \n17   G330（洞合线）青田、温州方向K130+600  温州  永嘉     丽水     青田      31      16   51.61   \n18    G104（京岚线）K1803+750M温岭方向  温州  乐清     台州     温岭      31      31  100.00   \n19      X009（湖盐线）桐乡方向 K37+100  嘉兴  海盐     湖州     南浔      31      31  100.00   \n20      Y024 (练悦线) 桐乡方向K7+630  嘉兴  桐乡     湖州     南浔      31      27   87.10   \n21      X032 (浔乌线) 南浔方向K9+850  嘉兴  桐乡     湖州     南浔      31      31  100.00   \n22        X111（崇新线）新市方向K0+170  湖州  德清     嘉兴     桐乡      31      31  100.00   \n23       X111（崇新线）崇福方向K16+570  湖州  德清     嘉兴     桐乡      31      31  100.00   \n24      G235（新海线）安吉方向K614+480  湖州  安吉     杭州     余杭      31      25   80.65   \n25       G329 舟鲁线K225+000余姚方向  绍兴  上虞     宁波     余姚      31       9   29.03   \n26       S319（甬余线）宁波方向K57+900  绍兴  上虞     宁波     余姚      31      11   35.48   \n27  X103（三益线）绍兴滨海、萧山方向K40+000  绍兴  上虞     杭州     萧山      31      30   96.77   \n28       G329 舟鲁线K206+200余姚方向  绍兴  上虞     宁波     余姚      31       4   12.90   \n29       S309（江拔线）宁波方向K22+700  绍兴  新昌     宁波     奉化      31      30   96.77   \n30       X141（塘湄线）萧山方向K32+000  绍兴  诸暨     杭州     萧山      31      30   96.77   \n31   G235（新海线）诸暨、萧山方向K739+800  绍兴  诸暨     杭州     萧山      31      31  100.00   \n32         G527 象义线 K218+380M  绍兴  诸暨     金华     东阳      31      30   96.77   \n33    S315（兰贺线）龙游、金华方向K27+700  金华  婺城     衢州     龙游      31      31  100.00   \n34   G235（新海线）海丰、新沂方向K960+300  金华  武义     丽水     松阳      31       9   29.03   \n35   X610（白章线）新安江、兰溪方向K53+200  金华  兰溪     杭州     建德      31      20   64.52   \n36      G330（洞合线）兰溪方向K377+000  金华  兰溪     杭州     建德      31      20   64.52   \n37       G527（嵊义线）嵊州方向K31+300  金华  东阳     绍兴     嵊州      31      31  100.00   \n38    X334（诸安线）安华、诸暨方向K10+370  金华  东阳     绍兴     诸暨      31      19   61.29   \n39    S211（诸东线）诸暨、东阳方向K29+050  金华  东阳     绍兴     诸暨      31      23   74.19   \n40   S305（富衢线）衢州、长林方向K153＋450  衢州  衢江     杭州     建德      31      20   64.52   \n41      X724（淳开线）千岛湖方向K68+240  衢州  开化     杭州     淳安      31      31  100.00   \n42       S222（龙丽线）丽水方向K61+900  衢州  龙游     丽水     遂昌      31      30   96.77   \n43     S315（315省道）龙游方向K16+300  衢州  龙游     金华     婺城      31       7   22.58   \n44       S214（甬临线）台州方向K96+200  台州  三门     宁波     宁海      31      23   74.19   \n45       S223（仙清线）永嘉方向105+450  台州  仙居     温州     永嘉      31      31  100.00   \n46     G104（京岚线）乐清方向K1821+430  台州  温岭     温州     乐清      31      29   93.55   \n47     G104（京岚线）温州方向K1904+590  丽水  青田     温州     鹿城      31       4   12.90   \n48      G330（洞合线）温州方向K117+800  丽水  青田     温州     鹿城      31       0    0.00   \n49    S35（临石线）缙云、永康方向K128+240  丽水  缙云     金华     永康      31      19   61.29   \n50        G330（下里溪）金华方向K186+0  丽水  缙云     金华     永康      31      27   87.10   \n51   G235（新海线）武义、松阳方向K942+250  丽水  松阳     金华     武义      31      31  100.00   \n52     G235(新海线)泰顺方向K1117+650  丽水  景宁     温州     泰顺      31       0    0.00   \n\n       货车数  超限数  超限率(%)  county_code           out_station  direction  \\\n0     9849    4    0.04       330103        X1110603314501          0   \n1    46924  105    0.22       330103        X1060603314501          1   \n2    26047  269    1.03       330109    330681_S103K66+300          0   \n3    28358   95    0.34       330109        X1180603314504          1   \n4    45156  819    1.81       330110              AS201001          0   \n5    33723   64    0.19       330113              DG104002          0   \n6    39151   51    0.13       330113            3304810005          0   \n7        0    0    0.00       330113            3304810006          1   \n8     6462   10    0.15       330113            3304810008          0   \n9    45712  442    0.97       330113              DS304001          1   \n10    2473    0    0.00       330122            3307263102          0   \n11   27394  156    0.57       330122       JHPJTYX20200114          0   \n12     336    2    0.60       330127            3308243103          0   \n13   16320   68    0.42       330183     330681_SJXK20+160          0   \n14   51443  144    0.28       330281        X5050604314502          1   \n15       0    0    0.00       330283        S3090624314501          1   \n16    5537   50    0.90       330324            3311213103          1   \n17    7222    0    0.00       330324  331121_G330K44+800Ms          1   \n18   34875   15    0.04       330382            3310813111          1   \n19   41989  181    0.43       330424            3305033118          1   \n20    2934    0    0.00       330483            3305033116          1   \n21    5948    1    0.02       330483            3305033111          0   \n22  108337  173    0.16       330521            3304833106          0   \n23   98164  263    0.27       330521            3304833107          1   \n24   31423  829    2.64       330523            3301103104          1   \n25    2707   22    0.81       330604        G3291700010281          1   \n26    2593   28    1.08       330604        S3191700050281          1   \n27   72014    1    0.00       330604     330109_SYXK40+000          0   \n28    2373    5    0.21       330604        X2311700280281          1   \n29     340    5    1.47       330624        S3091700100283          0   \n30   42699   29    0.07       330681     330109_03SK32+000          1   \n31   56384    5    0.01       330681   330109_G235K739+800          1   \n32   31248   35    0.11       330681          JHDYS3100003          0   \n33   83062  237    0.29       330702    330825_S315K27+700          0   \n34    2310    1    0.04       330723   331124_S220K85+200M          1   \n35    3410   13    0.38       330781            3301823102          2   \n36   14707    7    0.05       330781            3301823101          3   \n37   15583    1    0.01       330783        S310K313001021          1   \n38   28095  544    1.94       330783    330681_X334K10+330          1   \n39    5809  261    4.49       330783    330681_S211K29+050          0   \n40    2015    0    0.00       330803            3301820009          0   \n41    1235   25    2.02       330824    330127_CKGLK68+240          0   \n42   32228  194    0.60       330825    331123_S222k61+876          1   \n43       7    0    0.00       330825          JHWCS3150001          1   \n44    4042   27    0.67       331022        S2141700050226          0   \n45   16111  188    1.17       331024        WZYJ2019082101          0   \n46   43338   26    0.06       331081        WZYQ2019061201          0   \n47    2216    4    0.18       331121            3303023101          1   \n48       0    0    0.00       331121        wzlc2018111701          1   \n49   15801  602    3.81       331122         YKLSX20210629          0   \n50   15824  355    2.24       331122         YK20181009002          0   \n51    1410    0    0.00       331124       JHWYSSX20191217          0   \n52       0    0    0.00       331127              TS228001          1   \n\n    总重80吨以上数  \n0        NaN  \n1        3.0  \n2        NaN  \n3        NaN  \n4       37.0  \n5        NaN  \n6        NaN  \n7        NaN  \n8        NaN  \n9        7.0  \n10       NaN  \n11       NaN  \n12       1.0  \n13       NaN  \n14      27.0  \n15       NaN  \n16       NaN  \n17       NaN  \n18       1.0  \n19       1.0  \n20       NaN  \n21       NaN  \n22       1.0  \n23       4.0  \n24       3.0  \n25       1.0  \n26       NaN  \n27       NaN  \n28       NaN  \n29       NaN  \n30       4.0  \n31       NaN  \n32       NaN  \n33       1.0  \n34       3.0  \n35       NaN  \n36       NaN  \n37       NaN  \n38       NaN  \n39       NaN  \n40       NaN  \n41       1.0  \n42       NaN  \n43       NaN  \n44       NaN  \n45       NaN  \n46       NaN  \n47       NaN  \n48       NaN  \n49       NaN  \n50       NaN  \n51       NaN  \n52       NaN  ",
      "text/html": "<div>\n<style scoped>\n    .dataframe tbody tr th:only-of-type {\n        vertical-align: middle;\n    }\n\n    .dataframe tbody tr th {\n        vertical-align: top;\n    }\n\n    .dataframe thead th {\n        text-align: right;\n    }\n</style>\n<table border=\"1\" class=\"dataframe\">\n  <thead>\n    <tr style=\"text-align: right;\">\n      <th></th>\n      <th>站点名称</th>\n      <th>地市</th>\n      <th>区县</th>\n      <th>站点归属地市</th>\n      <th>站点归属区县</th>\n      <th>理应在线天数</th>\n      <th>实际在线天数</th>\n      <th>在线率</th>\n      <th>货车数</th>\n      <th>超限数</th>\n      <th>超限率(%)</th>\n      <th>county_code</th>\n      <th>out_station</th>\n      <th>direction</th>\n      <th>总重80吨以上数</th>\n    </tr>\n  </thead>\n  <tbody>\n    <tr>\n      <th>0</th>\n      <td>X111（下大线）柯桥、萧山方向K7+335</td>\n      <td>杭州</td>\n      <td>下城</td>\n      <td>绍兴</td>\n      <td>柯桥</td>\n      <td>31</td>\n      <td>22</td>\n      <td>70.97</td>\n      <td>9849</td>\n      <td>4</td>\n      <td>0.04</td>\n      <td>330103</td>\n      <td>X1110603314501</td>\n      <td>0</td>\n      <td>NaN</td>\n    </tr>\n    <tr>\n      <th>1</th>\n      <td>X106（杨绍线）杨汛桥方向K3+560</td>\n      <td>杭州</td>\n      <td>下城</td>\n      <td>绍兴</td>\n      <td>柯桥</td>\n      <td>31</td>\n      <td>31</td>\n      <td>100.00</td>\n      <td>46924</td>\n      <td>105</td>\n      <td>0.22</td>\n      <td>330103</td>\n      <td>X1060603314501</td>\n      <td>1</td>\n      <td>3.0</td>\n    </tr>\n    <tr>\n      <th>2</th>\n      <td>G235（新海线）杭州、金华方向K759+580</td>\n      <td>杭州</td>\n      <td>萧山</td>\n      <td>绍兴</td>\n      <td>诸暨</td>\n      <td>31</td>\n      <td>25</td>\n      <td>80.65</td>\n      <td>26047</td>\n      <td>269</td>\n      <td>1.03</td>\n      <td>330109</td>\n      <td>330681_S103K66+300</td>\n      <td>0</td>\n      <td>NaN</td>\n    </tr>\n    <tr>\n      <th>3</th>\n      <td>X118（杭金衢连接线）329方向K2+865</td>\n      <td>杭州</td>\n      <td>萧山</td>\n      <td>绍兴</td>\n      <td>柯桥</td>\n      <td>31</td>\n      <td>31</td>\n      <td>100.00</td>\n      <td>28358</td>\n      <td>95</td>\n      <td>0.34</td>\n      <td>330109</td>\n      <td>X1180603314504</td>\n      <td>1</td>\n      <td>NaN</td>\n    </tr>\n    <tr>\n      <th>4</th>\n      <td>G235（新海线）安吉方向K609+600</td>\n      <td>杭州</td>\n      <td>余杭</td>\n      <td>湖州</td>\n      <td>安吉</td>\n      <td>31</td>\n      <td>28</td>\n      <td>90.32</td>\n      <td>45156</td>\n      <td>819</td>\n      <td>1.81</td>\n      <td>330110</td>\n      <td>AS201001</td>\n      <td>0</td>\n      <td>37.0</td>\n    </tr>\n    <tr>\n      <th>5</th>\n      <td>G104（京岚线）杭州方向K1411+500</td>\n      <td>杭州</td>\n      <td>临平</td>\n      <td>湖州</td>\n      <td>德清</td>\n      <td>31</td>\n      <td>31</td>\n      <td>100.00</td>\n      <td>33723</td>\n      <td>64</td>\n      <td>0.19</td>\n      <td>330113</td>\n      <td>DG104002</td>\n      <td>0</td>\n      <td>NaN</td>\n    </tr>\n    <tr>\n      <th>6</th>\n      <td>X719（人民大道）海宁方向RM20</td>\n      <td>杭州</td>\n      <td>临平</td>\n      <td>嘉兴</td>\n      <td>海宁</td>\n      <td>31</td>\n      <td>30</td>\n      <td>96.77</td>\n      <td>39151</td>\n      <td>51</td>\n      <td>0.13</td>\n      <td>330113</td>\n      <td>3304810005</td>\n      <td>0</td>\n      <td>NaN</td>\n    </tr>\n    <tr>\n      <th>7</th>\n      <td>G104（104国道）海宁方向K1472+460</td>\n      <td>杭州</td>\n      <td>临平</td>\n      <td>嘉兴</td>\n      <td>海宁</td>\n      <td>31</td>\n      <td>0</td>\n      <td>0.00</td>\n      <td>0</td>\n      <td>0</td>\n      <td>0.00</td>\n      <td>330113</td>\n      <td>3304810006</td>\n      <td>1</td>\n      <td>NaN</td>\n    </tr>\n    <tr>\n      <th>8</th>\n      <td>X331（翁金线）杭州、海宁方向K1+300</td>\n      <td>杭州</td>\n      <td>临平</td>\n      <td>嘉兴</td>\n      <td>海宁</td>\n      <td>31</td>\n      <td>13</td>\n      <td>41.94</td>\n      <td>6462</td>\n      <td>10</td>\n      <td>0.15</td>\n      <td>330113</td>\n      <td>3304810008</td>\n      <td>0</td>\n      <td>NaN</td>\n    </tr>\n    <tr>\n      <th>9</th>\n      <td>S304（临莫线）德清方向K22+500</td>\n      <td>杭州</td>\n      <td>临平</td>\n      <td>湖州</td>\n      <td>德清</td>\n      <td>31</td>\n      <td>21</td>\n      <td>67.74</td>\n      <td>45712</td>\n      <td>442</td>\n      <td>0.97</td>\n      <td>330113</td>\n      <td>DS304001</td>\n      <td>1</td>\n      <td>7.0</td>\n    </tr>\n    <tr>\n      <th>10</th>\n      <td>X516（城大线）浦江方向K1+000</td>\n      <td>杭州</td>\n      <td>桐庐</td>\n      <td>金华</td>\n      <td>浦江</td>\n      <td>31</td>\n      <td>27</td>\n      <td>87.10</td>\n      <td>2473</td>\n      <td>0</td>\n      <td>0.00</td>\n      <td>330122</td>\n      <td>3307263102</td>\n      <td>0</td>\n      <td>NaN</td>\n    </tr>\n    <tr>\n      <th>11</th>\n      <td>S210（桐义线）桐庐、浦江方向K42+540</td>\n      <td>杭州</td>\n      <td>桐庐</td>\n      <td>金华</td>\n      <td>浦江</td>\n      <td>31</td>\n      <td>31</td>\n      <td>100.00</td>\n      <td>27394</td>\n      <td>156</td>\n      <td>0.57</td>\n      <td>330122</td>\n      <td>JHPJTYX20200114</td>\n      <td>0</td>\n      <td>NaN</td>\n    </tr>\n    <tr>\n      <th>12</th>\n      <td>X628（淳开线）淳安、开化方向K0+900M</td>\n      <td>杭州</td>\n      <td>淳安</td>\n      <td>衢州</td>\n      <td>开化</td>\n      <td>31</td>\n      <td>12</td>\n      <td>38.71</td>\n      <td>336</td>\n      <td>2</td>\n      <td>0.60</td>\n      <td>330127</td>\n      <td>3308243103</td>\n      <td>0</td>\n      <td>1.0</td>\n    </tr>\n    <tr>\n      <th>13</th>\n      <td>X336（双金线）诸暨、金沙方向K20+160</td>\n      <td>杭州</td>\n      <td>富阳</td>\n      <td>绍兴</td>\n      <td>诸暨</td>\n      <td>31</td>\n      <td>31</td>\n      <td>100.00</td>\n      <td>16320</td>\n      <td>68</td>\n      <td>0.42</td>\n      <td>330183</td>\n      <td>330681_SJXK20+160</td>\n      <td>0</td>\n      <td>NaN</td>\n    </tr>\n    <tr>\n      <th>14</th>\n      <td>G329（舟鲁线）余姚方向K246+376</td>\n      <td>宁波</td>\n      <td>余姚</td>\n      <td>绍兴</td>\n      <td>上虞</td>\n      <td>31</td>\n      <td>31</td>\n      <td>100.00</td>\n      <td>51443</td>\n      <td>144</td>\n      <td>0.28</td>\n      <td>330281</td>\n      <td>X5050604314502</td>\n      <td>1</td>\n      <td>27.0</td>\n    </tr>\n    <tr>\n      <th>15</th>\n      <td>S309（江拔线沙溪） K39+800双向</td>\n      <td>宁波</td>\n      <td>奉化</td>\n      <td>绍兴</td>\n      <td>新昌</td>\n      <td>31</td>\n      <td>0</td>\n      <td>0.00</td>\n      <td>0</td>\n      <td>0</td>\n      <td>0.00</td>\n      <td>330283</td>\n      <td>S3090624314501</td>\n      <td>1</td>\n      <td>NaN</td>\n    </tr>\n    <tr>\n      <th>16</th>\n      <td>S333（六东线）青田、温州方向K35+600</td>\n      <td>温州</td>\n      <td>永嘉</td>\n      <td>丽水</td>\n      <td>青田</td>\n      <td>31</td>\n      <td>31</td>\n      <td>100.00</td>\n      <td>5537</td>\n      <td>50</td>\n      <td>0.90</td>\n      <td>330324</td>\n      <td>3311213103</td>\n      <td>1</td>\n      <td>NaN</td>\n    </tr>\n    <tr>\n      <th>17</th>\n      <td>G330（洞合线）青田、温州方向K130+600</td>\n      <td>温州</td>\n      <td>永嘉</td>\n      <td>丽水</td>\n      <td>青田</td>\n      <td>31</td>\n      <td>16</td>\n      <td>51.61</td>\n      <td>7222</td>\n      <td>0</td>\n      <td>0.00</td>\n      <td>330324</td>\n      <td>331121_G330K44+800Ms</td>\n      <td>1</td>\n      <td>NaN</td>\n    </tr>\n    <tr>\n      <th>18</th>\n      <td>G104（京岚线）K1803+750M温岭方向</td>\n      <td>温州</td>\n      <td>乐清</td>\n      <td>台州</td>\n      <td>温岭</td>\n      <td>31</td>\n      <td>31</td>\n      <td>100.00</td>\n      <td>34875</td>\n      <td>15</td>\n      <td>0.04</td>\n      <td>330382</td>\n      <td>3310813111</td>\n      <td>1</td>\n      <td>1.0</td>\n    </tr>\n    <tr>\n      <th>19</th>\n      <td>X009（湖盐线）桐乡方向 K37+100</td>\n      <td>嘉兴</td>\n      <td>海盐</td>\n      <td>湖州</td>\n      <td>南浔</td>\n      <td>31</td>\n      <td>31</td>\n      <td>100.00</td>\n      <td>41989</td>\n      <td>181</td>\n      <td>0.43</td>\n      <td>330424</td>\n      <td>3305033118</td>\n      <td>1</td>\n      <td>1.0</td>\n    </tr>\n    <tr>\n      <th>20</th>\n      <td>Y024 (练悦线) 桐乡方向K7+630</td>\n      <td>嘉兴</td>\n      <td>桐乡</td>\n      <td>湖州</td>\n      <td>南浔</td>\n      <td>31</td>\n      <td>27</td>\n      <td>87.10</td>\n      <td>2934</td>\n      <td>0</td>\n      <td>0.00</td>\n      <td>330483</td>\n      <td>3305033116</td>\n      <td>1</td>\n      <td>NaN</td>\n    </tr>\n    <tr>\n      <th>21</th>\n      <td>X032 (浔乌线) 南浔方向K9+850</td>\n      <td>嘉兴</td>\n      <td>桐乡</td>\n      <td>湖州</td>\n      <td>南浔</td>\n      <td>31</td>\n      <td>31</td>\n      <td>100.00</td>\n      <td>5948</td>\n      <td>1</td>\n      <td>0.02</td>\n      <td>330483</td>\n      <td>3305033111</td>\n      <td>0</td>\n      <td>NaN</td>\n    </tr>\n    <tr>\n      <th>22</th>\n      <td>X111（崇新线）新市方向K0+170</td>\n      <td>湖州</td>\n      <td>德清</td>\n      <td>嘉兴</td>\n      <td>桐乡</td>\n      <td>31</td>\n      <td>31</td>\n      <td>100.00</td>\n      <td>108337</td>\n      <td>173</td>\n      <td>0.16</td>\n      <td>330521</td>\n      <td>3304833106</td>\n      <td>0</td>\n      <td>1.0</td>\n    </tr>\n    <tr>\n      <th>23</th>\n      <td>X111（崇新线）崇福方向K16+570</td>\n      <td>湖州</td>\n      <td>德清</td>\n      <td>嘉兴</td>\n      <td>桐乡</td>\n      <td>31</td>\n      <td>31</td>\n      <td>100.00</td>\n      <td>98164</td>\n      <td>263</td>\n      <td>0.27</td>\n      <td>330521</td>\n      <td>3304833107</td>\n      <td>1</td>\n      <td>4.0</td>\n    </tr>\n    <tr>\n      <th>24</th>\n      <td>G235（新海线）安吉方向K614+480</td>\n      <td>湖州</td>\n      <td>安吉</td>\n      <td>杭州</td>\n      <td>余杭</td>\n      <td>31</td>\n      <td>25</td>\n      <td>80.65</td>\n      <td>31423</td>\n      <td>829</td>\n      <td>2.64</td>\n      <td>330523</td>\n      <td>3301103104</td>\n      <td>1</td>\n      <td>3.0</td>\n    </tr>\n    <tr>\n      <th>25</th>\n      <td>G329 舟鲁线K225+000余姚方向</td>\n      <td>绍兴</td>\n      <td>上虞</td>\n      <td>宁波</td>\n      <td>余姚</td>\n      <td>31</td>\n      <td>9</td>\n      <td>29.03</td>\n      <td>2707</td>\n      <td>22</td>\n      <td>0.81</td>\n      <td>330604</td>\n      <td>G3291700010281</td>\n      <td>1</td>\n      <td>1.0</td>\n    </tr>\n    <tr>\n      <th>26</th>\n      <td>S319（甬余线）宁波方向K57+900</td>\n      <td>绍兴</td>\n      <td>上虞</td>\n      <td>宁波</td>\n      <td>余姚</td>\n      <td>31</td>\n      <td>11</td>\n      <td>35.48</td>\n      <td>2593</td>\n      <td>28</td>\n      <td>1.08</td>\n      <td>330604</td>\n      <td>S3191700050281</td>\n      <td>1</td>\n      <td>NaN</td>\n    </tr>\n    <tr>\n      <th>27</th>\n      <td>X103（三益线）绍兴滨海、萧山方向K40+000</td>\n      <td>绍兴</td>\n      <td>上虞</td>\n      <td>杭州</td>\n      <td>萧山</td>\n      <td>31</td>\n      <td>30</td>\n      <td>96.77</td>\n      <td>72014</td>\n      <td>1</td>\n      <td>0.00</td>\n      <td>330604</td>\n      <td>330109_SYXK40+000</td>\n      <td>0</td>\n      <td>NaN</td>\n    </tr>\n    <tr>\n      <th>28</th>\n      <td>G329 舟鲁线K206+200余姚方向</td>\n      <td>绍兴</td>\n      <td>上虞</td>\n      <td>宁波</td>\n      <td>余姚</td>\n      <td>31</td>\n      <td>4</td>\n      <td>12.90</td>\n      <td>2373</td>\n      <td>5</td>\n      <td>0.21</td>\n      <td>330604</td>\n      <td>X2311700280281</td>\n      <td>1</td>\n      <td>NaN</td>\n    </tr>\n    <tr>\n      <th>29</th>\n      <td>S309（江拔线）宁波方向K22+700</td>\n      <td>绍兴</td>\n      <td>新昌</td>\n      <td>宁波</td>\n      <td>奉化</td>\n      <td>31</td>\n      <td>30</td>\n      <td>96.77</td>\n      <td>340</td>\n      <td>5</td>\n      <td>1.47</td>\n      <td>330624</td>\n      <td>S3091700100283</td>\n      <td>0</td>\n      <td>NaN</td>\n    </tr>\n    <tr>\n      <th>30</th>\n      <td>X141（塘湄线）萧山方向K32+000</td>\n      <td>绍兴</td>\n      <td>诸暨</td>\n      <td>杭州</td>\n      <td>萧山</td>\n      <td>31</td>\n      <td>30</td>\n      <td>96.77</td>\n      <td>42699</td>\n      <td>29</td>\n      <td>0.07</td>\n      <td>330681</td>\n      <td>330109_03SK32+000</td>\n      <td>1</td>\n      <td>4.0</td>\n    </tr>\n    <tr>\n      <th>31</th>\n      <td>G235（新海线）诸暨、萧山方向K739+800</td>\n      <td>绍兴</td>\n      <td>诸暨</td>\n      <td>杭州</td>\n      <td>萧山</td>\n      <td>31</td>\n      <td>31</td>\n      <td>100.00</td>\n      <td>56384</td>\n      <td>5</td>\n      <td>0.01</td>\n      <td>330681</td>\n      <td>330109_G235K739+800</td>\n      <td>1</td>\n      <td>NaN</td>\n    </tr>\n    <tr>\n      <th>32</th>\n      <td>G527 象义线 K218+380M</td>\n      <td>绍兴</td>\n      <td>诸暨</td>\n      <td>金华</td>\n      <td>东阳</td>\n      <td>31</td>\n      <td>30</td>\n      <td>96.77</td>\n      <td>31248</td>\n      <td>35</td>\n      <td>0.11</td>\n      <td>330681</td>\n      <td>JHDYS3100003</td>\n      <td>0</td>\n      <td>NaN</td>\n    </tr>\n    <tr>\n      <th>33</th>\n      <td>S315（兰贺线）龙游、金华方向K27+700</td>\n      <td>金华</td>\n      <td>婺城</td>\n      <td>衢州</td>\n      <td>龙游</td>\n      <td>31</td>\n      <td>31</td>\n      <td>100.00</td>\n      <td>83062</td>\n      <td>237</td>\n      <td>0.29</td>\n      <td>330702</td>\n      <td>330825_S315K27+700</td>\n      <td>0</td>\n      <td>1.0</td>\n    </tr>\n    <tr>\n      <th>34</th>\n      <td>G235（新海线）海丰、新沂方向K960+300</td>\n      <td>金华</td>\n      <td>武义</td>\n      <td>丽水</td>\n      <td>松阳</td>\n      <td>31</td>\n      <td>9</td>\n      <td>29.03</td>\n      <td>2310</td>\n      <td>1</td>\n      <td>0.04</td>\n      <td>330723</td>\n      <td>331124_S220K85+200M</td>\n      <td>1</td>\n      <td>3.0</td>\n    </tr>\n    <tr>\n      <th>35</th>\n      <td>X610（白章线）新安江、兰溪方向K53+200</td>\n      <td>金华</td>\n      <td>兰溪</td>\n      <td>杭州</td>\n      <td>建德</td>\n      <td>31</td>\n      <td>20</td>\n      <td>64.52</td>\n      <td>3410</td>\n      <td>13</td>\n      <td>0.38</td>\n      <td>330781</td>\n      <td>3301823102</td>\n      <td>2</td>\n      <td>NaN</td>\n    </tr>\n    <tr>\n      <th>36</th>\n      <td>G330（洞合线）兰溪方向K377+000</td>\n      <td>金华</td>\n      <td>兰溪</td>\n      <td>杭州</td>\n      <td>建德</td>\n      <td>31</td>\n      <td>20</td>\n      <td>64.52</td>\n      <td>14707</td>\n      <td>7</td>\n      <td>0.05</td>\n      <td>330781</td>\n      <td>3301823101</td>\n      <td>3</td>\n      <td>NaN</td>\n    </tr>\n    <tr>\n      <th>37</th>\n      <td>G527（嵊义线）嵊州方向K31+300</td>\n      <td>金华</td>\n      <td>东阳</td>\n      <td>绍兴</td>\n      <td>嵊州</td>\n      <td>31</td>\n      <td>31</td>\n      <td>100.00</td>\n      <td>15583</td>\n      <td>1</td>\n      <td>0.01</td>\n      <td>330783</td>\n      <td>S310K313001021</td>\n      <td>1</td>\n      <td>NaN</td>\n    </tr>\n    <tr>\n      <th>38</th>\n      <td>X334（诸安线）安华、诸暨方向K10+370</td>\n      <td>金华</td>\n      <td>东阳</td>\n      <td>绍兴</td>\n      <td>诸暨</td>\n      <td>31</td>\n      <td>19</td>\n      <td>61.29</td>\n      <td>28095</td>\n      <td>544</td>\n      <td>1.94</td>\n      <td>330783</td>\n      <td>330681_X334K10+330</td>\n      <td>1</td>\n      <td>NaN</td>\n    </tr>\n    <tr>\n      <th>39</th>\n      <td>S211（诸东线）诸暨、东阳方向K29+050</td>\n      <td>金华</td>\n      <td>东阳</td>\n      <td>绍兴</td>\n      <td>诸暨</td>\n      <td>31</td>\n      <td>23</td>\n      <td>74.19</td>\n      <td>5809</td>\n      <td>261</td>\n      <td>4.49</td>\n      <td>330783</td>\n      <td>330681_S211K29+050</td>\n      <td>0</td>\n      <td>NaN</td>\n    </tr>\n    <tr>\n      <th>40</th>\n      <td>S305（富衢线）衢州、长林方向K153＋450</td>\n      <td>衢州</td>\n      <td>衢江</td>\n      <td>杭州</td>\n      <td>建德</td>\n      <td>31</td>\n      <td>20</td>\n      <td>64.52</td>\n      <td>2015</td>\n      <td>0</td>\n      <td>0.00</td>\n      <td>330803</td>\n      <td>3301820009</td>\n      <td>0</td>\n      <td>NaN</td>\n    </tr>\n    <tr>\n      <th>41</th>\n      <td>X724（淳开线）千岛湖方向K68+240</td>\n      <td>衢州</td>\n      <td>开化</td>\n      <td>杭州</td>\n      <td>淳安</td>\n      <td>31</td>\n      <td>31</td>\n      <td>100.00</td>\n      <td>1235</td>\n      <td>25</td>\n      <td>2.02</td>\n      <td>330824</td>\n      <td>330127_CKGLK68+240</td>\n      <td>0</td>\n      <td>1.0</td>\n    </tr>\n    <tr>\n      <th>42</th>\n      <td>S222（龙丽线）丽水方向K61+900</td>\n      <td>衢州</td>\n      <td>龙游</td>\n      <td>丽水</td>\n      <td>遂昌</td>\n      <td>31</td>\n      <td>30</td>\n      <td>96.77</td>\n      <td>32228</td>\n      <td>194</td>\n      <td>0.60</td>\n      <td>330825</td>\n      <td>331123_S222k61+876</td>\n      <td>1</td>\n      <td>NaN</td>\n    </tr>\n    <tr>\n      <th>43</th>\n      <td>S315（315省道）龙游方向K16+300</td>\n      <td>衢州</td>\n      <td>龙游</td>\n      <td>金华</td>\n      <td>婺城</td>\n      <td>31</td>\n      <td>7</td>\n      <td>22.58</td>\n      <td>7</td>\n      <td>0</td>\n      <td>0.00</td>\n      <td>330825</td>\n      <td>JHWCS3150001</td>\n      <td>1</td>\n      <td>NaN</td>\n    </tr>\n    <tr>\n      <th>44</th>\n      <td>S214（甬临线）台州方向K96+200</td>\n      <td>台州</td>\n      <td>三门</td>\n      <td>宁波</td>\n      <td>宁海</td>\n      <td>31</td>\n      <td>23</td>\n      <td>74.19</td>\n      <td>4042</td>\n      <td>27</td>\n      <td>0.67</td>\n      <td>331022</td>\n      <td>S2141700050226</td>\n      <td>0</td>\n      <td>NaN</td>\n    </tr>\n    <tr>\n      <th>45</th>\n      <td>S223（仙清线）永嘉方向105+450</td>\n      <td>台州</td>\n      <td>仙居</td>\n      <td>温州</td>\n      <td>永嘉</td>\n      <td>31</td>\n      <td>31</td>\n      <td>100.00</td>\n      <td>16111</td>\n      <td>188</td>\n      <td>1.17</td>\n      <td>331024</td>\n      <td>WZYJ2019082101</td>\n      <td>0</td>\n      <td>NaN</td>\n    </tr>\n    <tr>\n      <th>46</th>\n      <td>G104（京岚线）乐清方向K1821+430</td>\n      <td>台州</td>\n      <td>温岭</td>\n      <td>温州</td>\n      <td>乐清</td>\n      <td>31</td>\n      <td>29</td>\n      <td>93.55</td>\n      <td>43338</td>\n      <td>26</td>\n      <td>0.06</td>\n      <td>331081</td>\n      <td>WZYQ2019061201</td>\n      <td>0</td>\n      <td>NaN</td>\n    </tr>\n    <tr>\n      <th>47</th>\n      <td>G104（京岚线）温州方向K1904+590</td>\n      <td>丽水</td>\n      <td>青田</td>\n      <td>温州</td>\n      <td>鹿城</td>\n      <td>31</td>\n      <td>4</td>\n      <td>12.90</td>\n      <td>2216</td>\n      <td>4</td>\n      <td>0.18</td>\n      <td>331121</td>\n      <td>3303023101</td>\n      <td>1</td>\n      <td>NaN</td>\n    </tr>\n    <tr>\n      <th>48</th>\n      <td>G330（洞合线）温州方向K117+800</td>\n      <td>丽水</td>\n      <td>青田</td>\n      <td>温州</td>\n      <td>鹿城</td>\n      <td>31</td>\n      <td>0</td>\n      <td>0.00</td>\n      <td>0</td>\n      <td>0</td>\n      <td>0.00</td>\n      <td>331121</td>\n      <td>wzlc2018111701</td>\n      <td>1</td>\n      <td>NaN</td>\n    </tr>\n    <tr>\n      <th>49</th>\n      <td>S35（临石线）缙云、永康方向K128+240</td>\n      <td>丽水</td>\n      <td>缙云</td>\n      <td>金华</td>\n      <td>永康</td>\n      <td>31</td>\n      <td>19</td>\n      <td>61.29</td>\n      <td>15801</td>\n      <td>602</td>\n      <td>3.81</td>\n      <td>331122</td>\n      <td>YKLSX20210629</td>\n      <td>0</td>\n      <td>NaN</td>\n    </tr>\n    <tr>\n      <th>50</th>\n      <td>G330（下里溪）金华方向K186+0</td>\n      <td>丽水</td>\n      <td>缙云</td>\n      <td>金华</td>\n      <td>永康</td>\n      <td>31</td>\n      <td>27</td>\n      <td>87.10</td>\n      <td>15824</td>\n      <td>355</td>\n      <td>2.24</td>\n      <td>331122</td>\n      <td>YK20181009002</td>\n      <td>0</td>\n      <td>NaN</td>\n    </tr>\n    <tr>\n      <th>51</th>\n      <td>G235（新海线）武义、松阳方向K942+250</td>\n      <td>丽水</td>\n      <td>松阳</td>\n      <td>金华</td>\n      <td>武义</td>\n      <td>31</td>\n      <td>31</td>\n      <td>100.00</td>\n      <td>1410</td>\n      <td>0</td>\n      <td>0.00</td>\n      <td>331124</td>\n      <td>JHWYSSX20191217</td>\n      <td>0</td>\n      <td>NaN</td>\n    </tr>\n    <tr>\n      <th>52</th>\n      <td>G235(新海线)泰顺方向K1117+650</td>\n      <td>丽水</td>\n      <td>景宁</td>\n      <td>温州</td>\n      <td>泰顺</td>\n      <td>31</td>\n      <td>0</td>\n      <td>0.00</td>\n      <td>0</td>\n      <td>0</td>\n      <td>0.00</td>\n      <td>331127</td>\n      <td>TS228001</td>\n      <td>1</td>\n      <td>NaN</td>\n    </tr>\n  </tbody>\n</table>\n</div>"
     },
     "execution_count": 30,
     "metadata": {},
     "output_type": "execute_result"
    }
   ],
   "source": [
    "wide_table_31 = pd.merge(市际点站点明细, 总重80吨以上汇总, on=['out_station','direction'],\n",
    "                             how='left')\n",
    "wide_table_31"
   ],
   "metadata": {
    "collapsed": false,
    "pycharm": {
     "name": "#%%\n"
    }
   }
  },
  {
   "cell_type": "code",
   "execution_count": 31,
   "outputs": [
    {
     "data": {
      "text/plain": "                         站点名称  地市  区县 站点归属地市 站点归属区县  理应在线天数  实际在线天数     在线率  \\\n0      X111（下大线）柯桥、萧山方向K7+335  杭州  下城     绍兴     柯桥      31      22   70.97   \n1        X106（杨绍线）杨汛桥方向K3+560  杭州  下城     绍兴     柯桥      31      31  100.00   \n2    G235（新海线）杭州、金华方向K759+580  杭州  萧山     绍兴     诸暨      31      25   80.65   \n3     X118（杭金衢连接线）329方向K2+865  杭州  萧山     绍兴     柯桥      31      31  100.00   \n4       G235（新海线）安吉方向K609+600  杭州  余杭     湖州     安吉      31      28   90.32   \n5      G104（京岚线）杭州方向K1411+500  杭州  临平     湖州     德清      31      31  100.00   \n6          X719（人民大道）海宁方向RM20  杭州  临平     嘉兴     海宁      31      30   96.77   \n7    G104（104国道）海宁方向K1472+460  杭州  临平     嘉兴     海宁      31       0    0.00   \n8      X331（翁金线）杭州、海宁方向K1+300  杭州  临平     嘉兴     海宁      31      13   41.94   \n9        S304（临莫线）德清方向K22+500  杭州  临平     湖州     德清      31      21   67.74   \n10        X516（城大线）浦江方向K1+000  杭州  桐庐     金华     浦江      31      27   87.10   \n11    S210（桐义线）桐庐、浦江方向K42+540  杭州  桐庐     金华     浦江      31      31  100.00   \n12    X628（淳开线）淳安、开化方向K0+900M  杭州  淳安     衢州     开化      31      12   38.71   \n13    X336（双金线）诸暨、金沙方向K20+160  杭州  富阳     绍兴     诸暨      31      31  100.00   \n14      G329（舟鲁线）余姚方向K246+376  宁波  余姚     绍兴     上虞      31      31  100.00   \n15      S309（江拔线沙溪） K39+800双向  宁波  奉化     绍兴     新昌      31       0    0.00   \n16    S333（六东线）青田、温州方向K35+600  温州  永嘉     丽水     青田      31      31  100.00   \n17   G330（洞合线）青田、温州方向K130+600  温州  永嘉     丽水     青田      31      16   51.61   \n18    G104（京岚线）K1803+750M温岭方向  温州  乐清     台州     温岭      31      31  100.00   \n19      X009（湖盐线）桐乡方向 K37+100  嘉兴  海盐     湖州     南浔      31      31  100.00   \n20      Y024 (练悦线) 桐乡方向K7+630  嘉兴  桐乡     湖州     南浔      31      27   87.10   \n21      X032 (浔乌线) 南浔方向K9+850  嘉兴  桐乡     湖州     南浔      31      31  100.00   \n22        X111（崇新线）新市方向K0+170  湖州  德清     嘉兴     桐乡      31      31  100.00   \n23       X111（崇新线）崇福方向K16+570  湖州  德清     嘉兴     桐乡      31      31  100.00   \n24      G235（新海线）安吉方向K614+480  湖州  安吉     杭州     余杭      31      25   80.65   \n25       G329 舟鲁线K225+000余姚方向  绍兴  上虞     宁波     余姚      31       9   29.03   \n26       S319（甬余线）宁波方向K57+900  绍兴  上虞     宁波     余姚      31      11   35.48   \n27  X103（三益线）绍兴滨海、萧山方向K40+000  绍兴  上虞     杭州     萧山      31      30   96.77   \n28       G329 舟鲁线K206+200余姚方向  绍兴  上虞     宁波     余姚      31       4   12.90   \n29       S309（江拔线）宁波方向K22+700  绍兴  新昌     宁波     奉化      31      30   96.77   \n30       X141（塘湄线）萧山方向K32+000  绍兴  诸暨     杭州     萧山      31      30   96.77   \n31   G235（新海线）诸暨、萧山方向K739+800  绍兴  诸暨     杭州     萧山      31      31  100.00   \n32         G527 象义线 K218+380M  绍兴  诸暨     金华     东阳      31      30   96.77   \n33    S315（兰贺线）龙游、金华方向K27+700  金华  婺城     衢州     龙游      31      31  100.00   \n34   G235（新海线）海丰、新沂方向K960+300  金华  武义     丽水     松阳      31       9   29.03   \n35   X610（白章线）新安江、兰溪方向K53+200  金华  兰溪     杭州     建德      31      20   64.52   \n36      G330（洞合线）兰溪方向K377+000  金华  兰溪     杭州     建德      31      20   64.52   \n37       G527（嵊义线）嵊州方向K31+300  金华  东阳     绍兴     嵊州      31      31  100.00   \n38    X334（诸安线）安华、诸暨方向K10+370  金华  东阳     绍兴     诸暨      31      19   61.29   \n39    S211（诸东线）诸暨、东阳方向K29+050  金华  东阳     绍兴     诸暨      31      23   74.19   \n40   S305（富衢线）衢州、长林方向K153＋450  衢州  衢江     杭州     建德      31      20   64.52   \n41      X724（淳开线）千岛湖方向K68+240  衢州  开化     杭州     淳安      31      31  100.00   \n42       S222（龙丽线）丽水方向K61+900  衢州  龙游     丽水     遂昌      31      30   96.77   \n43     S315（315省道）龙游方向K16+300  衢州  龙游     金华     婺城      31       7   22.58   \n44       S214（甬临线）台州方向K96+200  台州  三门     宁波     宁海      31      23   74.19   \n45       S223（仙清线）永嘉方向105+450  台州  仙居     温州     永嘉      31      31  100.00   \n46     G104（京岚线）乐清方向K1821+430  台州  温岭     温州     乐清      31      29   93.55   \n47     G104（京岚线）温州方向K1904+590  丽水  青田     温州     鹿城      31       4   12.90   \n48      G330（洞合线）温州方向K117+800  丽水  青田     温州     鹿城      31       0    0.00   \n49    S35（临石线）缙云、永康方向K128+240  丽水  缙云     金华     永康      31      19   61.29   \n50        G330（下里溪）金华方向K186+0  丽水  缙云     金华     永康      31      27   87.10   \n51   G235（新海线）武义、松阳方向K942+250  丽水  松阳     金华     武义      31      31  100.00   \n52     G235(新海线)泰顺方向K1117+650  丽水  景宁     温州     泰顺      31       0    0.00   \n\n       货车数  超限数  超限率(%)  county_code           out_station  direction  \\\n0     9849    4    0.04       330103        X1110603314501          0   \n1    46924  105    0.22       330103        X1060603314501          1   \n2    26047  269    1.03       330109    330681_S103K66+300          0   \n3    28358   95    0.34       330109        X1180603314504          1   \n4    45156  819    1.81       330110              AS201001          0   \n5    33723   64    0.19       330113              DG104002          0   \n6    39151   51    0.13       330113            3304810005          0   \n7        0    0    0.00       330113            3304810006          1   \n8     6462   10    0.15       330113            3304810008          0   \n9    45712  442    0.97       330113              DS304001          1   \n10    2473    0    0.00       330122            3307263102          0   \n11   27394  156    0.57       330122       JHPJTYX20200114          0   \n12     336    2    0.60       330127            3308243103          0   \n13   16320   68    0.42       330183     330681_SJXK20+160          0   \n14   51443  144    0.28       330281        X5050604314502          1   \n15       0    0    0.00       330283        S3090624314501          1   \n16    5537   50    0.90       330324            3311213103          1   \n17    7222    0    0.00       330324  331121_G330K44+800Ms          1   \n18   34875   15    0.04       330382            3310813111          1   \n19   41989  181    0.43       330424            3305033118          1   \n20    2934    0    0.00       330483            3305033116          1   \n21    5948    1    0.02       330483            3305033111          0   \n22  108337  173    0.16       330521            3304833106          0   \n23   98164  263    0.27       330521            3304833107          1   \n24   31423  829    2.64       330523            3301103104          1   \n25    2707   22    0.81       330604        G3291700010281          1   \n26    2593   28    1.08       330604        S3191700050281          1   \n27   72014    1    0.00       330604     330109_SYXK40+000          0   \n28    2373    5    0.21       330604        X2311700280281          1   \n29     340    5    1.47       330624        S3091700100283          0   \n30   42699   29    0.07       330681     330109_03SK32+000          1   \n31   56384    5    0.01       330681   330109_G235K739+800          1   \n32   31248   35    0.11       330681          JHDYS3100003          0   \n33   83062  237    0.29       330702    330825_S315K27+700          0   \n34    2310    1    0.04       330723   331124_S220K85+200M          1   \n35    3410   13    0.38       330781            3301823102          2   \n36   14707    7    0.05       330781            3301823101          3   \n37   15583    1    0.01       330783        S310K313001021          1   \n38   28095  544    1.94       330783    330681_X334K10+330          1   \n39    5809  261    4.49       330783    330681_S211K29+050          0   \n40    2015    0    0.00       330803            3301820009          0   \n41    1235   25    2.02       330824    330127_CKGLK68+240          0   \n42   32228  194    0.60       330825    331123_S222k61+876          1   \n43       7    0    0.00       330825          JHWCS3150001          1   \n44    4042   27    0.67       331022        S2141700050226          0   \n45   16111  188    1.17       331024        WZYJ2019082101          0   \n46   43338   26    0.06       331081        WZYQ2019061201          0   \n47    2216    4    0.18       331121            3303023101          1   \n48       0    0    0.00       331121        wzlc2018111701          1   \n49   15801  602    3.81       331122         YKLSX20210629          0   \n50   15824  355    2.24       331122         YK20181009002          0   \n51    1410    0    0.00       331124       JHWYSSX20191217          0   \n52       0    0    0.00       331127              TS228001          1   \n\n    总重80吨以上数  总重90吨以上数  超限100以上数  百吨王数  \n0        NaN       NaN       NaN   NaN  \n1        3.0       1.0       NaN   NaN  \n2        NaN       NaN       NaN   NaN  \n3        NaN       NaN       NaN   NaN  \n4       37.0       7.0      49.0   NaN  \n5        NaN       NaN       NaN   NaN  \n6        NaN       NaN       NaN   NaN  \n7        NaN       NaN       NaN   NaN  \n8        NaN       NaN       NaN   NaN  \n9        7.0       6.0      13.0   NaN  \n10       NaN       NaN       NaN   NaN  \n11       NaN       NaN       NaN   NaN  \n12       1.0       NaN       NaN   NaN  \n13       NaN       NaN       NaN   NaN  \n14      27.0      14.0       1.0   NaN  \n15       NaN       NaN       NaN   NaN  \n16       NaN       NaN       NaN   NaN  \n17       NaN       NaN       NaN   NaN  \n18       1.0       NaN       NaN   NaN  \n19       1.0       1.0       2.0   NaN  \n20       NaN       NaN       NaN   NaN  \n21       NaN       NaN       NaN   NaN  \n22       1.0       NaN       NaN   NaN  \n23       4.0       4.0       NaN   NaN  \n24       3.0       2.0       7.0   NaN  \n25       1.0       NaN       1.0   NaN  \n26       NaN       NaN       NaN   NaN  \n27       NaN       NaN       NaN   NaN  \n28       NaN       NaN       NaN   NaN  \n29       NaN       NaN       NaN   NaN  \n30       4.0       NaN       NaN   NaN  \n31       NaN       NaN       NaN   NaN  \n32       NaN       NaN       NaN   NaN  \n33       1.0       1.0       NaN   NaN  \n34       3.0       1.0       NaN   NaN  \n35       NaN       NaN       NaN   NaN  \n36       NaN       NaN       NaN   NaN  \n37       NaN       NaN       NaN   NaN  \n38       NaN       NaN       NaN   NaN  \n39       NaN       NaN       NaN   NaN  \n40       NaN       NaN       NaN   NaN  \n41       1.0       1.0       NaN   NaN  \n42       NaN       NaN       NaN   NaN  \n43       NaN       NaN       NaN   NaN  \n44       NaN       NaN       NaN   NaN  \n45       NaN       NaN       NaN   NaN  \n46       NaN       NaN       NaN   NaN  \n47       NaN       NaN       NaN   NaN  \n48       NaN       NaN       NaN   NaN  \n49       NaN       NaN       NaN   NaN  \n50       NaN       NaN       NaN   NaN  \n51       NaN       NaN       NaN   NaN  \n52       NaN       NaN       NaN   NaN  ",
      "text/html": "<div>\n<style scoped>\n    .dataframe tbody tr th:only-of-type {\n        vertical-align: middle;\n    }\n\n    .dataframe tbody tr th {\n        vertical-align: top;\n    }\n\n    .dataframe thead th {\n        text-align: right;\n    }\n</style>\n<table border=\"1\" class=\"dataframe\">\n  <thead>\n    <tr style=\"text-align: right;\">\n      <th></th>\n      <th>站点名称</th>\n      <th>地市</th>\n      <th>区县</th>\n      <th>站点归属地市</th>\n      <th>站点归属区县</th>\n      <th>理应在线天数</th>\n      <th>实际在线天数</th>\n      <th>在线率</th>\n      <th>货车数</th>\n      <th>超限数</th>\n      <th>超限率(%)</th>\n      <th>county_code</th>\n      <th>out_station</th>\n      <th>direction</th>\n      <th>总重80吨以上数</th>\n      <th>总重90吨以上数</th>\n      <th>超限100以上数</th>\n      <th>百吨王数</th>\n    </tr>\n  </thead>\n  <tbody>\n    <tr>\n      <th>0</th>\n      <td>X111（下大线）柯桥、萧山方向K7+335</td>\n      <td>杭州</td>\n      <td>下城</td>\n      <td>绍兴</td>\n      <td>柯桥</td>\n      <td>31</td>\n      <td>22</td>\n      <td>70.97</td>\n      <td>9849</td>\n      <td>4</td>\n      <td>0.04</td>\n      <td>330103</td>\n      <td>X1110603314501</td>\n      <td>0</td>\n      <td>NaN</td>\n      <td>NaN</td>\n      <td>NaN</td>\n      <td>NaN</td>\n    </tr>\n    <tr>\n      <th>1</th>\n      <td>X106（杨绍线）杨汛桥方向K3+560</td>\n      <td>杭州</td>\n      <td>下城</td>\n      <td>绍兴</td>\n      <td>柯桥</td>\n      <td>31</td>\n      <td>31</td>\n      <td>100.00</td>\n      <td>46924</td>\n      <td>105</td>\n      <td>0.22</td>\n      <td>330103</td>\n      <td>X1060603314501</td>\n      <td>1</td>\n      <td>3.0</td>\n      <td>1.0</td>\n      <td>NaN</td>\n      <td>NaN</td>\n    </tr>\n    <tr>\n      <th>2</th>\n      <td>G235（新海线）杭州、金华方向K759+580</td>\n      <td>杭州</td>\n      <td>萧山</td>\n      <td>绍兴</td>\n      <td>诸暨</td>\n      <td>31</td>\n      <td>25</td>\n      <td>80.65</td>\n      <td>26047</td>\n      <td>269</td>\n      <td>1.03</td>\n      <td>330109</td>\n      <td>330681_S103K66+300</td>\n      <td>0</td>\n      <td>NaN</td>\n      <td>NaN</td>\n      <td>NaN</td>\n      <td>NaN</td>\n    </tr>\n    <tr>\n      <th>3</th>\n      <td>X118（杭金衢连接线）329方向K2+865</td>\n      <td>杭州</td>\n      <td>萧山</td>\n      <td>绍兴</td>\n      <td>柯桥</td>\n      <td>31</td>\n      <td>31</td>\n      <td>100.00</td>\n      <td>28358</td>\n      <td>95</td>\n      <td>0.34</td>\n      <td>330109</td>\n      <td>X1180603314504</td>\n      <td>1</td>\n      <td>NaN</td>\n      <td>NaN</td>\n      <td>NaN</td>\n      <td>NaN</td>\n    </tr>\n    <tr>\n      <th>4</th>\n      <td>G235（新海线）安吉方向K609+600</td>\n      <td>杭州</td>\n      <td>余杭</td>\n      <td>湖州</td>\n      <td>安吉</td>\n      <td>31</td>\n      <td>28</td>\n      <td>90.32</td>\n      <td>45156</td>\n      <td>819</td>\n      <td>1.81</td>\n      <td>330110</td>\n      <td>AS201001</td>\n      <td>0</td>\n      <td>37.0</td>\n      <td>7.0</td>\n      <td>49.0</td>\n      <td>NaN</td>\n    </tr>\n    <tr>\n      <th>5</th>\n      <td>G104（京岚线）杭州方向K1411+500</td>\n      <td>杭州</td>\n      <td>临平</td>\n      <td>湖州</td>\n      <td>德清</td>\n      <td>31</td>\n      <td>31</td>\n      <td>100.00</td>\n      <td>33723</td>\n      <td>64</td>\n      <td>0.19</td>\n      <td>330113</td>\n      <td>DG104002</td>\n      <td>0</td>\n      <td>NaN</td>\n      <td>NaN</td>\n      <td>NaN</td>\n      <td>NaN</td>\n    </tr>\n    <tr>\n      <th>6</th>\n      <td>X719（人民大道）海宁方向RM20</td>\n      <td>杭州</td>\n      <td>临平</td>\n      <td>嘉兴</td>\n      <td>海宁</td>\n      <td>31</td>\n      <td>30</td>\n      <td>96.77</td>\n      <td>39151</td>\n      <td>51</td>\n      <td>0.13</td>\n      <td>330113</td>\n      <td>3304810005</td>\n      <td>0</td>\n      <td>NaN</td>\n      <td>NaN</td>\n      <td>NaN</td>\n      <td>NaN</td>\n    </tr>\n    <tr>\n      <th>7</th>\n      <td>G104（104国道）海宁方向K1472+460</td>\n      <td>杭州</td>\n      <td>临平</td>\n      <td>嘉兴</td>\n      <td>海宁</td>\n      <td>31</td>\n      <td>0</td>\n      <td>0.00</td>\n      <td>0</td>\n      <td>0</td>\n      <td>0.00</td>\n      <td>330113</td>\n      <td>3304810006</td>\n      <td>1</td>\n      <td>NaN</td>\n      <td>NaN</td>\n      <td>NaN</td>\n      <td>NaN</td>\n    </tr>\n    <tr>\n      <th>8</th>\n      <td>X331（翁金线）杭州、海宁方向K1+300</td>\n      <td>杭州</td>\n      <td>临平</td>\n      <td>嘉兴</td>\n      <td>海宁</td>\n      <td>31</td>\n      <td>13</td>\n      <td>41.94</td>\n      <td>6462</td>\n      <td>10</td>\n      <td>0.15</td>\n      <td>330113</td>\n      <td>3304810008</td>\n      <td>0</td>\n      <td>NaN</td>\n      <td>NaN</td>\n      <td>NaN</td>\n      <td>NaN</td>\n    </tr>\n    <tr>\n      <th>9</th>\n      <td>S304（临莫线）德清方向K22+500</td>\n      <td>杭州</td>\n      <td>临平</td>\n      <td>湖州</td>\n      <td>德清</td>\n      <td>31</td>\n      <td>21</td>\n      <td>67.74</td>\n      <td>45712</td>\n      <td>442</td>\n      <td>0.97</td>\n      <td>330113</td>\n      <td>DS304001</td>\n      <td>1</td>\n      <td>7.0</td>\n      <td>6.0</td>\n      <td>13.0</td>\n      <td>NaN</td>\n    </tr>\n    <tr>\n      <th>10</th>\n      <td>X516（城大线）浦江方向K1+000</td>\n      <td>杭州</td>\n      <td>桐庐</td>\n      <td>金华</td>\n      <td>浦江</td>\n      <td>31</td>\n      <td>27</td>\n      <td>87.10</td>\n      <td>2473</td>\n      <td>0</td>\n      <td>0.00</td>\n      <td>330122</td>\n      <td>3307263102</td>\n      <td>0</td>\n      <td>NaN</td>\n      <td>NaN</td>\n      <td>NaN</td>\n      <td>NaN</td>\n    </tr>\n    <tr>\n      <th>11</th>\n      <td>S210（桐义线）桐庐、浦江方向K42+540</td>\n      <td>杭州</td>\n      <td>桐庐</td>\n      <td>金华</td>\n      <td>浦江</td>\n      <td>31</td>\n      <td>31</td>\n      <td>100.00</td>\n      <td>27394</td>\n      <td>156</td>\n      <td>0.57</td>\n      <td>330122</td>\n      <td>JHPJTYX20200114</td>\n      <td>0</td>\n      <td>NaN</td>\n      <td>NaN</td>\n      <td>NaN</td>\n      <td>NaN</td>\n    </tr>\n    <tr>\n      <th>12</th>\n      <td>X628（淳开线）淳安、开化方向K0+900M</td>\n      <td>杭州</td>\n      <td>淳安</td>\n      <td>衢州</td>\n      <td>开化</td>\n      <td>31</td>\n      <td>12</td>\n      <td>38.71</td>\n      <td>336</td>\n      <td>2</td>\n      <td>0.60</td>\n      <td>330127</td>\n      <td>3308243103</td>\n      <td>0</td>\n      <td>1.0</td>\n      <td>NaN</td>\n      <td>NaN</td>\n      <td>NaN</td>\n    </tr>\n    <tr>\n      <th>13</th>\n      <td>X336（双金线）诸暨、金沙方向K20+160</td>\n      <td>杭州</td>\n      <td>富阳</td>\n      <td>绍兴</td>\n      <td>诸暨</td>\n      <td>31</td>\n      <td>31</td>\n      <td>100.00</td>\n      <td>16320</td>\n      <td>68</td>\n      <td>0.42</td>\n      <td>330183</td>\n      <td>330681_SJXK20+160</td>\n      <td>0</td>\n      <td>NaN</td>\n      <td>NaN</td>\n      <td>NaN</td>\n      <td>NaN</td>\n    </tr>\n    <tr>\n      <th>14</th>\n      <td>G329（舟鲁线）余姚方向K246+376</td>\n      <td>宁波</td>\n      <td>余姚</td>\n      <td>绍兴</td>\n      <td>上虞</td>\n      <td>31</td>\n      <td>31</td>\n      <td>100.00</td>\n      <td>51443</td>\n      <td>144</td>\n      <td>0.28</td>\n      <td>330281</td>\n      <td>X5050604314502</td>\n      <td>1</td>\n      <td>27.0</td>\n      <td>14.0</td>\n      <td>1.0</td>\n      <td>NaN</td>\n    </tr>\n    <tr>\n      <th>15</th>\n      <td>S309（江拔线沙溪） K39+800双向</td>\n      <td>宁波</td>\n      <td>奉化</td>\n      <td>绍兴</td>\n      <td>新昌</td>\n      <td>31</td>\n      <td>0</td>\n      <td>0.00</td>\n      <td>0</td>\n      <td>0</td>\n      <td>0.00</td>\n      <td>330283</td>\n      <td>S3090624314501</td>\n      <td>1</td>\n      <td>NaN</td>\n      <td>NaN</td>\n      <td>NaN</td>\n      <td>NaN</td>\n    </tr>\n    <tr>\n      <th>16</th>\n      <td>S333（六东线）青田、温州方向K35+600</td>\n      <td>温州</td>\n      <td>永嘉</td>\n      <td>丽水</td>\n      <td>青田</td>\n      <td>31</td>\n      <td>31</td>\n      <td>100.00</td>\n      <td>5537</td>\n      <td>50</td>\n      <td>0.90</td>\n      <td>330324</td>\n      <td>3311213103</td>\n      <td>1</td>\n      <td>NaN</td>\n      <td>NaN</td>\n      <td>NaN</td>\n      <td>NaN</td>\n    </tr>\n    <tr>\n      <th>17</th>\n      <td>G330（洞合线）青田、温州方向K130+600</td>\n      <td>温州</td>\n      <td>永嘉</td>\n      <td>丽水</td>\n      <td>青田</td>\n      <td>31</td>\n      <td>16</td>\n      <td>51.61</td>\n      <td>7222</td>\n      <td>0</td>\n      <td>0.00</td>\n      <td>330324</td>\n      <td>331121_G330K44+800Ms</td>\n      <td>1</td>\n      <td>NaN</td>\n      <td>NaN</td>\n      <td>NaN</td>\n      <td>NaN</td>\n    </tr>\n    <tr>\n      <th>18</th>\n      <td>G104（京岚线）K1803+750M温岭方向</td>\n      <td>温州</td>\n      <td>乐清</td>\n      <td>台州</td>\n      <td>温岭</td>\n      <td>31</td>\n      <td>31</td>\n      <td>100.00</td>\n      <td>34875</td>\n      <td>15</td>\n      <td>0.04</td>\n      <td>330382</td>\n      <td>3310813111</td>\n      <td>1</td>\n      <td>1.0</td>\n      <td>NaN</td>\n      <td>NaN</td>\n      <td>NaN</td>\n    </tr>\n    <tr>\n      <th>19</th>\n      <td>X009（湖盐线）桐乡方向 K37+100</td>\n      <td>嘉兴</td>\n      <td>海盐</td>\n      <td>湖州</td>\n      <td>南浔</td>\n      <td>31</td>\n      <td>31</td>\n      <td>100.00</td>\n      <td>41989</td>\n      <td>181</td>\n      <td>0.43</td>\n      <td>330424</td>\n      <td>3305033118</td>\n      <td>1</td>\n      <td>1.0</td>\n      <td>1.0</td>\n      <td>2.0</td>\n      <td>NaN</td>\n    </tr>\n    <tr>\n      <th>20</th>\n      <td>Y024 (练悦线) 桐乡方向K7+630</td>\n      <td>嘉兴</td>\n      <td>桐乡</td>\n      <td>湖州</td>\n      <td>南浔</td>\n      <td>31</td>\n      <td>27</td>\n      <td>87.10</td>\n      <td>2934</td>\n      <td>0</td>\n      <td>0.00</td>\n      <td>330483</td>\n      <td>3305033116</td>\n      <td>1</td>\n      <td>NaN</td>\n      <td>NaN</td>\n      <td>NaN</td>\n      <td>NaN</td>\n    </tr>\n    <tr>\n      <th>21</th>\n      <td>X032 (浔乌线) 南浔方向K9+850</td>\n      <td>嘉兴</td>\n      <td>桐乡</td>\n      <td>湖州</td>\n      <td>南浔</td>\n      <td>31</td>\n      <td>31</td>\n      <td>100.00</td>\n      <td>5948</td>\n      <td>1</td>\n      <td>0.02</td>\n      <td>330483</td>\n      <td>3305033111</td>\n      <td>0</td>\n      <td>NaN</td>\n      <td>NaN</td>\n      <td>NaN</td>\n      <td>NaN</td>\n    </tr>\n    <tr>\n      <th>22</th>\n      <td>X111（崇新线）新市方向K0+170</td>\n      <td>湖州</td>\n      <td>德清</td>\n      <td>嘉兴</td>\n      <td>桐乡</td>\n      <td>31</td>\n      <td>31</td>\n      <td>100.00</td>\n      <td>108337</td>\n      <td>173</td>\n      <td>0.16</td>\n      <td>330521</td>\n      <td>3304833106</td>\n      <td>0</td>\n      <td>1.0</td>\n      <td>NaN</td>\n      <td>NaN</td>\n      <td>NaN</td>\n    </tr>\n    <tr>\n      <th>23</th>\n      <td>X111（崇新线）崇福方向K16+570</td>\n      <td>湖州</td>\n      <td>德清</td>\n      <td>嘉兴</td>\n      <td>桐乡</td>\n      <td>31</td>\n      <td>31</td>\n      <td>100.00</td>\n      <td>98164</td>\n      <td>263</td>\n      <td>0.27</td>\n      <td>330521</td>\n      <td>3304833107</td>\n      <td>1</td>\n      <td>4.0</td>\n      <td>4.0</td>\n      <td>NaN</td>\n      <td>NaN</td>\n    </tr>\n    <tr>\n      <th>24</th>\n      <td>G235（新海线）安吉方向K614+480</td>\n      <td>湖州</td>\n      <td>安吉</td>\n      <td>杭州</td>\n      <td>余杭</td>\n      <td>31</td>\n      <td>25</td>\n      <td>80.65</td>\n      <td>31423</td>\n      <td>829</td>\n      <td>2.64</td>\n      <td>330523</td>\n      <td>3301103104</td>\n      <td>1</td>\n      <td>3.0</td>\n      <td>2.0</td>\n      <td>7.0</td>\n      <td>NaN</td>\n    </tr>\n    <tr>\n      <th>25</th>\n      <td>G329 舟鲁线K225+000余姚方向</td>\n      <td>绍兴</td>\n      <td>上虞</td>\n      <td>宁波</td>\n      <td>余姚</td>\n      <td>31</td>\n      <td>9</td>\n      <td>29.03</td>\n      <td>2707</td>\n      <td>22</td>\n      <td>0.81</td>\n      <td>330604</td>\n      <td>G3291700010281</td>\n      <td>1</td>\n      <td>1.0</td>\n      <td>NaN</td>\n      <td>1.0</td>\n      <td>NaN</td>\n    </tr>\n    <tr>\n      <th>26</th>\n      <td>S319（甬余线）宁波方向K57+900</td>\n      <td>绍兴</td>\n      <td>上虞</td>\n      <td>宁波</td>\n      <td>余姚</td>\n      <td>31</td>\n      <td>11</td>\n      <td>35.48</td>\n      <td>2593</td>\n      <td>28</td>\n      <td>1.08</td>\n      <td>330604</td>\n      <td>S3191700050281</td>\n      <td>1</td>\n      <td>NaN</td>\n      <td>NaN</td>\n      <td>NaN</td>\n      <td>NaN</td>\n    </tr>\n    <tr>\n      <th>27</th>\n      <td>X103（三益线）绍兴滨海、萧山方向K40+000</td>\n      <td>绍兴</td>\n      <td>上虞</td>\n      <td>杭州</td>\n      <td>萧山</td>\n      <td>31</td>\n      <td>30</td>\n      <td>96.77</td>\n      <td>72014</td>\n      <td>1</td>\n      <td>0.00</td>\n      <td>330604</td>\n      <td>330109_SYXK40+000</td>\n      <td>0</td>\n      <td>NaN</td>\n      <td>NaN</td>\n      <td>NaN</td>\n      <td>NaN</td>\n    </tr>\n    <tr>\n      <th>28</th>\n      <td>G329 舟鲁线K206+200余姚方向</td>\n      <td>绍兴</td>\n      <td>上虞</td>\n      <td>宁波</td>\n      <td>余姚</td>\n      <td>31</td>\n      <td>4</td>\n      <td>12.90</td>\n      <td>2373</td>\n      <td>5</td>\n      <td>0.21</td>\n      <td>330604</td>\n      <td>X2311700280281</td>\n      <td>1</td>\n      <td>NaN</td>\n      <td>NaN</td>\n      <td>NaN</td>\n      <td>NaN</td>\n    </tr>\n    <tr>\n      <th>29</th>\n      <td>S309（江拔线）宁波方向K22+700</td>\n      <td>绍兴</td>\n      <td>新昌</td>\n      <td>宁波</td>\n      <td>奉化</td>\n      <td>31</td>\n      <td>30</td>\n      <td>96.77</td>\n      <td>340</td>\n      <td>5</td>\n      <td>1.47</td>\n      <td>330624</td>\n      <td>S3091700100283</td>\n      <td>0</td>\n      <td>NaN</td>\n      <td>NaN</td>\n      <td>NaN</td>\n      <td>NaN</td>\n    </tr>\n    <tr>\n      <th>30</th>\n      <td>X141（塘湄线）萧山方向K32+000</td>\n      <td>绍兴</td>\n      <td>诸暨</td>\n      <td>杭州</td>\n      <td>萧山</td>\n      <td>31</td>\n      <td>30</td>\n      <td>96.77</td>\n      <td>42699</td>\n      <td>29</td>\n      <td>0.07</td>\n      <td>330681</td>\n      <td>330109_03SK32+000</td>\n      <td>1</td>\n      <td>4.0</td>\n      <td>NaN</td>\n      <td>NaN</td>\n      <td>NaN</td>\n    </tr>\n    <tr>\n      <th>31</th>\n      <td>G235（新海线）诸暨、萧山方向K739+800</td>\n      <td>绍兴</td>\n      <td>诸暨</td>\n      <td>杭州</td>\n      <td>萧山</td>\n      <td>31</td>\n      <td>31</td>\n      <td>100.00</td>\n      <td>56384</td>\n      <td>5</td>\n      <td>0.01</td>\n      <td>330681</td>\n      <td>330109_G235K739+800</td>\n      <td>1</td>\n      <td>NaN</td>\n      <td>NaN</td>\n      <td>NaN</td>\n      <td>NaN</td>\n    </tr>\n    <tr>\n      <th>32</th>\n      <td>G527 象义线 K218+380M</td>\n      <td>绍兴</td>\n      <td>诸暨</td>\n      <td>金华</td>\n      <td>东阳</td>\n      <td>31</td>\n      <td>30</td>\n      <td>96.77</td>\n      <td>31248</td>\n      <td>35</td>\n      <td>0.11</td>\n      <td>330681</td>\n      <td>JHDYS3100003</td>\n      <td>0</td>\n      <td>NaN</td>\n      <td>NaN</td>\n      <td>NaN</td>\n      <td>NaN</td>\n    </tr>\n    <tr>\n      <th>33</th>\n      <td>S315（兰贺线）龙游、金华方向K27+700</td>\n      <td>金华</td>\n      <td>婺城</td>\n      <td>衢州</td>\n      <td>龙游</td>\n      <td>31</td>\n      <td>31</td>\n      <td>100.00</td>\n      <td>83062</td>\n      <td>237</td>\n      <td>0.29</td>\n      <td>330702</td>\n      <td>330825_S315K27+700</td>\n      <td>0</td>\n      <td>1.0</td>\n      <td>1.0</td>\n      <td>NaN</td>\n      <td>NaN</td>\n    </tr>\n    <tr>\n      <th>34</th>\n      <td>G235（新海线）海丰、新沂方向K960+300</td>\n      <td>金华</td>\n      <td>武义</td>\n      <td>丽水</td>\n      <td>松阳</td>\n      <td>31</td>\n      <td>9</td>\n      <td>29.03</td>\n      <td>2310</td>\n      <td>1</td>\n      <td>0.04</td>\n      <td>330723</td>\n      <td>331124_S220K85+200M</td>\n      <td>1</td>\n      <td>3.0</td>\n      <td>1.0</td>\n      <td>NaN</td>\n      <td>NaN</td>\n    </tr>\n    <tr>\n      <th>35</th>\n      <td>X610（白章线）新安江、兰溪方向K53+200</td>\n      <td>金华</td>\n      <td>兰溪</td>\n      <td>杭州</td>\n      <td>建德</td>\n      <td>31</td>\n      <td>20</td>\n      <td>64.52</td>\n      <td>3410</td>\n      <td>13</td>\n      <td>0.38</td>\n      <td>330781</td>\n      <td>3301823102</td>\n      <td>2</td>\n      <td>NaN</td>\n      <td>NaN</td>\n      <td>NaN</td>\n      <td>NaN</td>\n    </tr>\n    <tr>\n      <th>36</th>\n      <td>G330（洞合线）兰溪方向K377+000</td>\n      <td>金华</td>\n      <td>兰溪</td>\n      <td>杭州</td>\n      <td>建德</td>\n      <td>31</td>\n      <td>20</td>\n      <td>64.52</td>\n      <td>14707</td>\n      <td>7</td>\n      <td>0.05</td>\n      <td>330781</td>\n      <td>3301823101</td>\n      <td>3</td>\n      <td>NaN</td>\n      <td>NaN</td>\n      <td>NaN</td>\n      <td>NaN</td>\n    </tr>\n    <tr>\n      <th>37</th>\n      <td>G527（嵊义线）嵊州方向K31+300</td>\n      <td>金华</td>\n      <td>东阳</td>\n      <td>绍兴</td>\n      <td>嵊州</td>\n      <td>31</td>\n      <td>31</td>\n      <td>100.00</td>\n      <td>15583</td>\n      <td>1</td>\n      <td>0.01</td>\n      <td>330783</td>\n      <td>S310K313001021</td>\n      <td>1</td>\n      <td>NaN</td>\n      <td>NaN</td>\n      <td>NaN</td>\n      <td>NaN</td>\n    </tr>\n    <tr>\n      <th>38</th>\n      <td>X334（诸安线）安华、诸暨方向K10+370</td>\n      <td>金华</td>\n      <td>东阳</td>\n      <td>绍兴</td>\n      <td>诸暨</td>\n      <td>31</td>\n      <td>19</td>\n      <td>61.29</td>\n      <td>28095</td>\n      <td>544</td>\n      <td>1.94</td>\n      <td>330783</td>\n      <td>330681_X334K10+330</td>\n      <td>1</td>\n      <td>NaN</td>\n      <td>NaN</td>\n      <td>NaN</td>\n      <td>NaN</td>\n    </tr>\n    <tr>\n      <th>39</th>\n      <td>S211（诸东线）诸暨、东阳方向K29+050</td>\n      <td>金华</td>\n      <td>东阳</td>\n      <td>绍兴</td>\n      <td>诸暨</td>\n      <td>31</td>\n      <td>23</td>\n      <td>74.19</td>\n      <td>5809</td>\n      <td>261</td>\n      <td>4.49</td>\n      <td>330783</td>\n      <td>330681_S211K29+050</td>\n      <td>0</td>\n      <td>NaN</td>\n      <td>NaN</td>\n      <td>NaN</td>\n      <td>NaN</td>\n    </tr>\n    <tr>\n      <th>40</th>\n      <td>S305（富衢线）衢州、长林方向K153＋450</td>\n      <td>衢州</td>\n      <td>衢江</td>\n      <td>杭州</td>\n      <td>建德</td>\n      <td>31</td>\n      <td>20</td>\n      <td>64.52</td>\n      <td>2015</td>\n      <td>0</td>\n      <td>0.00</td>\n      <td>330803</td>\n      <td>3301820009</td>\n      <td>0</td>\n      <td>NaN</td>\n      <td>NaN</td>\n      <td>NaN</td>\n      <td>NaN</td>\n    </tr>\n    <tr>\n      <th>41</th>\n      <td>X724（淳开线）千岛湖方向K68+240</td>\n      <td>衢州</td>\n      <td>开化</td>\n      <td>杭州</td>\n      <td>淳安</td>\n      <td>31</td>\n      <td>31</td>\n      <td>100.00</td>\n      <td>1235</td>\n      <td>25</td>\n      <td>2.02</td>\n      <td>330824</td>\n      <td>330127_CKGLK68+240</td>\n      <td>0</td>\n      <td>1.0</td>\n      <td>1.0</td>\n      <td>NaN</td>\n      <td>NaN</td>\n    </tr>\n    <tr>\n      <th>42</th>\n      <td>S222（龙丽线）丽水方向K61+900</td>\n      <td>衢州</td>\n      <td>龙游</td>\n      <td>丽水</td>\n      <td>遂昌</td>\n      <td>31</td>\n      <td>30</td>\n      <td>96.77</td>\n      <td>32228</td>\n      <td>194</td>\n      <td>0.60</td>\n      <td>330825</td>\n      <td>331123_S222k61+876</td>\n      <td>1</td>\n      <td>NaN</td>\n      <td>NaN</td>\n      <td>NaN</td>\n      <td>NaN</td>\n    </tr>\n    <tr>\n      <th>43</th>\n      <td>S315（315省道）龙游方向K16+300</td>\n      <td>衢州</td>\n      <td>龙游</td>\n      <td>金华</td>\n      <td>婺城</td>\n      <td>31</td>\n      <td>7</td>\n      <td>22.58</td>\n      <td>7</td>\n      <td>0</td>\n      <td>0.00</td>\n      <td>330825</td>\n      <td>JHWCS3150001</td>\n      <td>1</td>\n      <td>NaN</td>\n      <td>NaN</td>\n      <td>NaN</td>\n      <td>NaN</td>\n    </tr>\n    <tr>\n      <th>44</th>\n      <td>S214（甬临线）台州方向K96+200</td>\n      <td>台州</td>\n      <td>三门</td>\n      <td>宁波</td>\n      <td>宁海</td>\n      <td>31</td>\n      <td>23</td>\n      <td>74.19</td>\n      <td>4042</td>\n      <td>27</td>\n      <td>0.67</td>\n      <td>331022</td>\n      <td>S2141700050226</td>\n      <td>0</td>\n      <td>NaN</td>\n      <td>NaN</td>\n      <td>NaN</td>\n      <td>NaN</td>\n    </tr>\n    <tr>\n      <th>45</th>\n      <td>S223（仙清线）永嘉方向105+450</td>\n      <td>台州</td>\n      <td>仙居</td>\n      <td>温州</td>\n      <td>永嘉</td>\n      <td>31</td>\n      <td>31</td>\n      <td>100.00</td>\n      <td>16111</td>\n      <td>188</td>\n      <td>1.17</td>\n      <td>331024</td>\n      <td>WZYJ2019082101</td>\n      <td>0</td>\n      <td>NaN</td>\n      <td>NaN</td>\n      <td>NaN</td>\n      <td>NaN</td>\n    </tr>\n    <tr>\n      <th>46</th>\n      <td>G104（京岚线）乐清方向K1821+430</td>\n      <td>台州</td>\n      <td>温岭</td>\n      <td>温州</td>\n      <td>乐清</td>\n      <td>31</td>\n      <td>29</td>\n      <td>93.55</td>\n      <td>43338</td>\n      <td>26</td>\n      <td>0.06</td>\n      <td>331081</td>\n      <td>WZYQ2019061201</td>\n      <td>0</td>\n      <td>NaN</td>\n      <td>NaN</td>\n      <td>NaN</td>\n      <td>NaN</td>\n    </tr>\n    <tr>\n      <th>47</th>\n      <td>G104（京岚线）温州方向K1904+590</td>\n      <td>丽水</td>\n      <td>青田</td>\n      <td>温州</td>\n      <td>鹿城</td>\n      <td>31</td>\n      <td>4</td>\n      <td>12.90</td>\n      <td>2216</td>\n      <td>4</td>\n      <td>0.18</td>\n      <td>331121</td>\n      <td>3303023101</td>\n      <td>1</td>\n      <td>NaN</td>\n      <td>NaN</td>\n      <td>NaN</td>\n      <td>NaN</td>\n    </tr>\n    <tr>\n      <th>48</th>\n      <td>G330（洞合线）温州方向K117+800</td>\n      <td>丽水</td>\n      <td>青田</td>\n      <td>温州</td>\n      <td>鹿城</td>\n      <td>31</td>\n      <td>0</td>\n      <td>0.00</td>\n      <td>0</td>\n      <td>0</td>\n      <td>0.00</td>\n      <td>331121</td>\n      <td>wzlc2018111701</td>\n      <td>1</td>\n      <td>NaN</td>\n      <td>NaN</td>\n      <td>NaN</td>\n      <td>NaN</td>\n    </tr>\n    <tr>\n      <th>49</th>\n      <td>S35（临石线）缙云、永康方向K128+240</td>\n      <td>丽水</td>\n      <td>缙云</td>\n      <td>金华</td>\n      <td>永康</td>\n      <td>31</td>\n      <td>19</td>\n      <td>61.29</td>\n      <td>15801</td>\n      <td>602</td>\n      <td>3.81</td>\n      <td>331122</td>\n      <td>YKLSX20210629</td>\n      <td>0</td>\n      <td>NaN</td>\n      <td>NaN</td>\n      <td>NaN</td>\n      <td>NaN</td>\n    </tr>\n    <tr>\n      <th>50</th>\n      <td>G330（下里溪）金华方向K186+0</td>\n      <td>丽水</td>\n      <td>缙云</td>\n      <td>金华</td>\n      <td>永康</td>\n      <td>31</td>\n      <td>27</td>\n      <td>87.10</td>\n      <td>15824</td>\n      <td>355</td>\n      <td>2.24</td>\n      <td>331122</td>\n      <td>YK20181009002</td>\n      <td>0</td>\n      <td>NaN</td>\n      <td>NaN</td>\n      <td>NaN</td>\n      <td>NaN</td>\n    </tr>\n    <tr>\n      <th>51</th>\n      <td>G235（新海线）武义、松阳方向K942+250</td>\n      <td>丽水</td>\n      <td>松阳</td>\n      <td>金华</td>\n      <td>武义</td>\n      <td>31</td>\n      <td>31</td>\n      <td>100.00</td>\n      <td>1410</td>\n      <td>0</td>\n      <td>0.00</td>\n      <td>331124</td>\n      <td>JHWYSSX20191217</td>\n      <td>0</td>\n      <td>NaN</td>\n      <td>NaN</td>\n      <td>NaN</td>\n      <td>NaN</td>\n    </tr>\n    <tr>\n      <th>52</th>\n      <td>G235(新海线)泰顺方向K1117+650</td>\n      <td>丽水</td>\n      <td>景宁</td>\n      <td>温州</td>\n      <td>泰顺</td>\n      <td>31</td>\n      <td>0</td>\n      <td>0.00</td>\n      <td>0</td>\n      <td>0</td>\n      <td>0.00</td>\n      <td>331127</td>\n      <td>TS228001</td>\n      <td>1</td>\n      <td>NaN</td>\n      <td>NaN</td>\n      <td>NaN</td>\n      <td>NaN</td>\n    </tr>\n  </tbody>\n</table>\n</div>"
     },
     "execution_count": 31,
     "metadata": {},
     "output_type": "execute_result"
    }
   ],
   "source": [
    "wide_table_31 = pd.merge(wide_table_31, 总重90吨以上汇总, on=['out_station','direction'],\n",
    "                             how='left')\n",
    "wide_table_31 = pd.merge(wide_table_31, 超限100以上汇总, on=['out_station','direction'],\n",
    "                             how='left')\n",
    "wide_table_31 = pd.merge(wide_table_31, 总重100吨以上汇总, on=['out_station','direction'],\n",
    "                             how='left')\n",
    "wide_table_31"
   ],
   "metadata": {
    "collapsed": false,
    "pycharm": {
     "name": "#%%\n"
    }
   }
  },
  {
   "cell_type": "code",
   "execution_count": 32,
   "outputs": [],
   "source": [
    "wide_table_31=wide_table_31.fillna(0)"
   ],
   "metadata": {
    "collapsed": false,
    "pycharm": {
     "name": "#%%\n"
    }
   }
  },
  {
   "cell_type": "code",
   "execution_count": 33,
   "outputs": [],
   "source": [
    "with pd.ExcelWriter(r'F:\\Learn\\工作\\智诚外包\\12月\\市际点数据汇总0111v1.0.0.xlsx') as writer1:\n",
    "            wide_table_31.to_excel(writer1, sheet_name='市际点数据汇总', index=True)"
   ],
   "metadata": {
    "collapsed": false,
    "pycharm": {
     "name": "#%%\n"
    }
   }
  },
  {
   "cell_type": "code",
   "execution_count": 37,
   "outputs": [
    {
     "name": "stderr",
     "output_type": "stream",
     "text": [
      "C:\\Users\\Windows\\AppData\\Local\\Temp\\ipykernel_20452\\2982016471.py:3: SettingWithCopyWarning: \n",
      "A value is trying to be set on a copy of a slice from a DataFrame.\n",
      "Try using .loc[row_indexer,col_indexer] = value instead\n",
      "\n",
      "See the caveats in the documentation: https://pandas.pydata.org/pandas-docs/stable/user_guide/indexing.html#returning-a-view-versus-a-copy\n",
      "  市际点站点明细2['有']=1\n"
     ]
    }
   ],
   "source": [
    "市际点站点 = wide_table_31[['out_station','direction']]\n",
    "市际点站点明细2=市际点站点\n",
    "市际点站点明细2['有']=1"
   ],
   "metadata": {
    "collapsed": false,
    "pycharm": {
     "name": "#%%\n"
    }
   }
  },
  {
   "cell_type": "code",
   "execution_count": 38,
   "outputs": [],
   "source": [
    "总重80吨以上明细 = pd.merge(总重80吨以上明细, 市际点站点明细2, on=['out_station','direction'],\n",
    "                             how='left')\n",
    "总重80吨以上明细=总重80吨以上明细[总重80吨以上明细['有']==1]\n",
    "超限100以上明细 = pd.merge(超限100以上明细, 市际点站点明细2, on=['out_station','direction'],\n",
    "                             how='left')\n",
    "超限100以上明细=超限100以上明细[超限100以上明细['有']==1]"
   ],
   "metadata": {
    "collapsed": false,
    "pycharm": {
     "name": "#%%\n"
    }
   }
  },
  {
   "cell_type": "code",
   "execution_count": 41,
   "outputs": [],
   "source": [
    "wide_table_31.loc[wide_table_31['direction'] == 0, 'direction'] = '上行'\n",
    "wide_table_31.loc[wide_table_31['direction'] == 1, 'direction'] = '下行'\n",
    "总重80吨以上明细.loc[总重80吨以上明细['direction'] == 0, 'direction'] = '上行'\n",
    "总重80吨以上明细.loc[总重80吨以上明细['direction'] == 1, 'direction'] = '下行'\n",
    "超限100以上明细.loc[超限100以上明细['direction'] == 0, 'direction'] = '上行'\n",
    "超限100以上明细.loc[超限100以上明细['direction'] == 1, 'direction'] = '下行'"
   ],
   "metadata": {
    "collapsed": false,
    "pycharm": {
     "name": "#%%\n"
    }
   }
  },
  {
   "cell_type": "code",
   "execution_count": null,
   "outputs": [],
   "source": [],
   "metadata": {
    "collapsed": false,
    "pycharm": {
     "name": "#%%\n"
    }
   }
  },
  {
   "cell_type": "code",
   "execution_count": 42,
   "outputs": [],
   "source": [
    "with pd.ExcelWriter(r'F:\\Learn\\工作\\智诚外包\\12月\\市际点数据汇总0111v1.0.0.xlsx') as writer1:\n",
    "            wide_table_31.to_excel(writer1, sheet_name='市际点数据汇总', index=True)\n",
    "            总重80吨以上明细.to_excel(writer1, sheet_name='总重80吨以上明细', index=True)\n",
    "            超限100以上明细.to_excel(writer1, sheet_name='超限100以上明细', index=True)"
   ],
   "metadata": {
    "collapsed": false,
    "pycharm": {
     "name": "#%%\n"
    }
   }
  },
  {
   "cell_type": "code",
   "execution_count": null,
   "outputs": [],
   "source": [],
   "metadata": {
    "collapsed": false,
    "pycharm": {
     "name": "#%%\n"
    }
   }
  },
  {
   "cell_type": "code",
   "execution_count": 50,
   "outputs": [],
   "source": [
    "市际点站点明细21 = pd.read_excel(r'C:\\Users\\stayhungary\\Desktop\\data_station2.2.xlsx', sheet_name='df_数据汇总')\n",
    "市际点站点明细22 = pd.read_excel(r'C:\\Users\\stayhungary\\Desktop\\data_station2.2.xlsx', sheet_name='Sheet1')"
   ],
   "metadata": {
    "collapsed": false,
    "pycharm": {
     "name": "#%%\n"
    }
   }
  },
  {
   "cell_type": "code",
   "execution_count": 51,
   "outputs": [],
   "source": [
    "市际点站点明细21 = pd.merge(市际点站点明细21, 市际点站点明细22, on=['station_code'],\n",
    "                             how='right')"
   ],
   "metadata": {
    "collapsed": false,
    "pycharm": {
     "name": "#%%\n"
    }
   }
  },
  {
   "cell_type": "code",
   "execution_count": 52,
   "outputs": [],
   "source": [
    "with pd.ExcelWriter(r'G:\\智诚\\2023日常给出数据\\省通报\\202311\\市际点站点明细22.xlsx') as writer1:\n",
    "            市际点站点明细21.to_excel(writer1, sheet_name='市际点站点明细21', index=True)"
   ],
   "metadata": {
    "collapsed": false,
    "pycharm": {
     "name": "#%%\n"
    }
   }
  },
  {
   "cell_type": "code",
   "execution_count": null,
   "outputs": [],
   "source": [],
   "metadata": {
    "collapsed": false,
    "pycharm": {
     "name": "#%%\n"
    }
   }
  }
 ],
 "metadata": {
  "kernelspec": {
   "display_name": "Python 3",
   "language": "python",
   "name": "python3"
  },
  "language_info": {
   "codemirror_mode": {
    "name": "ipython",
    "version": 2
   },
   "file_extension": ".py",
   "mimetype": "text/x-python",
   "name": "python",
   "nbconvert_exporter": "python",
   "pygments_lexer": "ipython2",
   "version": "2.7.6"
  }
 },
 "nbformat": 4,
 "nbformat_minor": 0
}