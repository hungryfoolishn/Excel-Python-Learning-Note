{
 "cells": [
  {
   "cell_type": "code",
   "execution_count": 1,
   "metadata": {
    "collapsed": true
   },
   "outputs": [
    {
     "name": "stderr",
     "output_type": "stream",
     "text": [
      "F:\\anconda\\lib\\site-packages\\pandas\\compat\\_optional.py:138: UserWarning: Pandas requires version '2.7.0' or newer of 'numexpr' (version '2.6.9' currently installed).\n",
      "  warnings.warn(msg, UserWarning)\n"
     ]
    }
   ],
   "source": [
    "import numpy as np               # linear algebra\n",
    "import pandas as pd              # data processing, CSV file I/O (e.g. pd.read_csv)\n",
    "import matplotlib.pyplot as plt\n",
    "import seaborn as sns\n",
    "import warnings\n",
    "warnings.filterwarnings('ignore')\n",
    "%matplotlib inline\n",
    "from matplotlib.font_manager import FontProperties\n",
    "import matplotlib as mpl"
   ]
  },
  {
   "cell_type": "code",
   "execution_count": 2,
   "outputs": [
    {
     "data": {
      "text/plain": "                           site_name  limit_weight  area_city city  \\\n0                       S302 14K+700          49.0     330100   杭州   \n1                X260（荷禹路）德清方向K7+210          18.0     330100   杭州   \n2  X256（老104国道线）德清方向 原G104 K1430+900          36.0     330100   杭州   \n3              G235（新海线）安吉方向K614+480          36.0     330100   杭州   \n4                      G320 281K+800          36.0     330100   杭州   \n\n      out_station_time   car_no county       out_station  area_county  \\\n0  2023-10-13 06:27:54  浙A3Z773     富阳        3301833110       330183   \n1  2023-10-14 21:59:26  苏DBT638     临平  330110_HYXK7+210       330113   \n2  2023-10-10 05:29:09  浙A28K59     余杭        3301103101       330110   \n3  2023-10-02 01:36:48     拒识无牌     余杭        3301103104       330110   \n4  2023-10-11 11:08:21  浙A6Z171     富阳        3301833108       330183   \n\n   total_weight  \n0         59.70  \n1         18.14  \n2         39.05  \n3         70.70  \n4         52.49  ",
      "text/html": "<div>\n<style scoped>\n    .dataframe tbody tr th:only-of-type {\n        vertical-align: middle;\n    }\n\n    .dataframe tbody tr th {\n        vertical-align: top;\n    }\n\n    .dataframe thead th {\n        text-align: right;\n    }\n</style>\n<table border=\"1\" class=\"dataframe\">\n  <thead>\n    <tr style=\"text-align: right;\">\n      <th></th>\n      <th>site_name</th>\n      <th>limit_weight</th>\n      <th>area_city</th>\n      <th>city</th>\n      <th>out_station_time</th>\n      <th>car_no</th>\n      <th>county</th>\n      <th>out_station</th>\n      <th>area_county</th>\n      <th>total_weight</th>\n    </tr>\n  </thead>\n  <tbody>\n    <tr>\n      <th>0</th>\n      <td>S302 14K+700</td>\n      <td>49.0</td>\n      <td>330100</td>\n      <td>杭州</td>\n      <td>2023-10-13 06:27:54</td>\n      <td>浙A3Z773</td>\n      <td>富阳</td>\n      <td>3301833110</td>\n      <td>330183</td>\n      <td>59.70</td>\n    </tr>\n    <tr>\n      <th>1</th>\n      <td>X260（荷禹路）德清方向K7+210</td>\n      <td>18.0</td>\n      <td>330100</td>\n      <td>杭州</td>\n      <td>2023-10-14 21:59:26</td>\n      <td>苏DBT638</td>\n      <td>临平</td>\n      <td>330110_HYXK7+210</td>\n      <td>330113</td>\n      <td>18.14</td>\n    </tr>\n    <tr>\n      <th>2</th>\n      <td>X256（老104国道线）德清方向 原G104 K1430+900</td>\n      <td>36.0</td>\n      <td>330100</td>\n      <td>杭州</td>\n      <td>2023-10-10 05:29:09</td>\n      <td>浙A28K59</td>\n      <td>余杭</td>\n      <td>3301103101</td>\n      <td>330110</td>\n      <td>39.05</td>\n    </tr>\n    <tr>\n      <th>3</th>\n      <td>G235（新海线）安吉方向K614+480</td>\n      <td>36.0</td>\n      <td>330100</td>\n      <td>杭州</td>\n      <td>2023-10-02 01:36:48</td>\n      <td>拒识无牌</td>\n      <td>余杭</td>\n      <td>3301103104</td>\n      <td>330110</td>\n      <td>70.70</td>\n    </tr>\n    <tr>\n      <th>4</th>\n      <td>G320 281K+800</td>\n      <td>36.0</td>\n      <td>330100</td>\n      <td>杭州</td>\n      <td>2023-10-11 11:08:21</td>\n      <td>浙A6Z171</td>\n      <td>富阳</td>\n      <td>3301833108</td>\n      <td>330183</td>\n      <td>52.49</td>\n    </tr>\n  </tbody>\n</table>\n</div>"
     },
     "execution_count": 2,
     "metadata": {},
     "output_type": "execute_result"
    }
   ],
   "source": [
    "df=pd.read_excel(r'C:\\Users\\stayhungary\\Desktop\\temp_1120.xlsx')\n",
    "df.head()"
   ],
   "metadata": {
    "collapsed": false,
    "pycharm": {
     "name": "#%%\n"
    }
   }
  },
  {
   "cell_type": "code",
   "execution_count": 3,
   "outputs": [
    {
     "data": {
      "text/plain": "                           site_name  limit_weight  area_city city  \\\n0                       S302 14K+700          49.0     330100   杭州   \n1                X260（荷禹路）德清方向K7+210          18.0     330100   杭州   \n2  X256（老104国道线）德清方向 原G104 K1430+900          36.0     330100   杭州   \n3              G235（新海线）安吉方向K614+480          36.0     330100   杭州   \n4                      G320 281K+800          36.0     330100   杭州   \n\n     out_station_time   car_no county       out_station  area_county  \\\n0 2023-10-13 06:27:54  浙A3Z773     富阳        3301833110       330183   \n1 2023-10-14 21:59:26  苏DBT638     临平  330110_HYXK7+210       330113   \n2 2023-10-10 05:29:09  浙A28K59     余杭        3301103101       330110   \n3 2023-10-02 01:36:48     拒识无牌     余杭        3301103104       330110   \n4 2023-10-11 11:08:21  浙A6Z171     富阳        3301833108       330183   \n\n   total_weight 检测时间时  \n0         59.70    06  \n1         18.14    21  \n2         39.05    05  \n3         70.70    01  \n4         52.49    11  ",
      "text/html": "<div>\n<style scoped>\n    .dataframe tbody tr th:only-of-type {\n        vertical-align: middle;\n    }\n\n    .dataframe tbody tr th {\n        vertical-align: top;\n    }\n\n    .dataframe thead th {\n        text-align: right;\n    }\n</style>\n<table border=\"1\" class=\"dataframe\">\n  <thead>\n    <tr style=\"text-align: right;\">\n      <th></th>\n      <th>site_name</th>\n      <th>limit_weight</th>\n      <th>area_city</th>\n      <th>city</th>\n      <th>out_station_time</th>\n      <th>car_no</th>\n      <th>county</th>\n      <th>out_station</th>\n      <th>area_county</th>\n      <th>total_weight</th>\n      <th>检测时间时</th>\n    </tr>\n  </thead>\n  <tbody>\n    <tr>\n      <th>0</th>\n      <td>S302 14K+700</td>\n      <td>49.0</td>\n      <td>330100</td>\n      <td>杭州</td>\n      <td>2023-10-13 06:27:54</td>\n      <td>浙A3Z773</td>\n      <td>富阳</td>\n      <td>3301833110</td>\n      <td>330183</td>\n      <td>59.70</td>\n      <td>06</td>\n    </tr>\n    <tr>\n      <th>1</th>\n      <td>X260（荷禹路）德清方向K7+210</td>\n      <td>18.0</td>\n      <td>330100</td>\n      <td>杭州</td>\n      <td>2023-10-14 21:59:26</td>\n      <td>苏DBT638</td>\n      <td>临平</td>\n      <td>330110_HYXK7+210</td>\n      <td>330113</td>\n      <td>18.14</td>\n      <td>21</td>\n    </tr>\n    <tr>\n      <th>2</th>\n      <td>X256（老104国道线）德清方向 原G104 K1430+900</td>\n      <td>36.0</td>\n      <td>330100</td>\n      <td>杭州</td>\n      <td>2023-10-10 05:29:09</td>\n      <td>浙A28K59</td>\n      <td>余杭</td>\n      <td>3301103101</td>\n      <td>330110</td>\n      <td>39.05</td>\n      <td>05</td>\n    </tr>\n    <tr>\n      <th>3</th>\n      <td>G235（新海线）安吉方向K614+480</td>\n      <td>36.0</td>\n      <td>330100</td>\n      <td>杭州</td>\n      <td>2023-10-02 01:36:48</td>\n      <td>拒识无牌</td>\n      <td>余杭</td>\n      <td>3301103104</td>\n      <td>330110</td>\n      <td>70.70</td>\n      <td>01</td>\n    </tr>\n    <tr>\n      <th>4</th>\n      <td>G320 281K+800</td>\n      <td>36.0</td>\n      <td>330100</td>\n      <td>杭州</td>\n      <td>2023-10-11 11:08:21</td>\n      <td>浙A6Z171</td>\n      <td>富阳</td>\n      <td>3301833108</td>\n      <td>330183</td>\n      <td>52.49</td>\n      <td>11</td>\n    </tr>\n  </tbody>\n</table>\n</div>"
     },
     "execution_count": 3,
     "metadata": {},
     "output_type": "execute_result"
    }
   ],
   "source": [
    "df['out_station_time']= pd.to_datetime(df['out_station_time'])\n",
    "df['检测时间时'] = df['out_station_time'].map(lambda x:x.strftime('%H'))\n",
    "df.head()"
   ],
   "metadata": {
    "collapsed": false,
    "pycharm": {
     "name": "#%%\n"
    }
   }
  },
  {
   "cell_type": "code",
   "execution_count": 4,
   "outputs": [],
   "source": [
    "df['检测时间时'] = df['检测时间时'].astype('int')"
   ],
   "metadata": {
    "collapsed": false,
    "pycharm": {
     "name": "#%%\n"
    }
   }
  },
  {
   "cell_type": "code",
   "execution_count": 5,
   "outputs": [
    {
     "data": {
      "text/plain": "                           site_name  limit_weight  area_city city  \\\n0                       S302 14K+700          49.0     330100   杭州   \n1                X260（荷禹路）德清方向K7+210          18.0     330100   杭州   \n2  X256（老104国道线）德清方向 原G104 K1430+900          36.0     330100   杭州   \n3              G235（新海线）安吉方向K614+480          36.0     330100   杭州   \n4                      G320 281K+800          36.0     330100   杭州   \n\n     out_station_time   car_no county       out_station  area_county  \\\n0 2023-10-13 06:27:54  浙A3Z773     富阳        3301833110       330183   \n1 2023-10-14 21:59:26  苏DBT638     临平  330110_HYXK7+210       330113   \n2 2023-10-10 05:29:09  浙A28K59     余杭        3301103101       330110   \n3 2023-10-02 01:36:48     拒识无牌     余杭        3301103104       330110   \n4 2023-10-11 11:08:21  浙A6Z171     富阳        3301833108       330183   \n\n   total_weight  检测时间时  \n0         59.70      6  \n1         18.14     21  \n2         39.05      5  \n3         70.70      1  \n4         52.49     11  ",
      "text/html": "<div>\n<style scoped>\n    .dataframe tbody tr th:only-of-type {\n        vertical-align: middle;\n    }\n\n    .dataframe tbody tr th {\n        vertical-align: top;\n    }\n\n    .dataframe thead th {\n        text-align: right;\n    }\n</style>\n<table border=\"1\" class=\"dataframe\">\n  <thead>\n    <tr style=\"text-align: right;\">\n      <th></th>\n      <th>site_name</th>\n      <th>limit_weight</th>\n      <th>area_city</th>\n      <th>city</th>\n      <th>out_station_time</th>\n      <th>car_no</th>\n      <th>county</th>\n      <th>out_station</th>\n      <th>area_county</th>\n      <th>total_weight</th>\n      <th>检测时间时</th>\n    </tr>\n  </thead>\n  <tbody>\n    <tr>\n      <th>0</th>\n      <td>S302 14K+700</td>\n      <td>49.0</td>\n      <td>330100</td>\n      <td>杭州</td>\n      <td>2023-10-13 06:27:54</td>\n      <td>浙A3Z773</td>\n      <td>富阳</td>\n      <td>3301833110</td>\n      <td>330183</td>\n      <td>59.70</td>\n      <td>6</td>\n    </tr>\n    <tr>\n      <th>1</th>\n      <td>X260（荷禹路）德清方向K7+210</td>\n      <td>18.0</td>\n      <td>330100</td>\n      <td>杭州</td>\n      <td>2023-10-14 21:59:26</td>\n      <td>苏DBT638</td>\n      <td>临平</td>\n      <td>330110_HYXK7+210</td>\n      <td>330113</td>\n      <td>18.14</td>\n      <td>21</td>\n    </tr>\n    <tr>\n      <th>2</th>\n      <td>X256（老104国道线）德清方向 原G104 K1430+900</td>\n      <td>36.0</td>\n      <td>330100</td>\n      <td>杭州</td>\n      <td>2023-10-10 05:29:09</td>\n      <td>浙A28K59</td>\n      <td>余杭</td>\n      <td>3301103101</td>\n      <td>330110</td>\n      <td>39.05</td>\n      <td>5</td>\n    </tr>\n    <tr>\n      <th>3</th>\n      <td>G235（新海线）安吉方向K614+480</td>\n      <td>36.0</td>\n      <td>330100</td>\n      <td>杭州</td>\n      <td>2023-10-02 01:36:48</td>\n      <td>拒识无牌</td>\n      <td>余杭</td>\n      <td>3301103104</td>\n      <td>330110</td>\n      <td>70.70</td>\n      <td>1</td>\n    </tr>\n    <tr>\n      <th>4</th>\n      <td>G320 281K+800</td>\n      <td>36.0</td>\n      <td>330100</td>\n      <td>杭州</td>\n      <td>2023-10-11 11:08:21</td>\n      <td>浙A6Z171</td>\n      <td>富阳</td>\n      <td>3301833108</td>\n      <td>330183</td>\n      <td>52.49</td>\n      <td>11</td>\n    </tr>\n  </tbody>\n</table>\n</div>"
     },
     "execution_count": 5,
     "metadata": {},
     "output_type": "execute_result"
    }
   ],
   "source": [
    "df.head()"
   ],
   "metadata": {
    "collapsed": false,
    "pycharm": {
     "name": "#%%\n"
    }
   }
  },
  {
   "cell_type": "code",
   "execution_count": 9,
   "outputs": [
    {
     "data": {
      "text/plain": "                           site_name  limit_weight  area_city city  \\\n0                       S302 14K+700          49.0     330100   杭州   \n1                X260（荷禹路）德清方向K7+210          18.0     330100   杭州   \n2  X256（老104国道线）德清方向 原G104 K1430+900          36.0     330100   杭州   \n3              G235（新海线）安吉方向K614+480          36.0     330100   杭州   \n4                      G320 281K+800          36.0     330100   杭州   \n\n     out_station_time   car_no county       out_station  area_county  \\\n0 2023-10-13 06:27:54  浙A3Z773     富阳        3301833110       330183   \n1 2023-10-14 21:59:26  苏DBT638     临平  330110_HYXK7+210       330113   \n2 2023-10-10 05:29:09  浙A28K59     余杭        3301103101       330110   \n3 2023-10-02 01:36:48     拒识无牌     余杭        3301103104       330110   \n4 2023-10-11 11:08:21  浙A6Z171     富阳        3301833108       330183   \n\n   total_weight  检测时间时    检测时间间隔  \n0         59.70      6    [6, 8)  \n1         18.14     21  [20, 22)  \n2         39.05      5    [4, 6)  \n3         70.70      1    [0, 2)  \n4         52.49     11  [10, 12)  ",
      "text/html": "<div>\n<style scoped>\n    .dataframe tbody tr th:only-of-type {\n        vertical-align: middle;\n    }\n\n    .dataframe tbody tr th {\n        vertical-align: top;\n    }\n\n    .dataframe thead th {\n        text-align: right;\n    }\n</style>\n<table border=\"1\" class=\"dataframe\">\n  <thead>\n    <tr style=\"text-align: right;\">\n      <th></th>\n      <th>site_name</th>\n      <th>limit_weight</th>\n      <th>area_city</th>\n      <th>city</th>\n      <th>out_station_time</th>\n      <th>car_no</th>\n      <th>county</th>\n      <th>out_station</th>\n      <th>area_county</th>\n      <th>total_weight</th>\n      <th>检测时间时</th>\n      <th>检测时间间隔</th>\n    </tr>\n  </thead>\n  <tbody>\n    <tr>\n      <th>0</th>\n      <td>S302 14K+700</td>\n      <td>49.0</td>\n      <td>330100</td>\n      <td>杭州</td>\n      <td>2023-10-13 06:27:54</td>\n      <td>浙A3Z773</td>\n      <td>富阳</td>\n      <td>3301833110</td>\n      <td>330183</td>\n      <td>59.70</td>\n      <td>6</td>\n      <td>[6, 8)</td>\n    </tr>\n    <tr>\n      <th>1</th>\n      <td>X260（荷禹路）德清方向K7+210</td>\n      <td>18.0</td>\n      <td>330100</td>\n      <td>杭州</td>\n      <td>2023-10-14 21:59:26</td>\n      <td>苏DBT638</td>\n      <td>临平</td>\n      <td>330110_HYXK7+210</td>\n      <td>330113</td>\n      <td>18.14</td>\n      <td>21</td>\n      <td>[20, 22)</td>\n    </tr>\n    <tr>\n      <th>2</th>\n      <td>X256（老104国道线）德清方向 原G104 K1430+900</td>\n      <td>36.0</td>\n      <td>330100</td>\n      <td>杭州</td>\n      <td>2023-10-10 05:29:09</td>\n      <td>浙A28K59</td>\n      <td>余杭</td>\n      <td>3301103101</td>\n      <td>330110</td>\n      <td>39.05</td>\n      <td>5</td>\n      <td>[4, 6)</td>\n    </tr>\n    <tr>\n      <th>3</th>\n      <td>G235（新海线）安吉方向K614+480</td>\n      <td>36.0</td>\n      <td>330100</td>\n      <td>杭州</td>\n      <td>2023-10-02 01:36:48</td>\n      <td>拒识无牌</td>\n      <td>余杭</td>\n      <td>3301103104</td>\n      <td>330110</td>\n      <td>70.70</td>\n      <td>1</td>\n      <td>[0, 2)</td>\n    </tr>\n    <tr>\n      <th>4</th>\n      <td>G320 281K+800</td>\n      <td>36.0</td>\n      <td>330100</td>\n      <td>杭州</td>\n      <td>2023-10-11 11:08:21</td>\n      <td>浙A6Z171</td>\n      <td>富阳</td>\n      <td>3301833108</td>\n      <td>330183</td>\n      <td>52.49</td>\n      <td>11</td>\n      <td>[10, 12)</td>\n    </tr>\n  </tbody>\n</table>\n</div>"
     },
     "execution_count": 9,
     "metadata": {},
     "output_type": "execute_result"
    }
   ],
   "source": [
    "# df[\"age_range\"] = pd.cut(x=df[\"age\"],bins=[10, 20, 30, 50, 70, 80, 90])\n",
    "# df[\"score_label\"] = pd.cut(x=df[\"score\"],bins=[0,60,80,100],labels=[\"不及格\",\"良好\",\"优秀\"])\n",
    "age_bins = [0,2,4,6,8,10,12,14,16,18,20,22,24]\n",
    "df['检测时间间隔']= pd.cut(x=df[\"检测时间时\"],bins=age_bins,right=False)\n",
    "df.head()"
   ],
   "metadata": {
    "collapsed": false,
    "pycharm": {
     "name": "#%%\n"
    }
   }
  },
  {
   "cell_type": "code",
   "execution_count": 12,
   "outputs": [
    {
     "data": {
      "text/plain": "                  site_name    检测时间间隔  站点时间间隔数\n0    G104（京岚线）余杭方向K1423+080    [0, 2)        8\n1    G104（京岚线）余杭方向K1423+080    [2, 4)       10\n2    G104（京岚线）余杭方向K1423+080    [4, 6)       23\n3    G104（京岚线）余杭方向K1423+080    [6, 8)        8\n4    G104（京岚线）余杭方向K1423+080   [8, 10)       19\n..                      ...       ...      ...\n619               闲祝线4K+850  [14, 16)      205\n620               闲祝线4K+850  [16, 18)       44\n621               闲祝线4K+850  [18, 20)       82\n622               闲祝线4K+850  [20, 22)      264\n623               闲祝线4K+850  [22, 24)       89\n\n[624 rows x 3 columns]",
      "text/html": "<div>\n<style scoped>\n    .dataframe tbody tr th:only-of-type {\n        vertical-align: middle;\n    }\n\n    .dataframe tbody tr th {\n        vertical-align: top;\n    }\n\n    .dataframe thead th {\n        text-align: right;\n    }\n</style>\n<table border=\"1\" class=\"dataframe\">\n  <thead>\n    <tr style=\"text-align: right;\">\n      <th></th>\n      <th>site_name</th>\n      <th>检测时间间隔</th>\n      <th>站点时间间隔数</th>\n    </tr>\n  </thead>\n  <tbody>\n    <tr>\n      <th>0</th>\n      <td>G104（京岚线）余杭方向K1423+080</td>\n      <td>[0, 2)</td>\n      <td>8</td>\n    </tr>\n    <tr>\n      <th>1</th>\n      <td>G104（京岚线）余杭方向K1423+080</td>\n      <td>[2, 4)</td>\n      <td>10</td>\n    </tr>\n    <tr>\n      <th>2</th>\n      <td>G104（京岚线）余杭方向K1423+080</td>\n      <td>[4, 6)</td>\n      <td>23</td>\n    </tr>\n    <tr>\n      <th>3</th>\n      <td>G104（京岚线）余杭方向K1423+080</td>\n      <td>[6, 8)</td>\n      <td>8</td>\n    </tr>\n    <tr>\n      <th>4</th>\n      <td>G104（京岚线）余杭方向K1423+080</td>\n      <td>[8, 10)</td>\n      <td>19</td>\n    </tr>\n    <tr>\n      <th>...</th>\n      <td>...</td>\n      <td>...</td>\n      <td>...</td>\n    </tr>\n    <tr>\n      <th>619</th>\n      <td>闲祝线4K+850</td>\n      <td>[14, 16)</td>\n      <td>205</td>\n    </tr>\n    <tr>\n      <th>620</th>\n      <td>闲祝线4K+850</td>\n      <td>[16, 18)</td>\n      <td>44</td>\n    </tr>\n    <tr>\n      <th>621</th>\n      <td>闲祝线4K+850</td>\n      <td>[18, 20)</td>\n      <td>82</td>\n    </tr>\n    <tr>\n      <th>622</th>\n      <td>闲祝线4K+850</td>\n      <td>[20, 22)</td>\n      <td>264</td>\n    </tr>\n    <tr>\n      <th>623</th>\n      <td>闲祝线4K+850</td>\n      <td>[22, 24)</td>\n      <td>89</td>\n    </tr>\n  </tbody>\n</table>\n<p>624 rows × 3 columns</p>\n</div>"
     },
     "execution_count": 12,
     "metadata": {},
     "output_type": "execute_result"
    }
   ],
   "source": [
    "站点时间间隔数 = df.groupby(['site_name','检测时间间隔'])['car_no'].count().reset_index(name='站点时间间隔数')\n",
    "站点时间间隔数"
   ],
   "metadata": {
    "collapsed": false,
    "pycharm": {
     "name": "#%%\n"
    }
   }
  },
  {
   "cell_type": "code",
   "execution_count": 14,
   "outputs": [
    {
     "data": {
      "text/plain": "                               site_name  limit_weight  area_city city  \\\n0                           S302 14K+700          49.0     330100   杭州   \n1                    X260（荷禹路）德清方向K7+210          18.0     330100   杭州   \n2      X256（老104国道线）德清方向 原G104 K1430+900          36.0     330100   杭州   \n3                  G235（新海线）安吉方向K614+480          36.0     330100   杭州   \n4                          G320 281K+800          36.0     330100   杭州   \n...                                  ...           ...        ...  ...   \n26622                      G320 281K+800          49.0     330100   杭州   \n26623          X103（三益线）绍兴滨海、萧山方向K40+000          36.0     330100   杭州   \n26624                       S302 14K+700          36.0     330100   杭州   \n26625  X256（老104国道线）德清方向 原G104 K1430+900          27.0     330100   杭州   \n26626             X145（党农线）新湾、萧山方向K9+750          36.0     330100   杭州   \n\n         out_station_time   car_no county        out_station  area_county  \\\n0     2023-10-13 06:27:54  浙A3Z773     富阳         3301833110       330183   \n1     2023-10-14 21:59:26  苏DBT638     临平   330110_HYXK7+210       330113   \n2     2023-10-10 05:29:09  浙A28K59     余杭         3301103101       330110   \n3     2023-10-02 01:36:48     拒识无牌     余杭         3301103104       330110   \n4     2023-10-11 11:08:21  浙A6Z171     富阳         3301833108       330183   \n...                   ...      ...    ...                ...          ...   \n26622 2023-10-07 01:25:14  浙HB2999     富阳         3301833108       330183   \n26623 2023-10-15 13:17:32  浙A9Y711     萧山  330109_SYXK40+000       330109   \n26624 2023-10-12 11:56:08  浙A1W889     富阳         3301833110       330183   \n26625 2023-10-17 15:01:19  浙A56F96     余杭         3301103101       330110   \n26626 2023-10-16 16:07:37  浙A1X388     萧山         3301093104       330109   \n\n       total_weight  检测时间时    检测时间间隔        超限率  \n0             59.70      6    [6, 8)  17.922948  \n1             18.14     21  [20, 22)   0.771775  \n2             39.05      5    [4, 6)   7.810499  \n3             70.70      1    [0, 2)  49.080622  \n4             52.49     11  [10, 12)  31.415508  \n...             ...    ...       ...        ...  \n26622         51.87      1    [0, 2)   5.533063  \n26623         36.05     13  [12, 14)   0.138696  \n26624         43.37     11  [10, 12)  16.993313  \n26625         27.90     15  [14, 16)   3.225806  \n26626         37.15     16  [16, 18)   3.095559  \n\n[26627 rows x 13 columns]",
      "text/html": "<div>\n<style scoped>\n    .dataframe tbody tr th:only-of-type {\n        vertical-align: middle;\n    }\n\n    .dataframe tbody tr th {\n        vertical-align: top;\n    }\n\n    .dataframe thead th {\n        text-align: right;\n    }\n</style>\n<table border=\"1\" class=\"dataframe\">\n  <thead>\n    <tr style=\"text-align: right;\">\n      <th></th>\n      <th>site_name</th>\n      <th>limit_weight</th>\n      <th>area_city</th>\n      <th>city</th>\n      <th>out_station_time</th>\n      <th>car_no</th>\n      <th>county</th>\n      <th>out_station</th>\n      <th>area_county</th>\n      <th>total_weight</th>\n      <th>检测时间时</th>\n      <th>检测时间间隔</th>\n      <th>超限率</th>\n    </tr>\n  </thead>\n  <tbody>\n    <tr>\n      <th>0</th>\n      <td>S302 14K+700</td>\n      <td>49.0</td>\n      <td>330100</td>\n      <td>杭州</td>\n      <td>2023-10-13 06:27:54</td>\n      <td>浙A3Z773</td>\n      <td>富阳</td>\n      <td>3301833110</td>\n      <td>330183</td>\n      <td>59.70</td>\n      <td>6</td>\n      <td>[6, 8)</td>\n      <td>17.922948</td>\n    </tr>\n    <tr>\n      <th>1</th>\n      <td>X260（荷禹路）德清方向K7+210</td>\n      <td>18.0</td>\n      <td>330100</td>\n      <td>杭州</td>\n      <td>2023-10-14 21:59:26</td>\n      <td>苏DBT638</td>\n      <td>临平</td>\n      <td>330110_HYXK7+210</td>\n      <td>330113</td>\n      <td>18.14</td>\n      <td>21</td>\n      <td>[20, 22)</td>\n      <td>0.771775</td>\n    </tr>\n    <tr>\n      <th>2</th>\n      <td>X256（老104国道线）德清方向 原G104 K1430+900</td>\n      <td>36.0</td>\n      <td>330100</td>\n      <td>杭州</td>\n      <td>2023-10-10 05:29:09</td>\n      <td>浙A28K59</td>\n      <td>余杭</td>\n      <td>3301103101</td>\n      <td>330110</td>\n      <td>39.05</td>\n      <td>5</td>\n      <td>[4, 6)</td>\n      <td>7.810499</td>\n    </tr>\n    <tr>\n      <th>3</th>\n      <td>G235（新海线）安吉方向K614+480</td>\n      <td>36.0</td>\n      <td>330100</td>\n      <td>杭州</td>\n      <td>2023-10-02 01:36:48</td>\n      <td>拒识无牌</td>\n      <td>余杭</td>\n      <td>3301103104</td>\n      <td>330110</td>\n      <td>70.70</td>\n      <td>1</td>\n      <td>[0, 2)</td>\n      <td>49.080622</td>\n    </tr>\n    <tr>\n      <th>4</th>\n      <td>G320 281K+800</td>\n      <td>36.0</td>\n      <td>330100</td>\n      <td>杭州</td>\n      <td>2023-10-11 11:08:21</td>\n      <td>浙A6Z171</td>\n      <td>富阳</td>\n      <td>3301833108</td>\n      <td>330183</td>\n      <td>52.49</td>\n      <td>11</td>\n      <td>[10, 12)</td>\n      <td>31.415508</td>\n    </tr>\n    <tr>\n      <th>...</th>\n      <td>...</td>\n      <td>...</td>\n      <td>...</td>\n      <td>...</td>\n      <td>...</td>\n      <td>...</td>\n      <td>...</td>\n      <td>...</td>\n      <td>...</td>\n      <td>...</td>\n      <td>...</td>\n      <td>...</td>\n      <td>...</td>\n    </tr>\n    <tr>\n      <th>26622</th>\n      <td>G320 281K+800</td>\n      <td>49.0</td>\n      <td>330100</td>\n      <td>杭州</td>\n      <td>2023-10-07 01:25:14</td>\n      <td>浙HB2999</td>\n      <td>富阳</td>\n      <td>3301833108</td>\n      <td>330183</td>\n      <td>51.87</td>\n      <td>1</td>\n      <td>[0, 2)</td>\n      <td>5.533063</td>\n    </tr>\n    <tr>\n      <th>26623</th>\n      <td>X103（三益线）绍兴滨海、萧山方向K40+000</td>\n      <td>36.0</td>\n      <td>330100</td>\n      <td>杭州</td>\n      <td>2023-10-15 13:17:32</td>\n      <td>浙A9Y711</td>\n      <td>萧山</td>\n      <td>330109_SYXK40+000</td>\n      <td>330109</td>\n      <td>36.05</td>\n      <td>13</td>\n      <td>[12, 14)</td>\n      <td>0.138696</td>\n    </tr>\n    <tr>\n      <th>26624</th>\n      <td>S302 14K+700</td>\n      <td>36.0</td>\n      <td>330100</td>\n      <td>杭州</td>\n      <td>2023-10-12 11:56:08</td>\n      <td>浙A1W889</td>\n      <td>富阳</td>\n      <td>3301833110</td>\n      <td>330183</td>\n      <td>43.37</td>\n      <td>11</td>\n      <td>[10, 12)</td>\n      <td>16.993313</td>\n    </tr>\n    <tr>\n      <th>26625</th>\n      <td>X256（老104国道线）德清方向 原G104 K1430+900</td>\n      <td>27.0</td>\n      <td>330100</td>\n      <td>杭州</td>\n      <td>2023-10-17 15:01:19</td>\n      <td>浙A56F96</td>\n      <td>余杭</td>\n      <td>3301103101</td>\n      <td>330110</td>\n      <td>27.90</td>\n      <td>15</td>\n      <td>[14, 16)</td>\n      <td>3.225806</td>\n    </tr>\n    <tr>\n      <th>26626</th>\n      <td>X145（党农线）新湾、萧山方向K9+750</td>\n      <td>36.0</td>\n      <td>330100</td>\n      <td>杭州</td>\n      <td>2023-10-16 16:07:37</td>\n      <td>浙A1X388</td>\n      <td>萧山</td>\n      <td>3301093104</td>\n      <td>330109</td>\n      <td>37.15</td>\n      <td>16</td>\n      <td>[16, 18)</td>\n      <td>3.095559</td>\n    </tr>\n  </tbody>\n</table>\n<p>26627 rows × 13 columns</p>\n</div>"
     },
     "execution_count": 14,
     "metadata": {},
     "output_type": "execute_result"
    }
   ],
   "source": [
    "df['超限率']= (df['total_weight']-df['limit_weight'])/df['total_weight']*100\n",
    "df"
   ],
   "metadata": {
    "collapsed": false,
    "pycharm": {
     "name": "#%%\n"
    }
   }
  },
  {
   "cell_type": "code",
   "execution_count": 15,
   "outputs": [
    {
     "data": {
      "text/plain": "                           site_name  limit_weight  area_city city  \\\n0                       S302 14K+700          49.0     330100   杭州   \n1                X260（荷禹路）德清方向K7+210          18.0     330100   杭州   \n2  X256（老104国道线）德清方向 原G104 K1430+900          36.0     330100   杭州   \n3              G235（新海线）安吉方向K614+480          36.0     330100   杭州   \n4                      G320 281K+800          36.0     330100   杭州   \n\n     out_station_time   car_no county       out_station  area_county  \\\n0 2023-10-13 06:27:54  浙A3Z773     富阳        3301833110       330183   \n1 2023-10-14 21:59:26  苏DBT638     临平  330110_HYXK7+210       330113   \n2 2023-10-10 05:29:09  浙A28K59     余杭        3301103101       330110   \n3 2023-10-02 01:36:48     拒识无牌     余杭        3301103104       330110   \n4 2023-10-11 11:08:21  浙A6Z171     富阳        3301833108       330183   \n\n   total_weight  检测时间时    检测时间间隔        超限率     超限率间隔  \n0         59.70      6    [6, 8)  17.922948   [0, 20)  \n1         18.14     21  [20, 22)   0.771775   [0, 20)  \n2         39.05      5    [4, 6)   7.810499   [0, 20)  \n3         70.70      1    [0, 2)  49.080622  [20, 50)  \n4         52.49     11  [10, 12)  31.415508  [20, 50)  ",
      "text/html": "<div>\n<style scoped>\n    .dataframe tbody tr th:only-of-type {\n        vertical-align: middle;\n    }\n\n    .dataframe tbody tr th {\n        vertical-align: top;\n    }\n\n    .dataframe thead th {\n        text-align: right;\n    }\n</style>\n<table border=\"1\" class=\"dataframe\">\n  <thead>\n    <tr style=\"text-align: right;\">\n      <th></th>\n      <th>site_name</th>\n      <th>limit_weight</th>\n      <th>area_city</th>\n      <th>city</th>\n      <th>out_station_time</th>\n      <th>car_no</th>\n      <th>county</th>\n      <th>out_station</th>\n      <th>area_county</th>\n      <th>total_weight</th>\n      <th>检测时间时</th>\n      <th>检测时间间隔</th>\n      <th>超限率</th>\n      <th>超限率间隔</th>\n    </tr>\n  </thead>\n  <tbody>\n    <tr>\n      <th>0</th>\n      <td>S302 14K+700</td>\n      <td>49.0</td>\n      <td>330100</td>\n      <td>杭州</td>\n      <td>2023-10-13 06:27:54</td>\n      <td>浙A3Z773</td>\n      <td>富阳</td>\n      <td>3301833110</td>\n      <td>330183</td>\n      <td>59.70</td>\n      <td>6</td>\n      <td>[6, 8)</td>\n      <td>17.922948</td>\n      <td>[0, 20)</td>\n    </tr>\n    <tr>\n      <th>1</th>\n      <td>X260（荷禹路）德清方向K7+210</td>\n      <td>18.0</td>\n      <td>330100</td>\n      <td>杭州</td>\n      <td>2023-10-14 21:59:26</td>\n      <td>苏DBT638</td>\n      <td>临平</td>\n      <td>330110_HYXK7+210</td>\n      <td>330113</td>\n      <td>18.14</td>\n      <td>21</td>\n      <td>[20, 22)</td>\n      <td>0.771775</td>\n      <td>[0, 20)</td>\n    </tr>\n    <tr>\n      <th>2</th>\n      <td>X256（老104国道线）德清方向 原G104 K1430+900</td>\n      <td>36.0</td>\n      <td>330100</td>\n      <td>杭州</td>\n      <td>2023-10-10 05:29:09</td>\n      <td>浙A28K59</td>\n      <td>余杭</td>\n      <td>3301103101</td>\n      <td>330110</td>\n      <td>39.05</td>\n      <td>5</td>\n      <td>[4, 6)</td>\n      <td>7.810499</td>\n      <td>[0, 20)</td>\n    </tr>\n    <tr>\n      <th>3</th>\n      <td>G235（新海线）安吉方向K614+480</td>\n      <td>36.0</td>\n      <td>330100</td>\n      <td>杭州</td>\n      <td>2023-10-02 01:36:48</td>\n      <td>拒识无牌</td>\n      <td>余杭</td>\n      <td>3301103104</td>\n      <td>330110</td>\n      <td>70.70</td>\n      <td>1</td>\n      <td>[0, 2)</td>\n      <td>49.080622</td>\n      <td>[20, 50)</td>\n    </tr>\n    <tr>\n      <th>4</th>\n      <td>G320 281K+800</td>\n      <td>36.0</td>\n      <td>330100</td>\n      <td>杭州</td>\n      <td>2023-10-11 11:08:21</td>\n      <td>浙A6Z171</td>\n      <td>富阳</td>\n      <td>3301833108</td>\n      <td>330183</td>\n      <td>52.49</td>\n      <td>11</td>\n      <td>[10, 12)</td>\n      <td>31.415508</td>\n      <td>[20, 50)</td>\n    </tr>\n  </tbody>\n</table>\n</div>"
     },
     "execution_count": 15,
     "metadata": {},
     "output_type": "execute_result"
    }
   ],
   "source": [
    "age_bins = [0,20,50,100,500]\n",
    "df['超限率间隔']= pd.cut(x=df[\"超限率\"],bins=age_bins,right=False)\n",
    "df.head()"
   ],
   "metadata": {
    "collapsed": false,
    "pycharm": {
     "name": "#%%\n"
    }
   }
  },
  {
   "cell_type": "code",
   "execution_count": 16,
   "outputs": [
    {
     "data": {
      "text/plain": "                  site_name       超限率间隔  站点超限率间隔数\n0    G104（京岚线）余杭方向K1423+080     [0, 20)       124\n1    G104（京岚线）余杭方向K1423+080    [20, 50)        56\n2    G104（京岚线）余杭方向K1423+080   [50, 100)         0\n3    G104（京岚线）余杭方向K1423+080  [100, 500)         0\n4    G104（京岚线）安吉方向K1423+350     [0, 20)        19\n..                      ...         ...       ...\n203               蒋大线9K+300  [100, 500)         0\n204               闲祝线4K+850     [0, 20)      2004\n205               闲祝线4K+850    [20, 50)       862\n206               闲祝线4K+850   [50, 100)         6\n207               闲祝线4K+850  [100, 500)         0\n\n[208 rows x 3 columns]",
      "text/html": "<div>\n<style scoped>\n    .dataframe tbody tr th:only-of-type {\n        vertical-align: middle;\n    }\n\n    .dataframe tbody tr th {\n        vertical-align: top;\n    }\n\n    .dataframe thead th {\n        text-align: right;\n    }\n</style>\n<table border=\"1\" class=\"dataframe\">\n  <thead>\n    <tr style=\"text-align: right;\">\n      <th></th>\n      <th>site_name</th>\n      <th>超限率间隔</th>\n      <th>站点超限率间隔数</th>\n    </tr>\n  </thead>\n  <tbody>\n    <tr>\n      <th>0</th>\n      <td>G104（京岚线）余杭方向K1423+080</td>\n      <td>[0, 20)</td>\n      <td>124</td>\n    </tr>\n    <tr>\n      <th>1</th>\n      <td>G104（京岚线）余杭方向K1423+080</td>\n      <td>[20, 50)</td>\n      <td>56</td>\n    </tr>\n    <tr>\n      <th>2</th>\n      <td>G104（京岚线）余杭方向K1423+080</td>\n      <td>[50, 100)</td>\n      <td>0</td>\n    </tr>\n    <tr>\n      <th>3</th>\n      <td>G104（京岚线）余杭方向K1423+080</td>\n      <td>[100, 500)</td>\n      <td>0</td>\n    </tr>\n    <tr>\n      <th>4</th>\n      <td>G104（京岚线）安吉方向K1423+350</td>\n      <td>[0, 20)</td>\n      <td>19</td>\n    </tr>\n    <tr>\n      <th>...</th>\n      <td>...</td>\n      <td>...</td>\n      <td>...</td>\n    </tr>\n    <tr>\n      <th>203</th>\n      <td>蒋大线9K+300</td>\n      <td>[100, 500)</td>\n      <td>0</td>\n    </tr>\n    <tr>\n      <th>204</th>\n      <td>闲祝线4K+850</td>\n      <td>[0, 20)</td>\n      <td>2004</td>\n    </tr>\n    <tr>\n      <th>205</th>\n      <td>闲祝线4K+850</td>\n      <td>[20, 50)</td>\n      <td>862</td>\n    </tr>\n    <tr>\n      <th>206</th>\n      <td>闲祝线4K+850</td>\n      <td>[50, 100)</td>\n      <td>6</td>\n    </tr>\n    <tr>\n      <th>207</th>\n      <td>闲祝线4K+850</td>\n      <td>[100, 500)</td>\n      <td>0</td>\n    </tr>\n  </tbody>\n</table>\n<p>208 rows × 3 columns</p>\n</div>"
     },
     "execution_count": 16,
     "metadata": {},
     "output_type": "execute_result"
    }
   ],
   "source": [
    "站点超限率间隔数 = df.groupby(['site_name','超限率间隔'])['car_no'].count().reset_index(name='站点超限率间隔数')\n",
    "站点超限率间隔数"
   ],
   "metadata": {
    "collapsed": false,
    "pycharm": {
     "name": "#%%\n"
    }
   }
  },
  {
   "cell_type": "code",
   "execution_count": 17,
   "outputs": [],
   "source": [
    "with pd.ExcelWriter(r'C:\\Users\\stayhungary\\Desktop\\杭州10月站点超限数据分析.xlsx') as writer1:\n",
    "        # data1.to_excel(writer1, sheet_name='sql_80吨以上交通现场', index=True)\n",
    "        站点时间间隔数.to_excel(writer1, sheet_name='站点时间间隔数', index=True)\n",
    "        站点超限率间隔数.to_excel(writer1, sheet_name='站点超限率间隔数', index=True)"
   ],
   "metadata": {
    "collapsed": false,
    "pycharm": {
     "name": "#%%\n"
    }
   }
  }
 ],
 "metadata": {
  "kernelspec": {
   "display_name": "Python 3",
   "language": "python",
   "name": "python3"
  },
  "language_info": {
   "codemirror_mode": {
    "name": "ipython",
    "version": 2
   },
   "file_extension": ".py",
   "mimetype": "text/x-python",
   "name": "python",
   "nbconvert_exporter": "python",
   "pygments_lexer": "ipython2",
   "version": "2.7.6"
  }
 },
 "nbformat": 4,
 "nbformat_minor": 0
}