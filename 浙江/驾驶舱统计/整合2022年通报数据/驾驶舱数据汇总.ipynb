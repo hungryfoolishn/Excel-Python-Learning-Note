{
 "cells": [
  {
   "cell_type": "code",
   "execution_count": 1,
   "outputs": [
    {
     "name": "stderr",
     "output_type": "stream",
     "text": [
      "F:\\anconda\\lib\\site-packages\\pandas\\compat\\_optional.py:138: UserWarning: Pandas requires version '2.7.0' or newer of 'numexpr' (version '2.6.9' currently installed).\n",
      "  warnings.warn(msg, UserWarning)\n"
     ]
    }
   ],
   "source": [
    "import pandas as pd\n",
    "import numpy as np\n",
    "from pivottablejs import pivot_ui\n"
   ],
   "metadata": {
    "collapsed": false,
    "pycharm": {
     "name": "#%%\n"
    }
   }
  },
  {
   "cell_type": "markdown",
   "source": [
    "月报原始数据"
   ],
   "metadata": {
    "collapsed": false
   }
  },
  {
   "cell_type": "code",
   "execution_count": 2,
   "outputs": [],
   "source": [
    "df_数据汇总 = pd.read_excel(r'G:\\智诚\\2023日常给出数据\\汇总数据\\省通报全部月汇总.xlsx',sheet_name='7-9')\n",
    "\n",
    "df_数据汇总地市 = df_数据汇总.groupby(['地市编码','地市','区县编码','区县']).sum().reset_index()\n",
    "with pd.ExcelWriter(r'C:\\Users\\stayhungary\\Desktop\\3季度.xlsx') as writer1:\n",
    "    df_数据汇总地市.to_excel(writer1, sheet_name='地市', index=True)"
   ],
   "metadata": {
    "collapsed": false,
    "pycharm": {
     "name": "#%%\n"
    }
   }
  },
  {
   "cell_type": "markdown",
   "source": [
    "湖州合规率分析"
   ],
   "metadata": {
    "collapsed": false
   }
  },
  {
   "cell_type": "code",
   "execution_count": 7,
   "outputs": [],
   "source": [
    "df_数据汇总 = pd.read_excel(r'G:\\智诚\\2023日常给出数据\\其他任务\\湖州截至7月合规率分析.xlsx',sheet_name='超限')\n",
    "df_数据汇总1 = pd.read_excel(r'G:\\智诚\\2023日常给出数据\\其他任务\\湖州截至7月合规率分析.xlsx',sheet_name='案件')\n",
    "df_数据汇总= pd.merge(df_数据汇总,df_数据汇总1,on=['record_code'],\n",
    "                                     how='left')\n",
    "\n",
    "with pd.ExcelWriter(r'C:\\Users\\stayhungary\\Desktop\\工作簿0905.xlsx') as writer1:\n",
    "    df_数据汇总.to_excel(writer1, sheet_name='区县', index=True)\n"
   ],
   "metadata": {
    "collapsed": false,
    "pycharm": {
     "name": "#%%\n"
    }
   }
  },
  {
   "cell_type": "markdown",
   "source": [],
   "metadata": {
    "collapsed": false
   }
  },
  {
   "cell_type": "code",
   "execution_count": 9,
   "outputs": [],
   "source": [
    "df_数据汇总 = pd.read_excel(r'C:\\Users\\stayhungary\\Desktop\\通报底层数据统计 (9).xls',sheet_name='案件')\n",
    "df_数据汇总1 = pd.read_excel(r'C:\\Users\\stayhungary\\Desktop\\通报底层数据统计 (9).xls',sheet_name='80')\n",
    "df_数据汇总2 = pd.read_excel(r'C:\\Users\\stayhungary\\Desktop\\通报底层数据统计 (9).xls',sheet_name='处罚')\n",
    "df_数据汇总= pd.merge(df_数据汇总,df_数据汇总1,on=['区县编码'],\n",
    "                                     how='left')\n",
    "df_数据汇总= pd.merge(df_数据汇总,df_数据汇总2,on=['区县编码'],\n",
    "                                     how='left')\n",
    "with pd.ExcelWriter(r'C:\\Users\\stayhungary\\Desktop\\工作簿09066.xlsx') as writer1:\n",
    "    df_数据汇总.to_excel(writer1, sheet_name='区县', index=True)"
   ],
   "metadata": {
    "collapsed": false,
    "pycharm": {
     "name": "#%%\n"
    }
   }
  },
  {
   "cell_type": "code",
   "execution_count": 15,
   "outputs": [],
   "source": [
    "df_数据汇总 = pd.read_excel(r'G:\\智诚\\2023日常给出数据\\基础表\\basic.xlsx',sheet_name='t_sys_station')\n",
    "df_数据汇总1 = pd.read_excel(r'G:\\智诚\\2023日常给出数据\\基础表\\basic.xlsx',sheet_name='t_code_area')\n",
    "\n",
    "df_数据汇总= pd.merge(df_数据汇总,df_数据汇总1, left_on=['area_county'],right_on=['county_code'],\n",
    "                                     how='left')\n",
    "df_数据汇总 = df_数据汇总[(df_数据汇总.station_type == 31)]\n",
    "df_数据汇总 = pd.DataFrame(df_数据汇总, columns=['station_name','station_code','station_status','stake_mark','county','lon','lat'])\n",
    "with pd.ExcelWriter(r'C:\\Users\\stayhungary\\Desktop\\工作簿1.xlsx') as writer1:\n",
    "    df_数据汇总.to_excel(writer1, sheet_name='地市', index=True)"
   ],
   "metadata": {
    "collapsed": false,
    "pycharm": {
     "name": "#%%\n"
    }
   }
  },
  {
   "cell_type": "code",
   "execution_count": 2,
   "outputs": [
    {
     "name": "stdout",
     "output_type": "stream",
     "text": [
      "        序号  地市  区县                     站点名称                 检测时间     车牌号码  \\\n",
      "0        1  杭州  萧山  X103（三益线）萧山、瓜沥方向K20+500  2023-07-04 02:00:58  浙J9289警   \n",
      "1        2  杭州  萧山  X103（三益线）萧山、瓜沥方向K20+500  2023-07-31 02:44:54  浙DZ3960   \n",
      "2        5  杭州  萧山   X135（城红线）红山、坎山方向K4+000  2023-07-13 02:33:23  皖C81459   \n",
      "3        7  杭州  萧山     X141（塘湄线）萧山方向K32+000  2023-07-07 21:02:39  皖SF0858   \n",
      "4        9  杭州  萧山   X145（党农线）新湾、萧山方向K9+750  2023-07-30 02:39:57  浙DC5537   \n",
      "...    ...  ..  ..                      ...                  ...      ...   \n",
      "2045  3799  丽水  松阳    G235（新海线）新沂方向K974+450  2023-07-22 18:51:03      无车牌   \n",
      "2046  3800  丽水  松阳     S222（龙丽线）丽水方向K67+100  2023-07-19 07:25:24  赣CCA775   \n",
      "2047  3801  丽水  松阳     S222（龙丽线）丽水方向K67+100  2023-07-22 06:49:23  赣CCA775   \n",
      "2048  3814  丽水  松阳     S222（龙丽线）丽水方向K67+100  2023-07-12 01:25:17  皖SD4259   \n",
      "2049  3815  丽水  松阳     S222（龙丽线）丽水方向K67+100  2023-07-06 18:04:10  皖SG0282   \n",
      "\n",
      "          总重  Unnamed: 7    限重     超重  ...  photo2_x  photo3_x photo4 photo5  \\\n",
      "0      87.10     82.7450  49.0  38.10  ...       NaN       NaN    NaN    NaN   \n",
      "1      88.95     84.5025  49.0  39.95  ...       NaN       NaN    NaN    NaN   \n",
      "2      86.85     82.5075  49.0  37.85  ...       NaN       NaN    NaN    NaN   \n",
      "3      87.50     83.1250  49.0  38.50  ...       NaN       NaN    NaN    NaN   \n",
      "4      88.75     84.3125  49.0  39.75  ...       NaN       NaN    NaN    NaN   \n",
      "...      ...         ...   ...    ...  ...       ...       ...    ...    ...   \n",
      "2045  118.66    112.7270  49.0  69.66  ...       NaN       NaN    NaN    NaN   \n",
      "2046   93.40     88.7300  49.0  44.40  ...       NaN       NaN    NaN    NaN   \n",
      "2047   94.65     89.9175  49.0  45.65  ...       NaN       NaN    NaN    NaN   \n",
      "2048   85.25     80.9875  49.0  36.25  ...       NaN       NaN    NaN    NaN   \n",
      "2049   86.60     82.2700  49.0  37.60  ...       NaN       NaN    NaN    NaN   \n",
      "\n",
      "     vedio_x car_no_province photo1_y photo2_y photo3_y vedio_y  \n",
      "0        NaN             NaN      NaN      NaN      NaN     NaN  \n",
      "1        NaN             NaN      NaN      NaN      NaN     NaN  \n",
      "2        NaN             NaN      NaN      NaN      NaN     NaN  \n",
      "3        NaN             NaN      NaN      NaN      NaN     NaN  \n",
      "4        NaN             NaN      NaN      NaN      NaN     NaN  \n",
      "...      ...             ...      ...      ...      ...     ...  \n",
      "2045     NaN             NaN      NaN      NaN      NaN     NaN  \n",
      "2046     NaN             NaN      NaN      NaN      NaN     NaN  \n",
      "2047     NaN             NaN      NaN      NaN      NaN     NaN  \n",
      "2048     NaN             NaN      NaN      NaN      NaN     NaN  \n",
      "2049     NaN             NaN      NaN      NaN      NaN     NaN  \n",
      "\n",
      "[2050 rows x 26 columns]\n"
     ]
    }
   ],
   "source": [
    "df_数据汇总 = pd.read_excel(r'G:\\智诚\\2023日常给出数据\\其他任务\\80吨以上数据统计（23年7月）v2.0.xlsx',sheet_name='Sheet1')\n",
    "df_数据汇总1 = pd.read_excel(r'G:\\智诚\\2023日常给出数据\\其他任务\\80吨以上数据统计（23年7月）v2.0.xlsx',sheet_name='Sheet5')\n",
    "\n",
    "df_数据汇总= pd.merge(df_数据汇总,df_数据汇总1, on=['流水号'],\n",
    "                                     how='left')\n",
    "print(df_数据汇总)"
   ],
   "metadata": {
    "collapsed": false,
    "pycharm": {
     "name": "#%%\n"
    }
   }
  },
  {
   "cell_type": "code",
   "execution_count": 9,
   "outputs": [
    {
     "name": "stdout",
     "output_type": "stream",
     "text": [
      "Collecting pivottablejs\n",
      "  Downloading https://files.pythonhosted.org/packages/0b/0f/46f1c9a1c9bf1540d3b7803753517fa9755cddc648769ba8cd67de82b51c/pivottablejs-0.9.0-py2.py3-none-any.whl\n",
      "Installing collected packages: pivottablejs\n",
      "Successfully installed pivottablejs-0.9.0\n"
     ]
    }
   ],
   "source": [
    "!pip install pivottablejs"
   ],
   "metadata": {
    "collapsed": false,
    "pycharm": {
     "name": "#%%\n"
    }
   }
  },
  {
   "cell_type": "code",
   "execution_count": null,
   "outputs": [],
   "source": [
    "            over_num = U_pass31_area_station[(U_pass31_area_station['overrun_rate'] > 0)].groupby(['out_station'])[\n",
    "                'car_no'].count().reset_index(name='over_num')"
   ],
   "metadata": {
    "collapsed": false,
    "pycharm": {
     "name": "#%%\n"
    }
   }
  },
  {
   "cell_type": "code",
   "execution_count": 12,
   "outputs": [
    {
     "name": "stderr",
     "output_type": "stream",
     "text": [
      "F:\\anconda\\lib\\site-packages\\ipykernel_launcher.py:1: FutureWarning: Inferring datetime64[ns] from data containing strings is deprecated and will be removed in a future version. To retain the old behavior explicitly pass Series(data, dtype={value.dtype})\n",
      "  \"\"\"Entry point for launching an IPython kernel.\n"
     ]
    }
   ],
   "source": [
    "df_数据汇总 = pd.read_excel(r'G:\\智诚\\2023日常给出数据\\汇总数据\\超限100%1-4月明细.xlsx',sheet_name='Sheet5')\n",
    "df_数据汇总1 = pd.read_excel(r'G:\\智诚\\2023日常给出数据\\汇总数据\\超限100%1-4月明细.xlsx',sheet_name='Sheet3')\n",
    "# df_数据汇总 = df_数据汇总[(df_数据汇总.超限记录核实 == '是')]\n",
    "df_100遮牌 = df_数据汇总.groupby(['月份','区县'])[\n",
    "                '车牌号'].count().reset_index(name='over100_num')\n",
    "df_数据汇总= pd.merge(df_数据汇总1,df_100遮牌, on=['月份','区县'],\n",
    "                                     how='left')\n",
    "df_数据汇总=df_数据汇总.fillna(0)\n",
    "with pd.ExcelWriter(r'C:\\Users\\stayhungary\\Desktop\\工作簿1.xlsx') as writer1:\n",
    "    df_数据汇总.to_excel(writer1, sheet_name='地市', index=True)"
   ],
   "metadata": {
    "collapsed": false,
    "pycharm": {
     "name": "#%%\n"
    }
   }
  },
  {
   "cell_type": "code",
   "execution_count": 3,
   "outputs": [
    {
     "data": {
      "text/plain": "<IPython.lib.display.IFrame at 0x2c57608e780>",
      "text/html": "\n        <iframe\n            width=\"100%\"\n            height=\"500\"\n            src=\"pivottablejs.html\"\n            frameborder=\"0\"\n            allowfullscreen\n        ></iframe>\n        "
     },
     "execution_count": 3,
     "metadata": {},
     "output_type": "execute_result"
    }
   ],
   "source": [
    "data = df_数据汇总\n",
    "data[\"Year\"] = pd.to_datetime(data[\"检测时间\"]).dt.year\n",
    "pivot_ui(data)"
   ],
   "metadata": {
    "collapsed": false,
    "pycharm": {
     "name": "#%%\n"
    }
   }
  },
  {
   "cell_type": "code",
   "execution_count": 7,
   "outputs": [],
   "source": [
    " import qgrid\n",
    " qgridframe = qgrid.show_grid(df_数据汇总, show_toolbar=True)\n"
   ],
   "metadata": {
    "collapsed": false,
    "pycharm": {
     "name": "#%%\n"
    }
   }
  },
  {
   "cell_type": "code",
   "execution_count": 8,
   "outputs": [
    {
     "data": {
      "text/plain": "QgridWidget(grid_options={'fullWidthRows': True, 'syncColumnCellResize': True, 'forceFitColumns': True, 'defau…",
      "application/vnd.jupyter.widget-view+json": {
       "version_major": 2,
       "version_minor": 0,
       "model_id": "211f958242ce4c28823ef2ba2140eabb"
      }
     },
     "metadata": {},
     "output_type": "display_data"
    }
   ],
   "source": [
    "qgridframe"
   ],
   "metadata": {
    "collapsed": false,
    "pycharm": {
     "name": "#%%\n"
    }
   }
  },
  {
   "cell_type": "code",
   "execution_count": 3,
   "outputs": [
    {
     "name": "stdout",
     "output_type": "stream",
     "text": [
      "{'name': 'john deo', 'age': '22', 'address': {'contry': 'canada', 'state': 'an state of canada :)', 'address': 'street st.34 north 12'}, 'attr': {'verified': True, 'emialaddress': True}}\n",
      "{'address': {'address': 'street st.34 north 12',\n",
      "             'contry': 'canada',\n",
      "             'state': 'an state of canada :)'},\n",
      " 'age': '22',\n",
      " 'attr': {'emialaddress': True, 'verified': True},\n",
      " 'name': 'john deo'}\n"
     ]
    }
   ],
   "source": [
    "\n",
    "from pprint import pprint\n",
    "data = {\n",
    "\"name\": \"john deo\",\n",
    "\"age\": \"22\",\n",
    "\"address\": {\"contry\": \"canada\", \"state\": \"an state of canada :)\", \"address\": \"street st.34 north 12\"},\n",
    "\"attr\": {\"verified\": True, \"emialaddress\": True},\n",
    "}\n",
    "print(data)\n",
    "pprint(data)"
   ],
   "metadata": {
    "collapsed": false,
    "pycharm": {
     "name": "#%%\n"
    }
   }
  },
  {
   "cell_type": "code",
   "execution_count": 2,
   "outputs": [],
   "source": [
    "df_数据汇总 = pd.read_excel(r'G:\\智诚\\2023日常给出数据\\汇总数据\\省通报全部月汇总.xlsx',sheet_name='1-6')\n",
    "\n",
    "U_all地市 = df_数据汇总.groupby(['地市编码', '地市','区县编码', '区县']).sum()\n",
    "\n",
    "with pd.ExcelWriter(r'C:\\Users\\stayhungary\\Desktop\\工作簿1.xlsx') as writer1:\n",
    "    U_all地市.to_excel(writer1, sheet_name='地市', index=True)"
   ],
   "metadata": {
    "collapsed": false,
    "pycharm": {
     "name": "#%%\n"
    }
   }
  },
  {
   "cell_type": "code",
   "execution_count": 5,
   "outputs": [],
   "source": [
    "df_数据汇总 = pd.read_excel(r'G:\\智诚\\2023日常给出数据\\省通报\\202306\\月末\\汇总0712.xlsx',sheet_name='汇总')\n",
    "df_数据汇总1 = pd.read_excel(r'G:\\智诚\\2023日常给出数据\\省通报\\202306\\月末\\汇总0712.xlsx',sheet_name='超限')\n",
    "df_数据汇总2 = pd.read_excel(r'G:\\智诚\\2023日常给出数据\\省通报\\202306\\月末\\汇总0712.xlsx',sheet_name='80')\n",
    "df_数据汇总3 = pd.read_excel(r'G:\\智诚\\2023日常给出数据\\省通报\\202306\\月末\\汇总0712.xlsx',sheet_name='100')\n",
    "df_数据汇总= pd.merge(df_数据汇总,df_数据汇总1, on=['地市','区县'],\n",
    "                                     how='left')\n",
    "df_数据汇总区县80 = df_数据汇总2.groupby(['地市','区县'])['地市'].count().reset_index(name='80')\n",
    "df_数据汇总区县90 = df_数据汇总2[90< df_数据汇总2['总重']].groupby(['地市','区县'])['地市'].count().reset_index(name='90')\n",
    "df_数据汇总区县100 = df_数据汇总3.groupby(['地市','区县'])['地市'].count().reset_index(name='100')\n",
    "df_数据汇总= pd.merge(df_数据汇总,df_数据汇总区县80, on=['地市','区县'],\n",
    "                                     how='left')\n",
    "df_数据汇总= pd.merge(df_数据汇总,df_数据汇总区县90, on=['地市','区县'],\n",
    "                                     how='left')\n",
    "df_数据汇总= pd.merge(df_数据汇总,df_数据汇总区县100, on=['地市','区县'],\n",
    "                                     how='left')\n",
    "U_all地市 = df_数据汇总.groupby(['地市编码', '地市']).sum()\n",
    "\n",
    "with pd.ExcelWriter(r'G:\\智诚\\2023日常给出数据\\省通报\\202306\\月末\\汇总0712v2.0.xlsx') as writer1:\n",
    "    df_数据汇总.to_excel(writer1, sheet_name='区县', index=True)\n",
    "    U_all地市.to_excel(writer1, sheet_name='地市', index=True)"
   ],
   "metadata": {
    "collapsed": false,
    "pycharm": {
     "name": "#%%\n"
    }
   }
  },
  {
   "cell_type": "code",
   "execution_count": 2,
   "outputs": [],
   "source": [
    "df_数据汇总 = pd.read_excel(r'G:\\智诚\\2023日常给出数据\\其他任务\\试点区县2023二季度底层数据v1.0.xlsx',sheet_name='Sheet1')\n",
    "\n",
    "\n",
    "df_数据汇总 = df_数据汇总.groupby(['地市编码', '地市','区县编码', '区县']).sum()\n",
    "\n",
    "\n",
    "with pd.ExcelWriter(r'C:\\Users\\stayhungary\\Desktop\\工作簿0811.xlsx') as writer1:\n",
    "    df_数据汇总.to_excel(writer1, sheet_name='地市', index=True)\n"
   ],
   "metadata": {
    "collapsed": false,
    "pycharm": {
     "name": "#%%\n"
    }
   }
  },
  {
   "cell_type": "markdown",
   "source": [],
   "metadata": {
    "collapsed": false
   }
  },
  {
   "cell_type": "code",
   "execution_count": null,
   "outputs": [],
   "source": [],
   "metadata": {
    "collapsed": false,
    "pycharm": {
     "name": "#%%\n"
    }
   }
  },
  {
   "cell_type": "code",
   "execution_count": 6,
   "outputs": [],
   "source": [
    "#汇总到地市\n",
    "df_数据汇总 = pd.read_excel(r'G:\\智诚\\2023日常给出数据\\其他任务\\浙江6月通报数据.xlsx')\n",
    "\n",
    "df_数据汇总 = df_数据汇总.fillna(0)\n",
    "\n",
    "with pd.ExcelWriter(r'C:\\Users\\stayhungary\\Desktop\\80汇总070411.xlsx') as writer1:\n",
    "    df_数据汇总.to_excel(writer1, sheet_name='地市', index=True)"
   ],
   "metadata": {
    "collapsed": false,
    "pycharm": {
     "name": "#%%\n"
    }
   }
  },
  {
   "cell_type": "code",
   "execution_count": 4,
   "outputs": [],
   "source": [
    "#汇总到地市\n",
    "df_数据汇总 = pd.read_excel(r'C:\\Users\\stayhungary\\Desktop\\80汇总0704.xlsx',sheet_name='地市')\n",
    "\n",
    "df_数据汇总1 = pd.read_excel(r'C:\\Users\\stayhungary\\Desktop\\80汇总0704.xlsx',sheet_name='Sheet1')\n",
    "df_数据汇总地市= pd.merge(df_数据汇总,df_数据汇总1, on=['区县编码'],\n",
    "                                     how='left')\n",
    "\n",
    "\n",
    "\n",
    "df_数据汇总地市.to_excel(r'C:\\Users\\stayhungary\\Desktop\\80汇总0705.xlsx', sheet_name='地市', index=True)"
   ],
   "metadata": {
    "collapsed": false,
    "pycharm": {
     "name": "#%%\n"
    }
   }
  },
  {
   "cell_type": "code",
   "execution_count": 7,
   "outputs": [],
   "source": [
    "#汇总到地市\n",
    "df_数据汇总 = pd.read_excel(r'C:\\Users\\stayhungary\\Desktop\\80.xlsx',sheet_name='Sheet1')\n",
    "\n",
    "df_数据汇总区县80 = df_数据汇总.groupby(['检测时间','地市','区县'])['序号'].count().reset_index(name='80')\n",
    "df_数据汇总区县90 = df_数据汇总[90< df_数据汇总['总重']].groupby(['检测时间','地市','区县'])['序号'].count().reset_index(name='90')\n",
    "\n",
    "df_数据汇总区县= pd.merge(df_数据汇总区县80,df_数据汇总区县90, on=['检测时间','地市','区县'],\n",
    "                                     how='left')\n",
    "\n",
    "\n",
    "df_数据汇总地市80 = df_数据汇总.groupby(['检测时间','地市'])['序号'].count().reset_index(name='80')\n",
    "df_数据汇总地市90 = df_数据汇总[90< df_数据汇总['总重']].groupby(['检测时间','地市'])['序号'].count().reset_index(name='90')\n",
    "\n",
    "df_数据汇总地市= pd.merge(df_数据汇总地市80,df_数据汇总地市90, on=['检测时间','地市'],\n",
    "                                     how='left')\n",
    "\n",
    "df_数据汇总省80 = df_数据汇总.groupby(['检测时间'])['序号'].count().reset_index(name='80')\n",
    "df_数据汇总省90 = df_数据汇总[90< df_数据汇总['总重']].groupby(['检测时间'])['序号'].count().reset_index(name='90')\n",
    "\n",
    "df_数据汇总省= pd.merge(df_数据汇总省80,df_数据汇总省90, on=['检测时间'],\n",
    "                                     how='left')\n",
    "with pd.ExcelWriter(r'C:\\Users\\stayhungary\\Desktop\\80汇总.xlsx') as writer1:\n",
    "    df_数据汇总区县.to_excel(writer1, sheet_name='区县', index=True)\n",
    "    df_数据汇总地市.to_excel(writer1, sheet_name='地市', index=True)\n",
    "    df_数据汇总省.to_excel(writer1, sheet_name='省', index=True)\n"
   ],
   "metadata": {
    "collapsed": false,
    "pycharm": {
     "name": "#%%\n"
    }
   }
  },
  {
   "cell_type": "code",
   "execution_count": 3,
   "outputs": [
    {
     "ename": "PermissionError",
     "evalue": "[Errno 13] Permission denied: 'C:\\\\Users\\\\stayhungary\\\\Desktop\\\\80汇总0707.2.xlsx'",
     "output_type": "error",
     "traceback": [
      "\u001B[1;31m---------------------------------------------------------------------------\u001B[0m",
      "\u001B[1;31mPermissionError\u001B[0m                           Traceback (most recent call last)",
      "\u001B[1;32m<ipython-input-3-955983a535be>\u001B[0m in \u001B[0;36m<module>\u001B[1;34m\u001B[0m\n\u001B[0;32m     15\u001B[0m \u001B[0mU_all地市\u001B[0m \u001B[1;33m=\u001B[0m \u001B[0mdf_数据汇总\u001B[0m\u001B[1;33m.\u001B[0m\u001B[0mgroupby\u001B[0m\u001B[1;33m(\u001B[0m\u001B[1;33m[\u001B[0m\u001B[1;34m'月份'\u001B[0m\u001B[1;33m,\u001B[0m\u001B[1;34m'类型'\u001B[0m\u001B[1;33m,\u001B[0m \u001B[1;34m'地市'\u001B[0m\u001B[1;33m]\u001B[0m\u001B[1;33m)\u001B[0m\u001B[1;33m.\u001B[0m\u001B[0msum\u001B[0m\u001B[1;33m(\u001B[0m\u001B[1;33m)\u001B[0m\u001B[1;33m\u001B[0m\u001B[1;33m\u001B[0m\u001B[0m\n\u001B[0;32m     16\u001B[0m \u001B[0mU_all省\u001B[0m \u001B[1;33m=\u001B[0m \u001B[0mdf_数据汇总\u001B[0m\u001B[1;33m.\u001B[0m\u001B[0mgroupby\u001B[0m\u001B[1;33m(\u001B[0m\u001B[1;33m[\u001B[0m\u001B[1;34m'月份'\u001B[0m\u001B[1;33m,\u001B[0m\u001B[1;34m'类型'\u001B[0m\u001B[1;33m]\u001B[0m\u001B[1;33m)\u001B[0m\u001B[1;33m.\u001B[0m\u001B[0msum\u001B[0m\u001B[1;33m(\u001B[0m\u001B[1;33m)\u001B[0m\u001B[1;33m\u001B[0m\u001B[1;33m\u001B[0m\u001B[0m\n\u001B[1;32m---> 17\u001B[1;33m \u001B[1;32mwith\u001B[0m \u001B[0mpd\u001B[0m\u001B[1;33m.\u001B[0m\u001B[0mExcelWriter\u001B[0m\u001B[1;33m(\u001B[0m\u001B[1;34mr'C:\\Users\\stayhungary\\Desktop\\80汇总0707.2.xlsx'\u001B[0m\u001B[1;33m)\u001B[0m \u001B[1;32mas\u001B[0m \u001B[0mwriter1\u001B[0m\u001B[1;33m:\u001B[0m\u001B[1;33m\u001B[0m\u001B[1;33m\u001B[0m\u001B[0m\n\u001B[0m\u001B[0;32m     18\u001B[0m     \u001B[0mdf_数据汇总\u001B[0m\u001B[1;33m.\u001B[0m\u001B[0mto_excel\u001B[0m\u001B[1;33m(\u001B[0m\u001B[0mwriter1\u001B[0m\u001B[1;33m,\u001B[0m \u001B[0msheet_name\u001B[0m\u001B[1;33m=\u001B[0m\u001B[1;34m'区县'\u001B[0m\u001B[1;33m,\u001B[0m \u001B[0mindex\u001B[0m\u001B[1;33m=\u001B[0m\u001B[1;32mTrue\u001B[0m\u001B[1;33m)\u001B[0m\u001B[1;33m\u001B[0m\u001B[1;33m\u001B[0m\u001B[0m\n\u001B[0;32m     19\u001B[0m     \u001B[0mU_all地市\u001B[0m\u001B[1;33m.\u001B[0m\u001B[0mto_excel\u001B[0m\u001B[1;33m(\u001B[0m\u001B[0mwriter1\u001B[0m\u001B[1;33m,\u001B[0m \u001B[0msheet_name\u001B[0m\u001B[1;33m=\u001B[0m\u001B[1;34m'U_all地市'\u001B[0m\u001B[1;33m,\u001B[0m \u001B[0mindex\u001B[0m\u001B[1;33m=\u001B[0m\u001B[1;32mTrue\u001B[0m\u001B[1;33m)\u001B[0m\u001B[1;33m\u001B[0m\u001B[1;33m\u001B[0m\u001B[0m\n",
      "\u001B[1;32mF:\\anconda\\lib\\site-packages\\pandas\\io\\excel\\_xlsxwriter.py\u001B[0m in \u001B[0;36m__init__\u001B[1;34m(self, path, engine, date_format, datetime_format, mode, storage_options, if_sheet_exists, engine_kwargs, **kwargs)\u001B[0m\n\u001B[0;32m    197\u001B[0m             \u001B[0mstorage_options\u001B[0m\u001B[1;33m=\u001B[0m\u001B[0mstorage_options\u001B[0m\u001B[1;33m,\u001B[0m\u001B[1;33m\u001B[0m\u001B[1;33m\u001B[0m\u001B[0m\n\u001B[0;32m    198\u001B[0m             \u001B[0mif_sheet_exists\u001B[0m\u001B[1;33m=\u001B[0m\u001B[0mif_sheet_exists\u001B[0m\u001B[1;33m,\u001B[0m\u001B[1;33m\u001B[0m\u001B[1;33m\u001B[0m\u001B[0m\n\u001B[1;32m--> 199\u001B[1;33m             \u001B[0mengine_kwargs\u001B[0m\u001B[1;33m=\u001B[0m\u001B[0mengine_kwargs\u001B[0m\u001B[1;33m,\u001B[0m\u001B[1;33m\u001B[0m\u001B[1;33m\u001B[0m\u001B[0m\n\u001B[0m\u001B[0;32m    200\u001B[0m         )\n\u001B[0;32m    201\u001B[0m \u001B[1;33m\u001B[0m\u001B[0m\n",
      "\u001B[1;32mF:\\anconda\\lib\\site-packages\\pandas\\io\\excel\\_base.py\u001B[0m in \u001B[0;36m__init__\u001B[1;34m(self, path, engine, date_format, datetime_format, mode, storage_options, if_sheet_exists, engine_kwargs, **kwargs)\u001B[0m\n\u001B[0;32m    924\u001B[0m         \u001B[1;32mif\u001B[0m \u001B[1;32mnot\u001B[0m \u001B[0misinstance\u001B[0m\u001B[1;33m(\u001B[0m\u001B[0mpath\u001B[0m\u001B[1;33m,\u001B[0m \u001B[0mExcelWriter\u001B[0m\u001B[1;33m)\u001B[0m\u001B[1;33m:\u001B[0m\u001B[1;33m\u001B[0m\u001B[1;33m\u001B[0m\u001B[0m\n\u001B[0;32m    925\u001B[0m             self.handles = get_handle(\n\u001B[1;32m--> 926\u001B[1;33m                 \u001B[0mpath\u001B[0m\u001B[1;33m,\u001B[0m \u001B[0mmode\u001B[0m\u001B[1;33m,\u001B[0m \u001B[0mstorage_options\u001B[0m\u001B[1;33m=\u001B[0m\u001B[0mstorage_options\u001B[0m\u001B[1;33m,\u001B[0m \u001B[0mis_text\u001B[0m\u001B[1;33m=\u001B[0m\u001B[1;32mFalse\u001B[0m\u001B[1;33m\u001B[0m\u001B[1;33m\u001B[0m\u001B[0m\n\u001B[0m\u001B[0;32m    927\u001B[0m             )\n\u001B[0;32m    928\u001B[0m         \u001B[0mself\u001B[0m\u001B[1;33m.\u001B[0m\u001B[0msheets\u001B[0m\u001B[1;33m:\u001B[0m \u001B[0mdict\u001B[0m\u001B[1;33m[\u001B[0m\u001B[0mstr\u001B[0m\u001B[1;33m,\u001B[0m \u001B[0mAny\u001B[0m\u001B[1;33m]\u001B[0m \u001B[1;33m=\u001B[0m \u001B[1;33m{\u001B[0m\u001B[1;33m}\u001B[0m\u001B[1;33m\u001B[0m\u001B[1;33m\u001B[0m\u001B[0m\n",
      "\u001B[1;32mF:\\anconda\\lib\\site-packages\\pandas\\io\\common.py\u001B[0m in \u001B[0;36mget_handle\u001B[1;34m(path_or_buf, mode, encoding, compression, memory_map, is_text, errors, storage_options)\u001B[0m\n\u001B[0;32m    709\u001B[0m         \u001B[1;32melse\u001B[0m\u001B[1;33m:\u001B[0m\u001B[1;33m\u001B[0m\u001B[1;33m\u001B[0m\u001B[0m\n\u001B[0;32m    710\u001B[0m             \u001B[1;31m# Binary mode\u001B[0m\u001B[1;33m\u001B[0m\u001B[1;33m\u001B[0m\u001B[1;33m\u001B[0m\u001B[0m\n\u001B[1;32m--> 711\u001B[1;33m             \u001B[0mhandle\u001B[0m \u001B[1;33m=\u001B[0m \u001B[0mopen\u001B[0m\u001B[1;33m(\u001B[0m\u001B[0mhandle\u001B[0m\u001B[1;33m,\u001B[0m \u001B[0mioargs\u001B[0m\u001B[1;33m.\u001B[0m\u001B[0mmode\u001B[0m\u001B[1;33m)\u001B[0m\u001B[1;33m\u001B[0m\u001B[1;33m\u001B[0m\u001B[0m\n\u001B[0m\u001B[0;32m    712\u001B[0m         \u001B[0mhandles\u001B[0m\u001B[1;33m.\u001B[0m\u001B[0mappend\u001B[0m\u001B[1;33m(\u001B[0m\u001B[0mhandle\u001B[0m\u001B[1;33m)\u001B[0m\u001B[1;33m\u001B[0m\u001B[1;33m\u001B[0m\u001B[0m\n\u001B[0;32m    713\u001B[0m \u001B[1;33m\u001B[0m\u001B[0m\n",
      "\u001B[1;31mPermissionError\u001B[0m: [Errno 13] Permission denied: 'C:\\\\Users\\\\stayhungary\\\\Desktop\\\\80汇总0707.2.xlsx'"
     ]
    }
   ],
   "source": [
    "#汇总到地市\n",
    "df_数据汇总 = pd.read_excel(r'G:\\智诚\\2023日常给出数据\\其他任务\\湖南2023年全省交通问题顽瘴痼疾集中整治行动考核评分表1-6月(治超业务）v1.0.xlsx',sheet_name='超限')\n",
    "df_数据汇总案件 = pd.read_excel(r'G:\\智诚\\2023日常给出数据\\其他任务\\湖南2023年全省交通问题顽瘴痼疾集中整治行动考核评分表1-6月(治超业务）v1.0.xlsx',sheet_name='案件')\n",
    "df_数据汇总大件 =pd.read_excel(r'G:\\智诚\\2023日常给出数据\\其他任务\\湖南2023年全省交通问题顽瘴痼疾集中整治行动考核评分表1-6月(治超业务）v1.0.xlsx',sheet_name='大件')\n",
    "df_数据汇特种 = pd.read_excel(r'G:\\智诚\\2023日常给出数据\\其他任务\\湖南2023年全省交通问题顽瘴痼疾集中整治行动考核评分表1-6月(治超业务）v1.0.xlsx',sheet_name='特种')\n",
    "df_数据汇无牌 = pd.read_excel(r'G:\\智诚\\2023日常给出数据\\其他任务\\湖南2023年全省交通问题顽瘴痼疾集中整治行动考核评分表1-6月(治超业务）v1.0.xlsx',sheet_name='无牌')\n",
    "df_数据汇总= pd.merge(df_数据汇总,df_数据汇总案件, on=['月份','类型','区县编码'],\n",
    "                                     how='left')\n",
    "df_数据汇总= pd.merge(df_数据汇总,df_数据汇总大件, on=['月份','类型','区县编码'],\n",
    "                                     how='left')\n",
    "df_数据汇总= pd.merge(df_数据汇总,df_数据汇特种, on=['月份','类型','区县编码'],\n",
    "                                     how='left')\n",
    "df_数据汇总= pd.merge(df_数据汇总,df_数据汇无牌, on=['月份','类型','区县编码'], how='left')\n",
    "df_数据汇总 = df_数据汇总.fillna(0)\n",
    "U_all地市 = df_数据汇总.groupby(['月份','类型', '地市']).sum()\n",
    "U_all省 = df_数据汇总.groupby(['月份','类型']).sum()\n",
    "with pd.ExcelWriter(r'C:\\Users\\stayhungary\\Desktop\\80汇总0707.2.xlsx') as writer1:\n",
    "    df_数据汇总.to_excel(writer1, sheet_name='区县', index=True)\n",
    "    U_all地市.to_excel(writer1, sheet_name='U_all地市', index=True)\n",
    "    U_all省.to_excel(writer1, sheet_name='U_all省', index=True)\n"
   ],
   "metadata": {
    "collapsed": false,
    "pycharm": {
     "name": "#%%\n"
    }
   }
  },
  {
   "cell_type": "code",
   "execution_count": 5,
   "outputs": [],
   "source": [
    "#汇总到地市\n",
    "df_数据汇总 = pd.read_excel(r'C:\\Users\\stayhungary\\Desktop\\80汇总0707.2.xlsx',sheet_name='21')\n",
    "df_数据汇总31 = pd.read_excel(r'C:\\Users\\stayhungary\\Desktop\\80汇总0707.2.xlsx',sheet_name='31')\n",
    "df_数据汇总71 = pd.read_excel(r'C:\\Users\\stayhungary\\Desktop\\80汇总0707.2.xlsx',sheet_name='71')\n",
    "\n",
    "\n",
    "df_数据汇总= pd.merge(df_数据汇总,df_数据汇总31, on=['月份','地市','区县'],\n",
    "                                     how='outer')\n",
    "df_数据汇总= pd.merge(df_数据汇总,df_数据汇总71, on=['月份','地市','区县'],\n",
    "                                     how='outer')\n",
    "df_数据汇总 = df_数据汇总.fillna(0)\n",
    "with pd.ExcelWriter(r'C:\\Users\\stayhungary\\Desktop\\80汇总0707.4.xlsx') as writer1:\n",
    "    df_数据汇总.to_excel(writer1, sheet_name='区县', index=True)"
   ],
   "metadata": {
    "collapsed": false,
    "pycharm": {
     "name": "#%%\n"
    }
   }
  },
  {
   "cell_type": "code",
   "execution_count": 13,
   "outputs": [],
   "source": [
    "#汇总到地市\n",
    "df_数据汇总 = pd.read_excel(r'G:\\智诚\\2023日常给出数据\\湖南需更新站点数据\\hunan_source_company.xlsx',sheet_name='Sheet1')\n",
    "df_数据汇总2 = pd.read_excel(r'G:\\智诚\\2023日常给出数据\\湖南需更新站点数据\\hunan_source_company.xlsx',sheet_name='Sheet2')\n",
    "\n",
    "df_数据汇总= pd.merge(df_数据汇总,df_数据汇总2 , on=['区县'],\n",
    "                                     how='left')\n",
    "\n",
    "\n",
    "with pd.ExcelWriter(r'C:\\Users\\stayhungary\\Desktop\\80汇总2111.xlsx') as writer1:\n",
    "    df_数据汇总.to_excel(writer1, sheet_name='区县', index=True)\n"
   ],
   "metadata": {
    "collapsed": false,
    "pycharm": {
     "name": "#%%\n"
    }
   }
  },
  {
   "cell_type": "code",
   "execution_count": 6,
   "outputs": [],
   "source": [
    "#汇总到地市\n",
    "df_数据汇总 = pd.read_excel(r'G:\\智诚\\2023日常给出数据\\省通报\\3月\\原始数据\\通报合并0401.xlsx',sheet_name='区县')\n",
    "df_数据汇总1 = pd.read_excel(r'G:\\智诚\\2023日常给出数据\\省通报\\3月\\原始数据\\通报合并0401.xlsx',sheet_name='非现站点')\n",
    "df_数据汇总2 = pd.read_excel(r'G:\\智诚\\2023日常给出数据\\省通报\\3月\\原始数据\\通报合并0401.xlsx',sheet_name='合规率')\n",
    "df_数据汇总3 = pd.read_excel(r'G:\\智诚\\2023日常给出数据\\省通报\\3月\\原始数据\\通报合并0401.xlsx',sheet_name='现场交警2')\n",
    "df_数据汇总4 = pd.read_excel(r'G:\\智诚\\2023日常给出数据\\省通报\\3月\\原始数据\\通报合并0401.xlsx',sheet_name='80吨')\n",
    "df= pd.merge(df_数据汇总,df_数据汇总1, on=['county_code'],\n",
    "                                     how='left')\n",
    "df= pd.merge(df,df_数据汇总2, on=['county_code'],\n",
    "                                     how='left')\n",
    "df= pd.merge(df,df_数据汇总3, on=['county_code'],\n",
    "                                     how='left')\n",
    "df_数据汇总5 = df_数据汇总4.groupby(['city','county'])['序号'].count()\n",
    "df= pd.merge(df,df_数据汇总5, on=['city','county'],\n",
    "                                     how='left')\n",
    "df2= df.groupby(['city_code','city']).sum()\n",
    "with pd.ExcelWriter(r'G:\\智诚\\2023日常给出数据\\省通报\\3月\\原始数据\\通报合并0401汇总.xlsx.xlsx') as writer1:\n",
    "    df.to_excel(writer1, sheet_name='区县', index=True)\n",
    "    df2.to_excel(writer1, sheet_name='地市', index=True)"
   ],
   "metadata": {
    "collapsed": false,
    "pycharm": {
     "name": "#%%\n"
    }
   }
  },
  {
   "cell_type": "code",
   "execution_count": 10,
   "outputs": [],
   "source": [
    "df_数据汇总 = pd.read_excel(r'G:\\智诚\\2023日常给出数据\\汇总数据\\自动生成初始化数据.xlsx',sheet_name='Sheet1')\n",
    "\n",
    "df_数据汇总=df_数据汇总.fillna(0)\n",
    "\n",
    "with pd.ExcelWriter(r'C:\\Users\\stayhungary\\Desktop\\80汇总3.xlsx') as writer1:\n",
    "    df_数据汇总.to_excel(writer1, sheet_name='区县', index=True)"
   ],
   "metadata": {
    "collapsed": false,
    "pycharm": {
     "name": "#%%\n"
    }
   }
  },
  {
   "cell_type": "code",
   "execution_count": 3,
   "outputs": [],
   "source": [
    "df_数据汇总 = pd.read_excel(r'G:\\智诚\\2023日常给出数据\\省通报\\202304\\通报合并0505.xlsx',sheet_name='区县')\n",
    "\n",
    "df_数据汇总= df_数据汇总.groupby(['city_code','city']).sum()\n",
    "with pd.ExcelWriter(r'G:\\智诚\\2023日常给出数据\\省通报\\202304\\通报合并0505草稿.xlsx.xlsx') as writer1:\n",
    "\n",
    "    df_数据汇总.to_excel(writer1, sheet_name='地市', index=True)"
   ],
   "metadata": {
    "collapsed": false,
    "pycharm": {
     "name": "#%%\n"
    }
   }
  },
  {
   "cell_type": "code",
   "execution_count": 5,
   "outputs": [],
   "source": [
    "#汇总到地市\n",
    "df_数据汇总2 = pd.read_excel(r'G:\\智诚\\2023日常给出数据\\其他任务\\温州、金华补充数据.xlsx',sheet_name='12月源头区县数据')\n",
    "df_数据汇总1 = pd.read_excel(r'G:\\智诚\\2023日常给出数据\\其他任务\\温州、金华补充数据.xlsx',sheet_name='12月源头站点明细数据')\n",
    "df= pd.merge(df_数据汇总2,df_数据汇总1, on=['区县编码','区县'],\n",
    "                                     how='left')\n",
    "with pd.ExcelWriter(r'G:\\智诚\\2023日常给出数据\\其他任务\\2022年12月源头汇总.xlsx') as writer1:\n",
    "    df.to_excel(writer1, sheet_name='全部', index=True)"
   ],
   "metadata": {
    "collapsed": false,
    "pycharm": {
     "name": "#%%\n"
    }
   }
  },
  {
   "cell_type": "code",
   "execution_count": 3,
   "outputs": [],
   "source": [
    "#汇总到地市\n",
    "df_数据汇总 = pd.read_excel(r'G:\\智诚\\2023日常给出数据\\省通报\\3月\\3月报表统计1.5\\【超限100%数据】3月地市超限100%数据V1.0.xlsx',sheet_name='超限100%数明细表')\n",
    "df=df_数据汇总.groupby(['地市','区县']).count()\n",
    "with pd.ExcelWriter(r'G:\\智诚\\2023日常给出数据\\省通报\\3月\\3月报表统计1.5\\【超限100%数据】3月地市超限100%数据汇总.xlsx') as writer1:\n",
    "    df.to_excel(writer1, sheet_name='全部', index=True)"
   ],
   "metadata": {
    "collapsed": false,
    "pycharm": {
     "name": "#%%\n"
    }
   }
  },
  {
   "cell_type": "code",
   "execution_count": 3,
   "outputs": [],
   "source": [
    "#汇总到地市\n",
    "df_数据汇总 = pd.read_excel(r'G:\\智诚\\2023日常给出数据\\汇总数据\\省通报1-3月汇总.xlsx',sheet_name='1-4')\n",
    "df=df_数据汇总.groupby(['地市编码','地市','区县编码','区县']).sum()\n",
    "with pd.ExcelWriter(r'G:\\智诚\\2023日常给出数据\\汇总数据\\省通报1-4月汇总0515.xlsx') as writer1:\n",
    "    df.to_excel(writer1, sheet_name='全部', index=True)"
   ],
   "metadata": {
    "collapsed": false,
    "pycharm": {
     "name": "#%%\n"
    }
   }
  },
  {
   "cell_type": "code",
   "execution_count": 4,
   "outputs": [],
   "source": [
    "#汇总到地市\n",
    "df_数据汇总 = pd.read_excel(r'G:\\智诚\\2023日常给出数据\\汇总数据\\省通报1-3月汇总.xlsx',sheet_name='1-4汇总')\n",
    "df_数据汇总1 = pd.read_excel(r'G:\\智诚\\2023日常给出数据\\汇总数据\\省通报1-3月汇总.xlsx',sheet_name='Sheet3')\n",
    "df= pd.merge(df_数据汇总,df_数据汇总1, on=['区县编码'],\n",
    "                                     how='right')\n",
    "with pd.ExcelWriter(r'G:\\智诚\\2023日常给出数据\\汇总数据\\省通报1-4月汇总0515.xlsx') as writer1:\n",
    "    df.to_excel(writer1, sheet_name='全部', index=True)"
   ],
   "metadata": {
    "collapsed": false,
    "pycharm": {
     "name": "#%%\n"
    }
   }
  },
  {
   "cell_type": "code",
   "execution_count": 2,
   "outputs": [],
   "source": [
    "#汇总到地市\n",
    "df_数据汇总 = pd.read_excel(r'G:\\智诚\\2023日常给出数据\\紧急事件\\2022年基础数据.xlsx',sheet_name='全部')\n",
    "df_数据汇总1 =pd.read_excel(r'G:\\智诚\\2023日常给出数据\\紧急事件\\2022年基础数据.xlsx',sheet_name='车道数')\n",
    "df_数据汇总2 =pd.read_excel(r'G:\\智诚\\2023日常给出数据\\紧急事件\\2022年基础数据.xlsx',sheet_name='案件数据')\n",
    "df_数据汇总3 =pd.read_excel(r'G:\\智诚\\2023日常给出数据\\紧急事件\\2022年基础数据.xlsx',sheet_name='80吨')\n",
    "df_数据汇总4 =pd.read_excel(r'G:\\智诚\\2023日常给出数据\\紧急事件\\2022年基础数据.xlsx',sheet_name='入库数本省')\n",
    "df_数据汇总5 =pd.read_excel(r'G:\\智诚\\2023日常给出数据\\紧急事件\\2022年基础数据.xlsx',sheet_name='非现交通本省')\n",
    "\n",
    "df= pd.merge(df_数据汇总,df_数据汇总1, on=['地市','区县'],\n",
    "                                     how='left')\n",
    "df= pd.merge(df,df_数据汇总2, on=['地市','区县'],\n",
    "                                     how='left')\n",
    "df= pd.merge(df,df_数据汇总3, on=['地市','区县'],\n",
    "                                     how='left')\n",
    "df= pd.merge(df,df_数据汇总4, on=['地市','区县'],\n",
    "                                     how='left')\n",
    "df= pd.merge(df,df_数据汇总5, on=['地市','区县'],\n",
    "                                     how='left')\n",
    "df_数据汇总5 = df_数据汇总5.groupby(['地市','区划名称']).count()\n",
    "\n",
    "with pd.ExcelWriter(r'G:\\智诚\\2023日常给出数据\\紧急事件\\2022年基础数据汇总.xlsx') as writer1:\n",
    "    df.to_excel(writer1, sheet_name='全部', index=True)"
   ],
   "metadata": {
    "collapsed": false,
    "pycharm": {
     "name": "#%%\n"
    }
   }
  },
  {
   "cell_type": "code",
   "execution_count": 4,
   "outputs": [
    {
     "name": "stdout",
     "output_type": "stream",
     "text": [
      "第一季度 59\n",
      "第二季度 70\n",
      "第三季度 68\n",
      "第四季度 56\n"
     ]
    },
    {
     "data": {
      "text/plain": "<Figure size 432x288 with 1 Axes>",
      "image/png": "[encoded data removed]"
     },
     "metadata": {
      "needs_background": "light"
     },
     "output_type": "display_data"
    }
   ],
   "source": [
    "# 生成画布，并设置画布的大小为(6, 6)\n",
    "import pandas as pd\n",
    "from matplotlib import pyplot as plt\n",
    "plt.rcParams['font.sans-serif']=['SimHei'] #用来正常显示中文标签\n",
    "# 设置 x/y坐标值\n",
    "x = pd.Series(['第一季度', '第二季度', '第三季度', '第四季度'])\n",
    "y = pd.Series([59, 70, 68, 56])\n",
    "# 绘制柱状图\n",
    "plt.bar(x,height=y,color='darkorange')\n",
    "# 绘制折线图\n",
    "plt.plot(x, y, color='dodgerblue')\n",
    "# 设置图表标题名为'闪光科技2020年各季度研发费用分布图'，字体大小为 20\n",
    "plt.title('闪光科技2020年各季度研发费用分布图', fontsize = 20)\n",
    "# 设置坐标轴的刻度字体大小为 12\n",
    "plt.xticks(fontsize = 12)\n",
    "plt.yticks(fontsize =12)\n",
    "# 设置 x、y 轴标题分别为'季度'、'研发费用（百万元）'，字体大小均为 15\n",
    "plt.xlabel('季度', fontsize = 15)\n",
    "plt.ylabel('研发费用（百万元）', fontsize = 15)\n",
    "# 设置图例为'研发费用变化'、'研发费用分布'\n",
    "plt.legend(['研发费用变化', '研发费用分布'])\n",
    "# 设置数据标签，标签内容是 y 坐标值\n",
    "for a, b in zip(x, y):\n",
    "    print(a, b)\n",
    "    plt.text(a, b, b, ha = 'center', va = 'bottom', fontsize = 15)\n"
   ],
   "metadata": {
    "collapsed": false,
    "pycharm": {
     "name": "#%%\n"
    }
   }
  },
  {
   "cell_type": "code",
   "execution_count": 6,
   "outputs": [],
   "source": [
    "#源头\n",
    "df_数据汇总 = pd.read_excel(r'G:\\智诚\\2023日常给出数据\\省通报\\3月\\原始数据\\通报合并0401.xlsx',sheet_name='区县')\n",
    "df_数据汇总 = df_数据汇总.groupby(['city_code']).sum()\n",
    "with pd.ExcelWriter(r'G:\\智诚\\2023日常给出数据\\省通报\\3月\\原始数据\\截止3月现场补充数据汇总20.xlsx') as writer1:\n",
    "    df_数据汇总.to_excel(writer1, sheet_name='全部', index=True)"
   ],
   "metadata": {
    "collapsed": false,
    "pycharm": {
     "name": "#%%\n"
    }
   }
  },
  {
   "cell_type": "code",
   "execution_count": 17,
   "outputs": [],
   "source": [
    "#源头\n",
    "df_数据汇总 = pd.read_excel(r'G:\\智诚\\2023日常给出数据\\省通报\\2月\\原始数据\\23年现场超限未推送案件.xlsx',sheet_name='xzcf_case_info')\n",
    "df_数据汇总 = df_数据汇总.groupby(['区划代码','区划名称']).count()\n",
    "with pd.ExcelWriter(r'G:\\智诚\\2023日常给出数据\\汇总数据\\省通报汇总数据2月1001.xlsx') as writer1:\n",
    "    df_数据汇总.to_excel(writer1, sheet_name='全部', index=True)"
   ],
   "metadata": {
    "collapsed": false,
    "pycharm": {
     "name": "#%%\n"
    }
   }
  },
  {
   "cell_type": "code",
   "execution_count": 5,
   "outputs": [],
   "source": [
    "#临时\n",
    "U_过车_站点表 = pd.read_excel(r'G:\\智诚\\2023日常给出数据\\其他任务\\金华2022年超限80%以上明细.xls',sheet_name='Sheet1')\n",
    "U_过车_站点表['车牌号'].fillna('无牌', inplace=True)\n",
    "U_过车_站点表['字节数'] = U_过车_站点表['车牌号'].str.len()\n",
    "U_过车_站点表.loc[U_过车_站点表['字节数'] <= 5, '车牌号'] = '无牌'\n",
    "U_过车_站点表 = U_过车_站点表[(U_过车_站点表.车牌号 == '无牌')]\n",
    "df_数据汇总 = U_过车_站点表.groupby(['地市','区县']).count()\n",
    "with pd.ExcelWriter(r'G:\\智诚\\2023日常给出数据\\其他任务\\金华2022年超限80%以上汇总.xlsx') as writer1:\n",
    "    df_数据汇总.to_excel(writer1, sheet_name='全部', index=True)"
   ],
   "metadata": {
    "collapsed": false,
    "pycharm": {
     "name": "#%%\n"
    }
   }
  },
  {
   "cell_type": "code",
   "execution_count": 7,
   "outputs": [],
   "source": [
    "#汇总到地市\n",
    "df_数据汇总 = pd.read_excel(r'G:\\智诚\\2023日常给出数据\\紧急事件\\非现站点明细.xlsx',sheet_name='Sheet1')\n",
    "\n",
    "df_数据汇总 = df_数据汇总.groupby(['地市'])['车道数'].sum()\n",
    "with pd.ExcelWriter(r'G:\\智诚\\2023日常给出数据\\紧急事件\\非现站点明细2.xlsx') as writer1:\n",
    "    df_数据汇总.to_excel(writer1, sheet_name='全部', index=True)"
   ],
   "metadata": {
    "collapsed": false,
    "pycharm": {
     "name": "#%%\n"
    }
   }
  },
  {
   "cell_type": "code",
   "execution_count": 4,
   "outputs": [],
   "source": [
    "#汇总到地市\n",
    "df_数据汇总 = pd.read_excel(r'F:\\微信\\WeChat Files\\wxid_gy57fik0ep7c21\\FileStorage\\File\\2023-02\\案件状态匹配.xls',sheet_name='总')\n",
    "df_数据汇总2 = pd.read_excel(r'F:\\微信\\WeChat Files\\wxid_gy57fik0ep7c21\\FileStorage\\File\\2023-02\\案件状态匹配.xls',sheet_name='9668')\n",
    "df_数据汇总2 = df_数据汇总2.fillna(0)\n",
    "df= pd.merge(df_数据汇总,df_数据汇总2, on=['车牌','案发时间'],\n",
    "                                     how='left')\n",
    "with pd.ExcelWriter(r'F:\\微信\\WeChat Files\\wxid_gy57fik0ep7c21\\FileStorage\\File\\2023-02\\案件状态匹配结果.xls') as writer1:\n",
    "    df.to_excel(writer1, sheet_name='全部', index=True)"
   ],
   "metadata": {
    "collapsed": false,
    "pycharm": {
     "name": "#%%\n"
    }
   }
  },
  {
   "cell_type": "code",
   "execution_count": 2,
   "outputs": [],
   "source": [
    "import re, collections\n",
    "\n",
    "def words(text): return re.findall('[a-z]+', text.lower())\n",
    "\n",
    "def train(features):\n",
    "    model = collections.defaultdict(lambda: 1)\n",
    "    for f in features:\n",
    "        model[f] += 1\n",
    "    return model\n",
    "\n",
    "NWORDS = train(words(open(r'E:\\Python\\自建\\代码\\机器学习\\6贝叶斯模型\\贝叶斯-拼写检查器\\big.txt').read()))\n",
    "\n",
    "alphabet = 'abcdefghijklmnopqrstuvwxyz'\n",
    "\n"
   ],
   "metadata": {
    "collapsed": false,
    "pycharm": {
     "name": "#%%\n"
    }
   }
  },
  {
   "cell_type": "code",
   "execution_count": 11,
   "outputs": [
    {
     "data": {
      "text/plain": "['ov', 'lv', 'lo']"
     },
     "execution_count": 11,
     "metadata": {},
     "output_type": "execute_result"
    }
   ],
   "source": [
    "word='lov'\n",
    "n = len(word)\n",
    "[word[0:i]+word[i+1:] for i in range(n)]\n",
    "\n"
   ],
   "metadata": {
    "collapsed": false,
    "pycharm": {
     "name": "#%%\n"
    }
   }
  },
  {
   "cell_type": "code",
   "execution_count": 16,
   "outputs": [
    {
     "data": {
      "text/plain": "['olv', 'lvo']"
     },
     "execution_count": 16,
     "metadata": {},
     "output_type": "execute_result"
    }
   ],
   "source": [
    "[word[0:i]+word[i+1]+word[i]+word[i+2:] for i in range(n-1)]"
   ],
   "metadata": {
    "collapsed": false,
    "pycharm": {
     "name": "#%%\n"
    }
   }
  },
  {
   "cell_type": "code",
   "execution_count": 13,
   "outputs": [
    {
     "data": {
      "text/plain": "['aov',\n 'bov',\n 'cov',\n 'dov',\n 'eov',\n 'fov',\n 'gov',\n 'hov',\n 'iov',\n 'jov',\n 'kov',\n 'lov',\n 'mov',\n 'nov',\n 'oov',\n 'pov',\n 'qov',\n 'rov',\n 'sov',\n 'tov',\n 'uov',\n 'vov',\n 'wov',\n 'xov',\n 'yov',\n 'zov',\n 'lav',\n 'lbv',\n 'lcv',\n 'ldv',\n 'lev',\n 'lfv',\n 'lgv',\n 'lhv',\n 'liv',\n 'ljv',\n 'lkv',\n 'llv',\n 'lmv',\n 'lnv',\n 'lov',\n 'lpv',\n 'lqv',\n 'lrv',\n 'lsv',\n 'ltv',\n 'luv',\n 'lvv',\n 'lwv',\n 'lxv',\n 'lyv',\n 'lzv',\n 'loa',\n 'lob',\n 'loc',\n 'lod',\n 'loe',\n 'lof',\n 'log',\n 'loh',\n 'loi',\n 'loj',\n 'lok',\n 'lol',\n 'lom',\n 'lon',\n 'loo',\n 'lop',\n 'loq',\n 'lor',\n 'los',\n 'lot',\n 'lou',\n 'lov',\n 'low',\n 'lox',\n 'loy',\n 'loz']"
     },
     "execution_count": 13,
     "metadata": {},
     "output_type": "execute_result"
    }
   ],
   "source": [
    "[word[0:i]+c+word[i+1:] for i in range(n) for c in alphabet]"
   ],
   "metadata": {
    "collapsed": false,
    "pycharm": {
     "name": "#%%\n"
    }
   }
  },
  {
   "cell_type": "code",
   "execution_count": 14,
   "outputs": [
    {
     "data": {
      "text/plain": "['alov',\n 'blov',\n 'clov',\n 'dlov',\n 'elov',\n 'flov',\n 'glov',\n 'hlov',\n 'ilov',\n 'jlov',\n 'klov',\n 'llov',\n 'mlov',\n 'nlov',\n 'olov',\n 'plov',\n 'qlov',\n 'rlov',\n 'slov',\n 'tlov',\n 'ulov',\n 'vlov',\n 'wlov',\n 'xlov',\n 'ylov',\n 'zlov',\n 'laov',\n 'lbov',\n 'lcov',\n 'ldov',\n 'leov',\n 'lfov',\n 'lgov',\n 'lhov',\n 'liov',\n 'ljov',\n 'lkov',\n 'llov',\n 'lmov',\n 'lnov',\n 'loov',\n 'lpov',\n 'lqov',\n 'lrov',\n 'lsov',\n 'ltov',\n 'luov',\n 'lvov',\n 'lwov',\n 'lxov',\n 'lyov',\n 'lzov',\n 'loav',\n 'lobv',\n 'locv',\n 'lodv',\n 'loev',\n 'lofv',\n 'logv',\n 'lohv',\n 'loiv',\n 'lojv',\n 'lokv',\n 'lolv',\n 'lomv',\n 'lonv',\n 'loov',\n 'lopv',\n 'loqv',\n 'lorv',\n 'losv',\n 'lotv',\n 'louv',\n 'lovv',\n 'lowv',\n 'loxv',\n 'loyv',\n 'lozv',\n 'lova',\n 'lovb',\n 'lovc',\n 'lovd',\n 'love',\n 'lovf',\n 'lovg',\n 'lovh',\n 'lovi',\n 'lovj',\n 'lovk',\n 'lovl',\n 'lovm',\n 'lovn',\n 'lovo',\n 'lovp',\n 'lovq',\n 'lovr',\n 'lovs',\n 'lovt',\n 'lovu',\n 'lovv',\n 'lovw',\n 'lovx',\n 'lovy',\n 'lovz']"
     },
     "execution_count": 14,
     "metadata": {},
     "output_type": "execute_result"
    }
   ],
   "source": [
    "[word[0:i]+c+word[i:] for i in range(n+1) for c in alphabet]"
   ],
   "metadata": {
    "collapsed": false,
    "pycharm": {
     "name": "#%%\n"
    }
   }
  },
  {
   "cell_type": "code",
   "execution_count": 15,
   "outputs": [
    {
     "data": {
      "text/plain": "{'alov',\n 'aov',\n 'blov',\n 'bov',\n 'clov',\n 'cov',\n 'dlov',\n 'dov',\n 'elov',\n 'eov',\n 'flov',\n 'fov',\n 'glov',\n 'gov',\n 'hlov',\n 'hov',\n 'ilov',\n 'iov',\n 'jlov',\n 'jov',\n 'klov',\n 'kov',\n 'laov',\n 'lav',\n 'lbov',\n 'lbv',\n 'lcov',\n 'lcv',\n 'ldov',\n 'ldv',\n 'leov',\n 'lev',\n 'lfov',\n 'lfv',\n 'lgov',\n 'lgv',\n 'lhov',\n 'lhv',\n 'liov',\n 'liv',\n 'ljov',\n 'ljv',\n 'lkov',\n 'lkv',\n 'llov',\n 'llv',\n 'lmov',\n 'lmv',\n 'lnov',\n 'lnv',\n 'lo',\n 'loa',\n 'loav',\n 'lob',\n 'lobv',\n 'loc',\n 'locv',\n 'lod',\n 'lodv',\n 'loe',\n 'loev',\n 'lof',\n 'lofv',\n 'log',\n 'logv',\n 'loh',\n 'lohv',\n 'loi',\n 'loiv',\n 'loj',\n 'lojv',\n 'lok',\n 'lokv',\n 'lol',\n 'lolv',\n 'lom',\n 'lomv',\n 'lon',\n 'lonv',\n 'loo',\n 'loov',\n 'lop',\n 'lopv',\n 'loq',\n 'loqv',\n 'lor',\n 'lorv',\n 'los',\n 'losv',\n 'lot',\n 'lotv',\n 'lou',\n 'louv',\n 'lov',\n 'lova',\n 'lovb',\n 'lovc',\n 'lovd',\n 'love',\n 'lovf',\n 'lovg',\n 'lovh',\n 'lovi',\n 'lovj',\n 'lovk',\n 'lovl',\n 'lovm',\n 'lovn',\n 'lovo',\n 'lovp',\n 'lovq',\n 'lovr',\n 'lovs',\n 'lovt',\n 'lovu',\n 'lovv',\n 'lovw',\n 'lovx',\n 'lovy',\n 'lovz',\n 'low',\n 'lowv',\n 'lox',\n 'loxv',\n 'loy',\n 'loyv',\n 'loz',\n 'lozv',\n 'lpov',\n 'lpv',\n 'lqov',\n 'lqv',\n 'lrov',\n 'lrv',\n 'lsov',\n 'lsv',\n 'ltov',\n 'ltv',\n 'luov',\n 'luv',\n 'lv',\n 'lvo',\n 'lvov',\n 'lvv',\n 'lwov',\n 'lwv',\n 'lxov',\n 'lxv',\n 'lyov',\n 'lyv',\n 'lzov',\n 'lzv',\n 'mlov',\n 'mov',\n 'nlov',\n 'nov',\n 'olov',\n 'olv',\n 'oov',\n 'ov',\n 'plov',\n 'pov',\n 'qlov',\n 'qov',\n 'rlov',\n 'rov',\n 'slov',\n 'sov',\n 'tlov',\n 'tov',\n 'ulov',\n 'uov',\n 'vlov',\n 'vov',\n 'wlov',\n 'wov',\n 'xlov',\n 'xov',\n 'ylov',\n 'yov',\n 'zlov',\n 'zov'}"
     },
     "execution_count": 15,
     "metadata": {},
     "output_type": "execute_result"
    }
   ],
   "source": [
    "set([word[0:i]+word[i+1:] for i in range(n)] +                     # deletion[start:end] 从start 提取到end - 1\n",
    "               [word[0:i]+word[i+1]+word[i]+word[i+2:] for i in range(n-1)] + # transposition\n",
    "               [word[0:i]+c+word[i+1:] for i in range(n) for c in alphabet] + # alteration\n",
    "               [word[0:i]+c+word[i:] for i in range(n+1) for c in alphabet])  # insertion"
   ],
   "metadata": {
    "collapsed": false,
    "pycharm": {
     "name": "#%%\n"
    }
   }
  },
  {
   "cell_type": "code",
   "execution_count": 23,
   "outputs": [
    {
     "name": "stdout",
     "output_type": "stream",
     "text": [
      "[]\n",
      "1\n",
      "[]\n",
      "2\n",
      "[1]\n",
      "3\n",
      "[2]\n",
      "4\n",
      "[]\n",
      "1\n",
      "defaultdict(<class 'list'>, {'yellow': [1, 3], 'blue': [2, 4], 'red': [1]})\n",
      "[('blue', [2, 4]), ('red', [1]), ('yellow', [1, 3])]\n"
     ]
    }
   ],
   "source": [
    "from collections import defaultdict\n",
    "s=[('yellow',1),('blue', 2), ('yellow', 3), ('blue', 4), ('red', 1)]\n",
    "d=defaultdict(list)\n",
    "for k, v in s:\n",
    "    print(d[k])\n",
    "    print(v)\n",
    "    d[k].append(v)\n",
    "a=sorted(d.items())\n",
    "print(d)\n",
    "print(a)"
   ],
   "metadata": {
    "collapsed": false,
    "pycharm": {
     "name": "#%%\n"
    }
   }
  },
  {
   "cell_type": "code",
   "execution_count": null,
   "outputs": [],
   "source": [],
   "metadata": {
    "collapsed": false,
    "pycharm": {
     "name": "#%%\n"
    }
   }
  },
  {
   "cell_type": "code",
   "execution_count": 20,
   "outputs": [],
   "source": [
    "#汇总到地市\n",
    "df_数据汇总 = pd.read_excel(r'G:\\智诚\\日常给出数据汇总\\月通报\\12月统计\\结果表\\11月通报数据v1.0\\通报合并0111v4.0.xlsx',sheet_name='全部')\n",
    "df_数据汇总2 = pd.read_excel(r'G:\\智诚\\日常给出数据汇总\\月通报\\12月统计\\结果表\\11月通报数据v1.0\\通报合并0111v4.0.xlsx',sheet_name='Sheet1')\n",
    "df= pd.merge(df_数据汇总,df_数据汇总2, on=['地市','区县'],\n",
    "                                     how='left')\n",
    "with pd.ExcelWriter(r'G:\\智诚\\日常给出数据汇总\\月通报\\12月统计\\结果表\\11月通报数据v1.0\\通报合并0111v4.1.xlsx') as writer1:\n",
    "    df.to_excel(writer1, sheet_name='全部', index=True)"
   ],
   "metadata": {
    "collapsed": false,
    "pycharm": {
     "name": "#%%\n"
    }
   }
  },
  {
   "cell_type": "code",
   "execution_count": 3,
   "outputs": [],
   "source": [
    "#汇总到地市\n",
    "df_数据汇总 = pd.read_excel(r'G:\\智诚\\2023日常给出数据\\省通报\\1月\\1月报表统计\\【超限100%数据】1月地市超限100%数据V3.0.xlsx',sheet_name='超限100%数明细表')\n",
    "df_数据汇总 = df_数据汇总.groupby(['地市','区县'])['车牌号'].count().rename('超限100数')\n",
    "with pd.ExcelWriter(r'G:\\智诚\\2023日常给出数据\\省通报\\1月\\1月报表统计\\临时.xlsx') as writer1:\n",
    "    df_数据汇总.to_excel(writer1, sheet_name='全部', index=True)"
   ],
   "metadata": {
    "collapsed": false,
    "pycharm": {
     "name": "#%%\n"
    }
   }
  },
  {
   "cell_type": "code",
   "execution_count": 4,
   "outputs": [],
   "source": [
    "#汇总到地市\n",
    "df_数据汇总 = pd.read_excel(r'G:\\智诚\\2023日常给出数据\\其他任务\\台州2022年数据明细.xlsx')\n",
    "df_数据汇总 = df_数据汇总.groupby(['区县编码','地市','区县']).sum()\n",
    "with pd.ExcelWriter(r'G:\\智诚\\2023日常给出数据\\其他任务\\台州2022年数据汇总.xlsx') as writer1:\n",
    "    df_数据汇总.to_excel(writer1, sheet_name='全部', index=True)"
   ],
   "metadata": {
    "collapsed": false,
    "pycharm": {
     "name": "#%%\n"
    }
   }
  },
  {
   "cell_type": "code",
   "execution_count": 4,
   "outputs": [],
   "source": [
    "#汇总到地市\n",
    "df_数据汇总 = pd.read_excel(r'G:\\智诚\\2023日常给出数据\\省通报\\1月\\通报合并省市县.xlsx',sheet_name='文本格式')\n",
    "df_数据汇总2 = pd.read_excel(r'G:\\智诚\\2023日常给出数据\\省通报\\1月\\通报合并省市县.xlsx',sheet_name='Sheet3')\n",
    "\n",
    "df= pd.merge(df_数据汇总,df_数据汇总2, on=['区县'],\n",
    "                                     how='left')\n",
    "df=df.fillna(0)\n",
    "with pd.ExcelWriter(r'G:\\智诚\\2023日常给出数据\\省通报\\1月\\1月报表统计\\临时.xlsx')as writer1:\n",
    "    df.to_excel(writer1, sheet_name='全部', index=True)"
   ],
   "metadata": {
    "collapsed": false,
    "pycharm": {
     "name": "#%%\n"
    }
   }
  },
  {
   "cell_type": "code",
   "execution_count": 3,
   "outputs": [],
   "source": [
    "#汇总到地市\n",
    "df_数据汇总 = pd.read_excel(r'G:\\智诚\\日常给出数据汇总\\月通报\\汇总数据\\通报全部汇总\\1-12月全部地市汇总数据v2.0.xlsx',sheet_name='Sheet1')\n",
    "df_数据汇总 = df_数据汇总.groupby(['地市编码','地市'])['货车数','超限数'].sum()\n",
    "with pd.ExcelWriter(r'G:\\智诚\\2023日常给出数据\\其他任务\\通报22年地市数据.xlsx') as writer1:\n",
    "   df_数据汇总 .to_excel(writer1, sheet_name='全部', index=True)"
   ],
   "metadata": {
    "collapsed": false,
    "pycharm": {
     "name": "#%%\n"
    }
   }
  },
  {
   "cell_type": "code",
   "execution_count": 13,
   "outputs": [],
   "source": [
    "#汇总到地市\n",
    "df_数据汇总 = pd.read_excel(r'G:\\智诚\\日常给出数据汇总\\月通报\\11月统计\\11通报1.0\\结果\\11上报数据V3.0\\未剔除区县超限率排名.xlsx',sheet_name='区县超限率排名')\n",
    "df= df_数据汇总.groupby(['地市']).sum()\n",
    "with pd.ExcelWriter(r'G:\\智诚\\日常给出数据汇总\\月通报\\11月统计\\11通报1.0\\结果\\11上报数据V3.0\\未剔除地市汇总.xlsx') as writer1:\n",
    "    df.to_excel(writer1, sheet_name='全部', index=True)"
   ],
   "metadata": {
    "collapsed": false,
    "pycharm": {
     "name": "#%%\n"
    }
   }
  },
  {
   "cell_type": "code",
   "execution_count": 2,
   "outputs": [],
   "source": [
    "#汇总到地市\n",
    "df_数据汇总 = pd.read_excel(r'G:\\智诚\\日常给出数据汇总\\其他日常任务\\嘉兴超限率1-12月21日明细.xlsx')\n",
    "df= df_数据汇总.groupby([ '地市','区县']).sum()\n",
    "with pd.ExcelWriter(r'G:\\智诚\\日常给出数据汇总\\其他日常任务\\嘉兴超限率1-12月21日汇总.xlsx') as writer1:\n",
    "    df.to_excel(writer1, sheet_name='全部', index=True)"
   ],
   "metadata": {
    "collapsed": false,
    "pycharm": {
     "name": "#%%\n"
    }
   }
  },
  {
   "cell_type": "code",
   "execution_count": 20,
   "outputs": [],
   "source": [
    "#汇总到地市\n",
    "df_数据汇总 = pd.read_excel(r'G:\\智诚\\日常给出数据汇总\\月通报\\汇总数据\\通报全部汇总\\合并结果1\\通报站点明细1-10月加编码.xlsx')\n",
    "T_义乌 = df_数据汇总[(df_数据汇总['area_county'] == '义乌')]\n",
    "df_义乌= T_义乌.groupby([ 'statistics_date','county_code','area_county']).sum()\n",
    "df_数据汇总 = df_数据汇总[(df_数据汇总.area_county != '义乌')\n",
    "            ]\n",
    "df= df_数据汇总.groupby([ 'statistics_date','city_code','area_city']).sum()\n",
    "with pd.ExcelWriter(r'G:\\智诚\\日常给出数据汇总\\其他日常任务\\地市级1-5月剔除20%以上数据.xlsx') as writer1:\n",
    "    df.to_excel(writer1, sheet_name='全部', index=True)\n",
    "    df_义乌.to_excel(writer1, sheet_name='义乌', index=True)"
   ],
   "metadata": {
    "collapsed": false,
    "pycharm": {
     "name": "#%%\n"
    }
   }
  },
  {
   "cell_type": "code",
   "execution_count": 4,
   "outputs": [],
   "source": [
    "#汇总到地市\n",
    "df_数据汇总 = pd.read_excel(r'G:\\智诚\\日常给出数据汇总\\月通报\\12月统计\\结果表\\11月通报数据v1.0\\通报合并0111v3.0.xlsx',sheet_name='1')\n",
    "df_数据汇总2 = pd.read_excel(r'G:\\智诚\\日常给出数据汇总\\月通报\\12月统计\\结果表\\11月通报数据v1.0\\通报合并0111v3.0.xlsx',sheet_name='2')\n",
    "df_数据汇总3 = pd.read_excel(r'G:\\智诚\\日常给出数据汇总\\月通报\\12月统计\\结果表\\11月通报数据v1.0\\通报合并0111v3.0.xlsx',sheet_name='3')\n",
    "df= pd.merge(df_数据汇总,df_数据汇总2 , on=['county_code'],\n",
    "                                     how='left')\n",
    "df_数据汇总3= df_数据汇总3.groupby([ 'county_code']).count()\n",
    "df= pd.merge(df,df_数据汇总3, on=['county_code'],\n",
    "                                     how='left')\n",
    "with pd.ExcelWriter(r'G:\\智诚\\日常给出数据汇总\\月通报\\12月统计\\结果表\\11月通报数据v1.0\\通报合并0111v4.44.xlsx') as writer1:\n",
    "    df.to_excel(writer1, sheet_name='全部', index=True)\n"
   ],
   "metadata": {
    "collapsed": false,
    "pycharm": {
     "name": "#%%\n"
    }
   }
  },
  {
   "cell_type": "markdown",
   "source": [],
   "metadata": {
    "collapsed": false
   }
  },
  {
   "cell_type": "code",
   "execution_count": 3,
   "outputs": [],
   "source": [
    "#汇总到地市\n",
    "df_数据汇总 = pd.read_excel(r'G:\\智诚\\日常给出数据汇总\\月通报\\12月统计\\结果表\\11月通报数据v1.0\\通报合并0111v4.0.xlsx')\n",
    "df= df_数据汇总.groupby([ 'city','city_code']).sum()\n",
    "with pd.ExcelWriter(r'G:\\智诚\\日常给出数据汇总\\月通报\\12月统计\\结果表\\11月通报数据v1.0\\通报合并0111v5.0.xlsx') as writer1:\n",
    "    df.to_excel(writer1, sheet_name='全部', index=True)"
   ],
   "metadata": {
    "collapsed": false,
    "pycharm": {
     "name": "#%%\n"
    }
   }
  },
  {
   "cell_type": "code",
   "execution_count": 14,
   "outputs": [],
   "source": [
    "#交警上报合并\n",
    "df_数据汇总 = pd.read_excel(r'G:\\智诚\\日常给出数据汇总\\月通报\\11月统计\\11通报1.0\\截止11月汇总.xlsx')\n",
    "df_全部 = pd.read_excel(r'G:\\智诚\\python代码\\程序文件\\案件处理程序表\\t2_依赖的系统表\\df_an_mx3.xlsx')\n",
    "df= pd.merge(df_数据汇总,df_全部, on='county_code',\n",
    "                                     how='outer')\n",
    "with pd.ExcelWriter(r'G:\\智诚\\日常给出数据汇总\\月通报\\11月统计\\11通报1.0\\截止11月汇总加交警.xlsx') as writer1:\n",
    "    df.to_excel(writer1, sheet_name='全部', index=True)"
   ],
   "metadata": {
    "collapsed": false,
    "pycharm": {
     "name": "#%%\n"
    }
   }
  },
  {
   "cell_type": "code",
   "execution_count": 6,
   "outputs": [],
   "source": [
    "#汇总到地市\n",
    "df_数据汇总 = pd.read_excel(r'G:\\智诚\\日常给出数据汇总\\月通报\\汇总数据\\通报全部汇总\\1-12月全部区县汇总数据v2.0.xlsx',sheet_name='全部')\n",
    "df_数据汇总2 = pd.read_excel(r'G:\\智诚\\日常给出数据汇总\\月通报\\汇总数据\\通报全部汇总\\1-12月全部区县汇总数据v2.0.xlsx',sheet_name='Sheet1')\n",
    "df= pd.merge(df_数据汇总,df_数据汇总2, on=['月份','地市','区县'],\n",
    "                                     how='right')\n",
    "df=df.fillna(0)\n",
    "with pd.ExcelWriter(r'G:\\智诚\\日常给出数据汇总\\月通报\\汇总数据\\通报全部汇总\\1-12月全部区县汇总数据v2.4.xlsx') as writer1:\n",
    "    df.to_excel(writer1, sheet_name='全部', index=True)"
   ],
   "metadata": {
    "collapsed": false,
    "pycharm": {
     "name": "#%%\n"
    }
   }
  },
  {
   "cell_type": "code",
   "execution_count": null,
   "outputs": [],
   "source": [],
   "metadata": {
    "collapsed": false,
    "pycharm": {
     "name": "#%%\n"
    }
   }
  },
  {
   "cell_type": "code",
   "execution_count": 28,
   "outputs": [],
   "source": [
    "#汇总到地市\n",
    "df_数据汇总 = pd.read_excel(r'G:\\智诚\\日常给出数据汇总\\月通报\\汇总数据\\通报全部汇总\\1-12月全部区县汇总数据v2.2.xlsx',sheet_name='全部')\n",
    "df_全部= pd.read_excel(r'G:\\智诚\\日常给出数据汇总\\月通报\\汇总数据\\通报全部汇总\\1-12月全部区县汇总数据v2.2.xlsx',sheet_name='Sheet1')\n",
    "df= pd.merge(df_数据汇总,df_全部, on=['地市编码','地市','区县编码','区县'],\n",
    "                                     how='outer')\n",
    "with pd.ExcelWriter(r'G:\\智诚\\日常给出数据汇总\\月通报\\汇总数据\\通报全部汇总\\1-12月全部区县汇总数据v2.3.xlsx') as writer1:\n",
    "    df.to_excel(writer1, sheet_name='全部', index=True)"
   ],
   "metadata": {
    "collapsed": false,
    "pycharm": {
     "name": "#%%\n"
    }
   }
  },
  {
   "cell_type": "code",
   "execution_count": 14,
   "outputs": [],
   "source": [
    "#汇总到地市\n",
    "df_数据汇总 = pd.read_excel(r'G:\\智诚\\日常给出数据汇总\\其他日常任务\\丽水1-12月通报汇总数据.xlsx')\n",
    "df= df_数据汇总.groupby(['地市编码','地市','区县编码','区县']).sum()\n",
    "with pd.ExcelWriter(r'G:\\智诚\\日常给出数据汇总\\其他日常任务\\丽水1-12月通报汇总数据22.xlsx') as writer1:\n",
    "    df.to_excel(writer1, sheet_name='全部', index=True)"
   ],
   "metadata": {
    "collapsed": false,
    "pycharm": {
     "name": "#%%\n"
    }
   }
  },
  {
   "cell_type": "code",
   "execution_count": 30,
   "outputs": [],
   "source": [
    "#汇总到省\n",
    "df_数据汇总 = pd.read_excel(r'G:\\智诚\\日常给出数据汇总\\月通报\\汇总数据\\通报全部汇总\\1-11月全部地市汇总数据v2.0.xlsx')\n",
    "df= df_数据汇总.groupby(['月份']).sum()\n",
    "with pd.ExcelWriter(r'G:\\智诚\\日常给出数据汇总\\月通报\\汇总数据\\通报全部汇总\\1-11月全部省汇总数据v2.0.xlsx') as writer1:\n",
    "    df.to_excel(writer1, sheet_name='全部', index=True)"
   ],
   "metadata": {
    "collapsed": false,
    "pycharm": {
     "name": "#%%\n"
    }
   }
  },
  {
   "cell_type": "code",
   "execution_count": 7,
   "outputs": [],
   "source": [
    "#现场补充案件汇总\n",
    "df_数据汇总 = pd.read_excel(r'G:\\智诚\\日常给出数据汇总\\紧急任务\\应急中心\\全部1-7月市普通公路超限率.xlsx')\n",
    "df=df_数据汇总.sort_values(by=[\"月份\",\"超限率\"],ascending=True)\n",
    "with pd.ExcelWriter(r'G:\\智诚\\日常给出数据汇总\\紧急任务\\应急中心\\全部1-7月市普通公路超限率v2.0.xlsx') as writer1:\n",
    "    df.to_excel(writer1, sheet_name='全部', index=True)"
   ],
   "metadata": {
    "collapsed": false,
    "pycharm": {
     "name": "#%%\n"
    }
   }
  },
  {
   "cell_type": "code",
   "execution_count": 12,
   "outputs": [],
   "source": [
    "#现场补充案件汇总\n",
    "df_数据汇总 = pd.read_excel(r'G:\\智诚\\日常给出数据汇总\\紧急任务\\应急中心\\全部1-7月市普通公路超限率.xlsx')\n",
    "df_数据汇总['超限率排名']= df_数据汇总.groupby('月份')['超限率'].rank(ascending=True,  method='dense')\n",
    "df= df_数据汇总\n",
    "with pd.ExcelWriter(r'G:\\智诚\\日常给出数据汇总\\紧急任务\\应急中心\\全部1-7月市普通公路超限率v3.0.xlsx') as writer1:\n",
    "    df.to_excel(writer1, sheet_name='全部', index=True)"
   ],
   "metadata": {
    "collapsed": false,
    "pycharm": {
     "name": "#%%\n"
    }
   }
  },
  {
   "cell_type": "code",
   "execution_count": 4,
   "outputs": [],
   "source": [
    "#现场补充案件汇总\n",
    "df_数据汇总 = pd.read_excel(r'F:\\微信\\WeChat Files\\wxid_gy57fik0ep7c21\\FileStorage\\File\\2022-12\\富阳筛选过(1).xlsx',sheet_name='Sheet1')\n",
    "df_全部 = pd.read_excel(r'F:\\微信\\WeChat Files\\wxid_gy57fik0ep7c21\\FileStorage\\File\\2022-12\\富阳筛选过(1).xlsx',sheet_name='Sheet2')\n",
    "\n",
    "df= pd.merge(df_数据汇总,df_全部, on=['检测时间','车牌号码'],\n",
    "                                     how='left')\n",
    "with pd.ExcelWriter(r'F:\\微信\\WeChat Files\\wxid_gy57fik0ep7c21\\FileStorage\\File\\2022-12\\富阳筛选过整合结果1220.xlsx') as writer1:\n",
    "    df.to_excel(writer1, sheet_name='全部', index=True)"
   ],
   "metadata": {
    "collapsed": false,
    "pycharm": {
     "name": "#%%\n"
    }
   }
  },
  {
   "cell_type": "code",
   "execution_count": 5,
   "outputs": [],
   "source": [
    "#完好率合并\n",
    "df_数据汇总 = pd.read_excel(r'G:\\智诚\\日常给出数据汇总\\月通报\\12月统计\\结果表\\11月通报数据v1.0\\通报合并0103.xlsx',sheet_name='全部')\n",
    "df_全部 = pd.read_excel(r'G:\\智诚\\日常给出数据汇总\\月通报\\12月统计\\结果表\\11月通报数据v1.0\\通报合并0103.xlsx',sheet_name='11月合规率')\n",
    "\n",
    "df= pd.merge(df_数据汇总,df_全部, on=['county_code'],\n",
    "                                     how='left')\n",
    "with pd.ExcelWriter(r'G:\\智诚\\日常给出数据汇总\\月通报\\12月统计\\结果表\\11月通报数据v1.0\\通报合规率.xlsx') as writer1:\n",
    "    df.to_excel(writer1, sheet_name='全部', index=True)"
   ],
   "metadata": {
    "collapsed": false,
    "pycharm": {
     "name": "#%%\n"
    }
   }
  },
  {
   "cell_type": "code",
   "execution_count": 10,
   "outputs": [],
   "source": [
    "df_数据汇总 = pd.read_excel(r'G:\\智诚\\日常给出数据汇总\\月通报\\汇总数据\\通报全部汇总\\合并结果1\\1-11全部区县汇总站点完好率更新.xlsx')\n",
    "df_数据汇总 = df_数据汇总.fillna(0)\n",
    "with pd.ExcelWriter(r'G:\\智诚\\日常给出数据汇总\\月通报\\汇总数据\\通报全部汇总\\合并结果1\\1-11全部区县汇总站点完好率更新v2.0.xlsx') as writer1:\n",
    "   df_数据汇总.to_excel(writer1, sheet_name='全部', index=False)"
   ],
   "metadata": {
    "collapsed": false,
    "pycharm": {
     "name": "#%%\n"
    }
   }
  },
  {
   "cell_type": "code",
   "execution_count": 31,
   "outputs": [
    {
     "name": "stdout",
     "output_type": "stream",
     "text": [
      "[[ 1.62434536 -0.61175641 -0.52817175 -1.07296862  0.86540763]]\n",
      "______________________\n",
      "[[-2.3015387   1.74481176 -0.7612069   0.3190391  -0.24937038]]\n"
     ]
    },
    {
     "data": {
      "text/plain": "<Figure size 432x288 with 1 Axes>",
      "image/png": "[encoded data removed]"
     },
     "metadata": {
      "needs_background": "light"
     },
     "output_type": "display_data"
    }
   ],
   "source": [
    "# -*- coding:utf-8 -*-\n",
    "import numpy as np\n",
    "import matplotlib.pyplot as plt\n",
    "\n",
    "np.random.seed(1) # 产生相同的随机数(之后如果使用random，不管运行几次都是第一次的数据)\n",
    "\n",
    "#散点的个数\n",
    "n=5\n",
    "X = np.random.randn(1, n)\n",
    "Y = np.random.randn(1, n)\n",
    "print(X)\n",
    "print(\"______________________\")\n",
    "print(Y)\n",
    "label = np.array([1,2,3,4,5]) #对应每个散点的颜色\n",
    "\n",
    "#plt.scatter()函数用于生成一个scatter散点图。\n",
    "plt.scatter(X.reshape(n), Y.reshape(n), c =label, s = 2000, cmap = plt.cm.Spectral)\n",
    "plt.show()"
   ],
   "metadata": {
    "collapsed": false,
    "pycharm": {
     "name": "#%%\n"
    }
   }
  },
  {
   "cell_type": "code",
   "execution_count": 32,
   "outputs": [
    {
     "ename": "NameError",
     "evalue": "name 'x' is not defined",
     "output_type": "error",
     "traceback": [
      "\u001B[1;31m---------------------------------------------------------------------------\u001B[0m",
      "\u001B[1;31mNameError\u001B[0m                                 Traceback (most recent call last)",
      "\u001B[1;32mC:\\Users\\STAYHU~1\\AppData\\Local\\Temp/ipykernel_23556/2302778794.py\u001B[0m in \u001B[0;36m<module>\u001B[1;34m\u001B[0m\n\u001B[0;32m     25\u001B[0m \u001B[0mmin_samples\u001B[0m \u001B[1;33m=\u001B[0m \u001B[1;36m30\u001B[0m\u001B[1;33m\u001B[0m\u001B[1;33m\u001B[0m\u001B[0m\n\u001B[0;32m     26\u001B[0m \u001B[0mparams\u001B[0m \u001B[1;33m=\u001B[0m \u001B[0meps\u001B[0m\u001B[1;33m,\u001B[0m \u001B[0mmin_samples\u001B[0m\u001B[1;33m\u001B[0m\u001B[1;33m\u001B[0m\u001B[0m\n\u001B[1;32m---> 27\u001B[1;33m \u001B[0mabnormal_point\u001B[0m \u001B[1;33m=\u001B[0m \u001B[0mfilter_data\u001B[0m\u001B[1;33m(\u001B[0m\u001B[0mx\u001B[0m\u001B[1;33m,\u001B[0m \u001B[0mparams\u001B[0m\u001B[1;33m)\u001B[0m\u001B[1;33m\u001B[0m\u001B[1;33m\u001B[0m\u001B[0m\n\u001B[0m\u001B[0;32m     28\u001B[0m \u001B[0mprint\u001B[0m\u001B[1;33m(\u001B[0m\u001B[0mabnormal_point\u001B[0m\u001B[1;33m)\u001B[0m\u001B[1;33m\u001B[0m\u001B[1;33m\u001B[0m\u001B[0m\n",
      "\u001B[1;31mNameError\u001B[0m: name 'x' is not defined"
     ]
    }
   ],
   "source": [
    "#dbsacan检测\n",
    "def filter_data(data0, params):\n",
    "    from sklearn.cluster import DBSCAN\n",
    "    from sklearn import metrics\n",
    "    from sklearn.preprocessing import StandardScaler\n",
    "    scaler = StandardScaler()\n",
    "    scaler.fit(data0)\n",
    "    data = scaler.transform(data0)\n",
    "    # eps:半径，表示以给定点P为中心的圆形邻域的范围\n",
    "    # min_samples:以点P为中心的邻域内最少点的数量\n",
    "    # 如果满足,以点P为中心,半径为EPS的邻域内点的个数不少于MinPts,则称点P为核心点\n",
    "    eps, min_samples = params\n",
    "    # eps为领域的大小，min_samples为领域内最小点的个数\n",
    "    model = DBSCAN(eps=eps, min_samples=min_samples)  # 构造分类器\n",
    "    model.fit(data)  # 拟合\n",
    "    labels = model.labels_  # 获取类别标签，-1表示未分类\n",
    "    # 获取其中的core points core_sample_indices_\n",
    "    core_indices = np.zeros_like(labels, dtype=bool)  # 生成数据类型和数据shape和指定array一致的变量\n",
    "    core_indices[model.core_sample_indices_] = True  # model.core_sample_indices_ border point位于labels中的下标\n",
    "    core_point = data[core_indices]\n",
    "    # 获取非异常点 两个类似\n",
    "    abnormal_point = data0[labels < 0]\n",
    "    return abnormal_point\n",
    "eps = 10\n",
    "min_samples = 30\n",
    "params = eps, min_samples\n",
    "abnormal_point = filter_data(x, params)\n",
    "print(abnormal_point)"
   ],
   "metadata": {
    "collapsed": false,
    "pycharm": {
     "name": "#%%\n"
    }
   }
  }
 ],
 "metadata": {
  "kernelspec": {
   "display_name": "Python 3",
   "language": "python",
   "name": "python3"
  },
  "language_info": {
   "codemirror_mode": {
    "name": "ipython",
    "version": 2
   },
   "file_extension": ".py",
   "mimetype": "text/x-python",
   "name": "python",
   "nbconvert_exporter": "python",
   "pygments_lexer": "ipython2",
   "version": "2.7.6"
  }
 },
 "nbformat": 4,
 "nbformat_minor": 0
}