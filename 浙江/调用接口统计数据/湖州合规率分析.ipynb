{
 "cells": [
  {
   "cell_type": "code",
   "execution_count": 1,
   "metadata": {
    "collapsed": true
   },
   "outputs": [
    {
     "name": "stderr",
     "output_type": "stream",
     "text": [
      "F:\\anconda\\lib\\site-packages\\pandas\\compat\\_optional.py:138: UserWarning: Pandas requires version '2.7.0' or newer of 'numexpr' (version '2.6.9' currently installed).\n",
      "  warnings.warn(msg, UserWarning)\n"
     ]
    }
   ],
   "source": [
    "# coding: utf-8\n",
    "\n",
    "\n",
    "import time\n",
    "import pandas as pd\n",
    "import requests\n",
    "import base64\n",
    "import datetime\n",
    "import pymysql\n",
    "import json\n",
    "import csv"
   ]
  },
  {
   "cell_type": "code",
   "execution_count": 2,
   "outputs": [],
   "source": [
    "df1 = pd.read_excel(r'C:\\Users\\stayhungary\\Desktop\\0912test2.xlsx',sheet_name='地市')\n",
    "df2 = pd.read_excel(r'C:\\Users\\stayhungary\\Desktop\\0912test2.xlsx',sheet_name='地市2')\n",
    "\n"
   ],
   "metadata": {
    "collapsed": false,
    "pycharm": {
     "name": "#%%\n"
    }
   }
  },
  {
   "cell_type": "markdown",
   "source": [],
   "metadata": {
    "collapsed": false
   }
  },
  {
   "cell_type": "code",
   "execution_count": 3,
   "outputs": [],
   "source": [
    "result = pd.concat([df1, df2],axis=1,join='outer')"
   ],
   "metadata": {
    "collapsed": false,
    "pycharm": {
     "name": "#%%\n"
    }
   }
  },
  {
   "cell_type": "code",
   "execution_count": 4,
   "outputs": [],
   "source": [
    "df3=pd.merge(df1, df2, on=['record_code'], how='left')"
   ],
   "metadata": {
    "collapsed": false,
    "pycharm": {
     "name": "#%%\n"
    }
   }
  },
  {
   "cell_type": "code",
   "execution_count": 5,
   "outputs": [],
   "source": [
    "df3=df3.drop_duplicates(subset=['record_code'], keep='first', inplace= False)"
   ],
   "metadata": {
    "collapsed": false,
    "pycharm": {
     "name": "#%%\n"
    }
   }
  },
  {
   "cell_type": "code",
   "execution_count": 5,
   "outputs": [],
   "source": [],
   "metadata": {
    "collapsed": false,
    "pycharm": {
     "name": "#%%\n"
    }
   }
  },
  {
   "cell_type": "code",
   "execution_count": 6,
   "outputs": [],
   "source": [
    "with pd.ExcelWriter(r'C:\\Users\\stayhungary\\Desktop\\0912test5.xlsx') as writer1:\n",
    "    df3.to_excel(writer1, sheet_name='地市', index=True)\n"
   ],
   "metadata": {
    "collapsed": false,
    "pycharm": {
     "name": "#%%\n"
    }
   }
  },
  {
   "cell_type": "code",
   "execution_count": 7,
   "outputs": [
    {
     "name": "stdout",
     "output_type": "stream",
     "text": [
      "<class 'pandas.core.frame.DataFrame'>\n",
      "Int64Index: 580 entries, 0 to 668\n",
      "Data columns (total 34 columns):\n",
      " #   Column            Non-Null Count  Dtype         \n",
      "---  ------            --------------  -----         \n",
      " 0   record_code       580 non-null    object        \n",
      " 1   区县                580 non-null    object        \n",
      " 2   overrun           580 non-null    float64       \n",
      " 3   has_car_no        580 non-null    bool          \n",
      " 4   axis              580 non-null    int64         \n",
      " 5   photo2            489 non-null    object        \n",
      " 6   是否已采集             580 non-null    object        \n",
      " 7   total_weight      580 non-null    float64       \n",
      " 8   is_collect        580 non-null    int64         \n",
      " 9   vedio             448 non-null    object        \n",
      " 10  area_county       580 non-null    int64         \n",
      " 11  overrun_rate      580 non-null    float64       \n",
      " 12  limit_weight      580 non-null    int64         \n",
      " 13  photo             385 non-null    object        \n",
      " 14  site_name         580 non-null    object        \n",
      " 15  photo1            470 non-null    object        \n",
      " 16  out_station_time  580 non-null    datetime64[ns]\n",
      " 17  car_no            580 non-null    object        \n",
      " 18  out_station       580 non-null    object        \n",
      " 19  car_no_color      580 non-null    int64         \n",
      " 20  status_x          580 non-null    int64         \n",
      " 21  allow             10 non-null     float64       \n",
      " 22  photo3            110 non-null    object        \n",
      " 23  identify_car      4 non-null      float64       \n",
      " 24  photo4            9 non-null      object        \n",
      " 25  photo5            1 non-null      object        \n",
      " 26  content           95 non-null     object        \n",
      " 27  audit_time        95 non-null     datetime64[ns]\n",
      " 28  make_copy         95 non-null     object        \n",
      " 29  auditor           95 non-null     object        \n",
      " 30  status_y          95 non-null     float64       \n",
      " 31  valid_time        25 non-null     datetime64[ns]\n",
      " 32  CASE_NUM          1 non-null      object        \n",
      " 33  close_case_time   1 non-null      datetime64[ns]\n",
      "dtypes: bool(1), datetime64[ns](4), float64(6), int64(6), object(17)\n",
      "memory usage: 154.6+ KB\n"
     ]
    }
   ],
   "source": [
    "df3.info()"
   ],
   "metadata": {
    "collapsed": false,
    "pycharm": {
     "name": "#%%\n"
    }
   }
  },
  {
   "cell_type": "code",
   "execution_count": 8,
   "outputs": [
    {
     "data": {
      "text/plain": "          overrun        axis  total_weight  is_collect    area_county  \\\ncount  580.000000  580.000000    580.000000  580.000000     580.000000   \nmean    44.136517    6.755172     91.708931    0.174138  330517.634483   \nstd      7.084331    1.287132      6.421272    0.379555       8.336874   \nmin     35.050000    3.000000     84.050000    0.000000  330502.000000   \n25%     39.300000    6.000000     87.837500    0.000000  330521.000000   \n50%     43.800000    7.000000     91.300000    0.000000  330521.000000   \n75%     47.700000    8.000000     94.825000    0.000000  330521.000000   \nmax    145.500000   10.000000    194.500000    1.000000  330552.000000   \n\n       overrun_rate  limit_weight  car_no_color    status_x  allow  \\\ncount    580.000000    580.000000    580.000000  580.000000   10.0   \nmean      94.339500     47.572414      2.496552    2.734483    1.0   \nstd       22.886176      3.993509      3.134022    4.552725    0.0   \nmin       71.530000     27.000000      0.000000    1.000000    1.0   \n25%       80.200000     49.000000      1.000000    1.000000    1.0   \n50%       89.385000     49.000000      1.000000    1.000000    1.0   \n75%       98.570000     49.000000      1.000000    1.000000    1.0   \nmax      296.930000     49.000000      9.000000   15.000000    1.0   \n\n       identify_car   status_y  \ncount           4.0  95.000000  \nmean            2.0  12.147368  \nstd             0.0   4.826717  \nmin             2.0   0.000000  \n25%             2.0   9.000000  \n50%             2.0  15.000000  \n75%             2.0  15.000000  \nmax             2.0  15.000000  ",
      "text/html": "<div>\n<style scoped>\n    .dataframe tbody tr th:only-of-type {\n        vertical-align: middle;\n    }\n\n    .dataframe tbody tr th {\n        vertical-align: top;\n    }\n\n    .dataframe thead th {\n        text-align: right;\n    }\n</style>\n<table border=\"1\" class=\"dataframe\">\n  <thead>\n    <tr style=\"text-align: right;\">\n      <th></th>\n      <th>overrun</th>\n      <th>axis</th>\n      <th>total_weight</th>\n      <th>is_collect</th>\n      <th>area_county</th>\n      <th>overrun_rate</th>\n      <th>limit_weight</th>\n      <th>car_no_color</th>\n      <th>status_x</th>\n      <th>allow</th>\n      <th>identify_car</th>\n      <th>status_y</th>\n    </tr>\n  </thead>\n  <tbody>\n    <tr>\n      <th>count</th>\n      <td>580.000000</td>\n      <td>580.000000</td>\n      <td>580.000000</td>\n      <td>580.000000</td>\n      <td>580.000000</td>\n      <td>580.000000</td>\n      <td>580.000000</td>\n      <td>580.000000</td>\n      <td>580.000000</td>\n      <td>10.0</td>\n      <td>4.0</td>\n      <td>95.000000</td>\n    </tr>\n    <tr>\n      <th>mean</th>\n      <td>44.136517</td>\n      <td>6.755172</td>\n      <td>91.708931</td>\n      <td>0.174138</td>\n      <td>330517.634483</td>\n      <td>94.339500</td>\n      <td>47.572414</td>\n      <td>2.496552</td>\n      <td>2.734483</td>\n      <td>1.0</td>\n      <td>2.0</td>\n      <td>12.147368</td>\n    </tr>\n    <tr>\n      <th>std</th>\n      <td>7.084331</td>\n      <td>1.287132</td>\n      <td>6.421272</td>\n      <td>0.379555</td>\n      <td>8.336874</td>\n      <td>22.886176</td>\n      <td>3.993509</td>\n      <td>3.134022</td>\n      <td>4.552725</td>\n      <td>0.0</td>\n      <td>0.0</td>\n      <td>4.826717</td>\n    </tr>\n    <tr>\n      <th>min</th>\n      <td>35.050000</td>\n      <td>3.000000</td>\n      <td>84.050000</td>\n      <td>0.000000</td>\n      <td>330502.000000</td>\n      <td>71.530000</td>\n      <td>27.000000</td>\n      <td>0.000000</td>\n      <td>1.000000</td>\n      <td>1.0</td>\n      <td>2.0</td>\n      <td>0.000000</td>\n    </tr>\n    <tr>\n      <th>25%</th>\n      <td>39.300000</td>\n      <td>6.000000</td>\n      <td>87.837500</td>\n      <td>0.000000</td>\n      <td>330521.000000</td>\n      <td>80.200000</td>\n      <td>49.000000</td>\n      <td>1.000000</td>\n      <td>1.000000</td>\n      <td>1.0</td>\n      <td>2.0</td>\n      <td>9.000000</td>\n    </tr>\n    <tr>\n      <th>50%</th>\n      <td>43.800000</td>\n      <td>7.000000</td>\n      <td>91.300000</td>\n      <td>0.000000</td>\n      <td>330521.000000</td>\n      <td>89.385000</td>\n      <td>49.000000</td>\n      <td>1.000000</td>\n      <td>1.000000</td>\n      <td>1.0</td>\n      <td>2.0</td>\n      <td>15.000000</td>\n    </tr>\n    <tr>\n      <th>75%</th>\n      <td>47.700000</td>\n      <td>8.000000</td>\n      <td>94.825000</td>\n      <td>0.000000</td>\n      <td>330521.000000</td>\n      <td>98.570000</td>\n      <td>49.000000</td>\n      <td>1.000000</td>\n      <td>1.000000</td>\n      <td>1.0</td>\n      <td>2.0</td>\n      <td>15.000000</td>\n    </tr>\n    <tr>\n      <th>max</th>\n      <td>145.500000</td>\n      <td>10.000000</td>\n      <td>194.500000</td>\n      <td>1.000000</td>\n      <td>330552.000000</td>\n      <td>296.930000</td>\n      <td>49.000000</td>\n      <td>9.000000</td>\n      <td>15.000000</td>\n      <td>1.0</td>\n      <td>2.0</td>\n      <td>15.000000</td>\n    </tr>\n  </tbody>\n</table>\n</div>"
     },
     "execution_count": 8,
     "metadata": {},
     "output_type": "execute_result"
    }
   ],
   "source": [
    "df3.describe()"
   ],
   "metadata": {
    "collapsed": false,
    "pycharm": {
     "name": "#%%\n"
    }
   }
  },
  {
   "cell_type": "code",
   "execution_count": 9,
   "outputs": [],
   "source": [
    "import time"
   ],
   "metadata": {
    "collapsed": false,
    "pycharm": {
     "name": "#%%\n"
    }
   }
  },
  {
   "cell_type": "code",
   "execution_count": 10,
   "outputs": [],
   "source": [
    "df3['out_station_month']=pd.to_datetime(df3['out_station_time']).dt.strftime(\"%Y-%m\")"
   ],
   "metadata": {
    "collapsed": false,
    "pycharm": {
     "name": "#%%\n"
    }
   }
  },
  {
   "cell_type": "code",
   "execution_count": 11,
   "outputs": [
    {
     "data": {
      "text/plain": "                                record_code  区县  overrun  has_car_no  axis  \\\n0    123456_3305213103202307010701305420192  德清     40.6        True     8   \n1    123456_3305213103202307010717215420344  德清     50.1        True     7   \n2    123456_3305213103202307010750035420647  德清     38.7        True     8   \n3    123456_3305213103202307010800485420760  德清     47.0        True     7   \n4    123456_3305213103202307010919365421537  德清     44.3        True     8   \n..                                      ...  ..      ...         ...   ...   \n664           DG104002_20230728031502000107  德清     39.3        True     6   \n665           DG104002_20230728031502000108  德清     39.3        True     6   \n666           DG104002_20230728031502000116  德清     39.3        True     6   \n667           DG104002_20230728031502000119  德清     39.3        True     6   \n668           DG104002_20230728031502000122  德清     39.3        True     6   \n\n                                                photo2 是否已采集  total_weight  \\\n0    http://zjjt-zhzc.oss-cn-hangzhou-zjzwy01-d01-a...     是          89.6   \n1    http://zjjt-zhzc.oss-cn-hangzhou-zjzwy01-d01-a...     是          99.1   \n2    http://zjjt-zhzc.oss-cn-hangzhou-zjzwy01-d01-a...     是          87.7   \n3    http://zjjt-zhzc.oss-cn-hangzhou-zjzwy01-d01-a...     是          96.0   \n4    http://zjjt-zhzc.oss-cn-hangzhou-zjzwy01-d01-a...     是          93.3   \n..                                                 ...   ...           ...   \n664                                                NaN     否          88.3   \n665                                                NaN     否          88.3   \n666                                                NaN     否          88.3   \n667                                                NaN     否          88.3   \n668                                                NaN     否          88.3   \n\n     is_collect                                              vedio  ...  \\\n0             0  http://zjjt-zhzc.oss-cn-hangzhou-zjzwy01-d01-a...  ...   \n1             0  http://zjjt-zhzc.oss-cn-hangzhou-zjzwy01-d01-a...  ...   \n2             0  http://zjjt-zhzc.oss-cn-hangzhou-zjzwy01-d01-a...  ...   \n3             0  http://zjjt-zhzc.oss-cn-hangzhou-zjzwy01-d01-a...  ...   \n4             0  http://zjjt-zhzc.oss-cn-hangzhou-zjzwy01-d01-a...  ...   \n..          ...                                                ...  ...   \n664           0                                                NaN  ...   \n665           0                                                NaN  ...   \n666           0                                                NaN  ...   \n667           0                                                NaN  ...   \n668           0                                                NaN  ...   \n\n     photo5  content  audit_time make_copy auditor status_y valid_time  \\\n0       NaN      NaN         NaT       NaN     NaN      NaN        NaT   \n1       NaN      NaN         NaT       NaN     NaN      NaN        NaT   \n2       NaN      NaN         NaT       NaN     NaN      NaN        NaT   \n3       NaN      NaN         NaT       NaN     NaN      NaN        NaT   \n4       NaN      NaN         NaT       NaN     NaN      NaN        NaT   \n..      ...      ...         ...       ...     ...      ...        ...   \n664     NaN      NaN         NaT       NaN     NaN      NaN        NaT   \n665     NaN      NaN         NaT       NaN     NaN      NaN        NaT   \n666     NaN      NaN         NaT       NaN     NaN      NaN        NaT   \n667     NaN      NaN         NaT       NaN     NaN      NaN        NaT   \n668     NaN      NaN         NaT       NaN     NaN      NaN        NaT   \n\n    CASE_NUM close_case_time  out_station_month  \n0        NaN             NaT            2023-07  \n1        NaN             NaT            2023-07  \n2        NaN             NaT            2023-07  \n3        NaN             NaT            2023-07  \n4        NaN             NaT            2023-07  \n..       ...             ...                ...  \n664      NaN             NaT            2023-07  \n665      NaN             NaT            2023-07  \n666      NaN             NaT            2023-07  \n667      NaN             NaT            2023-07  \n668      NaN             NaT            2023-07  \n\n[580 rows x 35 columns]",
      "text/html": "<div>\n<style scoped>\n    .dataframe tbody tr th:only-of-type {\n        vertical-align: middle;\n    }\n\n    .dataframe tbody tr th {\n        vertical-align: top;\n    }\n\n    .dataframe thead th {\n        text-align: right;\n    }\n</style>\n<table border=\"1\" class=\"dataframe\">\n  <thead>\n    <tr style=\"text-align: right;\">\n      <th></th>\n      <th>record_code</th>\n      <th>区县</th>\n      <th>overrun</th>\n      <th>has_car_no</th>\n      <th>axis</th>\n      <th>photo2</th>\n      <th>是否已采集</th>\n      <th>total_weight</th>\n      <th>is_collect</th>\n      <th>vedio</th>\n      <th>...</th>\n      <th>photo5</th>\n      <th>content</th>\n      <th>audit_time</th>\n      <th>make_copy</th>\n      <th>auditor</th>\n      <th>status_y</th>\n      <th>valid_time</th>\n      <th>CASE_NUM</th>\n      <th>close_case_time</th>\n      <th>out_station_month</th>\n    </tr>\n  </thead>\n  <tbody>\n    <tr>\n      <th>0</th>\n      <td>123456_3305213103202307010701305420192</td>\n      <td>德清</td>\n      <td>40.6</td>\n      <td>True</td>\n      <td>8</td>\n      <td>http://zjjt-zhzc.oss-cn-hangzhou-zjzwy01-d01-a...</td>\n      <td>是</td>\n      <td>89.6</td>\n      <td>0</td>\n      <td>http://zjjt-zhzc.oss-cn-hangzhou-zjzwy01-d01-a...</td>\n      <td>...</td>\n      <td>NaN</td>\n      <td>NaN</td>\n      <td>NaT</td>\n      <td>NaN</td>\n      <td>NaN</td>\n      <td>NaN</td>\n      <td>NaT</td>\n      <td>NaN</td>\n      <td>NaT</td>\n      <td>2023-07</td>\n    </tr>\n    <tr>\n      <th>1</th>\n      <td>123456_3305213103202307010717215420344</td>\n      <td>德清</td>\n      <td>50.1</td>\n      <td>True</td>\n      <td>7</td>\n      <td>http://zjjt-zhzc.oss-cn-hangzhou-zjzwy01-d01-a...</td>\n      <td>是</td>\n      <td>99.1</td>\n      <td>0</td>\n      <td>http://zjjt-zhzc.oss-cn-hangzhou-zjzwy01-d01-a...</td>\n      <td>...</td>\n      <td>NaN</td>\n      <td>NaN</td>\n      <td>NaT</td>\n      <td>NaN</td>\n      <td>NaN</td>\n      <td>NaN</td>\n      <td>NaT</td>\n      <td>NaN</td>\n      <td>NaT</td>\n      <td>2023-07</td>\n    </tr>\n    <tr>\n      <th>2</th>\n      <td>123456_3305213103202307010750035420647</td>\n      <td>德清</td>\n      <td>38.7</td>\n      <td>True</td>\n      <td>8</td>\n      <td>http://zjjt-zhzc.oss-cn-hangzhou-zjzwy01-d01-a...</td>\n      <td>是</td>\n      <td>87.7</td>\n      <td>0</td>\n      <td>http://zjjt-zhzc.oss-cn-hangzhou-zjzwy01-d01-a...</td>\n      <td>...</td>\n      <td>NaN</td>\n      <td>NaN</td>\n      <td>NaT</td>\n      <td>NaN</td>\n      <td>NaN</td>\n      <td>NaN</td>\n      <td>NaT</td>\n      <td>NaN</td>\n      <td>NaT</td>\n      <td>2023-07</td>\n    </tr>\n    <tr>\n      <th>3</th>\n      <td>123456_3305213103202307010800485420760</td>\n      <td>德清</td>\n      <td>47.0</td>\n      <td>True</td>\n      <td>7</td>\n      <td>http://zjjt-zhzc.oss-cn-hangzhou-zjzwy01-d01-a...</td>\n      <td>是</td>\n      <td>96.0</td>\n      <td>0</td>\n      <td>http://zjjt-zhzc.oss-cn-hangzhou-zjzwy01-d01-a...</td>\n      <td>...</td>\n      <td>NaN</td>\n      <td>NaN</td>\n      <td>NaT</td>\n      <td>NaN</td>\n      <td>NaN</td>\n      <td>NaN</td>\n      <td>NaT</td>\n      <td>NaN</td>\n      <td>NaT</td>\n      <td>2023-07</td>\n    </tr>\n    <tr>\n      <th>4</th>\n      <td>123456_3305213103202307010919365421537</td>\n      <td>德清</td>\n      <td>44.3</td>\n      <td>True</td>\n      <td>8</td>\n      <td>http://zjjt-zhzc.oss-cn-hangzhou-zjzwy01-d01-a...</td>\n      <td>是</td>\n      <td>93.3</td>\n      <td>0</td>\n      <td>http://zjjt-zhzc.oss-cn-hangzhou-zjzwy01-d01-a...</td>\n      <td>...</td>\n      <td>NaN</td>\n      <td>NaN</td>\n      <td>NaT</td>\n      <td>NaN</td>\n      <td>NaN</td>\n      <td>NaN</td>\n      <td>NaT</td>\n      <td>NaN</td>\n      <td>NaT</td>\n      <td>2023-07</td>\n    </tr>\n    <tr>\n      <th>...</th>\n      <td>...</td>\n      <td>...</td>\n      <td>...</td>\n      <td>...</td>\n      <td>...</td>\n      <td>...</td>\n      <td>...</td>\n      <td>...</td>\n      <td>...</td>\n      <td>...</td>\n      <td>...</td>\n      <td>...</td>\n      <td>...</td>\n      <td>...</td>\n      <td>...</td>\n      <td>...</td>\n      <td>...</td>\n      <td>...</td>\n      <td>...</td>\n      <td>...</td>\n      <td>...</td>\n    </tr>\n    <tr>\n      <th>664</th>\n      <td>DG104002_20230728031502000107</td>\n      <td>德清</td>\n      <td>39.3</td>\n      <td>True</td>\n      <td>6</td>\n      <td>NaN</td>\n      <td>否</td>\n      <td>88.3</td>\n      <td>0</td>\n      <td>NaN</td>\n      <td>...</td>\n      <td>NaN</td>\n      <td>NaN</td>\n      <td>NaT</td>\n      <td>NaN</td>\n      <td>NaN</td>\n      <td>NaN</td>\n      <td>NaT</td>\n      <td>NaN</td>\n      <td>NaT</td>\n      <td>2023-07</td>\n    </tr>\n    <tr>\n      <th>665</th>\n      <td>DG104002_20230728031502000108</td>\n      <td>德清</td>\n      <td>39.3</td>\n      <td>True</td>\n      <td>6</td>\n      <td>NaN</td>\n      <td>否</td>\n      <td>88.3</td>\n      <td>0</td>\n      <td>NaN</td>\n      <td>...</td>\n      <td>NaN</td>\n      <td>NaN</td>\n      <td>NaT</td>\n      <td>NaN</td>\n      <td>NaN</td>\n      <td>NaN</td>\n      <td>NaT</td>\n      <td>NaN</td>\n      <td>NaT</td>\n      <td>2023-07</td>\n    </tr>\n    <tr>\n      <th>666</th>\n      <td>DG104002_20230728031502000116</td>\n      <td>德清</td>\n      <td>39.3</td>\n      <td>True</td>\n      <td>6</td>\n      <td>NaN</td>\n      <td>否</td>\n      <td>88.3</td>\n      <td>0</td>\n      <td>NaN</td>\n      <td>...</td>\n      <td>NaN</td>\n      <td>NaN</td>\n      <td>NaT</td>\n      <td>NaN</td>\n      <td>NaN</td>\n      <td>NaN</td>\n      <td>NaT</td>\n      <td>NaN</td>\n      <td>NaT</td>\n      <td>2023-07</td>\n    </tr>\n    <tr>\n      <th>667</th>\n      <td>DG104002_20230728031502000119</td>\n      <td>德清</td>\n      <td>39.3</td>\n      <td>True</td>\n      <td>6</td>\n      <td>NaN</td>\n      <td>否</td>\n      <td>88.3</td>\n      <td>0</td>\n      <td>NaN</td>\n      <td>...</td>\n      <td>NaN</td>\n      <td>NaN</td>\n      <td>NaT</td>\n      <td>NaN</td>\n      <td>NaN</td>\n      <td>NaN</td>\n      <td>NaT</td>\n      <td>NaN</td>\n      <td>NaT</td>\n      <td>2023-07</td>\n    </tr>\n    <tr>\n      <th>668</th>\n      <td>DG104002_20230728031502000122</td>\n      <td>德清</td>\n      <td>39.3</td>\n      <td>True</td>\n      <td>6</td>\n      <td>NaN</td>\n      <td>否</td>\n      <td>88.3</td>\n      <td>0</td>\n      <td>NaN</td>\n      <td>...</td>\n      <td>NaN</td>\n      <td>NaN</td>\n      <td>NaT</td>\n      <td>NaN</td>\n      <td>NaN</td>\n      <td>NaN</td>\n      <td>NaT</td>\n      <td>NaN</td>\n      <td>NaT</td>\n      <td>2023-07</td>\n    </tr>\n  </tbody>\n</table>\n<p>580 rows × 35 columns</p>\n</div>"
     },
     "execution_count": 11,
     "metadata": {},
     "output_type": "execute_result"
    }
   ],
   "source": [
    "df3"
   ],
   "metadata": {
    "collapsed": false,
    "pycharm": {
     "name": "#%%\n"
    }
   }
  },
  {
   "cell_type": "code",
   "execution_count": 12,
   "outputs": [
    {
     "data": {
      "text/plain": "   out_station_month     区县  is_collect 是否已采集  status_y  \\\n0            2023-07  南太湖新区           1     否      15.0   \n1            2023-07     南浔           1     否      15.0   \n2            2023-07     南浔           1     否      15.0   \n3            2023-07     南浔           1     否      15.0   \n4            2023-07     吴兴           1     否      15.0   \n5            2023-07     吴兴           1     否      15.0   \n6            2023-07     吴兴           1     否      15.0   \n7            2023-07     吴兴           1     否      15.0   \n8            2023-07     安吉           1     否       4.0   \n9            2023-07     安吉           1     否       9.0   \n10           2023-07     安吉           1     否      15.0   \n11           2023-07     安吉           1     否      15.0   \n12           2023-07     安吉           1     否      15.0   \n13           2023-07     德清           1     否       4.0   \n14           2023-07     德清           1     否      15.0   \n15           2023-07     德清           1     否      15.0   \n16           2023-07     德清           1     是       0.0   \n17           2023-07     德清           1     是       4.0   \n18           2023-07     德清           1     是      15.0   \n19           2023-07     长兴           1     否      15.0   \n20           2023-08  南太湖新区           1     否       4.0   \n21           2023-08  南太湖新区           1     否      15.0   \n22           2023-08     南浔           1     否       4.0   \n23           2023-08     南浔           1     否      15.0   \n24           2023-08     南浔           1     否      15.0   \n25           2023-08     吴兴           1     否       4.0   \n26           2023-08     吴兴           1     否       4.0   \n27           2023-08     吴兴           1     否      13.0   \n28           2023-08     吴兴           1     否      15.0   \n29           2023-08     吴兴           1     否      15.0   \n30           2023-08     安吉           1     否      15.0   \n31           2023-08     安吉           1     否      15.0   \n32           2023-08     安吉           1     否      15.0   \n33           2023-08     安吉           1     否      15.0   \n34           2023-08     安吉           1     否      15.0   \n35           2023-08     安吉           1     否      15.0   \n36           2023-08     德清           1     否       4.0   \n37           2023-08     德清           1     否       9.0   \n38           2023-08     德清           1     否      15.0   \n39           2023-08     德清           1     否      15.0   \n40           2023-08     德清           1     否      15.0   \n41           2023-08     德清           1     否      15.0   \n42           2023-08     长兴           1     否       4.0   \n43           2023-08     长兴           1     否      15.0   \n\n                                            content  80吨以上数  \n0                                        特种车辆，不需采集。       1  \n1                                      有超限许可证，不需采集。       1  \n2                                        特种车辆，不需采集。       5  \n3                                 路警联合处理数据，交由交警处理处罚       4  \n4                                           有超限许可证.       1  \n5                                        特种车辆，不需采集。       3  \n6                                 路警联合处理数据，交由交警处理处罚       3  \n7      车牌由无车牌修正为沪FG3729，车牌颜色由其他修正为黄，限重由49.0修改为49.0。       1  \n8                                                通过       2  \n9                                                通过       1  \n10                                              无水印       1  \n11                                           有超限许可证       1  \n12                                路警联合处理数据，交由交警处理处罚       1  \n13                                               通过       3  \n14                                路警联合处理数据，交由交警处理处罚       1  \n15                                            车牌号不清       2  \n16                                               通过       1  \n17                                               通过       3  \n18                                           有超限许可证       2  \n19                                          超限许可证正常       1  \n20                                               通过       1  \n21                                路警联合处理数据，交由交警处理处罚       1  \n22                                               通过       2  \n23                                       特种车辆，不需采集。       1  \n24                                路警联合处理数据，交由交警处理处罚       6  \n25  车牌由闽EQ003挂修正为苏CLL981，车牌颜色由黄修正为黄，限重由49.0修改为49.0。       1  \n26                                               通过       2  \n27                                               通过       1  \n28                                          有超限许可证.       3  \n29                                       特种车辆，不需采集。       2  \n30     车牌由浙C3G602修正为遮挡号牌，车牌颜色由黄修正为黄，限重由36.0修改为36.0。       1  \n31     车牌由贵CBE195修正为遮挡号牌，车牌颜色由黄修正为黄，限重由36.0修改为36.0。       1  \n32        车牌由车牌修正为拒识无牌，车牌颜色由其他修正为其他，限重由49.0修改为49.0。       1  \n33         车牌由车牌修正为遮挡号牌，车牌颜色由其他修正为黄，限重由49.0修改为49.0。       1  \n34                                           轴型识别有误       1  \n35                                          遮挡、变造号牌       1  \n36                                               通过       5  \n37                                               通过       1  \n38                                          视频不符合要求       1  \n39                                路警联合处理数据，交由交警处理处罚      18  \n40                                             车牌不符       1  \n41                                            车牌号不清       1  \n42                                               通过       3  \n43                                             特种车辆       1  ",
      "text/html": "<div>\n<style scoped>\n    .dataframe tbody tr th:only-of-type {\n        vertical-align: middle;\n    }\n\n    .dataframe tbody tr th {\n        vertical-align: top;\n    }\n\n    .dataframe thead th {\n        text-align: right;\n    }\n</style>\n<table border=\"1\" class=\"dataframe\">\n  <thead>\n    <tr style=\"text-align: right;\">\n      <th></th>\n      <th>out_station_month</th>\n      <th>区县</th>\n      <th>is_collect</th>\n      <th>是否已采集</th>\n      <th>status_y</th>\n      <th>content</th>\n      <th>80吨以上数</th>\n    </tr>\n  </thead>\n  <tbody>\n    <tr>\n      <th>0</th>\n      <td>2023-07</td>\n      <td>南太湖新区</td>\n      <td>1</td>\n      <td>否</td>\n      <td>15.0</td>\n      <td>特种车辆，不需采集。</td>\n      <td>1</td>\n    </tr>\n    <tr>\n      <th>1</th>\n      <td>2023-07</td>\n      <td>南浔</td>\n      <td>1</td>\n      <td>否</td>\n      <td>15.0</td>\n      <td>有超限许可证，不需采集。</td>\n      <td>1</td>\n    </tr>\n    <tr>\n      <th>2</th>\n      <td>2023-07</td>\n      <td>南浔</td>\n      <td>1</td>\n      <td>否</td>\n      <td>15.0</td>\n      <td>特种车辆，不需采集。</td>\n      <td>5</td>\n    </tr>\n    <tr>\n      <th>3</th>\n      <td>2023-07</td>\n      <td>南浔</td>\n      <td>1</td>\n      <td>否</td>\n      <td>15.0</td>\n      <td>路警联合处理数据，交由交警处理处罚</td>\n      <td>4</td>\n    </tr>\n    <tr>\n      <th>4</th>\n      <td>2023-07</td>\n      <td>吴兴</td>\n      <td>1</td>\n      <td>否</td>\n      <td>15.0</td>\n      <td>有超限许可证.</td>\n      <td>1</td>\n    </tr>\n    <tr>\n      <th>5</th>\n      <td>2023-07</td>\n      <td>吴兴</td>\n      <td>1</td>\n      <td>否</td>\n      <td>15.0</td>\n      <td>特种车辆，不需采集。</td>\n      <td>3</td>\n    </tr>\n    <tr>\n      <th>6</th>\n      <td>2023-07</td>\n      <td>吴兴</td>\n      <td>1</td>\n      <td>否</td>\n      <td>15.0</td>\n      <td>路警联合处理数据，交由交警处理处罚</td>\n      <td>3</td>\n    </tr>\n    <tr>\n      <th>7</th>\n      <td>2023-07</td>\n      <td>吴兴</td>\n      <td>1</td>\n      <td>否</td>\n      <td>15.0</td>\n      <td>车牌由无车牌修正为沪FG3729，车牌颜色由其他修正为黄，限重由49.0修改为49.0。</td>\n      <td>1</td>\n    </tr>\n    <tr>\n      <th>8</th>\n      <td>2023-07</td>\n      <td>安吉</td>\n      <td>1</td>\n      <td>否</td>\n      <td>4.0</td>\n      <td>通过</td>\n      <td>2</td>\n    </tr>\n    <tr>\n      <th>9</th>\n      <td>2023-07</td>\n      <td>安吉</td>\n      <td>1</td>\n      <td>否</td>\n      <td>9.0</td>\n      <td>通过</td>\n      <td>1</td>\n    </tr>\n    <tr>\n      <th>10</th>\n      <td>2023-07</td>\n      <td>安吉</td>\n      <td>1</td>\n      <td>否</td>\n      <td>15.0</td>\n      <td>无水印</td>\n      <td>1</td>\n    </tr>\n    <tr>\n      <th>11</th>\n      <td>2023-07</td>\n      <td>安吉</td>\n      <td>1</td>\n      <td>否</td>\n      <td>15.0</td>\n      <td>有超限许可证</td>\n      <td>1</td>\n    </tr>\n    <tr>\n      <th>12</th>\n      <td>2023-07</td>\n      <td>安吉</td>\n      <td>1</td>\n      <td>否</td>\n      <td>15.0</td>\n      <td>路警联合处理数据，交由交警处理处罚</td>\n      <td>1</td>\n    </tr>\n    <tr>\n      <th>13</th>\n      <td>2023-07</td>\n      <td>德清</td>\n      <td>1</td>\n      <td>否</td>\n      <td>4.0</td>\n      <td>通过</td>\n      <td>3</td>\n    </tr>\n    <tr>\n      <th>14</th>\n      <td>2023-07</td>\n      <td>德清</td>\n      <td>1</td>\n      <td>否</td>\n      <td>15.0</td>\n      <td>路警联合处理数据，交由交警处理处罚</td>\n      <td>1</td>\n    </tr>\n    <tr>\n      <th>15</th>\n      <td>2023-07</td>\n      <td>德清</td>\n      <td>1</td>\n      <td>否</td>\n      <td>15.0</td>\n      <td>车牌号不清</td>\n      <td>2</td>\n    </tr>\n    <tr>\n      <th>16</th>\n      <td>2023-07</td>\n      <td>德清</td>\n      <td>1</td>\n      <td>是</td>\n      <td>0.0</td>\n      <td>通过</td>\n      <td>1</td>\n    </tr>\n    <tr>\n      <th>17</th>\n      <td>2023-07</td>\n      <td>德清</td>\n      <td>1</td>\n      <td>是</td>\n      <td>4.0</td>\n      <td>通过</td>\n      <td>3</td>\n    </tr>\n    <tr>\n      <th>18</th>\n      <td>2023-07</td>\n      <td>德清</td>\n      <td>1</td>\n      <td>是</td>\n      <td>15.0</td>\n      <td>有超限许可证</td>\n      <td>2</td>\n    </tr>\n    <tr>\n      <th>19</th>\n      <td>2023-07</td>\n      <td>长兴</td>\n      <td>1</td>\n      <td>否</td>\n      <td>15.0</td>\n      <td>超限许可证正常</td>\n      <td>1</td>\n    </tr>\n    <tr>\n      <th>20</th>\n      <td>2023-08</td>\n      <td>南太湖新区</td>\n      <td>1</td>\n      <td>否</td>\n      <td>4.0</td>\n      <td>通过</td>\n      <td>1</td>\n    </tr>\n    <tr>\n      <th>21</th>\n      <td>2023-08</td>\n      <td>南太湖新区</td>\n      <td>1</td>\n      <td>否</td>\n      <td>15.0</td>\n      <td>路警联合处理数据，交由交警处理处罚</td>\n      <td>1</td>\n    </tr>\n    <tr>\n      <th>22</th>\n      <td>2023-08</td>\n      <td>南浔</td>\n      <td>1</td>\n      <td>否</td>\n      <td>4.0</td>\n      <td>通过</td>\n      <td>2</td>\n    </tr>\n    <tr>\n      <th>23</th>\n      <td>2023-08</td>\n      <td>南浔</td>\n      <td>1</td>\n      <td>否</td>\n      <td>15.0</td>\n      <td>特种车辆，不需采集。</td>\n      <td>1</td>\n    </tr>\n    <tr>\n      <th>24</th>\n      <td>2023-08</td>\n      <td>南浔</td>\n      <td>1</td>\n      <td>否</td>\n      <td>15.0</td>\n      <td>路警联合处理数据，交由交警处理处罚</td>\n      <td>6</td>\n    </tr>\n    <tr>\n      <th>25</th>\n      <td>2023-08</td>\n      <td>吴兴</td>\n      <td>1</td>\n      <td>否</td>\n      <td>4.0</td>\n      <td>车牌由闽EQ003挂修正为苏CLL981，车牌颜色由黄修正为黄，限重由49.0修改为49.0。</td>\n      <td>1</td>\n    </tr>\n    <tr>\n      <th>26</th>\n      <td>2023-08</td>\n      <td>吴兴</td>\n      <td>1</td>\n      <td>否</td>\n      <td>4.0</td>\n      <td>通过</td>\n      <td>2</td>\n    </tr>\n    <tr>\n      <th>27</th>\n      <td>2023-08</td>\n      <td>吴兴</td>\n      <td>1</td>\n      <td>否</td>\n      <td>13.0</td>\n      <td>通过</td>\n      <td>1</td>\n    </tr>\n    <tr>\n      <th>28</th>\n      <td>2023-08</td>\n      <td>吴兴</td>\n      <td>1</td>\n      <td>否</td>\n      <td>15.0</td>\n      <td>有超限许可证.</td>\n      <td>3</td>\n    </tr>\n    <tr>\n      <th>29</th>\n      <td>2023-08</td>\n      <td>吴兴</td>\n      <td>1</td>\n      <td>否</td>\n      <td>15.0</td>\n      <td>特种车辆，不需采集。</td>\n      <td>2</td>\n    </tr>\n    <tr>\n      <th>30</th>\n      <td>2023-08</td>\n      <td>安吉</td>\n      <td>1</td>\n      <td>否</td>\n      <td>15.0</td>\n      <td>车牌由浙C3G602修正为遮挡号牌，车牌颜色由黄修正为黄，限重由36.0修改为36.0。</td>\n      <td>1</td>\n    </tr>\n    <tr>\n      <th>31</th>\n      <td>2023-08</td>\n      <td>安吉</td>\n      <td>1</td>\n      <td>否</td>\n      <td>15.0</td>\n      <td>车牌由贵CBE195修正为遮挡号牌，车牌颜色由黄修正为黄，限重由36.0修改为36.0。</td>\n      <td>1</td>\n    </tr>\n    <tr>\n      <th>32</th>\n      <td>2023-08</td>\n      <td>安吉</td>\n      <td>1</td>\n      <td>否</td>\n      <td>15.0</td>\n      <td>车牌由车牌修正为拒识无牌，车牌颜色由其他修正为其他，限重由49.0修改为49.0。</td>\n      <td>1</td>\n    </tr>\n    <tr>\n      <th>33</th>\n      <td>2023-08</td>\n      <td>安吉</td>\n      <td>1</td>\n      <td>否</td>\n      <td>15.0</td>\n      <td>车牌由车牌修正为遮挡号牌，车牌颜色由其他修正为黄，限重由49.0修改为49.0。</td>\n      <td>1</td>\n    </tr>\n    <tr>\n      <th>34</th>\n      <td>2023-08</td>\n      <td>安吉</td>\n      <td>1</td>\n      <td>否</td>\n      <td>15.0</td>\n      <td>轴型识别有误</td>\n      <td>1</td>\n    </tr>\n    <tr>\n      <th>35</th>\n      <td>2023-08</td>\n      <td>安吉</td>\n      <td>1</td>\n      <td>否</td>\n      <td>15.0</td>\n      <td>遮挡、变造号牌</td>\n      <td>1</td>\n    </tr>\n    <tr>\n      <th>36</th>\n      <td>2023-08</td>\n      <td>德清</td>\n      <td>1</td>\n      <td>否</td>\n      <td>4.0</td>\n      <td>通过</td>\n      <td>5</td>\n    </tr>\n    <tr>\n      <th>37</th>\n      <td>2023-08</td>\n      <td>德清</td>\n      <td>1</td>\n      <td>否</td>\n      <td>9.0</td>\n      <td>通过</td>\n      <td>1</td>\n    </tr>\n    <tr>\n      <th>38</th>\n      <td>2023-08</td>\n      <td>德清</td>\n      <td>1</td>\n      <td>否</td>\n      <td>15.0</td>\n      <td>视频不符合要求</td>\n      <td>1</td>\n    </tr>\n    <tr>\n      <th>39</th>\n      <td>2023-08</td>\n      <td>德清</td>\n      <td>1</td>\n      <td>否</td>\n      <td>15.0</td>\n      <td>路警联合处理数据，交由交警处理处罚</td>\n      <td>18</td>\n    </tr>\n    <tr>\n      <th>40</th>\n      <td>2023-08</td>\n      <td>德清</td>\n      <td>1</td>\n      <td>否</td>\n      <td>15.0</td>\n      <td>车牌不符</td>\n      <td>1</td>\n    </tr>\n    <tr>\n      <th>41</th>\n      <td>2023-08</td>\n      <td>德清</td>\n      <td>1</td>\n      <td>否</td>\n      <td>15.0</td>\n      <td>车牌号不清</td>\n      <td>1</td>\n    </tr>\n    <tr>\n      <th>42</th>\n      <td>2023-08</td>\n      <td>长兴</td>\n      <td>1</td>\n      <td>否</td>\n      <td>4.0</td>\n      <td>通过</td>\n      <td>3</td>\n    </tr>\n    <tr>\n      <th>43</th>\n      <td>2023-08</td>\n      <td>长兴</td>\n      <td>1</td>\n      <td>否</td>\n      <td>15.0</td>\n      <td>特种车辆</td>\n      <td>1</td>\n    </tr>\n  </tbody>\n</table>\n</div>"
     },
     "execution_count": 12,
     "metadata": {},
     "output_type": "execute_result"
    }
   ],
   "source": [
    "全部分类= df3.groupby([\"out_station_month\",\"区县\",\"is_collect\",\"是否已采集\",\"status_y\",\"content\"])[\n",
    "        'record_code'].count().reset_index(name='80吨以上数')\n",
    "全部分类"
   ],
   "metadata": {
    "collapsed": false,
    "pycharm": {
     "name": "#%%\n"
    }
   }
  },
  {
   "cell_type": "code",
   "execution_count": 13,
   "outputs": [],
   "source": [
    "with pd.ExcelWriter(r'C:\\Users\\stayhungary\\Desktop\\0912test6.xlsx') as writer1:\n",
    "    全部分类.to_excel(writer1, sheet_name='地市', index=True)"
   ],
   "metadata": {
    "collapsed": false,
    "pycharm": {
     "name": "#%%\n"
    }
   }
  },
  {
   "cell_type": "code",
   "execution_count": 14,
   "outputs": [],
   "source": [
    "七月80吨以上数= df3[(df3['out_station_month'] == '2023-07')].groupby([\"区县\"])[\n",
    "        'record_code'].count().reset_index(name='7月80吨以上数')"
   ],
   "metadata": {
    "collapsed": false,
    "pycharm": {
     "name": "#%%\n"
    }
   }
  },
  {
   "cell_type": "code",
   "execution_count": 15,
   "outputs": [],
   "source": [
    "八月80吨以上数= df3[(df3['out_station_month'] == '2023-08')].groupby([\"区县\"])[\n",
    "        'record_code'].count().reset_index(name='8月80吨以上数')"
   ],
   "metadata": {
    "collapsed": false,
    "pycharm": {
     "name": "#%%\n"
    }
   }
  },
  {
   "cell_type": "code",
   "execution_count": 16,
   "outputs": [
    {
     "data": {
      "text/plain": "      区县  7月80吨以上数  8月80吨以上数\n0  南太湖新区         3         3\n1     南浔        23        22\n2     吴兴        36        37\n3     安吉        16        11\n4     德清       296       128\n5     长兴         1         4",
      "text/html": "<div>\n<style scoped>\n    .dataframe tbody tr th:only-of-type {\n        vertical-align: middle;\n    }\n\n    .dataframe tbody tr th {\n        vertical-align: top;\n    }\n\n    .dataframe thead th {\n        text-align: right;\n    }\n</style>\n<table border=\"1\" class=\"dataframe\">\n  <thead>\n    <tr style=\"text-align: right;\">\n      <th></th>\n      <th>区县</th>\n      <th>7月80吨以上数</th>\n      <th>8月80吨以上数</th>\n    </tr>\n  </thead>\n  <tbody>\n    <tr>\n      <th>0</th>\n      <td>南太湖新区</td>\n      <td>3</td>\n      <td>3</td>\n    </tr>\n    <tr>\n      <th>1</th>\n      <td>南浔</td>\n      <td>23</td>\n      <td>22</td>\n    </tr>\n    <tr>\n      <th>2</th>\n      <td>吴兴</td>\n      <td>36</td>\n      <td>37</td>\n    </tr>\n    <tr>\n      <th>3</th>\n      <td>安吉</td>\n      <td>16</td>\n      <td>11</td>\n    </tr>\n    <tr>\n      <th>4</th>\n      <td>德清</td>\n      <td>296</td>\n      <td>128</td>\n    </tr>\n    <tr>\n      <th>5</th>\n      <td>长兴</td>\n      <td>1</td>\n      <td>4</td>\n    </tr>\n  </tbody>\n</table>\n</div>"
     },
     "execution_count": 16,
     "metadata": {},
     "output_type": "execute_result"
    }
   ],
   "source": [
    "月80吨以上数=pd.merge(七月80吨以上数, 八月80吨以上数, on=['区县'], how='outer')\n",
    "月80吨以上数"
   ],
   "metadata": {
    "collapsed": false,
    "pycharm": {
     "name": "#%%\n"
    }
   }
  },
  {
   "cell_type": "code",
   "execution_count": 17,
   "outputs": [
    {
     "data": {
      "text/plain": "      区县  7月80吨以上数  8月80吨以上数  80吨以上数同比\n0  南太湖新区         3         3  0.000000\n1     南浔        23        22 -0.043478\n2     吴兴        36        37  0.027778\n3     安吉        16        11 -0.312500\n4     德清       296       128 -0.567568\n5     长兴         1         4  3.000000",
      "text/html": "<div>\n<style scoped>\n    .dataframe tbody tr th:only-of-type {\n        vertical-align: middle;\n    }\n\n    .dataframe tbody tr th {\n        vertical-align: top;\n    }\n\n    .dataframe thead th {\n        text-align: right;\n    }\n</style>\n<table border=\"1\" class=\"dataframe\">\n  <thead>\n    <tr style=\"text-align: right;\">\n      <th></th>\n      <th>区县</th>\n      <th>7月80吨以上数</th>\n      <th>8月80吨以上数</th>\n      <th>80吨以上数同比</th>\n    </tr>\n  </thead>\n  <tbody>\n    <tr>\n      <th>0</th>\n      <td>南太湖新区</td>\n      <td>3</td>\n      <td>3</td>\n      <td>0.000000</td>\n    </tr>\n    <tr>\n      <th>1</th>\n      <td>南浔</td>\n      <td>23</td>\n      <td>22</td>\n      <td>-0.043478</td>\n    </tr>\n    <tr>\n      <th>2</th>\n      <td>吴兴</td>\n      <td>36</td>\n      <td>37</td>\n      <td>0.027778</td>\n    </tr>\n    <tr>\n      <th>3</th>\n      <td>安吉</td>\n      <td>16</td>\n      <td>11</td>\n      <td>-0.312500</td>\n    </tr>\n    <tr>\n      <th>4</th>\n      <td>德清</td>\n      <td>296</td>\n      <td>128</td>\n      <td>-0.567568</td>\n    </tr>\n    <tr>\n      <th>5</th>\n      <td>长兴</td>\n      <td>1</td>\n      <td>4</td>\n      <td>3.000000</td>\n    </tr>\n  </tbody>\n</table>\n</div>"
     },
     "execution_count": 17,
     "metadata": {},
     "output_type": "execute_result"
    }
   ],
   "source": [
    "月80吨以上数['80吨以上数同比']=(月80吨以上数['8月80吨以上数']-月80吨以上数['7月80吨以上数'])/月80吨以上数['7月80吨以上数']\n",
    "月80吨以上数"
   ],
   "metadata": {
    "collapsed": false,
    "pycharm": {
     "name": "#%%\n"
    }
   }
  },
  {
   "cell_type": "code",
   "execution_count": 18,
   "outputs": [
    {
     "data": {
      "text/plain": "      区县  7月80吨以上数  8月80吨以上数 80吨以上数同比\n0  南太湖新区         3         3    0.00%\n1     南浔        23        22   -4.35%\n2     吴兴        36        37    2.78%\n3     安吉        16        11  -31.25%\n4     德清       296       128  -56.76%\n5     长兴         1         4  300.00%",
      "text/html": "<div>\n<style scoped>\n    .dataframe tbody tr th:only-of-type {\n        vertical-align: middle;\n    }\n\n    .dataframe tbody tr th {\n        vertical-align: top;\n    }\n\n    .dataframe thead th {\n        text-align: right;\n    }\n</style>\n<table border=\"1\" class=\"dataframe\">\n  <thead>\n    <tr style=\"text-align: right;\">\n      <th></th>\n      <th>区县</th>\n      <th>7月80吨以上数</th>\n      <th>8月80吨以上数</th>\n      <th>80吨以上数同比</th>\n    </tr>\n  </thead>\n  <tbody>\n    <tr>\n      <th>0</th>\n      <td>南太湖新区</td>\n      <td>3</td>\n      <td>3</td>\n      <td>0.00%</td>\n    </tr>\n    <tr>\n      <th>1</th>\n      <td>南浔</td>\n      <td>23</td>\n      <td>22</td>\n      <td>-4.35%</td>\n    </tr>\n    <tr>\n      <th>2</th>\n      <td>吴兴</td>\n      <td>36</td>\n      <td>37</td>\n      <td>2.78%</td>\n    </tr>\n    <tr>\n      <th>3</th>\n      <td>安吉</td>\n      <td>16</td>\n      <td>11</td>\n      <td>-31.25%</td>\n    </tr>\n    <tr>\n      <th>4</th>\n      <td>德清</td>\n      <td>296</td>\n      <td>128</td>\n      <td>-56.76%</td>\n    </tr>\n    <tr>\n      <th>5</th>\n      <td>长兴</td>\n      <td>1</td>\n      <td>4</td>\n      <td>300.00%</td>\n    </tr>\n  </tbody>\n</table>\n</div>"
     },
     "execution_count": 18,
     "metadata": {},
     "output_type": "execute_result"
    }
   ],
   "source": [
    "月80吨以上数['80吨以上数同比'] =月80吨以上数['80吨以上数同比'].apply(lambda x: format(x, '.2%'))\n",
    "月80吨以上数"
   ],
   "metadata": {
    "collapsed": false,
    "pycharm": {
     "name": "#%%\n"
    }
   }
  },
  {
   "cell_type": "code",
   "execution_count": 19,
   "outputs": [
    {
     "data": {
      "text/plain": "                                record_code  区县  overrun  has_car_no  axis  \\\n0    123456_3305213103202307010701305420192  德清     40.6        True     8   \n1    123456_3305213103202307010717215420344  德清     50.1        True     7   \n2    123456_3305213103202307010750035420647  德清     38.7        True     8   \n3    123456_3305213103202307010800485420760  德清     47.0        True     7   \n4    123456_3305213103202307010919365421537  德清     44.3        True     8   \n..                                      ...  ..      ...         ...   ...   \n664           DG104002_20230728031502000107  德清     39.3        True     6   \n665           DG104002_20230728031502000108  德清     39.3        True     6   \n666           DG104002_20230728031502000116  德清     39.3        True     6   \n667           DG104002_20230728031502000119  德清     39.3        True     6   \n668           DG104002_20230728031502000122  德清     39.3        True     6   \n\n                                                photo2 是否已采集  total_weight  \\\n0    http://zjjt-zhzc.oss-cn-hangzhou-zjzwy01-d01-a...     是          89.6   \n1    http://zjjt-zhzc.oss-cn-hangzhou-zjzwy01-d01-a...     是          99.1   \n2    http://zjjt-zhzc.oss-cn-hangzhou-zjzwy01-d01-a...     是          87.7   \n3    http://zjjt-zhzc.oss-cn-hangzhou-zjzwy01-d01-a...     是          96.0   \n4    http://zjjt-zhzc.oss-cn-hangzhou-zjzwy01-d01-a...     是          93.3   \n..                                                 ...   ...           ...   \n664                                                NaN     否          88.3   \n665                                                NaN     否          88.3   \n666                                                NaN     否          88.3   \n667                                                NaN     否          88.3   \n668                                                NaN     否          88.3   \n\n     is_collect                                              vedio  ...  \\\n0             0  http://zjjt-zhzc.oss-cn-hangzhou-zjzwy01-d01-a...  ...   \n1             0  http://zjjt-zhzc.oss-cn-hangzhou-zjzwy01-d01-a...  ...   \n2             0  http://zjjt-zhzc.oss-cn-hangzhou-zjzwy01-d01-a...  ...   \n3             0  http://zjjt-zhzc.oss-cn-hangzhou-zjzwy01-d01-a...  ...   \n4             0  http://zjjt-zhzc.oss-cn-hangzhou-zjzwy01-d01-a...  ...   \n..          ...                                                ...  ...   \n664           0                                                NaN  ...   \n665           0                                                NaN  ...   \n666           0                                                NaN  ...   \n667           0                                                NaN  ...   \n668           0                                                NaN  ...   \n\n     photo5  content  audit_time make_copy auditor status_y valid_time  \\\n0       NaN      NaN         NaT       NaN     NaN      NaN        NaT   \n1       NaN      NaN         NaT       NaN     NaN      NaN        NaT   \n2       NaN      NaN         NaT       NaN     NaN      NaN        NaT   \n3       NaN      NaN         NaT       NaN     NaN      NaN        NaT   \n4       NaN      NaN         NaT       NaN     NaN      NaN        NaT   \n..      ...      ...         ...       ...     ...      ...        ...   \n664     NaN      NaN         NaT       NaN     NaN      NaN        NaT   \n665     NaN      NaN         NaT       NaN     NaN      NaN        NaT   \n666     NaN      NaN         NaT       NaN     NaN      NaN        NaT   \n667     NaN      NaN         NaT       NaN     NaN      NaN        NaT   \n668     NaN      NaN         NaT       NaN     NaN      NaN        NaT   \n\n    CASE_NUM close_case_time  out_station_month  \n0        NaN             NaT            2023-07  \n1        NaN             NaT            2023-07  \n2        NaN             NaT            2023-07  \n3        NaN             NaT            2023-07  \n4        NaN             NaT            2023-07  \n..       ...             ...                ...  \n664      NaN             NaT            2023-07  \n665      NaN             NaT            2023-07  \n666      NaN             NaT            2023-07  \n667      NaN             NaT            2023-07  \n668      NaN             NaT            2023-07  \n\n[580 rows x 35 columns]",
      "text/html": "<div>\n<style scoped>\n    .dataframe tbody tr th:only-of-type {\n        vertical-align: middle;\n    }\n\n    .dataframe tbody tr th {\n        vertical-align: top;\n    }\n\n    .dataframe thead th {\n        text-align: right;\n    }\n</style>\n<table border=\"1\" class=\"dataframe\">\n  <thead>\n    <tr style=\"text-align: right;\">\n      <th></th>\n      <th>record_code</th>\n      <th>区县</th>\n      <th>overrun</th>\n      <th>has_car_no</th>\n      <th>axis</th>\n      <th>photo2</th>\n      <th>是否已采集</th>\n      <th>total_weight</th>\n      <th>is_collect</th>\n      <th>vedio</th>\n      <th>...</th>\n      <th>photo5</th>\n      <th>content</th>\n      <th>audit_time</th>\n      <th>make_copy</th>\n      <th>auditor</th>\n      <th>status_y</th>\n      <th>valid_time</th>\n      <th>CASE_NUM</th>\n      <th>close_case_time</th>\n      <th>out_station_month</th>\n    </tr>\n  </thead>\n  <tbody>\n    <tr>\n      <th>0</th>\n      <td>123456_3305213103202307010701305420192</td>\n      <td>德清</td>\n      <td>40.6</td>\n      <td>True</td>\n      <td>8</td>\n      <td>http://zjjt-zhzc.oss-cn-hangzhou-zjzwy01-d01-a...</td>\n      <td>是</td>\n      <td>89.6</td>\n      <td>0</td>\n      <td>http://zjjt-zhzc.oss-cn-hangzhou-zjzwy01-d01-a...</td>\n      <td>...</td>\n      <td>NaN</td>\n      <td>NaN</td>\n      <td>NaT</td>\n      <td>NaN</td>\n      <td>NaN</td>\n      <td>NaN</td>\n      <td>NaT</td>\n      <td>NaN</td>\n      <td>NaT</td>\n      <td>2023-07</td>\n    </tr>\n    <tr>\n      <th>1</th>\n      <td>123456_3305213103202307010717215420344</td>\n      <td>德清</td>\n      <td>50.1</td>\n      <td>True</td>\n      <td>7</td>\n      <td>http://zjjt-zhzc.oss-cn-hangzhou-zjzwy01-d01-a...</td>\n      <td>是</td>\n      <td>99.1</td>\n      <td>0</td>\n      <td>http://zjjt-zhzc.oss-cn-hangzhou-zjzwy01-d01-a...</td>\n      <td>...</td>\n      <td>NaN</td>\n      <td>NaN</td>\n      <td>NaT</td>\n      <td>NaN</td>\n      <td>NaN</td>\n      <td>NaN</td>\n      <td>NaT</td>\n      <td>NaN</td>\n      <td>NaT</td>\n      <td>2023-07</td>\n    </tr>\n    <tr>\n      <th>2</th>\n      <td>123456_3305213103202307010750035420647</td>\n      <td>德清</td>\n      <td>38.7</td>\n      <td>True</td>\n      <td>8</td>\n      <td>http://zjjt-zhzc.oss-cn-hangzhou-zjzwy01-d01-a...</td>\n      <td>是</td>\n      <td>87.7</td>\n      <td>0</td>\n      <td>http://zjjt-zhzc.oss-cn-hangzhou-zjzwy01-d01-a...</td>\n      <td>...</td>\n      <td>NaN</td>\n      <td>NaN</td>\n      <td>NaT</td>\n      <td>NaN</td>\n      <td>NaN</td>\n      <td>NaN</td>\n      <td>NaT</td>\n      <td>NaN</td>\n      <td>NaT</td>\n      <td>2023-07</td>\n    </tr>\n    <tr>\n      <th>3</th>\n      <td>123456_3305213103202307010800485420760</td>\n      <td>德清</td>\n      <td>47.0</td>\n      <td>True</td>\n      <td>7</td>\n      <td>http://zjjt-zhzc.oss-cn-hangzhou-zjzwy01-d01-a...</td>\n      <td>是</td>\n      <td>96.0</td>\n      <td>0</td>\n      <td>http://zjjt-zhzc.oss-cn-hangzhou-zjzwy01-d01-a...</td>\n      <td>...</td>\n      <td>NaN</td>\n      <td>NaN</td>\n      <td>NaT</td>\n      <td>NaN</td>\n      <td>NaN</td>\n      <td>NaN</td>\n      <td>NaT</td>\n      <td>NaN</td>\n      <td>NaT</td>\n      <td>2023-07</td>\n    </tr>\n    <tr>\n      <th>4</th>\n      <td>123456_3305213103202307010919365421537</td>\n      <td>德清</td>\n      <td>44.3</td>\n      <td>True</td>\n      <td>8</td>\n      <td>http://zjjt-zhzc.oss-cn-hangzhou-zjzwy01-d01-a...</td>\n      <td>是</td>\n      <td>93.3</td>\n      <td>0</td>\n      <td>http://zjjt-zhzc.oss-cn-hangzhou-zjzwy01-d01-a...</td>\n      <td>...</td>\n      <td>NaN</td>\n      <td>NaN</td>\n      <td>NaT</td>\n      <td>NaN</td>\n      <td>NaN</td>\n      <td>NaN</td>\n      <td>NaT</td>\n      <td>NaN</td>\n      <td>NaT</td>\n      <td>2023-07</td>\n    </tr>\n    <tr>\n      <th>...</th>\n      <td>...</td>\n      <td>...</td>\n      <td>...</td>\n      <td>...</td>\n      <td>...</td>\n      <td>...</td>\n      <td>...</td>\n      <td>...</td>\n      <td>...</td>\n      <td>...</td>\n      <td>...</td>\n      <td>...</td>\n      <td>...</td>\n      <td>...</td>\n      <td>...</td>\n      <td>...</td>\n      <td>...</td>\n      <td>...</td>\n      <td>...</td>\n      <td>...</td>\n      <td>...</td>\n    </tr>\n    <tr>\n      <th>664</th>\n      <td>DG104002_20230728031502000107</td>\n      <td>德清</td>\n      <td>39.3</td>\n      <td>True</td>\n      <td>6</td>\n      <td>NaN</td>\n      <td>否</td>\n      <td>88.3</td>\n      <td>0</td>\n      <td>NaN</td>\n      <td>...</td>\n      <td>NaN</td>\n      <td>NaN</td>\n      <td>NaT</td>\n      <td>NaN</td>\n      <td>NaN</td>\n      <td>NaN</td>\n      <td>NaT</td>\n      <td>NaN</td>\n      <td>NaT</td>\n      <td>2023-07</td>\n    </tr>\n    <tr>\n      <th>665</th>\n      <td>DG104002_20230728031502000108</td>\n      <td>德清</td>\n      <td>39.3</td>\n      <td>True</td>\n      <td>6</td>\n      <td>NaN</td>\n      <td>否</td>\n      <td>88.3</td>\n      <td>0</td>\n      <td>NaN</td>\n      <td>...</td>\n      <td>NaN</td>\n      <td>NaN</td>\n      <td>NaT</td>\n      <td>NaN</td>\n      <td>NaN</td>\n      <td>NaN</td>\n      <td>NaT</td>\n      <td>NaN</td>\n      <td>NaT</td>\n      <td>2023-07</td>\n    </tr>\n    <tr>\n      <th>666</th>\n      <td>DG104002_20230728031502000116</td>\n      <td>德清</td>\n      <td>39.3</td>\n      <td>True</td>\n      <td>6</td>\n      <td>NaN</td>\n      <td>否</td>\n      <td>88.3</td>\n      <td>0</td>\n      <td>NaN</td>\n      <td>...</td>\n      <td>NaN</td>\n      <td>NaN</td>\n      <td>NaT</td>\n      <td>NaN</td>\n      <td>NaN</td>\n      <td>NaN</td>\n      <td>NaT</td>\n      <td>NaN</td>\n      <td>NaT</td>\n      <td>2023-07</td>\n    </tr>\n    <tr>\n      <th>667</th>\n      <td>DG104002_20230728031502000119</td>\n      <td>德清</td>\n      <td>39.3</td>\n      <td>True</td>\n      <td>6</td>\n      <td>NaN</td>\n      <td>否</td>\n      <td>88.3</td>\n      <td>0</td>\n      <td>NaN</td>\n      <td>...</td>\n      <td>NaN</td>\n      <td>NaN</td>\n      <td>NaT</td>\n      <td>NaN</td>\n      <td>NaN</td>\n      <td>NaN</td>\n      <td>NaT</td>\n      <td>NaN</td>\n      <td>NaT</td>\n      <td>2023-07</td>\n    </tr>\n    <tr>\n      <th>668</th>\n      <td>DG104002_20230728031502000122</td>\n      <td>德清</td>\n      <td>39.3</td>\n      <td>True</td>\n      <td>6</td>\n      <td>NaN</td>\n      <td>否</td>\n      <td>88.3</td>\n      <td>0</td>\n      <td>NaN</td>\n      <td>...</td>\n      <td>NaN</td>\n      <td>NaN</td>\n      <td>NaT</td>\n      <td>NaN</td>\n      <td>NaN</td>\n      <td>NaN</td>\n      <td>NaT</td>\n      <td>NaN</td>\n      <td>NaT</td>\n      <td>2023-07</td>\n    </tr>\n  </tbody>\n</table>\n<p>580 rows × 35 columns</p>\n</div>"
     },
     "execution_count": 19,
     "metadata": {},
     "output_type": "execute_result"
    }
   ],
   "source": [
    "df3"
   ],
   "metadata": {
    "collapsed": false,
    "pycharm": {
     "name": "#%%\n"
    }
   }
  },
  {
   "cell_type": "code",
   "execution_count": 20,
   "outputs": [
    {
     "data": {
      "text/plain": "      区县  7月80吨以上数且满足数\n0  南太湖新区             1\n1     南浔            10\n2     吴兴             8\n3     安吉             6\n4     德清            13\n5     长兴             1",
      "text/html": "<div>\n<style scoped>\n    .dataframe tbody tr th:only-of-type {\n        vertical-align: middle;\n    }\n\n    .dataframe tbody tr th {\n        vertical-align: top;\n    }\n\n    .dataframe thead th {\n        text-align: right;\n    }\n</style>\n<table border=\"1\" class=\"dataframe\">\n  <thead>\n    <tr style=\"text-align: right;\">\n      <th></th>\n      <th>区县</th>\n      <th>7月80吨以上数且满足数</th>\n    </tr>\n  </thead>\n  <tbody>\n    <tr>\n      <th>0</th>\n      <td>南太湖新区</td>\n      <td>1</td>\n    </tr>\n    <tr>\n      <th>1</th>\n      <td>南浔</td>\n      <td>10</td>\n    </tr>\n    <tr>\n      <th>2</th>\n      <td>吴兴</td>\n      <td>8</td>\n    </tr>\n    <tr>\n      <th>3</th>\n      <td>安吉</td>\n      <td>6</td>\n    </tr>\n    <tr>\n      <th>4</th>\n      <td>德清</td>\n      <td>13</td>\n    </tr>\n    <tr>\n      <th>5</th>\n      <td>长兴</td>\n      <td>1</td>\n    </tr>\n  </tbody>\n</table>\n</div>"
     },
     "execution_count": 20,
     "metadata": {},
     "output_type": "execute_result"
    }
   ],
   "source": [
    "七月80吨以上数且满足数= df3[(df3['out_station_month'] == '2023-07' ) & (df3['is_collect'] == 1)].groupby([\"区县\"])[\n",
    "        'record_code'].count().reset_index(name='7月80吨以上数且满足数')\n",
    "七月80吨以上数且满足数"
   ],
   "metadata": {
    "collapsed": false,
    "pycharm": {
     "name": "#%%\n"
    }
   }
  },
  {
   "cell_type": "code",
   "execution_count": 21,
   "outputs": [
    {
     "data": {
      "text/plain": "      区县  8月80吨以上数且满足数\n0  南太湖新区             2\n1     南浔             9\n2     吴兴             9\n3     安吉             7\n4     德清            31\n5     长兴             4",
      "text/html": "<div>\n<style scoped>\n    .dataframe tbody tr th:only-of-type {\n        vertical-align: middle;\n    }\n\n    .dataframe tbody tr th {\n        vertical-align: top;\n    }\n\n    .dataframe thead th {\n        text-align: right;\n    }\n</style>\n<table border=\"1\" class=\"dataframe\">\n  <thead>\n    <tr style=\"text-align: right;\">\n      <th></th>\n      <th>区县</th>\n      <th>8月80吨以上数且满足数</th>\n    </tr>\n  </thead>\n  <tbody>\n    <tr>\n      <th>0</th>\n      <td>南太湖新区</td>\n      <td>2</td>\n    </tr>\n    <tr>\n      <th>1</th>\n      <td>南浔</td>\n      <td>9</td>\n    </tr>\n    <tr>\n      <th>2</th>\n      <td>吴兴</td>\n      <td>9</td>\n    </tr>\n    <tr>\n      <th>3</th>\n      <td>安吉</td>\n      <td>7</td>\n    </tr>\n    <tr>\n      <th>4</th>\n      <td>德清</td>\n      <td>31</td>\n    </tr>\n    <tr>\n      <th>5</th>\n      <td>长兴</td>\n      <td>4</td>\n    </tr>\n  </tbody>\n</table>\n</div>"
     },
     "execution_count": 21,
     "metadata": {},
     "output_type": "execute_result"
    }
   ],
   "source": [
    "八月80吨以上数且满足数= df3[(df3['out_station_month'] == '2023-08' ) & (df3['is_collect'] == 1)].groupby([\"区县\"])[\n",
    "        'record_code'].count().reset_index(name='8月80吨以上数且满足数')\n",
    "八月80吨以上数且满足数"
   ],
   "metadata": {
    "collapsed": false,
    "pycharm": {
     "name": "#%%\n"
    }
   }
  },
  {
   "cell_type": "code",
   "execution_count": 22,
   "outputs": [
    {
     "data": {
      "text/plain": "      区县  7月80吨以上数  8月80吨以上数 80吨以上数同比  7月80吨以上数且满足数\n0  南太湖新区         3         3    0.00%             1\n1     南浔        23        22   -4.35%            10\n2     吴兴        36        37    2.78%             8\n3     安吉        16        11  -31.25%             6\n4     德清       296       128  -56.76%            13\n5     长兴         1         4  300.00%             1",
      "text/html": "<div>\n<style scoped>\n    .dataframe tbody tr th:only-of-type {\n        vertical-align: middle;\n    }\n\n    .dataframe tbody tr th {\n        vertical-align: top;\n    }\n\n    .dataframe thead th {\n        text-align: right;\n    }\n</style>\n<table border=\"1\" class=\"dataframe\">\n  <thead>\n    <tr style=\"text-align: right;\">\n      <th></th>\n      <th>区县</th>\n      <th>7月80吨以上数</th>\n      <th>8月80吨以上数</th>\n      <th>80吨以上数同比</th>\n      <th>7月80吨以上数且满足数</th>\n    </tr>\n  </thead>\n  <tbody>\n    <tr>\n      <th>0</th>\n      <td>南太湖新区</td>\n      <td>3</td>\n      <td>3</td>\n      <td>0.00%</td>\n      <td>1</td>\n    </tr>\n    <tr>\n      <th>1</th>\n      <td>南浔</td>\n      <td>23</td>\n      <td>22</td>\n      <td>-4.35%</td>\n      <td>10</td>\n    </tr>\n    <tr>\n      <th>2</th>\n      <td>吴兴</td>\n      <td>36</td>\n      <td>37</td>\n      <td>2.78%</td>\n      <td>8</td>\n    </tr>\n    <tr>\n      <th>3</th>\n      <td>安吉</td>\n      <td>16</td>\n      <td>11</td>\n      <td>-31.25%</td>\n      <td>6</td>\n    </tr>\n    <tr>\n      <th>4</th>\n      <td>德清</td>\n      <td>296</td>\n      <td>128</td>\n      <td>-56.76%</td>\n      <td>13</td>\n    </tr>\n    <tr>\n      <th>5</th>\n      <td>长兴</td>\n      <td>1</td>\n      <td>4</td>\n      <td>300.00%</td>\n      <td>1</td>\n    </tr>\n  </tbody>\n</table>\n</div>"
     },
     "execution_count": 22,
     "metadata": {},
     "output_type": "execute_result"
    }
   ],
   "source": [
    "月80吨以上数=pd.merge(月80吨以上数, 七月80吨以上数且满足数, on=['区县'], how='outer')\n",
    "月80吨以上数"
   ],
   "metadata": {
    "collapsed": false,
    "pycharm": {
     "name": "#%%\n"
    }
   }
  },
  {
   "cell_type": "code",
   "execution_count": 23,
   "outputs": [
    {
     "data": {
      "text/plain": "      区县  7月80吨以上数  8月80吨以上数 80吨以上数同比  7月80吨以上数且满足数  8月80吨以上数且满足数\n0  南太湖新区         3         3    0.00%             1             2\n1     南浔        23        22   -4.35%            10             9\n2     吴兴        36        37    2.78%             8             9\n3     安吉        16        11  -31.25%             6             7\n4     德清       296       128  -56.76%            13            31\n5     长兴         1         4  300.00%             1             4",
      "text/html": "<div>\n<style scoped>\n    .dataframe tbody tr th:only-of-type {\n        vertical-align: middle;\n    }\n\n    .dataframe tbody tr th {\n        vertical-align: top;\n    }\n\n    .dataframe thead th {\n        text-align: right;\n    }\n</style>\n<table border=\"1\" class=\"dataframe\">\n  <thead>\n    <tr style=\"text-align: right;\">\n      <th></th>\n      <th>区县</th>\n      <th>7月80吨以上数</th>\n      <th>8月80吨以上数</th>\n      <th>80吨以上数同比</th>\n      <th>7月80吨以上数且满足数</th>\n      <th>8月80吨以上数且满足数</th>\n    </tr>\n  </thead>\n  <tbody>\n    <tr>\n      <th>0</th>\n      <td>南太湖新区</td>\n      <td>3</td>\n      <td>3</td>\n      <td>0.00%</td>\n      <td>1</td>\n      <td>2</td>\n    </tr>\n    <tr>\n      <th>1</th>\n      <td>南浔</td>\n      <td>23</td>\n      <td>22</td>\n      <td>-4.35%</td>\n      <td>10</td>\n      <td>9</td>\n    </tr>\n    <tr>\n      <th>2</th>\n      <td>吴兴</td>\n      <td>36</td>\n      <td>37</td>\n      <td>2.78%</td>\n      <td>8</td>\n      <td>9</td>\n    </tr>\n    <tr>\n      <th>3</th>\n      <td>安吉</td>\n      <td>16</td>\n      <td>11</td>\n      <td>-31.25%</td>\n      <td>6</td>\n      <td>7</td>\n    </tr>\n    <tr>\n      <th>4</th>\n      <td>德清</td>\n      <td>296</td>\n      <td>128</td>\n      <td>-56.76%</td>\n      <td>13</td>\n      <td>31</td>\n    </tr>\n    <tr>\n      <th>5</th>\n      <td>长兴</td>\n      <td>1</td>\n      <td>4</td>\n      <td>300.00%</td>\n      <td>1</td>\n      <td>4</td>\n    </tr>\n  </tbody>\n</table>\n</div>"
     },
     "execution_count": 23,
     "metadata": {},
     "output_type": "execute_result"
    }
   ],
   "source": [
    "月80吨以上数=pd.merge(月80吨以上数, 八月80吨以上数且满足数, on=['区县'], how='outer')\n",
    "月80吨以上数"
   ],
   "metadata": {
    "collapsed": false,
    "pycharm": {
     "name": "#%%\n"
    }
   }
  },
  {
   "cell_type": "code",
   "execution_count": 24,
   "outputs": [
    {
     "data": {
      "text/plain": "      区县  7月80吨以上数  8月80吨以上数 80吨以上数同比  7月80吨以上数且满足数  8月80吨以上数且满足数  80吨以上数且满足同比\n0  南太湖新区         3         3    0.00%             1             2     1.000000\n1     南浔        23        22   -4.35%            10             9    -0.100000\n2     吴兴        36        37    2.78%             8             9     0.125000\n3     安吉        16        11  -31.25%             6             7     0.166667\n4     德清       296       128  -56.76%            13            31     1.384615\n5     长兴         1         4  300.00%             1             4     3.000000",
      "text/html": "<div>\n<style scoped>\n    .dataframe tbody tr th:only-of-type {\n        vertical-align: middle;\n    }\n\n    .dataframe tbody tr th {\n        vertical-align: top;\n    }\n\n    .dataframe thead th {\n        text-align: right;\n    }\n</style>\n<table border=\"1\" class=\"dataframe\">\n  <thead>\n    <tr style=\"text-align: right;\">\n      <th></th>\n      <th>区县</th>\n      <th>7月80吨以上数</th>\n      <th>8月80吨以上数</th>\n      <th>80吨以上数同比</th>\n      <th>7月80吨以上数且满足数</th>\n      <th>8月80吨以上数且满足数</th>\n      <th>80吨以上数且满足同比</th>\n    </tr>\n  </thead>\n  <tbody>\n    <tr>\n      <th>0</th>\n      <td>南太湖新区</td>\n      <td>3</td>\n      <td>3</td>\n      <td>0.00%</td>\n      <td>1</td>\n      <td>2</td>\n      <td>1.000000</td>\n    </tr>\n    <tr>\n      <th>1</th>\n      <td>南浔</td>\n      <td>23</td>\n      <td>22</td>\n      <td>-4.35%</td>\n      <td>10</td>\n      <td>9</td>\n      <td>-0.100000</td>\n    </tr>\n    <tr>\n      <th>2</th>\n      <td>吴兴</td>\n      <td>36</td>\n      <td>37</td>\n      <td>2.78%</td>\n      <td>8</td>\n      <td>9</td>\n      <td>0.125000</td>\n    </tr>\n    <tr>\n      <th>3</th>\n      <td>安吉</td>\n      <td>16</td>\n      <td>11</td>\n      <td>-31.25%</td>\n      <td>6</td>\n      <td>7</td>\n      <td>0.166667</td>\n    </tr>\n    <tr>\n      <th>4</th>\n      <td>德清</td>\n      <td>296</td>\n      <td>128</td>\n      <td>-56.76%</td>\n      <td>13</td>\n      <td>31</td>\n      <td>1.384615</td>\n    </tr>\n    <tr>\n      <th>5</th>\n      <td>长兴</td>\n      <td>1</td>\n      <td>4</td>\n      <td>300.00%</td>\n      <td>1</td>\n      <td>4</td>\n      <td>3.000000</td>\n    </tr>\n  </tbody>\n</table>\n</div>"
     },
     "execution_count": 24,
     "metadata": {},
     "output_type": "execute_result"
    }
   ],
   "source": [
    "月80吨以上数['80吨以上数且满足同比']=(月80吨以上数['8月80吨以上数且满足数']-月80吨以上数['7月80吨以上数且满足数'])/月80吨以上数['7月80吨以上数且满足数']\n",
    "月80吨以上数"
   ],
   "metadata": {
    "collapsed": false,
    "pycharm": {
     "name": "#%%\n"
    }
   }
  },
  {
   "cell_type": "code",
   "execution_count": 25,
   "outputs": [
    {
     "data": {
      "text/plain": "      区县  7月80吨以上数  8月80吨以上数 80吨以上数同比  7月80吨以上数且满足数  8月80吨以上数且满足数 80吨以上数且满足同比\n0  南太湖新区         3         3    0.00%             1             2     100.00%\n1     南浔        23        22   -4.35%            10             9     -10.00%\n2     吴兴        36        37    2.78%             8             9      12.50%\n3     安吉        16        11  -31.25%             6             7      16.67%\n4     德清       296       128  -56.76%            13            31     138.46%\n5     长兴         1         4  300.00%             1             4     300.00%",
      "text/html": "<div>\n<style scoped>\n    .dataframe tbody tr th:only-of-type {\n        vertical-align: middle;\n    }\n\n    .dataframe tbody tr th {\n        vertical-align: top;\n    }\n\n    .dataframe thead th {\n        text-align: right;\n    }\n</style>\n<table border=\"1\" class=\"dataframe\">\n  <thead>\n    <tr style=\"text-align: right;\">\n      <th></th>\n      <th>区县</th>\n      <th>7月80吨以上数</th>\n      <th>8月80吨以上数</th>\n      <th>80吨以上数同比</th>\n      <th>7月80吨以上数且满足数</th>\n      <th>8月80吨以上数且满足数</th>\n      <th>80吨以上数且满足同比</th>\n    </tr>\n  </thead>\n  <tbody>\n    <tr>\n      <th>0</th>\n      <td>南太湖新区</td>\n      <td>3</td>\n      <td>3</td>\n      <td>0.00%</td>\n      <td>1</td>\n      <td>2</td>\n      <td>100.00%</td>\n    </tr>\n    <tr>\n      <th>1</th>\n      <td>南浔</td>\n      <td>23</td>\n      <td>22</td>\n      <td>-4.35%</td>\n      <td>10</td>\n      <td>9</td>\n      <td>-10.00%</td>\n    </tr>\n    <tr>\n      <th>2</th>\n      <td>吴兴</td>\n      <td>36</td>\n      <td>37</td>\n      <td>2.78%</td>\n      <td>8</td>\n      <td>9</td>\n      <td>12.50%</td>\n    </tr>\n    <tr>\n      <th>3</th>\n      <td>安吉</td>\n      <td>16</td>\n      <td>11</td>\n      <td>-31.25%</td>\n      <td>6</td>\n      <td>7</td>\n      <td>16.67%</td>\n    </tr>\n    <tr>\n      <th>4</th>\n      <td>德清</td>\n      <td>296</td>\n      <td>128</td>\n      <td>-56.76%</td>\n      <td>13</td>\n      <td>31</td>\n      <td>138.46%</td>\n    </tr>\n    <tr>\n      <th>5</th>\n      <td>长兴</td>\n      <td>1</td>\n      <td>4</td>\n      <td>300.00%</td>\n      <td>1</td>\n      <td>4</td>\n      <td>300.00%</td>\n    </tr>\n  </tbody>\n</table>\n</div>"
     },
     "execution_count": 25,
     "metadata": {},
     "output_type": "execute_result"
    }
   ],
   "source": [
    "月80吨以上数['80吨以上数且满足同比'] =月80吨以上数['80吨以上数且满足同比'].apply(lambda x: format(x, '.2%'))\n",
    "月80吨以上数"
   ],
   "metadata": {
    "collapsed": false,
    "pycharm": {
     "name": "#%%\n"
    }
   }
  },
  {
   "cell_type": "code",
   "execution_count": 26,
   "outputs": [],
   "source": [
    "df3=df3.fillna(0)"
   ],
   "metadata": {
    "collapsed": false,
    "pycharm": {
     "name": "#%%\n"
    }
   }
  },
  {
   "cell_type": "code",
   "execution_count": 27,
   "outputs": [
    {
     "data": {
      "text/plain": "      区县  7月80吨以上数采集数\n0  南太湖新区            1\n1     南浔           10\n2     吴兴            8\n3     安吉            6\n4     德清           11\n5     长兴            1",
      "text/html": "<div>\n<style scoped>\n    .dataframe tbody tr th:only-of-type {\n        vertical-align: middle;\n    }\n\n    .dataframe tbody tr th {\n        vertical-align: top;\n    }\n\n    .dataframe thead th {\n        text-align: right;\n    }\n</style>\n<table border=\"1\" class=\"dataframe\">\n  <thead>\n    <tr style=\"text-align: right;\">\n      <th></th>\n      <th>区县</th>\n      <th>7月80吨以上数采集数</th>\n    </tr>\n  </thead>\n  <tbody>\n    <tr>\n      <th>0</th>\n      <td>南太湖新区</td>\n      <td>1</td>\n    </tr>\n    <tr>\n      <th>1</th>\n      <td>南浔</td>\n      <td>10</td>\n    </tr>\n    <tr>\n      <th>2</th>\n      <td>吴兴</td>\n      <td>8</td>\n    </tr>\n    <tr>\n      <th>3</th>\n      <td>安吉</td>\n      <td>6</td>\n    </tr>\n    <tr>\n      <th>4</th>\n      <td>德清</td>\n      <td>11</td>\n    </tr>\n    <tr>\n      <th>5</th>\n      <td>长兴</td>\n      <td>1</td>\n    </tr>\n  </tbody>\n</table>\n</div>"
     },
     "execution_count": 27,
     "metadata": {},
     "output_type": "execute_result"
    }
   ],
   "source": [
    "七月80吨以上数采集数= df3[(df3['out_station_month'] == '2023-07' ) & (df3['status_y'] != 0)].groupby([\"区县\"])[\n",
    "        'record_code'].count().reset_index(name='7月80吨以上数采集数')\n",
    "七月80吨以上数采集数"
   ],
   "metadata": {
    "collapsed": false,
    "pycharm": {
     "name": "#%%\n"
    }
   }
  },
  {
   "cell_type": "code",
   "execution_count": 28,
   "outputs": [
    {
     "data": {
      "text/plain": "      区县  8月80吨以上数采集数\n0  南太湖新区            2\n1     南浔            9\n2     吴兴            9\n3     安吉            6\n4     德清           27\n5     长兴            4",
      "text/html": "<div>\n<style scoped>\n    .dataframe tbody tr th:only-of-type {\n        vertical-align: middle;\n    }\n\n    .dataframe tbody tr th {\n        vertical-align: top;\n    }\n\n    .dataframe thead th {\n        text-align: right;\n    }\n</style>\n<table border=\"1\" class=\"dataframe\">\n  <thead>\n    <tr style=\"text-align: right;\">\n      <th></th>\n      <th>区县</th>\n      <th>8月80吨以上数采集数</th>\n    </tr>\n  </thead>\n  <tbody>\n    <tr>\n      <th>0</th>\n      <td>南太湖新区</td>\n      <td>2</td>\n    </tr>\n    <tr>\n      <th>1</th>\n      <td>南浔</td>\n      <td>9</td>\n    </tr>\n    <tr>\n      <th>2</th>\n      <td>吴兴</td>\n      <td>9</td>\n    </tr>\n    <tr>\n      <th>3</th>\n      <td>安吉</td>\n      <td>6</td>\n    </tr>\n    <tr>\n      <th>4</th>\n      <td>德清</td>\n      <td>27</td>\n    </tr>\n    <tr>\n      <th>5</th>\n      <td>长兴</td>\n      <td>4</td>\n    </tr>\n  </tbody>\n</table>\n</div>"
     },
     "execution_count": 28,
     "metadata": {},
     "output_type": "execute_result"
    }
   ],
   "source": [
    "八月80吨以上数采集数= df3[(df3['out_station_month'] == '2023-08' ) & (df3['status_y'] != 0)].groupby([\"区县\"])[\n",
    "        'record_code'].count().reset_index(name='8月80吨以上数采集数')\n",
    "八月80吨以上数采集数"
   ],
   "metadata": {
    "collapsed": false,
    "pycharm": {
     "name": "#%%\n"
    }
   }
  },
  {
   "cell_type": "code",
   "execution_count": 29,
   "outputs": [
    {
     "data": {
      "text/plain": "      区县  7月80吨以上数  8月80吨以上数 80吨以上数同比  7月80吨以上数且满足数  8月80吨以上数且满足数 80吨以上数且满足同比  \\\n0  南太湖新区         3         3    0.00%             1             2     100.00%   \n1     南浔        23        22   -4.35%            10             9     -10.00%   \n2     吴兴        36        37    2.78%             8             9      12.50%   \n3     安吉        16        11  -31.25%             6             7      16.67%   \n4     德清       296       128  -56.76%            13            31     138.46%   \n5     长兴         1         4  300.00%             1             4     300.00%   \n\n   7月80吨以上数采集数  \n0            1  \n1           10  \n2            8  \n3            6  \n4           11  \n5            1  ",
      "text/html": "<div>\n<style scoped>\n    .dataframe tbody tr th:only-of-type {\n        vertical-align: middle;\n    }\n\n    .dataframe tbody tr th {\n        vertical-align: top;\n    }\n\n    .dataframe thead th {\n        text-align: right;\n    }\n</style>\n<table border=\"1\" class=\"dataframe\">\n  <thead>\n    <tr style=\"text-align: right;\">\n      <th></th>\n      <th>区县</th>\n      <th>7月80吨以上数</th>\n      <th>8月80吨以上数</th>\n      <th>80吨以上数同比</th>\n      <th>7月80吨以上数且满足数</th>\n      <th>8月80吨以上数且满足数</th>\n      <th>80吨以上数且满足同比</th>\n      <th>7月80吨以上数采集数</th>\n    </tr>\n  </thead>\n  <tbody>\n    <tr>\n      <th>0</th>\n      <td>南太湖新区</td>\n      <td>3</td>\n      <td>3</td>\n      <td>0.00%</td>\n      <td>1</td>\n      <td>2</td>\n      <td>100.00%</td>\n      <td>1</td>\n    </tr>\n    <tr>\n      <th>1</th>\n      <td>南浔</td>\n      <td>23</td>\n      <td>22</td>\n      <td>-4.35%</td>\n      <td>10</td>\n      <td>9</td>\n      <td>-10.00%</td>\n      <td>10</td>\n    </tr>\n    <tr>\n      <th>2</th>\n      <td>吴兴</td>\n      <td>36</td>\n      <td>37</td>\n      <td>2.78%</td>\n      <td>8</td>\n      <td>9</td>\n      <td>12.50%</td>\n      <td>8</td>\n    </tr>\n    <tr>\n      <th>3</th>\n      <td>安吉</td>\n      <td>16</td>\n      <td>11</td>\n      <td>-31.25%</td>\n      <td>6</td>\n      <td>7</td>\n      <td>16.67%</td>\n      <td>6</td>\n    </tr>\n    <tr>\n      <th>4</th>\n      <td>德清</td>\n      <td>296</td>\n      <td>128</td>\n      <td>-56.76%</td>\n      <td>13</td>\n      <td>31</td>\n      <td>138.46%</td>\n      <td>11</td>\n    </tr>\n    <tr>\n      <th>5</th>\n      <td>长兴</td>\n      <td>1</td>\n      <td>4</td>\n      <td>300.00%</td>\n      <td>1</td>\n      <td>4</td>\n      <td>300.00%</td>\n      <td>1</td>\n    </tr>\n  </tbody>\n</table>\n</div>"
     },
     "execution_count": 29,
     "metadata": {},
     "output_type": "execute_result"
    }
   ],
   "source": [
    "月80吨以上数=pd.merge(月80吨以上数, 七月80吨以上数采集数, on=['区县'], how='outer')\n",
    "月80吨以上数"
   ],
   "metadata": {
    "collapsed": false,
    "pycharm": {
     "name": "#%%\n"
    }
   }
  },
  {
   "cell_type": "code",
   "execution_count": 30,
   "outputs": [
    {
     "data": {
      "text/plain": "      区县  7月80吨以上数  8月80吨以上数 80吨以上数同比  7月80吨以上数且满足数  8月80吨以上数且满足数 80吨以上数且满足同比  \\\n0  南太湖新区         3         3    0.00%             1             2     100.00%   \n1     南浔        23        22   -4.35%            10             9     -10.00%   \n2     吴兴        36        37    2.78%             8             9      12.50%   \n3     安吉        16        11  -31.25%             6             7      16.67%   \n4     德清       296       128  -56.76%            13            31     138.46%   \n5     长兴         1         4  300.00%             1             4     300.00%   \n\n   7月80吨以上数采集数  8月80吨以上数采集数 80吨以上采集数同比  \n0            1            2    100.00%  \n1           10            9    -10.00%  \n2            8            9     12.50%  \n3            6            6      0.00%  \n4           11           27    145.45%  \n5            1            4    300.00%  ",
      "text/html": "<div>\n<style scoped>\n    .dataframe tbody tr th:only-of-type {\n        vertical-align: middle;\n    }\n\n    .dataframe tbody tr th {\n        vertical-align: top;\n    }\n\n    .dataframe thead th {\n        text-align: right;\n    }\n</style>\n<table border=\"1\" class=\"dataframe\">\n  <thead>\n    <tr style=\"text-align: right;\">\n      <th></th>\n      <th>区县</th>\n      <th>7月80吨以上数</th>\n      <th>8月80吨以上数</th>\n      <th>80吨以上数同比</th>\n      <th>7月80吨以上数且满足数</th>\n      <th>8月80吨以上数且满足数</th>\n      <th>80吨以上数且满足同比</th>\n      <th>7月80吨以上数采集数</th>\n      <th>8月80吨以上数采集数</th>\n      <th>80吨以上采集数同比</th>\n    </tr>\n  </thead>\n  <tbody>\n    <tr>\n      <th>0</th>\n      <td>南太湖新区</td>\n      <td>3</td>\n      <td>3</td>\n      <td>0.00%</td>\n      <td>1</td>\n      <td>2</td>\n      <td>100.00%</td>\n      <td>1</td>\n      <td>2</td>\n      <td>100.00%</td>\n    </tr>\n    <tr>\n      <th>1</th>\n      <td>南浔</td>\n      <td>23</td>\n      <td>22</td>\n      <td>-4.35%</td>\n      <td>10</td>\n      <td>9</td>\n      <td>-10.00%</td>\n      <td>10</td>\n      <td>9</td>\n      <td>-10.00%</td>\n    </tr>\n    <tr>\n      <th>2</th>\n      <td>吴兴</td>\n      <td>36</td>\n      <td>37</td>\n      <td>2.78%</td>\n      <td>8</td>\n      <td>9</td>\n      <td>12.50%</td>\n      <td>8</td>\n      <td>9</td>\n      <td>12.50%</td>\n    </tr>\n    <tr>\n      <th>3</th>\n      <td>安吉</td>\n      <td>16</td>\n      <td>11</td>\n      <td>-31.25%</td>\n      <td>6</td>\n      <td>7</td>\n      <td>16.67%</td>\n      <td>6</td>\n      <td>6</td>\n      <td>0.00%</td>\n    </tr>\n    <tr>\n      <th>4</th>\n      <td>德清</td>\n      <td>296</td>\n      <td>128</td>\n      <td>-56.76%</td>\n      <td>13</td>\n      <td>31</td>\n      <td>138.46%</td>\n      <td>11</td>\n      <td>27</td>\n      <td>145.45%</td>\n    </tr>\n    <tr>\n      <th>5</th>\n      <td>长兴</td>\n      <td>1</td>\n      <td>4</td>\n      <td>300.00%</td>\n      <td>1</td>\n      <td>4</td>\n      <td>300.00%</td>\n      <td>1</td>\n      <td>4</td>\n      <td>300.00%</td>\n    </tr>\n  </tbody>\n</table>\n</div>"
     },
     "execution_count": 30,
     "metadata": {},
     "output_type": "execute_result"
    }
   ],
   "source": [
    "月80吨以上数=pd.merge(月80吨以上数, 八月80吨以上数采集数, on=['区县'], how='outer')\n",
    "月80吨以上数=月80吨以上数.fillna(0)\n",
    "月80吨以上数['80吨以上采集数同比']=(月80吨以上数['8月80吨以上数采集数']-月80吨以上数['7月80吨以上数采集数'])/月80吨以上数['7月80吨以上数采集数']\n",
    "月80吨以上数['80吨以上采集数同比'] =月80吨以上数['80吨以上采集数同比'].apply(lambda x: format(x, '.2%'))\n",
    "月80吨以上数"
   ],
   "metadata": {
    "collapsed": false,
    "pycharm": {
     "name": "#%%\n"
    }
   }
  },
  {
   "cell_type": "code",
   "execution_count": 31,
   "outputs": [
    {
     "data": {
      "text/plain": "                                record_code  区县  overrun  has_car_no  axis  \\\n0    123456_3305213103202307010701305420192  德清     40.6        True     8   \n1    123456_3305213103202307010717215420344  德清     50.1        True     7   \n2    123456_3305213103202307010750035420647  德清     38.7        True     8   \n3    123456_3305213103202307010800485420760  德清     47.0        True     7   \n4    123456_3305213103202307010919365421537  德清     44.3        True     8   \n..                                      ...  ..      ...         ...   ...   \n664           DG104002_20230728031502000107  德清     39.3        True     6   \n665           DG104002_20230728031502000108  德清     39.3        True     6   \n666           DG104002_20230728031502000116  德清     39.3        True     6   \n667           DG104002_20230728031502000119  德清     39.3        True     6   \n668           DG104002_20230728031502000122  德清     39.3        True     6   \n\n                                                photo2 是否已采集  total_weight  \\\n0    http://zjjt-zhzc.oss-cn-hangzhou-zjzwy01-d01-a...     是          89.6   \n1    http://zjjt-zhzc.oss-cn-hangzhou-zjzwy01-d01-a...     是          99.1   \n2    http://zjjt-zhzc.oss-cn-hangzhou-zjzwy01-d01-a...     是          87.7   \n3    http://zjjt-zhzc.oss-cn-hangzhou-zjzwy01-d01-a...     是          96.0   \n4    http://zjjt-zhzc.oss-cn-hangzhou-zjzwy01-d01-a...     是          93.3   \n..                                                 ...   ...           ...   \n664                                                  0     否          88.3   \n665                                                  0     否          88.3   \n666                                                  0     否          88.3   \n667                                                  0     否          88.3   \n668                                                  0     否          88.3   \n\n     is_collect                                              vedio  ...  \\\n0             0  http://zjjt-zhzc.oss-cn-hangzhou-zjzwy01-d01-a...  ...   \n1             0  http://zjjt-zhzc.oss-cn-hangzhou-zjzwy01-d01-a...  ...   \n2             0  http://zjjt-zhzc.oss-cn-hangzhou-zjzwy01-d01-a...  ...   \n3             0  http://zjjt-zhzc.oss-cn-hangzhou-zjzwy01-d01-a...  ...   \n4             0  http://zjjt-zhzc.oss-cn-hangzhou-zjzwy01-d01-a...  ...   \n..          ...                                                ...  ...   \n664           0                                                  0  ...   \n665           0                                                  0  ...   \n666           0                                                  0  ...   \n667           0                                                  0  ...   \n668           0                                                  0  ...   \n\n     photo5  content  audit_time make_copy auditor status_y valid_time  \\\n0         0        0           0         0       0      0.0          0   \n1         0        0           0         0       0      0.0          0   \n2         0        0           0         0       0      0.0          0   \n3         0        0           0         0       0      0.0          0   \n4         0        0           0         0       0      0.0          0   \n..      ...      ...         ...       ...     ...      ...        ...   \n664       0        0           0         0       0      0.0          0   \n665       0        0           0         0       0      0.0          0   \n666       0        0           0         0       0      0.0          0   \n667       0        0           0         0       0      0.0          0   \n668       0        0           0         0       0      0.0          0   \n\n    CASE_NUM close_case_time  out_station_month  \n0          0               0            2023-07  \n1          0               0            2023-07  \n2          0               0            2023-07  \n3          0               0            2023-07  \n4          0               0            2023-07  \n..       ...             ...                ...  \n664        0               0            2023-07  \n665        0               0            2023-07  \n666        0               0            2023-07  \n667        0               0            2023-07  \n668        0               0            2023-07  \n\n[580 rows x 35 columns]",
      "text/html": "<div>\n<style scoped>\n    .dataframe tbody tr th:only-of-type {\n        vertical-align: middle;\n    }\n\n    .dataframe tbody tr th {\n        vertical-align: top;\n    }\n\n    .dataframe thead th {\n        text-align: right;\n    }\n</style>\n<table border=\"1\" class=\"dataframe\">\n  <thead>\n    <tr style=\"text-align: right;\">\n      <th></th>\n      <th>record_code</th>\n      <th>区县</th>\n      <th>overrun</th>\n      <th>has_car_no</th>\n      <th>axis</th>\n      <th>photo2</th>\n      <th>是否已采集</th>\n      <th>total_weight</th>\n      <th>is_collect</th>\n      <th>vedio</th>\n      <th>...</th>\n      <th>photo5</th>\n      <th>content</th>\n      <th>audit_time</th>\n      <th>make_copy</th>\n      <th>auditor</th>\n      <th>status_y</th>\n      <th>valid_time</th>\n      <th>CASE_NUM</th>\n      <th>close_case_time</th>\n      <th>out_station_month</th>\n    </tr>\n  </thead>\n  <tbody>\n    <tr>\n      <th>0</th>\n      <td>123456_3305213103202307010701305420192</td>\n      <td>德清</td>\n      <td>40.6</td>\n      <td>True</td>\n      <td>8</td>\n      <td>http://zjjt-zhzc.oss-cn-hangzhou-zjzwy01-d01-a...</td>\n      <td>是</td>\n      <td>89.6</td>\n      <td>0</td>\n      <td>http://zjjt-zhzc.oss-cn-hangzhou-zjzwy01-d01-a...</td>\n      <td>...</td>\n      <td>0</td>\n      <td>0</td>\n      <td>0</td>\n      <td>0</td>\n      <td>0</td>\n      <td>0.0</td>\n      <td>0</td>\n      <td>0</td>\n      <td>0</td>\n      <td>2023-07</td>\n    </tr>\n    <tr>\n      <th>1</th>\n      <td>123456_3305213103202307010717215420344</td>\n      <td>德清</td>\n      <td>50.1</td>\n      <td>True</td>\n      <td>7</td>\n      <td>http://zjjt-zhzc.oss-cn-hangzhou-zjzwy01-d01-a...</td>\n      <td>是</td>\n      <td>99.1</td>\n      <td>0</td>\n      <td>http://zjjt-zhzc.oss-cn-hangzhou-zjzwy01-d01-a...</td>\n      <td>...</td>\n      <td>0</td>\n      <td>0</td>\n      <td>0</td>\n      <td>0</td>\n      <td>0</td>\n      <td>0.0</td>\n      <td>0</td>\n      <td>0</td>\n      <td>0</td>\n      <td>2023-07</td>\n    </tr>\n    <tr>\n      <th>2</th>\n      <td>123456_3305213103202307010750035420647</td>\n      <td>德清</td>\n      <td>38.7</td>\n      <td>True</td>\n      <td>8</td>\n      <td>http://zjjt-zhzc.oss-cn-hangzhou-zjzwy01-d01-a...</td>\n      <td>是</td>\n      <td>87.7</td>\n      <td>0</td>\n      <td>http://zjjt-zhzc.oss-cn-hangzhou-zjzwy01-d01-a...</td>\n      <td>...</td>\n      <td>0</td>\n      <td>0</td>\n      <td>0</td>\n      <td>0</td>\n      <td>0</td>\n      <td>0.0</td>\n      <td>0</td>\n      <td>0</td>\n      <td>0</td>\n      <td>2023-07</td>\n    </tr>\n    <tr>\n      <th>3</th>\n      <td>123456_3305213103202307010800485420760</td>\n      <td>德清</td>\n      <td>47.0</td>\n      <td>True</td>\n      <td>7</td>\n      <td>http://zjjt-zhzc.oss-cn-hangzhou-zjzwy01-d01-a...</td>\n      <td>是</td>\n      <td>96.0</td>\n      <td>0</td>\n      <td>http://zjjt-zhzc.oss-cn-hangzhou-zjzwy01-d01-a...</td>\n      <td>...</td>\n      <td>0</td>\n      <td>0</td>\n      <td>0</td>\n      <td>0</td>\n      <td>0</td>\n      <td>0.0</td>\n      <td>0</td>\n      <td>0</td>\n      <td>0</td>\n      <td>2023-07</td>\n    </tr>\n    <tr>\n      <th>4</th>\n      <td>123456_3305213103202307010919365421537</td>\n      <td>德清</td>\n      <td>44.3</td>\n      <td>True</td>\n      <td>8</td>\n      <td>http://zjjt-zhzc.oss-cn-hangzhou-zjzwy01-d01-a...</td>\n      <td>是</td>\n      <td>93.3</td>\n      <td>0</td>\n      <td>http://zjjt-zhzc.oss-cn-hangzhou-zjzwy01-d01-a...</td>\n      <td>...</td>\n      <td>0</td>\n      <td>0</td>\n      <td>0</td>\n      <td>0</td>\n      <td>0</td>\n      <td>0.0</td>\n      <td>0</td>\n      <td>0</td>\n      <td>0</td>\n      <td>2023-07</td>\n    </tr>\n    <tr>\n      <th>...</th>\n      <td>...</td>\n      <td>...</td>\n      <td>...</td>\n      <td>...</td>\n      <td>...</td>\n      <td>...</td>\n      <td>...</td>\n      <td>...</td>\n      <td>...</td>\n      <td>...</td>\n      <td>...</td>\n      <td>...</td>\n      <td>...</td>\n      <td>...</td>\n      <td>...</td>\n      <td>...</td>\n      <td>...</td>\n      <td>...</td>\n      <td>...</td>\n      <td>...</td>\n      <td>...</td>\n    </tr>\n    <tr>\n      <th>664</th>\n      <td>DG104002_20230728031502000107</td>\n      <td>德清</td>\n      <td>39.3</td>\n      <td>True</td>\n      <td>6</td>\n      <td>0</td>\n      <td>否</td>\n      <td>88.3</td>\n      <td>0</td>\n      <td>0</td>\n      <td>...</td>\n      <td>0</td>\n      <td>0</td>\n      <td>0</td>\n      <td>0</td>\n      <td>0</td>\n      <td>0.0</td>\n      <td>0</td>\n      <td>0</td>\n      <td>0</td>\n      <td>2023-07</td>\n    </tr>\n    <tr>\n      <th>665</th>\n      <td>DG104002_20230728031502000108</td>\n      <td>德清</td>\n      <td>39.3</td>\n      <td>True</td>\n      <td>6</td>\n      <td>0</td>\n      <td>否</td>\n      <td>88.3</td>\n      <td>0</td>\n      <td>0</td>\n      <td>...</td>\n      <td>0</td>\n      <td>0</td>\n      <td>0</td>\n      <td>0</td>\n      <td>0</td>\n      <td>0.0</td>\n      <td>0</td>\n      <td>0</td>\n      <td>0</td>\n      <td>2023-07</td>\n    </tr>\n    <tr>\n      <th>666</th>\n      <td>DG104002_20230728031502000116</td>\n      <td>德清</td>\n      <td>39.3</td>\n      <td>True</td>\n      <td>6</td>\n      <td>0</td>\n      <td>否</td>\n      <td>88.3</td>\n      <td>0</td>\n      <td>0</td>\n      <td>...</td>\n      <td>0</td>\n      <td>0</td>\n      <td>0</td>\n      <td>0</td>\n      <td>0</td>\n      <td>0.0</td>\n      <td>0</td>\n      <td>0</td>\n      <td>0</td>\n      <td>2023-07</td>\n    </tr>\n    <tr>\n      <th>667</th>\n      <td>DG104002_20230728031502000119</td>\n      <td>德清</td>\n      <td>39.3</td>\n      <td>True</td>\n      <td>6</td>\n      <td>0</td>\n      <td>否</td>\n      <td>88.3</td>\n      <td>0</td>\n      <td>0</td>\n      <td>...</td>\n      <td>0</td>\n      <td>0</td>\n      <td>0</td>\n      <td>0</td>\n      <td>0</td>\n      <td>0.0</td>\n      <td>0</td>\n      <td>0</td>\n      <td>0</td>\n      <td>2023-07</td>\n    </tr>\n    <tr>\n      <th>668</th>\n      <td>DG104002_20230728031502000122</td>\n      <td>德清</td>\n      <td>39.3</td>\n      <td>True</td>\n      <td>6</td>\n      <td>0</td>\n      <td>否</td>\n      <td>88.3</td>\n      <td>0</td>\n      <td>0</td>\n      <td>...</td>\n      <td>0</td>\n      <td>0</td>\n      <td>0</td>\n      <td>0</td>\n      <td>0</td>\n      <td>0.0</td>\n      <td>0</td>\n      <td>0</td>\n      <td>0</td>\n      <td>2023-07</td>\n    </tr>\n  </tbody>\n</table>\n<p>580 rows × 35 columns</p>\n</div>"
     },
     "execution_count": 31,
     "metadata": {},
     "output_type": "execute_result"
    }
   ],
   "source": [
    "df3"
   ],
   "metadata": {
    "collapsed": false,
    "pycharm": {
     "name": "#%%\n"
    }
   }
  },
  {
   "cell_type": "code",
   "execution_count": 32,
   "outputs": [],
   "source": [
    "df3=df3.fillna(0)"
   ],
   "metadata": {
    "collapsed": false,
    "pycharm": {
     "name": "#%%\n"
    }
   }
  },
  {
   "cell_type": "code",
   "execution_count": 33,
   "outputs": [],
   "source": [
    "df3['status_y']=df3['status_y'].astype('int64')"
   ],
   "metadata": {
    "collapsed": false,
    "pycharm": {
     "name": "#%%\n"
    }
   }
  },
  {
   "cell_type": "code",
   "execution_count": 34,
   "outputs": [
    {
     "data": {
      "text/plain": "                                record_code  区县  overrun  has_car_no  axis  \\\n0    123456_3305213103202307010701305420192  德清     40.6        True     8   \n1    123456_3305213103202307010717215420344  德清     50.1        True     7   \n2    123456_3305213103202307010750035420647  德清     38.7        True     8   \n3    123456_3305213103202307010800485420760  德清     47.0        True     7   \n4    123456_3305213103202307010919365421537  德清     44.3        True     8   \n..                                      ...  ..      ...         ...   ...   \n664           DG104002_20230728031502000107  德清     39.3        True     6   \n665           DG104002_20230728031502000108  德清     39.3        True     6   \n666           DG104002_20230728031502000116  德清     39.3        True     6   \n667           DG104002_20230728031502000119  德清     39.3        True     6   \n668           DG104002_20230728031502000122  德清     39.3        True     6   \n\n                                                photo2 是否已采集  total_weight  \\\n0    http://zjjt-zhzc.oss-cn-hangzhou-zjzwy01-d01-a...     是          89.6   \n1    http://zjjt-zhzc.oss-cn-hangzhou-zjzwy01-d01-a...     是          99.1   \n2    http://zjjt-zhzc.oss-cn-hangzhou-zjzwy01-d01-a...     是          87.7   \n3    http://zjjt-zhzc.oss-cn-hangzhou-zjzwy01-d01-a...     是          96.0   \n4    http://zjjt-zhzc.oss-cn-hangzhou-zjzwy01-d01-a...     是          93.3   \n..                                                 ...   ...           ...   \n664                                                  0     否          88.3   \n665                                                  0     否          88.3   \n666                                                  0     否          88.3   \n667                                                  0     否          88.3   \n668                                                  0     否          88.3   \n\n     is_collect                                              vedio  ...  \\\n0             0  http://zjjt-zhzc.oss-cn-hangzhou-zjzwy01-d01-a...  ...   \n1             0  http://zjjt-zhzc.oss-cn-hangzhou-zjzwy01-d01-a...  ...   \n2             0  http://zjjt-zhzc.oss-cn-hangzhou-zjzwy01-d01-a...  ...   \n3             0  http://zjjt-zhzc.oss-cn-hangzhou-zjzwy01-d01-a...  ...   \n4             0  http://zjjt-zhzc.oss-cn-hangzhou-zjzwy01-d01-a...  ...   \n..          ...                                                ...  ...   \n664           0                                                  0  ...   \n665           0                                                  0  ...   \n666           0                                                  0  ...   \n667           0                                                  0  ...   \n668           0                                                  0  ...   \n\n     photo5  content  audit_time make_copy auditor status_y valid_time  \\\n0         0        0           0         0       0        0          0   \n1         0        0           0         0       0        0          0   \n2         0        0           0         0       0        0          0   \n3         0        0           0         0       0        0          0   \n4         0        0           0         0       0        0          0   \n..      ...      ...         ...       ...     ...      ...        ...   \n664       0        0           0         0       0        0          0   \n665       0        0           0         0       0        0          0   \n666       0        0           0         0       0        0          0   \n667       0        0           0         0       0        0          0   \n668       0        0           0         0       0        0          0   \n\n    CASE_NUM close_case_time  out_station_month  \n0          0               0            2023-07  \n1          0               0            2023-07  \n2          0               0            2023-07  \n3          0               0            2023-07  \n4          0               0            2023-07  \n..       ...             ...                ...  \n664        0               0            2023-07  \n665        0               0            2023-07  \n666        0               0            2023-07  \n667        0               0            2023-07  \n668        0               0            2023-07  \n\n[580 rows x 35 columns]",
      "text/html": "<div>\n<style scoped>\n    .dataframe tbody tr th:only-of-type {\n        vertical-align: middle;\n    }\n\n    .dataframe tbody tr th {\n        vertical-align: top;\n    }\n\n    .dataframe thead th {\n        text-align: right;\n    }\n</style>\n<table border=\"1\" class=\"dataframe\">\n  <thead>\n    <tr style=\"text-align: right;\">\n      <th></th>\n      <th>record_code</th>\n      <th>区县</th>\n      <th>overrun</th>\n      <th>has_car_no</th>\n      <th>axis</th>\n      <th>photo2</th>\n      <th>是否已采集</th>\n      <th>total_weight</th>\n      <th>is_collect</th>\n      <th>vedio</th>\n      <th>...</th>\n      <th>photo5</th>\n      <th>content</th>\n      <th>audit_time</th>\n      <th>make_copy</th>\n      <th>auditor</th>\n      <th>status_y</th>\n      <th>valid_time</th>\n      <th>CASE_NUM</th>\n      <th>close_case_time</th>\n      <th>out_station_month</th>\n    </tr>\n  </thead>\n  <tbody>\n    <tr>\n      <th>0</th>\n      <td>123456_3305213103202307010701305420192</td>\n      <td>德清</td>\n      <td>40.6</td>\n      <td>True</td>\n      <td>8</td>\n      <td>http://zjjt-zhzc.oss-cn-hangzhou-zjzwy01-d01-a...</td>\n      <td>是</td>\n      <td>89.6</td>\n      <td>0</td>\n      <td>http://zjjt-zhzc.oss-cn-hangzhou-zjzwy01-d01-a...</td>\n      <td>...</td>\n      <td>0</td>\n      <td>0</td>\n      <td>0</td>\n      <td>0</td>\n      <td>0</td>\n      <td>0</td>\n      <td>0</td>\n      <td>0</td>\n      <td>0</td>\n      <td>2023-07</td>\n    </tr>\n    <tr>\n      <th>1</th>\n      <td>123456_3305213103202307010717215420344</td>\n      <td>德清</td>\n      <td>50.1</td>\n      <td>True</td>\n      <td>7</td>\n      <td>http://zjjt-zhzc.oss-cn-hangzhou-zjzwy01-d01-a...</td>\n      <td>是</td>\n      <td>99.1</td>\n      <td>0</td>\n      <td>http://zjjt-zhzc.oss-cn-hangzhou-zjzwy01-d01-a...</td>\n      <td>...</td>\n      <td>0</td>\n      <td>0</td>\n      <td>0</td>\n      <td>0</td>\n      <td>0</td>\n      <td>0</td>\n      <td>0</td>\n      <td>0</td>\n      <td>0</td>\n      <td>2023-07</td>\n    </tr>\n    <tr>\n      <th>2</th>\n      <td>123456_3305213103202307010750035420647</td>\n      <td>德清</td>\n      <td>38.7</td>\n      <td>True</td>\n      <td>8</td>\n      <td>http://zjjt-zhzc.oss-cn-hangzhou-zjzwy01-d01-a...</td>\n      <td>是</td>\n      <td>87.7</td>\n      <td>0</td>\n      <td>http://zjjt-zhzc.oss-cn-hangzhou-zjzwy01-d01-a...</td>\n      <td>...</td>\n      <td>0</td>\n      <td>0</td>\n      <td>0</td>\n      <td>0</td>\n      <td>0</td>\n      <td>0</td>\n      <td>0</td>\n      <td>0</td>\n      <td>0</td>\n      <td>2023-07</td>\n    </tr>\n    <tr>\n      <th>3</th>\n      <td>123456_3305213103202307010800485420760</td>\n      <td>德清</td>\n      <td>47.0</td>\n      <td>True</td>\n      <td>7</td>\n      <td>http://zjjt-zhzc.oss-cn-hangzhou-zjzwy01-d01-a...</td>\n      <td>是</td>\n      <td>96.0</td>\n      <td>0</td>\n      <td>http://zjjt-zhzc.oss-cn-hangzhou-zjzwy01-d01-a...</td>\n      <td>...</td>\n      <td>0</td>\n      <td>0</td>\n      <td>0</td>\n      <td>0</td>\n      <td>0</td>\n      <td>0</td>\n      <td>0</td>\n      <td>0</td>\n      <td>0</td>\n      <td>2023-07</td>\n    </tr>\n    <tr>\n      <th>4</th>\n      <td>123456_3305213103202307010919365421537</td>\n      <td>德清</td>\n      <td>44.3</td>\n      <td>True</td>\n      <td>8</td>\n      <td>http://zjjt-zhzc.oss-cn-hangzhou-zjzwy01-d01-a...</td>\n      <td>是</td>\n      <td>93.3</td>\n      <td>0</td>\n      <td>http://zjjt-zhzc.oss-cn-hangzhou-zjzwy01-d01-a...</td>\n      <td>...</td>\n      <td>0</td>\n      <td>0</td>\n      <td>0</td>\n      <td>0</td>\n      <td>0</td>\n      <td>0</td>\n      <td>0</td>\n      <td>0</td>\n      <td>0</td>\n      <td>2023-07</td>\n    </tr>\n    <tr>\n      <th>...</th>\n      <td>...</td>\n      <td>...</td>\n      <td>...</td>\n      <td>...</td>\n      <td>...</td>\n      <td>...</td>\n      <td>...</td>\n      <td>...</td>\n      <td>...</td>\n      <td>...</td>\n      <td>...</td>\n      <td>...</td>\n      <td>...</td>\n      <td>...</td>\n      <td>...</td>\n      <td>...</td>\n      <td>...</td>\n      <td>...</td>\n      <td>...</td>\n      <td>...</td>\n      <td>...</td>\n    </tr>\n    <tr>\n      <th>664</th>\n      <td>DG104002_20230728031502000107</td>\n      <td>德清</td>\n      <td>39.3</td>\n      <td>True</td>\n      <td>6</td>\n      <td>0</td>\n      <td>否</td>\n      <td>88.3</td>\n      <td>0</td>\n      <td>0</td>\n      <td>...</td>\n      <td>0</td>\n      <td>0</td>\n      <td>0</td>\n      <td>0</td>\n      <td>0</td>\n      <td>0</td>\n      <td>0</td>\n      <td>0</td>\n      <td>0</td>\n      <td>2023-07</td>\n    </tr>\n    <tr>\n      <th>665</th>\n      <td>DG104002_20230728031502000108</td>\n      <td>德清</td>\n      <td>39.3</td>\n      <td>True</td>\n      <td>6</td>\n      <td>0</td>\n      <td>否</td>\n      <td>88.3</td>\n      <td>0</td>\n      <td>0</td>\n      <td>...</td>\n      <td>0</td>\n      <td>0</td>\n      <td>0</td>\n      <td>0</td>\n      <td>0</td>\n      <td>0</td>\n      <td>0</td>\n      <td>0</td>\n      <td>0</td>\n      <td>2023-07</td>\n    </tr>\n    <tr>\n      <th>666</th>\n      <td>DG104002_20230728031502000116</td>\n      <td>德清</td>\n      <td>39.3</td>\n      <td>True</td>\n      <td>6</td>\n      <td>0</td>\n      <td>否</td>\n      <td>88.3</td>\n      <td>0</td>\n      <td>0</td>\n      <td>...</td>\n      <td>0</td>\n      <td>0</td>\n      <td>0</td>\n      <td>0</td>\n      <td>0</td>\n      <td>0</td>\n      <td>0</td>\n      <td>0</td>\n      <td>0</td>\n      <td>2023-07</td>\n    </tr>\n    <tr>\n      <th>667</th>\n      <td>DG104002_20230728031502000119</td>\n      <td>德清</td>\n      <td>39.3</td>\n      <td>True</td>\n      <td>6</td>\n      <td>0</td>\n      <td>否</td>\n      <td>88.3</td>\n      <td>0</td>\n      <td>0</td>\n      <td>...</td>\n      <td>0</td>\n      <td>0</td>\n      <td>0</td>\n      <td>0</td>\n      <td>0</td>\n      <td>0</td>\n      <td>0</td>\n      <td>0</td>\n      <td>0</td>\n      <td>2023-07</td>\n    </tr>\n    <tr>\n      <th>668</th>\n      <td>DG104002_20230728031502000122</td>\n      <td>德清</td>\n      <td>39.3</td>\n      <td>True</td>\n      <td>6</td>\n      <td>0</td>\n      <td>否</td>\n      <td>88.3</td>\n      <td>0</td>\n      <td>0</td>\n      <td>...</td>\n      <td>0</td>\n      <td>0</td>\n      <td>0</td>\n      <td>0</td>\n      <td>0</td>\n      <td>0</td>\n      <td>0</td>\n      <td>0</td>\n      <td>0</td>\n      <td>2023-07</td>\n    </tr>\n  </tbody>\n</table>\n<p>580 rows × 35 columns</p>\n</div>"
     },
     "execution_count": 34,
     "metadata": {},
     "output_type": "execute_result"
    }
   ],
   "source": [
    "df3"
   ],
   "metadata": {
    "collapsed": false,
    "pycharm": {
     "name": "#%%\n"
    }
   }
  },
  {
   "cell_type": "code",
   "execution_count": 35,
   "outputs": [
    {
     "data": {
      "text/plain": "      区县  7月80吨以上数  8月80吨以上数 80吨以上数同比  7月80吨以上数且满足数  8月80吨以上数且满足数 80吨以上数且满足同比  \\\n0  南太湖新区         3         3    0.00%             1             2     100.00%   \n1     南浔        23        22   -4.35%            10             9     -10.00%   \n2     吴兴        36        37    2.78%             8             9      12.50%   \n3     安吉        16        11  -31.25%             6             7      16.67%   \n4     德清       296       128  -56.76%            13            31     138.46%   \n5     长兴         1         4  300.00%             1             4     300.00%   \n\n   7月80吨以上数采集数  8月80吨以上数采集数 80吨以上采集数同比  7月80吨以上审核通过数  8月80吨以上审核通过数  \\\n0            1            2    100.00%           0.0           1.0   \n1           10            9    -10.00%           0.0           2.0   \n2            8            9     12.50%           0.0           4.0   \n3            6            6      0.00%           3.0           0.0   \n4           11           27    145.45%           6.0           6.0   \n5            1            4    300.00%           0.0           3.0   \n\n  80吨以上审核通过数同比  \n0         inf%  \n1         inf%  \n2         inf%  \n3     -100.00%  \n4        0.00%  \n5         inf%  ",
      "text/html": "<div>\n<style scoped>\n    .dataframe tbody tr th:only-of-type {\n        vertical-align: middle;\n    }\n\n    .dataframe tbody tr th {\n        vertical-align: top;\n    }\n\n    .dataframe thead th {\n        text-align: right;\n    }\n</style>\n<table border=\"1\" class=\"dataframe\">\n  <thead>\n    <tr style=\"text-align: right;\">\n      <th></th>\n      <th>区县</th>\n      <th>7月80吨以上数</th>\n      <th>8月80吨以上数</th>\n      <th>80吨以上数同比</th>\n      <th>7月80吨以上数且满足数</th>\n      <th>8月80吨以上数且满足数</th>\n      <th>80吨以上数且满足同比</th>\n      <th>7月80吨以上数采集数</th>\n      <th>8月80吨以上数采集数</th>\n      <th>80吨以上采集数同比</th>\n      <th>7月80吨以上审核通过数</th>\n      <th>8月80吨以上审核通过数</th>\n      <th>80吨以上审核通过数同比</th>\n    </tr>\n  </thead>\n  <tbody>\n    <tr>\n      <th>0</th>\n      <td>南太湖新区</td>\n      <td>3</td>\n      <td>3</td>\n      <td>0.00%</td>\n      <td>1</td>\n      <td>2</td>\n      <td>100.00%</td>\n      <td>1</td>\n      <td>2</td>\n      <td>100.00%</td>\n      <td>0.0</td>\n      <td>1.0</td>\n      <td>inf%</td>\n    </tr>\n    <tr>\n      <th>1</th>\n      <td>南浔</td>\n      <td>23</td>\n      <td>22</td>\n      <td>-4.35%</td>\n      <td>10</td>\n      <td>9</td>\n      <td>-10.00%</td>\n      <td>10</td>\n      <td>9</td>\n      <td>-10.00%</td>\n      <td>0.0</td>\n      <td>2.0</td>\n      <td>inf%</td>\n    </tr>\n    <tr>\n      <th>2</th>\n      <td>吴兴</td>\n      <td>36</td>\n      <td>37</td>\n      <td>2.78%</td>\n      <td>8</td>\n      <td>9</td>\n      <td>12.50%</td>\n      <td>8</td>\n      <td>9</td>\n      <td>12.50%</td>\n      <td>0.0</td>\n      <td>4.0</td>\n      <td>inf%</td>\n    </tr>\n    <tr>\n      <th>3</th>\n      <td>安吉</td>\n      <td>16</td>\n      <td>11</td>\n      <td>-31.25%</td>\n      <td>6</td>\n      <td>7</td>\n      <td>16.67%</td>\n      <td>6</td>\n      <td>6</td>\n      <td>0.00%</td>\n      <td>3.0</td>\n      <td>0.0</td>\n      <td>-100.00%</td>\n    </tr>\n    <tr>\n      <th>4</th>\n      <td>德清</td>\n      <td>296</td>\n      <td>128</td>\n      <td>-56.76%</td>\n      <td>13</td>\n      <td>31</td>\n      <td>138.46%</td>\n      <td>11</td>\n      <td>27</td>\n      <td>145.45%</td>\n      <td>6.0</td>\n      <td>6.0</td>\n      <td>0.00%</td>\n    </tr>\n    <tr>\n      <th>5</th>\n      <td>长兴</td>\n      <td>1</td>\n      <td>4</td>\n      <td>300.00%</td>\n      <td>1</td>\n      <td>4</td>\n      <td>300.00%</td>\n      <td>1</td>\n      <td>4</td>\n      <td>300.00%</td>\n      <td>0.0</td>\n      <td>3.0</td>\n      <td>inf%</td>\n    </tr>\n  </tbody>\n</table>\n</div>"
     },
     "execution_count": 35,
     "metadata": {},
     "output_type": "execute_result"
    }
   ],
   "source": [
    "七月80吨以上审核通过数= df3[(df3['out_station_month'] == '2023-07' ) & (df3['status_y'] != 15) & (df3['status_y'] != 0)].groupby([\"区县\"])[\n",
    "        'record_code'].count().reset_index(name='7月80吨以上审核通过数')\n",
    "八月80吨以上审核通过数= df3[(df3['out_station_month'] == '2023-08' ) & (df3['status_y'] != 15) & (df3['status_y'] != 0)].groupby([\"区县\"])[\n",
    "        'record_code'].count().reset_index(name='8月80吨以上审核通过数')\n",
    "月80吨以上数=pd.merge(月80吨以上数, 七月80吨以上审核通过数, on=['区县'], how='outer')\n",
    "月80吨以上数=pd.merge(月80吨以上数, 八月80吨以上审核通过数, on=['区县'], how='outer')\n",
    "月80吨以上数=月80吨以上数.fillna(0)\n",
    "月80吨以上数['80吨以上审核通过数同比']=(月80吨以上数['8月80吨以上审核通过数']-月80吨以上数['7月80吨以上审核通过数'])/月80吨以上数['7月80吨以上审核通过数']\n",
    "月80吨以上数['80吨以上审核通过数同比'] =月80吨以上数['80吨以上审核通过数同比'].apply(lambda x: format(x, '.2%'))\n",
    "月80吨以上数"
   ],
   "metadata": {
    "collapsed": false,
    "pycharm": {
     "name": "#%%\n"
    }
   }
  },
  {
   "cell_type": "code",
   "execution_count": 36,
   "outputs": [],
   "source": [
    "with pd.ExcelWriter(r'C:\\Users\\stayhungary\\Desktop\\湖州8月合规率区县环比.xlsx') as writer1:\n",
    "    月80吨以上数.to_excel(writer1, sheet_name='区县环比', index=True)"
   ],
   "metadata": {
    "collapsed": false,
    "pycharm": {
     "name": "#%%\n"
    }
   }
  },
  {
   "cell_type": "code",
   "execution_count": 37,
   "outputs": [
    {
     "data": {
      "text/plain": "      区县  80吨以上数\n0  南太湖新区       3\n1     南浔      22\n2     吴兴      37\n3     安吉      11\n4     德清     128\n5     长兴       4",
      "text/html": "<div>\n<style scoped>\n    .dataframe tbody tr th:only-of-type {\n        vertical-align: middle;\n    }\n\n    .dataframe tbody tr th {\n        vertical-align: top;\n    }\n\n    .dataframe thead th {\n        text-align: right;\n    }\n</style>\n<table border=\"1\" class=\"dataframe\">\n  <thead>\n    <tr style=\"text-align: right;\">\n      <th></th>\n      <th>区县</th>\n      <th>80吨以上数</th>\n    </tr>\n  </thead>\n  <tbody>\n    <tr>\n      <th>0</th>\n      <td>南太湖新区</td>\n      <td>3</td>\n    </tr>\n    <tr>\n      <th>1</th>\n      <td>南浔</td>\n      <td>22</td>\n    </tr>\n    <tr>\n      <th>2</th>\n      <td>吴兴</td>\n      <td>37</td>\n    </tr>\n    <tr>\n      <th>3</th>\n      <td>安吉</td>\n      <td>11</td>\n    </tr>\n    <tr>\n      <th>4</th>\n      <td>德清</td>\n      <td>128</td>\n    </tr>\n    <tr>\n      <th>5</th>\n      <td>长兴</td>\n      <td>4</td>\n    </tr>\n  </tbody>\n</table>\n</div>"
     },
     "execution_count": 37,
     "metadata": {},
     "output_type": "execute_result"
    }
   ],
   "source": [
    "湖州80吨以上数= df3[(df3['out_station_month'] == '2023-08' )].groupby([\"区县\"])[\n",
    "        'record_code'].count().reset_index(name='80吨以上数')\n",
    "湖州80吨以上数"
   ],
   "metadata": {
    "collapsed": false,
    "pycharm": {
     "name": "#%%\n"
    }
   }
  },
  {
   "cell_type": "code",
   "execution_count": 38,
   "outputs": [
    {
     "data": {
      "text/plain": "                                record_code  区县  overrun  has_car_no  axis  \\\n0    123456_3305213103202307010701305420192  德清     40.6        True     8   \n1    123456_3305213103202307010717215420344  德清     50.1        True     7   \n2    123456_3305213103202307010750035420647  德清     38.7        True     8   \n3    123456_3305213103202307010800485420760  德清     47.0        True     7   \n4    123456_3305213103202307010919365421537  德清     44.3        True     8   \n..                                      ...  ..      ...         ...   ...   \n664           DG104002_20230728031502000107  德清     39.3        True     6   \n665           DG104002_20230728031502000108  德清     39.3        True     6   \n666           DG104002_20230728031502000116  德清     39.3        True     6   \n667           DG104002_20230728031502000119  德清     39.3        True     6   \n668           DG104002_20230728031502000122  德清     39.3        True     6   \n\n                                                photo2 是否已采集  total_weight  \\\n0    http://zjjt-zhzc.oss-cn-hangzhou-zjzwy01-d01-a...     是          89.6   \n1    http://zjjt-zhzc.oss-cn-hangzhou-zjzwy01-d01-a...     是          99.1   \n2    http://zjjt-zhzc.oss-cn-hangzhou-zjzwy01-d01-a...     是          87.7   \n3    http://zjjt-zhzc.oss-cn-hangzhou-zjzwy01-d01-a...     是          96.0   \n4    http://zjjt-zhzc.oss-cn-hangzhou-zjzwy01-d01-a...     是          93.3   \n..                                                 ...   ...           ...   \n664                                                  0     否          88.3   \n665                                                  0     否          88.3   \n666                                                  0     否          88.3   \n667                                                  0     否          88.3   \n668                                                  0     否          88.3   \n\n     is_collect                                              vedio  ...  \\\n0             0  http://zjjt-zhzc.oss-cn-hangzhou-zjzwy01-d01-a...  ...   \n1             0  http://zjjt-zhzc.oss-cn-hangzhou-zjzwy01-d01-a...  ...   \n2             0  http://zjjt-zhzc.oss-cn-hangzhou-zjzwy01-d01-a...  ...   \n3             0  http://zjjt-zhzc.oss-cn-hangzhou-zjzwy01-d01-a...  ...   \n4             0  http://zjjt-zhzc.oss-cn-hangzhou-zjzwy01-d01-a...  ...   \n..          ...                                                ...  ...   \n664           0                                                  0  ...   \n665           0                                                  0  ...   \n666           0                                                  0  ...   \n667           0                                                  0  ...   \n668           0                                                  0  ...   \n\n     photo5  content  audit_time make_copy auditor status_y valid_time  \\\n0         0        0           0         0       0        0          0   \n1         0        0           0         0       0        0          0   \n2         0        0           0         0       0        0          0   \n3         0        0           0         0       0        0          0   \n4         0        0           0         0       0        0          0   \n..      ...      ...         ...       ...     ...      ...        ...   \n664       0        0           0         0       0        0          0   \n665       0        0           0         0       0        0          0   \n666       0        0           0         0       0        0          0   \n667       0        0           0         0       0        0          0   \n668       0        0           0         0       0        0          0   \n\n    CASE_NUM close_case_time  out_station_month  \n0          0               0            2023-07  \n1          0               0            2023-07  \n2          0               0            2023-07  \n3          0               0            2023-07  \n4          0               0            2023-07  \n..       ...             ...                ...  \n664        0               0            2023-07  \n665        0               0            2023-07  \n666        0               0            2023-07  \n667        0               0            2023-07  \n668        0               0            2023-07  \n\n[580 rows x 35 columns]",
      "text/html": "<div>\n<style scoped>\n    .dataframe tbody tr th:only-of-type {\n        vertical-align: middle;\n    }\n\n    .dataframe tbody tr th {\n        vertical-align: top;\n    }\n\n    .dataframe thead th {\n        text-align: right;\n    }\n</style>\n<table border=\"1\" class=\"dataframe\">\n  <thead>\n    <tr style=\"text-align: right;\">\n      <th></th>\n      <th>record_code</th>\n      <th>区县</th>\n      <th>overrun</th>\n      <th>has_car_no</th>\n      <th>axis</th>\n      <th>photo2</th>\n      <th>是否已采集</th>\n      <th>total_weight</th>\n      <th>is_collect</th>\n      <th>vedio</th>\n      <th>...</th>\n      <th>photo5</th>\n      <th>content</th>\n      <th>audit_time</th>\n      <th>make_copy</th>\n      <th>auditor</th>\n      <th>status_y</th>\n      <th>valid_time</th>\n      <th>CASE_NUM</th>\n      <th>close_case_time</th>\n      <th>out_station_month</th>\n    </tr>\n  </thead>\n  <tbody>\n    <tr>\n      <th>0</th>\n      <td>123456_3305213103202307010701305420192</td>\n      <td>德清</td>\n      <td>40.6</td>\n      <td>True</td>\n      <td>8</td>\n      <td>http://zjjt-zhzc.oss-cn-hangzhou-zjzwy01-d01-a...</td>\n      <td>是</td>\n      <td>89.6</td>\n      <td>0</td>\n      <td>http://zjjt-zhzc.oss-cn-hangzhou-zjzwy01-d01-a...</td>\n      <td>...</td>\n      <td>0</td>\n      <td>0</td>\n      <td>0</td>\n      <td>0</td>\n      <td>0</td>\n      <td>0</td>\n      <td>0</td>\n      <td>0</td>\n      <td>0</td>\n      <td>2023-07</td>\n    </tr>\n    <tr>\n      <th>1</th>\n      <td>123456_3305213103202307010717215420344</td>\n      <td>德清</td>\n      <td>50.1</td>\n      <td>True</td>\n      <td>7</td>\n      <td>http://zjjt-zhzc.oss-cn-hangzhou-zjzwy01-d01-a...</td>\n      <td>是</td>\n      <td>99.1</td>\n      <td>0</td>\n      <td>http://zjjt-zhzc.oss-cn-hangzhou-zjzwy01-d01-a...</td>\n      <td>...</td>\n      <td>0</td>\n      <td>0</td>\n      <td>0</td>\n      <td>0</td>\n      <td>0</td>\n      <td>0</td>\n      <td>0</td>\n      <td>0</td>\n      <td>0</td>\n      <td>2023-07</td>\n    </tr>\n    <tr>\n      <th>2</th>\n      <td>123456_3305213103202307010750035420647</td>\n      <td>德清</td>\n      <td>38.7</td>\n      <td>True</td>\n      <td>8</td>\n      <td>http://zjjt-zhzc.oss-cn-hangzhou-zjzwy01-d01-a...</td>\n      <td>是</td>\n      <td>87.7</td>\n      <td>0</td>\n      <td>http://zjjt-zhzc.oss-cn-hangzhou-zjzwy01-d01-a...</td>\n      <td>...</td>\n      <td>0</td>\n      <td>0</td>\n      <td>0</td>\n      <td>0</td>\n      <td>0</td>\n      <td>0</td>\n      <td>0</td>\n      <td>0</td>\n      <td>0</td>\n      <td>2023-07</td>\n    </tr>\n    <tr>\n      <th>3</th>\n      <td>123456_3305213103202307010800485420760</td>\n      <td>德清</td>\n      <td>47.0</td>\n      <td>True</td>\n      <td>7</td>\n      <td>http://zjjt-zhzc.oss-cn-hangzhou-zjzwy01-d01-a...</td>\n      <td>是</td>\n      <td>96.0</td>\n      <td>0</td>\n      <td>http://zjjt-zhzc.oss-cn-hangzhou-zjzwy01-d01-a...</td>\n      <td>...</td>\n      <td>0</td>\n      <td>0</td>\n      <td>0</td>\n      <td>0</td>\n      <td>0</td>\n      <td>0</td>\n      <td>0</td>\n      <td>0</td>\n      <td>0</td>\n      <td>2023-07</td>\n    </tr>\n    <tr>\n      <th>4</th>\n      <td>123456_3305213103202307010919365421537</td>\n      <td>德清</td>\n      <td>44.3</td>\n      <td>True</td>\n      <td>8</td>\n      <td>http://zjjt-zhzc.oss-cn-hangzhou-zjzwy01-d01-a...</td>\n      <td>是</td>\n      <td>93.3</td>\n      <td>0</td>\n      <td>http://zjjt-zhzc.oss-cn-hangzhou-zjzwy01-d01-a...</td>\n      <td>...</td>\n      <td>0</td>\n      <td>0</td>\n      <td>0</td>\n      <td>0</td>\n      <td>0</td>\n      <td>0</td>\n      <td>0</td>\n      <td>0</td>\n      <td>0</td>\n      <td>2023-07</td>\n    </tr>\n    <tr>\n      <th>...</th>\n      <td>...</td>\n      <td>...</td>\n      <td>...</td>\n      <td>...</td>\n      <td>...</td>\n      <td>...</td>\n      <td>...</td>\n      <td>...</td>\n      <td>...</td>\n      <td>...</td>\n      <td>...</td>\n      <td>...</td>\n      <td>...</td>\n      <td>...</td>\n      <td>...</td>\n      <td>...</td>\n      <td>...</td>\n      <td>...</td>\n      <td>...</td>\n      <td>...</td>\n      <td>...</td>\n    </tr>\n    <tr>\n      <th>664</th>\n      <td>DG104002_20230728031502000107</td>\n      <td>德清</td>\n      <td>39.3</td>\n      <td>True</td>\n      <td>6</td>\n      <td>0</td>\n      <td>否</td>\n      <td>88.3</td>\n      <td>0</td>\n      <td>0</td>\n      <td>...</td>\n      <td>0</td>\n      <td>0</td>\n      <td>0</td>\n      <td>0</td>\n      <td>0</td>\n      <td>0</td>\n      <td>0</td>\n      <td>0</td>\n      <td>0</td>\n      <td>2023-07</td>\n    </tr>\n    <tr>\n      <th>665</th>\n      <td>DG104002_20230728031502000108</td>\n      <td>德清</td>\n      <td>39.3</td>\n      <td>True</td>\n      <td>6</td>\n      <td>0</td>\n      <td>否</td>\n      <td>88.3</td>\n      <td>0</td>\n      <td>0</td>\n      <td>...</td>\n      <td>0</td>\n      <td>0</td>\n      <td>0</td>\n      <td>0</td>\n      <td>0</td>\n      <td>0</td>\n      <td>0</td>\n      <td>0</td>\n      <td>0</td>\n      <td>2023-07</td>\n    </tr>\n    <tr>\n      <th>666</th>\n      <td>DG104002_20230728031502000116</td>\n      <td>德清</td>\n      <td>39.3</td>\n      <td>True</td>\n      <td>6</td>\n      <td>0</td>\n      <td>否</td>\n      <td>88.3</td>\n      <td>0</td>\n      <td>0</td>\n      <td>...</td>\n      <td>0</td>\n      <td>0</td>\n      <td>0</td>\n      <td>0</td>\n      <td>0</td>\n      <td>0</td>\n      <td>0</td>\n      <td>0</td>\n      <td>0</td>\n      <td>2023-07</td>\n    </tr>\n    <tr>\n      <th>667</th>\n      <td>DG104002_20230728031502000119</td>\n      <td>德清</td>\n      <td>39.3</td>\n      <td>True</td>\n      <td>6</td>\n      <td>0</td>\n      <td>否</td>\n      <td>88.3</td>\n      <td>0</td>\n      <td>0</td>\n      <td>...</td>\n      <td>0</td>\n      <td>0</td>\n      <td>0</td>\n      <td>0</td>\n      <td>0</td>\n      <td>0</td>\n      <td>0</td>\n      <td>0</td>\n      <td>0</td>\n      <td>2023-07</td>\n    </tr>\n    <tr>\n      <th>668</th>\n      <td>DG104002_20230728031502000122</td>\n      <td>德清</td>\n      <td>39.3</td>\n      <td>True</td>\n      <td>6</td>\n      <td>0</td>\n      <td>否</td>\n      <td>88.3</td>\n      <td>0</td>\n      <td>0</td>\n      <td>...</td>\n      <td>0</td>\n      <td>0</td>\n      <td>0</td>\n      <td>0</td>\n      <td>0</td>\n      <td>0</td>\n      <td>0</td>\n      <td>0</td>\n      <td>0</td>\n      <td>2023-07</td>\n    </tr>\n  </tbody>\n</table>\n<p>580 rows × 35 columns</p>\n</div>"
     },
     "execution_count": 38,
     "metadata": {},
     "output_type": "execute_result"
    }
   ],
   "source": [
    "df3"
   ],
   "metadata": {
    "collapsed": false,
    "pycharm": {
     "name": "#%%\n"
    }
   }
  },
  {
   "cell_type": "code",
   "execution_count": 39,
   "outputs": [],
   "source": [
    "df3['car_no'].fillna('无牌', inplace=True)\n",
    "df3['字节数'] = df3['car_no'].str.len()\n"
   ],
   "metadata": {
    "collapsed": false,
    "pycharm": {
     "name": "#%%\n"
    }
   }
  },
  {
   "cell_type": "code",
   "execution_count": 40,
   "outputs": [],
   "source": [
    "湖州80吨以上无牌数= df3[(df3['out_station_month'] == '2023-08' )&(df3['字节数']  <= 5 )].groupby([\"区县\"])[\n",
    "        'record_code'].count().reset_index(name='80吨以上无牌数')"
   ],
   "metadata": {
    "collapsed": false,
    "pycharm": {
     "name": "#%%\n"
    }
   }
  },
  {
   "cell_type": "code",
   "execution_count": 41,
   "outputs": [],
   "source": [
    "湖州月80吨以上数=pd.merge(湖州80吨以上数, 湖州80吨以上无牌数, on=['区县'], how='outer')"
   ],
   "metadata": {
    "collapsed": false,
    "pycharm": {
     "name": "#%%\n"
    }
   }
  },
  {
   "cell_type": "code",
   "execution_count": 42,
   "outputs": [
    {
     "data": {
      "text/plain": "      区县  80吨以上数  80吨以上无牌数\n0  南太湖新区       3       1.0\n1     南浔      22      13.0\n2     吴兴      37      30.0\n3     安吉      11       7.0\n4     德清     128      53.0\n5     长兴       4       NaN",
      "text/html": "<div>\n<style scoped>\n    .dataframe tbody tr th:only-of-type {\n        vertical-align: middle;\n    }\n\n    .dataframe tbody tr th {\n        vertical-align: top;\n    }\n\n    .dataframe thead th {\n        text-align: right;\n    }\n</style>\n<table border=\"1\" class=\"dataframe\">\n  <thead>\n    <tr style=\"text-align: right;\">\n      <th></th>\n      <th>区县</th>\n      <th>80吨以上数</th>\n      <th>80吨以上无牌数</th>\n    </tr>\n  </thead>\n  <tbody>\n    <tr>\n      <th>0</th>\n      <td>南太湖新区</td>\n      <td>3</td>\n      <td>1.0</td>\n    </tr>\n    <tr>\n      <th>1</th>\n      <td>南浔</td>\n      <td>22</td>\n      <td>13.0</td>\n    </tr>\n    <tr>\n      <th>2</th>\n      <td>吴兴</td>\n      <td>37</td>\n      <td>30.0</td>\n    </tr>\n    <tr>\n      <th>3</th>\n      <td>安吉</td>\n      <td>11</td>\n      <td>7.0</td>\n    </tr>\n    <tr>\n      <th>4</th>\n      <td>德清</td>\n      <td>128</td>\n      <td>53.0</td>\n    </tr>\n    <tr>\n      <th>5</th>\n      <td>长兴</td>\n      <td>4</td>\n      <td>NaN</td>\n    </tr>\n  </tbody>\n</table>\n</div>"
     },
     "execution_count": 42,
     "metadata": {},
     "output_type": "execute_result"
    }
   ],
   "source": [
    "湖州月80吨以上数"
   ],
   "metadata": {
    "collapsed": false,
    "pycharm": {
     "name": "#%%\n"
    }
   }
  },
  {
   "cell_type": "code",
   "execution_count": 43,
   "outputs": [
    {
     "data": {
      "text/plain": "      区县  80吨以上数  80吨以上无牌数 80吨以上无牌数占比\n0  南太湖新区       3       1.0     33.33%\n1     南浔      22      13.0     59.09%\n2     吴兴      37      30.0     81.08%\n3     安吉      11       7.0     63.64%\n4     德清     128      53.0     41.41%\n5     长兴       4       0.0      0.00%",
      "text/html": "<div>\n<style scoped>\n    .dataframe tbody tr th:only-of-type {\n        vertical-align: middle;\n    }\n\n    .dataframe tbody tr th {\n        vertical-align: top;\n    }\n\n    .dataframe thead th {\n        text-align: right;\n    }\n</style>\n<table border=\"1\" class=\"dataframe\">\n  <thead>\n    <tr style=\"text-align: right;\">\n      <th></th>\n      <th>区县</th>\n      <th>80吨以上数</th>\n      <th>80吨以上无牌数</th>\n      <th>80吨以上无牌数占比</th>\n    </tr>\n  </thead>\n  <tbody>\n    <tr>\n      <th>0</th>\n      <td>南太湖新区</td>\n      <td>3</td>\n      <td>1.0</td>\n      <td>33.33%</td>\n    </tr>\n    <tr>\n      <th>1</th>\n      <td>南浔</td>\n      <td>22</td>\n      <td>13.0</td>\n      <td>59.09%</td>\n    </tr>\n    <tr>\n      <th>2</th>\n      <td>吴兴</td>\n      <td>37</td>\n      <td>30.0</td>\n      <td>81.08%</td>\n    </tr>\n    <tr>\n      <th>3</th>\n      <td>安吉</td>\n      <td>11</td>\n      <td>7.0</td>\n      <td>63.64%</td>\n    </tr>\n    <tr>\n      <th>4</th>\n      <td>德清</td>\n      <td>128</td>\n      <td>53.0</td>\n      <td>41.41%</td>\n    </tr>\n    <tr>\n      <th>5</th>\n      <td>长兴</td>\n      <td>4</td>\n      <td>0.0</td>\n      <td>0.00%</td>\n    </tr>\n  </tbody>\n</table>\n</div>"
     },
     "execution_count": 43,
     "metadata": {},
     "output_type": "execute_result"
    }
   ],
   "source": [
    "湖州月80吨以上数=湖州月80吨以上数.fillna(0)\n",
    "湖州月80吨以上数['80吨以上无牌数占比']=湖州月80吨以上数['80吨以上无牌数']/湖州月80吨以上数['80吨以上数']\n",
    "湖州月80吨以上数['80吨以上无牌数占比']=湖州月80吨以上数['80吨以上无牌数占比'].apply(lambda x: format(x, '.2%'))\n",
    "湖州月80吨以上数"
   ],
   "metadata": {
    "collapsed": false,
    "pycharm": {
     "name": "#%%\n"
    }
   }
  },
  {
   "cell_type": "code",
   "execution_count": 44,
   "outputs": [
    {
     "data": {
      "text/plain": "      区县  80吨以上数  80吨以上无牌数 80吨以上无牌数占比\n0  南太湖新区       3       1.0     33.33%\n1     南浔      22      13.0     59.09%\n2     吴兴      37      30.0     81.08%\n3     安吉      11       7.0     63.64%\n4     德清     128      53.0     41.41%\n5     长兴       4       0.0      0.00%",
      "text/html": "<div>\n<style scoped>\n    .dataframe tbody tr th:only-of-type {\n        vertical-align: middle;\n    }\n\n    .dataframe tbody tr th {\n        vertical-align: top;\n    }\n\n    .dataframe thead th {\n        text-align: right;\n    }\n</style>\n<table border=\"1\" class=\"dataframe\">\n  <thead>\n    <tr style=\"text-align: right;\">\n      <th></th>\n      <th>区县</th>\n      <th>80吨以上数</th>\n      <th>80吨以上无牌数</th>\n      <th>80吨以上无牌数占比</th>\n    </tr>\n  </thead>\n  <tbody>\n    <tr>\n      <th>0</th>\n      <td>南太湖新区</td>\n      <td>3</td>\n      <td>1.0</td>\n      <td>33.33%</td>\n    </tr>\n    <tr>\n      <th>1</th>\n      <td>南浔</td>\n      <td>22</td>\n      <td>13.0</td>\n      <td>59.09%</td>\n    </tr>\n    <tr>\n      <th>2</th>\n      <td>吴兴</td>\n      <td>37</td>\n      <td>30.0</td>\n      <td>81.08%</td>\n    </tr>\n    <tr>\n      <th>3</th>\n      <td>安吉</td>\n      <td>11</td>\n      <td>7.0</td>\n      <td>63.64%</td>\n    </tr>\n    <tr>\n      <th>4</th>\n      <td>德清</td>\n      <td>128</td>\n      <td>53.0</td>\n      <td>41.41%</td>\n    </tr>\n    <tr>\n      <th>5</th>\n      <td>长兴</td>\n      <td>4</td>\n      <td>0.0</td>\n      <td>0.00%</td>\n    </tr>\n  </tbody>\n</table>\n</div>"
     },
     "execution_count": 44,
     "metadata": {},
     "output_type": "execute_result"
    }
   ],
   "source": [
    "湖州月80吨以上数\n"
   ],
   "metadata": {
    "collapsed": false,
    "pycharm": {
     "name": "#%%\n"
    }
   }
  },
  {
   "cell_type": "code",
   "execution_count": 45,
   "outputs": [
    {
     "data": {
      "text/plain": "      区县  80吨以上数  80吨以上无牌数 80吨以上无牌数占比  80吨以上且满足数 80吨以上且满足数占比\n0  南太湖新区       3       1.0     33.33%          2      66.67%\n1     南浔      22      13.0     59.09%          9      40.91%\n2     吴兴      37      30.0     81.08%          9      24.32%\n3     安吉      11       7.0     63.64%          7      63.64%\n4     德清     128      53.0     41.41%         31      24.22%\n5     长兴       4       0.0      0.00%          4     100.00%",
      "text/html": "<div>\n<style scoped>\n    .dataframe tbody tr th:only-of-type {\n        vertical-align: middle;\n    }\n\n    .dataframe tbody tr th {\n        vertical-align: top;\n    }\n\n    .dataframe thead th {\n        text-align: right;\n    }\n</style>\n<table border=\"1\" class=\"dataframe\">\n  <thead>\n    <tr style=\"text-align: right;\">\n      <th></th>\n      <th>区县</th>\n      <th>80吨以上数</th>\n      <th>80吨以上无牌数</th>\n      <th>80吨以上无牌数占比</th>\n      <th>80吨以上且满足数</th>\n      <th>80吨以上且满足数占比</th>\n    </tr>\n  </thead>\n  <tbody>\n    <tr>\n      <th>0</th>\n      <td>南太湖新区</td>\n      <td>3</td>\n      <td>1.0</td>\n      <td>33.33%</td>\n      <td>2</td>\n      <td>66.67%</td>\n    </tr>\n    <tr>\n      <th>1</th>\n      <td>南浔</td>\n      <td>22</td>\n      <td>13.0</td>\n      <td>59.09%</td>\n      <td>9</td>\n      <td>40.91%</td>\n    </tr>\n    <tr>\n      <th>2</th>\n      <td>吴兴</td>\n      <td>37</td>\n      <td>30.0</td>\n      <td>81.08%</td>\n      <td>9</td>\n      <td>24.32%</td>\n    </tr>\n    <tr>\n      <th>3</th>\n      <td>安吉</td>\n      <td>11</td>\n      <td>7.0</td>\n      <td>63.64%</td>\n      <td>7</td>\n      <td>63.64%</td>\n    </tr>\n    <tr>\n      <th>4</th>\n      <td>德清</td>\n      <td>128</td>\n      <td>53.0</td>\n      <td>41.41%</td>\n      <td>31</td>\n      <td>24.22%</td>\n    </tr>\n    <tr>\n      <th>5</th>\n      <td>长兴</td>\n      <td>4</td>\n      <td>0.0</td>\n      <td>0.00%</td>\n      <td>4</td>\n      <td>100.00%</td>\n    </tr>\n  </tbody>\n</table>\n</div>"
     },
     "execution_count": 45,
     "metadata": {},
     "output_type": "execute_result"
    }
   ],
   "source": [
    "湖州80吨以且满足数= df3[(df3['out_station_month'] == '2023-08' )&(df3['is_collect']  == 1 )].groupby([\"区县\"])[\n",
    "        'record_code'].count().reset_index(name='80吨以上且满足数')\n",
    "湖州月80吨以上数=pd.merge(湖州月80吨以上数, 湖州80吨以且满足数, on=['区县'], how='outer')\n",
    "湖州月80吨以上数=湖州月80吨以上数.fillna(0)\n",
    "湖州月80吨以上数['80吨以上且满足数占比']=湖州月80吨以上数['80吨以上且满足数']/湖州月80吨以上数['80吨以上数']\n",
    "湖州月80吨以上数['80吨以上且满足数占比']=湖州月80吨以上数['80吨以上且满足数占比'].apply(lambda x: format(x, '.2%'))\n",
    "湖州月80吨以上数"
   ],
   "metadata": {
    "collapsed": false,
    "pycharm": {
     "name": "#%%\n"
    }
   }
  },
  {
   "cell_type": "code",
   "execution_count": 46,
   "outputs": [
    {
     "data": {
      "text/plain": "      区县  80吨以上数  80吨以上无牌数 80吨以上无牌数占比  80吨以上且满足数 80吨以上且满足数占比  80吨以上采集数  \\\n0  南太湖新区       3       1.0     33.33%          2      66.67%         2   \n1     南浔      22      13.0     59.09%          9      40.91%         9   \n2     吴兴      37      30.0     81.08%          9      24.32%         9   \n3     安吉      11       7.0     63.64%          7      63.64%         6   \n4     德清     128      53.0     41.41%         31      24.22%        27   \n5     长兴       4       0.0      0.00%          4     100.00%         4   \n\n  80吨以上采集数占比  \n0     66.67%  \n1     40.91%  \n2     24.32%  \n3     54.55%  \n4     21.09%  \n5    100.00%  ",
      "text/html": "<div>\n<style scoped>\n    .dataframe tbody tr th:only-of-type {\n        vertical-align: middle;\n    }\n\n    .dataframe tbody tr th {\n        vertical-align: top;\n    }\n\n    .dataframe thead th {\n        text-align: right;\n    }\n</style>\n<table border=\"1\" class=\"dataframe\">\n  <thead>\n    <tr style=\"text-align: right;\">\n      <th></th>\n      <th>区县</th>\n      <th>80吨以上数</th>\n      <th>80吨以上无牌数</th>\n      <th>80吨以上无牌数占比</th>\n      <th>80吨以上且满足数</th>\n      <th>80吨以上且满足数占比</th>\n      <th>80吨以上采集数</th>\n      <th>80吨以上采集数占比</th>\n    </tr>\n  </thead>\n  <tbody>\n    <tr>\n      <th>0</th>\n      <td>南太湖新区</td>\n      <td>3</td>\n      <td>1.0</td>\n      <td>33.33%</td>\n      <td>2</td>\n      <td>66.67%</td>\n      <td>2</td>\n      <td>66.67%</td>\n    </tr>\n    <tr>\n      <th>1</th>\n      <td>南浔</td>\n      <td>22</td>\n      <td>13.0</td>\n      <td>59.09%</td>\n      <td>9</td>\n      <td>40.91%</td>\n      <td>9</td>\n      <td>40.91%</td>\n    </tr>\n    <tr>\n      <th>2</th>\n      <td>吴兴</td>\n      <td>37</td>\n      <td>30.0</td>\n      <td>81.08%</td>\n      <td>9</td>\n      <td>24.32%</td>\n      <td>9</td>\n      <td>24.32%</td>\n    </tr>\n    <tr>\n      <th>3</th>\n      <td>安吉</td>\n      <td>11</td>\n      <td>7.0</td>\n      <td>63.64%</td>\n      <td>7</td>\n      <td>63.64%</td>\n      <td>6</td>\n      <td>54.55%</td>\n    </tr>\n    <tr>\n      <th>4</th>\n      <td>德清</td>\n      <td>128</td>\n      <td>53.0</td>\n      <td>41.41%</td>\n      <td>31</td>\n      <td>24.22%</td>\n      <td>27</td>\n      <td>21.09%</td>\n    </tr>\n    <tr>\n      <th>5</th>\n      <td>长兴</td>\n      <td>4</td>\n      <td>0.0</td>\n      <td>0.00%</td>\n      <td>4</td>\n      <td>100.00%</td>\n      <td>4</td>\n      <td>100.00%</td>\n    </tr>\n  </tbody>\n</table>\n</div>"
     },
     "execution_count": 46,
     "metadata": {},
     "output_type": "execute_result"
    }
   ],
   "source": [
    "湖州80吨以采集数= df3[(df3['out_station_month'] == '2023-08' )&(df3['status_y'] != 0)].groupby([\"区县\"])[\n",
    "        'record_code'].count().reset_index(name='80吨以上采集数')\n",
    "湖州月80吨以上数=pd.merge(湖州月80吨以上数, 湖州80吨以采集数, on=['区县'], how='outer')\n",
    "湖州月80吨以上数=湖州月80吨以上数.fillna(0)\n",
    "湖州月80吨以上数['80吨以上采集数占比']=湖州月80吨以上数['80吨以上采集数']/湖州月80吨以上数['80吨以上数']\n",
    "湖州月80吨以上数['80吨以上采集数占比']=湖州月80吨以上数['80吨以上采集数占比'].apply(lambda x: format(x, '.2%'))\n",
    "湖州月80吨以上数"
   ],
   "metadata": {
    "collapsed": false,
    "pycharm": {
     "name": "#%%\n"
    }
   }
  },
  {
   "cell_type": "code",
   "execution_count": 47,
   "outputs": [
    {
     "data": {
      "text/plain": "      区县  80吨以上数  80吨以上无牌数 80吨以上无牌数占比  80吨以上且满足数 80吨以上且满足数占比  80吨以上采集数  \\\n0  南太湖新区       3       1.0     33.33%          2      66.67%         2   \n1     南浔      22      13.0     59.09%          9      40.91%         9   \n2     吴兴      37      30.0     81.08%          9      24.32%         9   \n3     安吉      11       7.0     63.64%          7      63.64%         6   \n4     德清     128      53.0     41.41%         31      24.22%        27   \n5     长兴       4       0.0      0.00%          4     100.00%         4   \n\n  80吨以上采集数占比  80吨以上审核通过数 80吨以上审核通过数占比  \n0     66.67%         1.0       33.33%  \n1     40.91%         2.0        9.09%  \n2     24.32%         4.0       10.81%  \n3     54.55%         0.0        0.00%  \n4     21.09%         6.0        4.69%  \n5    100.00%         3.0       75.00%  ",
      "text/html": "<div>\n<style scoped>\n    .dataframe tbody tr th:only-of-type {\n        vertical-align: middle;\n    }\n\n    .dataframe tbody tr th {\n        vertical-align: top;\n    }\n\n    .dataframe thead th {\n        text-align: right;\n    }\n</style>\n<table border=\"1\" class=\"dataframe\">\n  <thead>\n    <tr style=\"text-align: right;\">\n      <th></th>\n      <th>区县</th>\n      <th>80吨以上数</th>\n      <th>80吨以上无牌数</th>\n      <th>80吨以上无牌数占比</th>\n      <th>80吨以上且满足数</th>\n      <th>80吨以上且满足数占比</th>\n      <th>80吨以上采集数</th>\n      <th>80吨以上采集数占比</th>\n      <th>80吨以上审核通过数</th>\n      <th>80吨以上审核通过数占比</th>\n    </tr>\n  </thead>\n  <tbody>\n    <tr>\n      <th>0</th>\n      <td>南太湖新区</td>\n      <td>3</td>\n      <td>1.0</td>\n      <td>33.33%</td>\n      <td>2</td>\n      <td>66.67%</td>\n      <td>2</td>\n      <td>66.67%</td>\n      <td>1.0</td>\n      <td>33.33%</td>\n    </tr>\n    <tr>\n      <th>1</th>\n      <td>南浔</td>\n      <td>22</td>\n      <td>13.0</td>\n      <td>59.09%</td>\n      <td>9</td>\n      <td>40.91%</td>\n      <td>9</td>\n      <td>40.91%</td>\n      <td>2.0</td>\n      <td>9.09%</td>\n    </tr>\n    <tr>\n      <th>2</th>\n      <td>吴兴</td>\n      <td>37</td>\n      <td>30.0</td>\n      <td>81.08%</td>\n      <td>9</td>\n      <td>24.32%</td>\n      <td>9</td>\n      <td>24.32%</td>\n      <td>4.0</td>\n      <td>10.81%</td>\n    </tr>\n    <tr>\n      <th>3</th>\n      <td>安吉</td>\n      <td>11</td>\n      <td>7.0</td>\n      <td>63.64%</td>\n      <td>7</td>\n      <td>63.64%</td>\n      <td>6</td>\n      <td>54.55%</td>\n      <td>0.0</td>\n      <td>0.00%</td>\n    </tr>\n    <tr>\n      <th>4</th>\n      <td>德清</td>\n      <td>128</td>\n      <td>53.0</td>\n      <td>41.41%</td>\n      <td>31</td>\n      <td>24.22%</td>\n      <td>27</td>\n      <td>21.09%</td>\n      <td>6.0</td>\n      <td>4.69%</td>\n    </tr>\n    <tr>\n      <th>5</th>\n      <td>长兴</td>\n      <td>4</td>\n      <td>0.0</td>\n      <td>0.00%</td>\n      <td>4</td>\n      <td>100.00%</td>\n      <td>4</td>\n      <td>100.00%</td>\n      <td>3.0</td>\n      <td>75.00%</td>\n    </tr>\n  </tbody>\n</table>\n</div>"
     },
     "execution_count": 47,
     "metadata": {},
     "output_type": "execute_result"
    }
   ],
   "source": [
    "湖州80吨以上审核通过数= df3[(df3['out_station_month'] == '2023-08' )&(df3['status_y'] != 0)&(df3['status_y'] != 15)].groupby([\"区县\"])[\n",
    "        'record_code'].count().reset_index(name='80吨以上审核通过数')\n",
    "湖州月80吨以上数=pd.merge(湖州月80吨以上数, 湖州80吨以上审核通过数, on=['区县'], how='outer')\n",
    "湖州月80吨以上数=湖州月80吨以上数.fillna(0)\n",
    "湖州月80吨以上数['80吨以上审核通过数占比']=湖州月80吨以上数['80吨以上审核通过数']/湖州月80吨以上数['80吨以上数']\n",
    "湖州月80吨以上数['80吨以上审核通过数占比']=湖州月80吨以上数['80吨以上审核通过数占比'].apply(lambda x: format(x, '.2%'))\n",
    "湖州月80吨以上数"
   ],
   "metadata": {
    "collapsed": false,
    "pycharm": {
     "name": "#%%\n"
    }
   }
  },
  {
   "cell_type": "code",
   "execution_count": 48,
   "outputs": [],
   "source": [
    "with pd.ExcelWriter(r'C:\\Users\\stayhungary\\Desktop\\湖州8月合规率区县同比.xlsx') as writer1:\n",
    "    湖州月80吨以上数.to_excel(writer1, sheet_name='区县同比', index=True)"
   ],
   "metadata": {
    "collapsed": false,
    "pycharm": {
     "name": "#%%\n"
    }
   }
  },
  {
   "cell_type": "code",
   "execution_count": 49,
   "outputs": [],
   "source": [
    "湖州审核意见= df3[(df3['out_station_month'] == '2023-08' )].groupby([\"content\"])[\n",
    "        'record_code'].count().reset_index(name='审核意见')"
   ],
   "metadata": {
    "collapsed": false,
    "pycharm": {
     "name": "#%%\n"
    }
   }
  },
  {
   "cell_type": "code",
   "execution_count": 50,
   "outputs": [],
   "source": [
    "with pd.ExcelWriter(r'C:\\Users\\stayhungary\\Desktop\\湖州审核意见.xlsx') as writer1:\n",
    "    湖州审核意见.to_excel(writer1, sheet_name='区县同比', index=True)"
   ],
   "metadata": {
    "collapsed": false,
    "pycharm": {
     "name": "#%%\n"
    }
   }
  },
  {
   "cell_type": "code",
   "execution_count": 293,
   "outputs": [],
   "source": [
    "import pandas as pd\n",
    "import pandas_bokeh\n",
    "\n",
    "data = {\n",
    "    'fruits':\n",
    "    ['Apples', 'Pears', 'Nectarines', 'Plums', 'Grapes', 'Strawberries'],\n",
    "    '2015': [2, 1, 4, 3, 2, 4],\n",
    "    '2016': [5, 3, 3, 2, 4, 6],\n",
    "    '2017': [3, 2, 4, 4, 5, 3]\n",
    "}\n",
    "df = pd.DataFrame(data).set_index(\"fruits\")\n",
    "\n",
    "p_bar = df.plot_bokeh.bar(\n",
    "    ylabel=\"Price per Unit [€]\",\n",
    "    title=\"Fruit prices per Year\",\n",
    "    alpha=0.6)"
   ],
   "metadata": {
    "collapsed": false,
    "pycharm": {
     "name": "#%%\n"
    }
   }
  },
  {
   "cell_type": "code",
   "execution_count": 294,
   "outputs": [
    {
     "name": "stdout",
     "output_type": "stream",
     "text": [
      "      区县  80吨以上数  80吨以上无牌数 80吨以上无牌数占比  80吨以上且满足数 80吨以上且满足数占比  80吨以上采集数  \\\n",
      "0  南太湖新区       3       1.0     33.33%          2      66.67%         2   \n",
      "1     南浔      22      13.0     59.09%          9      40.91%         9   \n",
      "2     吴兴      37      30.0     81.08%          9      24.32%         9   \n",
      "3     安吉      11       7.0     63.64%          7      63.64%         6   \n",
      "4     德清     128      53.0     41.41%         31      24.22%        27   \n",
      "5     长兴       4       0.0      0.00%          4     100.00%         4   \n",
      "\n",
      "  80吨以上采集数占比  80吨以上审核通过数 80吨以上审核通过数占比  \n",
      "0     66.67%         1.0       33.33%  \n",
      "1     40.91%         2.0        9.09%  \n",
      "2     24.32%         4.0       10.81%  \n",
      "3     54.55%         0.0        0.00%  \n",
      "4     21.09%         6.0        4.69%  \n",
      "5    100.00%         3.0       75.00%  \n"
     ]
    }
   ],
   "source": [
    "print(湖州月80吨以上数)"
   ],
   "metadata": {
    "collapsed": false,
    "pycharm": {
     "name": "#%%\n"
    }
   }
  },
  {
   "cell_type": "code",
   "execution_count": 296,
   "outputs": [],
   "source": [
    "df = pd.DataFrame(湖州月80吨以上数).set_index(\"区县\")"
   ],
   "metadata": {
    "collapsed": false,
    "pycharm": {
     "name": "#%%\n"
    }
   }
  },
  {
   "cell_type": "code",
   "execution_count": 297,
   "outputs": [],
   "source": [
    "p_bar = df.plot_bokeh.bar(\n",
    "    ylabel=\"Price per Unit [€]\",\n",
    "    title=\"Fruit prices per Year\",\n",
    "    alpha=0.6)"
   ],
   "metadata": {
    "collapsed": false,
    "pycharm": {
     "name": "#%%\n"
    }
   }
  },
  {
   "cell_type": "code",
   "execution_count": 298,
   "outputs": [],
   "source": [
    "p_bar = df.plot_bokeh.line(\n",
    "    ylabel=\"Price per Unit [€]\",\n",
    "    title=\"Fruit prices per Year\",\n",
    "    alpha=0.6)"
   ],
   "metadata": {
    "collapsed": false,
    "pycharm": {
     "name": "#%%\n"
    }
   }
  },
  {
   "cell_type": "code",
   "execution_count": null,
   "outputs": [],
   "source": [
    "df.plot_bokeh(\n",
    "   kind = 'bar',\n",
    "   x = '年份',\n",
    "   y = ['产品A', '产品B', '产品C'],\n",
    "   xlabel = '产品数量',\n",
    "   ylabel = '年度销售量',\n",
    "   title = '三种产品年度销售统计图'\n",
    ")"
   ],
   "metadata": {
    "collapsed": false,
    "pycharm": {
     "name": "#%%\n"
    }
   }
  }
 ],
 "metadata": {
  "kernelspec": {
   "display_name": "Python 3",
   "language": "python",
   "name": "python3"
  },
  "language_info": {
   "codemirror_mode": {
    "name": "ipython",
    "version": 2
   },
   "file_extension": ".py",
   "mimetype": "text/x-python",
   "name": "python",
   "nbconvert_exporter": "python",
   "pygments_lexer": "ipython2",
   "version": "2.7.6"
  }
 },
 "nbformat": 4,
 "nbformat_minor": 0
}